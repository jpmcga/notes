{
 "cells": [
  {
   "cell_type": "markdown",
   "id": "dad18cc4",
   "metadata": {},
   "source": [
    "# Sam's Teach Yourself Unix"
   ]
  },
  {
   "cell_type": "markdown",
   "id": "8d2a2a33",
   "metadata": {},
   "source": [
    "## Chapter 8: Filters and Piping"
   ]
  },
  {
   "cell_type": "markdown",
   "id": "ad63b5bf",
   "metadata": {},
   "source": [
    "### File Redirection"
   ]
  },
  {
   "cell_type": "code",
   "execution_count": null,
   "id": "236ef0e3",
   "metadata": {},
   "outputs": [],
   "source": [
    "# send stdout to file\n",
    "!ls -F1 .. > ls.txt\n",
    "# send stdin to function\n",
    "!head -3 < ls.txt "
   ]
  },
  {
   "cell_type": "code",
   "execution_count": null,
   "id": "a0865197",
   "metadata": {},
   "outputs": [],
   "source": [
    "# Use << for append\n",
    "!ls -F1 / >> ls.txt"
   ]
  },
  {
   "cell_type": "code",
   "execution_count": null,
   "id": "85ff6f85",
   "metadata": {},
   "outputs": [],
   "source": [
    "!cat < ls.txt"
   ]
  },
  {
   "cell_type": "code",
   "execution_count": null,
   "id": "e9f02ef1",
   "metadata": {},
   "outputs": [],
   "source": [
    "# Use redirection to view bins\n",
    "!cat -v < ../oates.gif > oates.txt\n",
    "!head -5 oates.txt"
   ]
  },
  {
   "cell_type": "markdown",
   "id": "a5c3e744",
   "metadata": {},
   "source": [
    "### wc"
   ]
  },
  {
   "cell_type": "code",
   "execution_count": null,
   "id": "ef43d0aa",
   "metadata": {},
   "outputs": [],
   "source": [
    "# wc outputs lines | words| characters\n",
    "!wc oates.txt\n",
    "!wc -l oates.txt\n",
    "!wc -w oates.txt\n",
    "!wc -c oates.txt"
   ]
  },
  {
   "cell_type": "code",
   "execution_count": null,
   "id": "7e9e0062",
   "metadata": {},
   "outputs": [],
   "source": [
    "# fun with wc: get number of apps in Library\n",
    "!ls -1 /Library/ | wc -l"
   ]
  },
  {
   "cell_type": "code",
   "execution_count": null,
   "id": "21035ee2",
   "metadata": {},
   "outputs": [],
   "source": [
    "# number of users\n",
    "!who | wc -l"
   ]
  },
  {
   "cell_type": "code",
   "execution_count": null,
   "id": "894f7bfc",
   "metadata": {},
   "outputs": [],
   "source": [
    "# Can be used for multiple files\n",
    "!wc -l /bin/* | sort -nr"
   ]
  },
  {
   "cell_type": "markdown",
   "id": "5bc5dd2a",
   "metadata": {},
   "source": [
    "### uniq"
   ]
  },
  {
   "cell_type": "code",
   "execution_count": null,
   "id": "00391243",
   "metadata": {},
   "outputs": [],
   "source": [
    "# Only remove consecutive duplicate lines\n",
    "!touch uni.txt; echo me > uni.txt; echo oh >> uni.txt; echo my >> uni.txt\n",
    "!cat uni.txt uni.txt uni.txt > unicat.txt\n",
    "!cat unicat.txt | wc -l\n",
    "!uniq unicat.txt | wc -l"
   ]
  },
  {
   "cell_type": "code",
   "execution_count": null,
   "id": "c2c75bc5",
   "metadata": {},
   "outputs": [],
   "source": []
  },
  {
   "cell_type": "code",
   "execution_count": null,
   "id": "8a53fc8a",
   "metadata": {},
   "outputs": [],
   "source": [
    "!tail -1 unicat.txt > end.txt\n",
    "!cat end.txt end.txt end.txt > unicat2.txt\n",
    "!cat unicat2.txt | wc -l\n",
    "!uniq unicat2.txt | wc -l"
   ]
  },
  {
   "cell_type": "code",
   "execution_count": null,
   "id": "c238d307",
   "metadata": {},
   "outputs": [],
   "source": [
    "# -u only lines that are not repeated\n",
    "!uniq -u unicat2.txt\n",
    "!uniq -u unicat.txt"
   ]
  },
  {
   "cell_type": "code",
   "execution_count": null,
   "id": "0356064e",
   "metadata": {},
   "outputs": [],
   "source": [
    "# -d only lines that are repeated\n",
    "!uniq -d unicat2.txt\n",
    "!uniq -d unicat.txt"
   ]
  },
  {
   "cell_type": "code",
   "execution_count": null,
   "id": "dcf5dee5",
   "metadata": {},
   "outputs": [],
   "source": [
    "# -c how many occurences of a line\n",
    "!uniq -c unicat2.txt"
   ]
  },
  {
   "cell_type": "markdown",
   "id": "aae5dd65",
   "metadata": {},
   "source": [
    "### sort"
   ]
  },
  {
   "cell_type": "code",
   "execution_count": null,
   "id": "4bab2395",
   "metadata": {},
   "outputs": [],
   "source": [
    "# defaults to alphebetical, -f to ignore case, r to reverse sort\n",
    "!ls -1F ~ | sort -fr"
   ]
  },
  {
   "cell_type": "code",
   "execution_count": null,
   "id": "19aab0aa",
   "metadata": {},
   "outputs": [],
   "source": [
    "# Can be used on files\n",
    "!sort -f ls.txt"
   ]
  },
  {
   "cell_type": "code",
   "execution_count": null,
   "id": "7a372a7c",
   "metadata": {},
   "outputs": [],
   "source": [
    "# -n for numberic; top 3 biggest files in ~\n",
    "!ls -1s ~ | sort -nr | head -3"
   ]
  },
  {
   "cell_type": "code",
   "execution_count": null,
   "id": "8a2d9f9e",
   "metadata": {},
   "outputs": [],
   "source": [
    "# nothing happends if you do this\n",
    "!ls -1 ~ | sort -n"
   ]
  },
  {
   "cell_type": "code",
   "execution_count": null,
   "id": "8cdc604f",
   "metadata": {},
   "outputs": [],
   "source": []
  }
 ],
 "metadata": {
  "kernelspec": {
   "display_name": "Python 3 (ipykernel)",
   "language": "python",
   "name": "python3"
  },
  "language_info": {
   "codemirror_mode": {
    "name": "ipython",
    "version": 3
   },
   "file_extension": ".py",
   "mimetype": "text/x-python",
   "name": "python",
   "nbconvert_exporter": "python",
   "pygments_lexer": "ipython3",
   "version": "3.8.16"
  }
 },
 "nbformat": 4,
 "nbformat_minor": 5
}

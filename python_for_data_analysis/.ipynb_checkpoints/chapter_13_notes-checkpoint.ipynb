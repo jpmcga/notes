{
 "cells": [
  {
   "cell_type": "markdown",
   "id": "4b93418e",
   "metadata": {},
   "source": [
    "# Chapter 13: Introduction to Modeling Libraries in Python"
   ]
  },
  {
   "cell_type": "code",
   "execution_count": 68,
   "id": "be4993c3",
   "metadata": {},
   "outputs": [],
   "source": [
    "import matplotlib.pyplot as plt\n",
    "import numpy as np\n",
    "import pandas as pd\n",
    "import patsy\n"
   ]
  },
  {
   "cell_type": "code",
   "execution_count": 53,
   "id": "cbdb5013",
   "metadata": {},
   "outputs": [],
   "source": [
    "# !pip3 install patsy\n",
    "# !pip3 install statsmodels # This install scipy as well\n",
    "# !pip3 install sklearn"
   ]
  },
  {
   "cell_type": "markdown",
   "id": "784ce8dd",
   "metadata": {},
   "source": [
    "## 13.1 Interfacing Between pandas and Model Code"
   ]
  },
  {
   "cell_type": "code",
   "execution_count": 54,
   "id": "ec2be781",
   "metadata": {},
   "outputs": [
    {
     "name": "stdout",
     "output_type": "stream",
     "text": [
      "          x         y         z\n",
      "0 -0.676378 -1.060422  1.052266\n",
      "1 -1.008403 -0.507090  0.884576\n",
      "2  0.371285  0.247642 -0.236017\n",
      "\n",
      "[[-0.67637811 -1.06042178  1.05226641]\n",
      " [-1.00840329 -0.50709034  0.88457587]\n",
      " [ 0.37128546  0.24764216 -0.23601696]]\n",
      "\n",
      "          x         y         z cat\n",
      "0 -0.676378 -1.060422  1.052266   c\n",
      "1 -1.008403 -0.507090  0.884576   a\n",
      "2  0.371285  0.247642 -0.236017   t\n",
      "\n",
      "[[-0.6763781063165866 -1.0604217791063804 1.0522664130081765 'c']\n",
      " [-1.0084032909085718 -0.5070903429512751 0.8845758699720678 'a']\n",
      " [0.37128545818383824 0.24764215946110685 -0.23601696290219076 't']]\n",
      "\n",
      "[[-0.67637811 -1.06042178]\n",
      " [-1.00840329 -0.50709034]\n",
      " [ 0.37128546  0.24764216]]\n"
     ]
    }
   ],
   "source": [
    "# numpy array main entry point into modeling code\n",
    "# use pd. values to get array from df\n",
    "df = pd.DataFrame(np.random.randn(3,3),\n",
    "                 columns=list('xyz'))\n",
    "print(df)\n",
    "print()\n",
    "print(df.values)\n",
    "print()\n",
    "\n",
    "# if df contains non-numeric column, then returns python object instead of array\n",
    "# ^actually I think this is wrong in the book?\n",
    "df2 = df.assign(cat = list('cat'))\n",
    "print(df2)\n",
    "print()\n",
    "print(df2.values)\n",
    "print()\n",
    "# Can work after calling .loc()/.iloc() for subset of columns\n",
    "print(df2.loc[:, ['x', 'y']].values)"
   ]
  },
  {
   "cell_type": "code",
   "execution_count": 55,
   "id": "6c5fc066",
   "metadata": {},
   "outputs": [
    {
     "name": "stdout",
     "output_type": "stream",
     "text": [
      "   index         x         y         z cat\n",
      "0      0 -0.676378 -1.060422  1.052266   c\n",
      "1      1 -1.008403 -0.507090  0.884576   a\n",
      "2      2  0.371285  0.247642 -0.236017   t\n",
      "3      0 -0.676378 -1.060422  1.052266   c\n",
      "4      1 -1.008403 -0.507090  0.884576   a\n",
      "5      2  0.371285  0.247642 -0.236017   t\n",
      "   category_a  category_c  category_t\n",
      "0           0           1           0\n",
      "1           1           0           0\n",
      "2           0           0           1\n",
      "3           0           1           0\n",
      "4           1           0           0\n",
      "5           0           0           1\n"
     ]
    }
   ],
   "source": [
    "# More crap about dummies\n",
    "df3 = pd.concat([df2,df2]).reset_index()\n",
    "df3['cat'] = df3['cat'].astype('category')\n",
    "print(df3)\n",
    "print(pd.get_dummies(df3.cat, prefix='category'))"
   ]
  },
  {
   "cell_type": "markdown",
   "id": "f2ac436b",
   "metadata": {},
   "source": [
    "## 13.2 Create Model Descriptions with Patsy"
   ]
  },
  {
   "cell_type": "code",
   "execution_count": 81,
   "id": "73ceb1c9",
   "metadata": {},
   "outputs": [
    {
     "name": "stdout",
     "output_type": "stream",
     "text": [
      "   index        x0        x1         y\n",
      "0      0 -0.676378 -1.060422  1.052266\n",
      "1      1 -1.008403 -0.507090  0.884576\n",
      "2      2  0.371285  0.247642 -0.236017\n",
      "3      0 -0.676378 -1.060422  1.052266\n",
      "4      1 -1.008403 -0.507090  0.884576\n",
      "5      2  0.371285  0.247642 -0.236017\n"
     ]
    },
    {
     "name": "stderr",
     "output_type": "stream",
     "text": [
      "<ipython-input-81-6b14491a58e5>:6: FutureWarning: `rcond` parameter will change to the default of machine precision times ``max(M, N)`` where M and N are the input matrix dimensions.\n",
      "To use the future default and silence this warning we advise to pass `rcond=None`, to keep using the old, explicitly pass `rcond=-1`.\n",
      "  m, c, _ = np.linalg.lstsq(X, y)[0]\n"
     ]
    },
    {
     "data": {
      "text/plain": [
       "['Intercept', 'x0', 'x1']"
      ]
     },
     "execution_count": 81,
     "metadata": {},
     "output_type": "execute_result"
    }
   ],
   "source": [
    "# Creates a design matrix for a linear model; this is how you calculate best fit, look more at later\n",
    "df4 = df3.rename({'x' : 'x0', 'y' : 'x1', 'z' : 'y'}, axis=1).drop('cat', axis=1)\n",
    "print(df4)\n",
    "y, X = patsy.dmatrices('y ~ x0 + x1', df4)\n",
    "# y and X can be passed to modeling algorithms\n",
    "m, c, _ = np.linalg.lstsq(X, y)[0]\n",
    "X.design_info.column_names"
   ]
  },
  {
   "cell_type": "markdown",
   "id": "28e26991",
   "metadata": {},
   "source": [
    "## 13.3 Introduction to statsmodels"
   ]
  },
  {
   "cell_type": "code",
   "execution_count": 87,
   "id": "bdf44b33",
   "metadata": {},
   "outputs": [
    {
     "data": {
      "text/plain": [
       "array([-0.87495658,  0.31120191,  1.24030454, -1.12004342, -0.3884077 ,\n",
       "        0.93814285, -0.38924335, -0.03901993, -0.58522164, -0.78158158,\n",
       "        0.78160203,  0.10224077, -0.18817524,  0.32067118,  0.67286008,\n",
       "        0.97329704,  0.46005419,  0.47053133, -0.38710177,  0.61971866,\n",
       "        0.29706809,  0.66270252, -0.99231237,  1.6971995 , -0.31356914,\n",
       "       -1.09448183,  0.98947728, -0.24269465,  0.53419278, -0.41234328,\n",
       "        0.06684822, -1.11210295, -0.91731703, -0.94097966,  0.0942037 ,\n",
       "       -1.90721074, -0.22879527, -0.90579541,  0.12145763,  0.70936227,\n",
       "        0.80570331, -1.34562689, -0.88520595,  0.72661909, -2.08314237,\n",
       "        1.66335156,  1.71551676, -0.40011703,  2.11626804,  0.65059548,\n",
       "       -0.34345205, -0.32895591,  0.38350458,  0.3993298 ,  0.08543497,\n",
       "        0.17092936,  0.08289908, -0.79115884, -0.26846622, -0.09880826,\n",
       "        0.46880687, -0.9679511 ,  0.89040802, -0.17127164,  0.3465699 ,\n",
       "       -0.34897462, -1.37184923,  0.96717264, -0.72159782,  1.7337086 ,\n",
       "       -0.10560011, -1.57980359, -0.41308156,  0.94854478, -0.9231617 ,\n",
       "        1.36430677,  0.95538125, -0.3940664 , -0.12490673,  0.20207679,\n",
       "       -0.60037027, -1.48135429,  0.02358454, -1.04903153,  0.88592444,\n",
       "       -1.45965099,  1.13971897, -0.92697823, -0.20684801, -0.58745936,\n",
       "        1.92557168,  0.88786263, -0.34526202, -0.78311873,  0.74967177,\n",
       "        0.37365692,  0.95838529, -0.77000495,  0.67363624,  0.60290162])"
      ]
     },
     "execution_count": 87,
     "metadata": {},
     "output_type": "execute_result"
    }
   ],
   "source": [
    "# Can generate basic linear models, ANOVA, not Bayesian or ML technique\n",
    "# Generally need to know more before useful"
   ]
  },
  {
   "cell_type": "markdown",
   "id": "d5f98eed",
   "metadata": {},
   "source": [
    "## 13.4  Introduction to scikit-learn"
   ]
  },
  {
   "cell_type": "code",
   "execution_count": null,
   "id": "63942315",
   "metadata": {},
   "outputs": [],
   "source": [
    "# Can be used for predictive models, unsupervised, supervised etc"
   ]
  },
  {
   "cell_type": "code",
   "execution_count": null,
   "id": "e0741cc0",
   "metadata": {},
   "outputs": [],
   "source": [
    "train = (pd\n",
    "         .read_html('https://github.com/wesm/pydata-book/blob/3rd-edition/datasets/titanic/train.csv')[0]\n",
    "         .drop('Unnamed: 0', axis=1)\n",
    "        )\n",
    "\n",
    "train = (pd\n",
    "         .read_html('https://github.com/wesm/pydata-book/blob/3rd-edition/datasets/titanic/test.csv')[0]\n",
    "         .drop('Unnamed: 0', axis=1)\n",
    "        )\n",
    "\n"
   ]
  },
  {
   "cell_type": "code",
   "execution_count": 99,
   "id": "3f95a50b",
   "metadata": {},
   "outputs": [
    {
     "data": {
      "text/html": [
       "<div>\n",
       "<style scoped>\n",
       "    .dataframe tbody tr th:only-of-type {\n",
       "        vertical-align: middle;\n",
       "    }\n",
       "\n",
       "    .dataframe tbody tr th {\n",
       "        vertical-align: top;\n",
       "    }\n",
       "\n",
       "    .dataframe thead th {\n",
       "        text-align: right;\n",
       "    }\n",
       "</style>\n",
       "<table border=\"1\" class=\"dataframe\">\n",
       "  <thead>\n",
       "    <tr style=\"text-align: right;\">\n",
       "      <th></th>\n",
       "      <th>PassengerId</th>\n",
       "      <th>Survived</th>\n",
       "      <th>Pclass</th>\n",
       "      <th>Name</th>\n",
       "      <th>Sex</th>\n",
       "      <th>Age</th>\n",
       "      <th>SibSp</th>\n",
       "      <th>Parch</th>\n",
       "      <th>Ticket</th>\n",
       "      <th>Fare</th>\n",
       "      <th>Cabin</th>\n",
       "      <th>Embarked</th>\n",
       "    </tr>\n",
       "  </thead>\n",
       "  <tbody>\n",
       "    <tr>\n",
       "      <th>0</th>\n",
       "      <td>1</td>\n",
       "      <td>0</td>\n",
       "      <td>3</td>\n",
       "      <td>Braund, Mr. Owen Harris</td>\n",
       "      <td>male</td>\n",
       "      <td>22.0</td>\n",
       "      <td>1</td>\n",
       "      <td>0</td>\n",
       "      <td>A/5 21171</td>\n",
       "      <td>7.2500</td>\n",
       "      <td>NaN</td>\n",
       "      <td>S</td>\n",
       "    </tr>\n",
       "    <tr>\n",
       "      <th>1</th>\n",
       "      <td>2</td>\n",
       "      <td>1</td>\n",
       "      <td>1</td>\n",
       "      <td>Cumings, Mrs. John Bradley (Florence Briggs Th...</td>\n",
       "      <td>female</td>\n",
       "      <td>38.0</td>\n",
       "      <td>1</td>\n",
       "      <td>0</td>\n",
       "      <td>PC 17599</td>\n",
       "      <td>71.2833</td>\n",
       "      <td>C85</td>\n",
       "      <td>C</td>\n",
       "    </tr>\n",
       "    <tr>\n",
       "      <th>2</th>\n",
       "      <td>3</td>\n",
       "      <td>1</td>\n",
       "      <td>3</td>\n",
       "      <td>Heikkinen, Miss. Laina</td>\n",
       "      <td>female</td>\n",
       "      <td>26.0</td>\n",
       "      <td>0</td>\n",
       "      <td>0</td>\n",
       "      <td>STON/O2. 3101282</td>\n",
       "      <td>7.9250</td>\n",
       "      <td>NaN</td>\n",
       "      <td>S</td>\n",
       "    </tr>\n",
       "    <tr>\n",
       "      <th>3</th>\n",
       "      <td>4</td>\n",
       "      <td>1</td>\n",
       "      <td>1</td>\n",
       "      <td>Futrelle, Mrs. Jacques Heath (Lily May Peel)</td>\n",
       "      <td>female</td>\n",
       "      <td>35.0</td>\n",
       "      <td>1</td>\n",
       "      <td>0</td>\n",
       "      <td>113803</td>\n",
       "      <td>53.1000</td>\n",
       "      <td>C123</td>\n",
       "      <td>S</td>\n",
       "    </tr>\n",
       "    <tr>\n",
       "      <th>4</th>\n",
       "      <td>5</td>\n",
       "      <td>0</td>\n",
       "      <td>3</td>\n",
       "      <td>Allen, Mr. William Henry</td>\n",
       "      <td>male</td>\n",
       "      <td>35.0</td>\n",
       "      <td>0</td>\n",
       "      <td>0</td>\n",
       "      <td>373450</td>\n",
       "      <td>8.0500</td>\n",
       "      <td>NaN</td>\n",
       "      <td>S</td>\n",
       "    </tr>\n",
       "    <tr>\n",
       "      <th>...</th>\n",
       "      <td>...</td>\n",
       "      <td>...</td>\n",
       "      <td>...</td>\n",
       "      <td>...</td>\n",
       "      <td>...</td>\n",
       "      <td>...</td>\n",
       "      <td>...</td>\n",
       "      <td>...</td>\n",
       "      <td>...</td>\n",
       "      <td>...</td>\n",
       "      <td>...</td>\n",
       "      <td>...</td>\n",
       "    </tr>\n",
       "    <tr>\n",
       "      <th>886</th>\n",
       "      <td>887</td>\n",
       "      <td>0</td>\n",
       "      <td>2</td>\n",
       "      <td>Montvila, Rev. Juozas</td>\n",
       "      <td>male</td>\n",
       "      <td>27.0</td>\n",
       "      <td>0</td>\n",
       "      <td>0</td>\n",
       "      <td>211536</td>\n",
       "      <td>13.0000</td>\n",
       "      <td>NaN</td>\n",
       "      <td>S</td>\n",
       "    </tr>\n",
       "    <tr>\n",
       "      <th>887</th>\n",
       "      <td>888</td>\n",
       "      <td>1</td>\n",
       "      <td>1</td>\n",
       "      <td>Graham, Miss. Margaret Edith</td>\n",
       "      <td>female</td>\n",
       "      <td>19.0</td>\n",
       "      <td>0</td>\n",
       "      <td>0</td>\n",
       "      <td>112053</td>\n",
       "      <td>30.0000</td>\n",
       "      <td>B42</td>\n",
       "      <td>S</td>\n",
       "    </tr>\n",
       "    <tr>\n",
       "      <th>888</th>\n",
       "      <td>889</td>\n",
       "      <td>0</td>\n",
       "      <td>3</td>\n",
       "      <td>Johnston, Miss. Catherine Helen \"Carrie\"</td>\n",
       "      <td>female</td>\n",
       "      <td>NaN</td>\n",
       "      <td>1</td>\n",
       "      <td>2</td>\n",
       "      <td>W./C. 6607</td>\n",
       "      <td>23.4500</td>\n",
       "      <td>NaN</td>\n",
       "      <td>S</td>\n",
       "    </tr>\n",
       "    <tr>\n",
       "      <th>889</th>\n",
       "      <td>890</td>\n",
       "      <td>1</td>\n",
       "      <td>1</td>\n",
       "      <td>Behr, Mr. Karl Howell</td>\n",
       "      <td>male</td>\n",
       "      <td>26.0</td>\n",
       "      <td>0</td>\n",
       "      <td>0</td>\n",
       "      <td>111369</td>\n",
       "      <td>30.0000</td>\n",
       "      <td>C148</td>\n",
       "      <td>C</td>\n",
       "    </tr>\n",
       "    <tr>\n",
       "      <th>890</th>\n",
       "      <td>891</td>\n",
       "      <td>0</td>\n",
       "      <td>3</td>\n",
       "      <td>Dooley, Mr. Patrick</td>\n",
       "      <td>male</td>\n",
       "      <td>32.0</td>\n",
       "      <td>0</td>\n",
       "      <td>0</td>\n",
       "      <td>370376</td>\n",
       "      <td>7.7500</td>\n",
       "      <td>NaN</td>\n",
       "      <td>Q</td>\n",
       "    </tr>\n",
       "  </tbody>\n",
       "</table>\n",
       "<p>891 rows × 12 columns</p>\n",
       "</div>"
      ],
      "text/plain": [
       "     PassengerId  Survived  Pclass  \\\n",
       "0              1         0       3   \n",
       "1              2         1       1   \n",
       "2              3         1       3   \n",
       "3              4         1       1   \n",
       "4              5         0       3   \n",
       "..           ...       ...     ...   \n",
       "886          887         0       2   \n",
       "887          888         1       1   \n",
       "888          889         0       3   \n",
       "889          890         1       1   \n",
       "890          891         0       3   \n",
       "\n",
       "                                                  Name     Sex   Age  SibSp  \\\n",
       "0                              Braund, Mr. Owen Harris    male  22.0      1   \n",
       "1    Cumings, Mrs. John Bradley (Florence Briggs Th...  female  38.0      1   \n",
       "2                               Heikkinen, Miss. Laina  female  26.0      0   \n",
       "3         Futrelle, Mrs. Jacques Heath (Lily May Peel)  female  35.0      1   \n",
       "4                             Allen, Mr. William Henry    male  35.0      0   \n",
       "..                                                 ...     ...   ...    ...   \n",
       "886                              Montvila, Rev. Juozas    male  27.0      0   \n",
       "887                       Graham, Miss. Margaret Edith  female  19.0      0   \n",
       "888           Johnston, Miss. Catherine Helen \"Carrie\"  female   NaN      1   \n",
       "889                              Behr, Mr. Karl Howell    male  26.0      0   \n",
       "890                                Dooley, Mr. Patrick    male  32.0      0   \n",
       "\n",
       "     Parch            Ticket     Fare Cabin Embarked  \n",
       "0        0         A/5 21171   7.2500   NaN        S  \n",
       "1        0          PC 17599  71.2833   C85        C  \n",
       "2        0  STON/O2. 3101282   7.9250   NaN        S  \n",
       "3        0            113803  53.1000  C123        S  \n",
       "4        0            373450   8.0500   NaN        S  \n",
       "..     ...               ...      ...   ...      ...  \n",
       "886      0            211536  13.0000   NaN        S  \n",
       "887      0            112053  30.0000   B42        S  \n",
       "888      2        W./C. 6607  23.4500   NaN        S  \n",
       "889      0            111369  30.0000  C148        C  \n",
       "890      0            370376   7.7500   NaN        Q  \n",
       "\n",
       "[891 rows x 12 columns]"
      ]
     },
     "execution_count": 99,
     "metadata": {},
     "output_type": "execute_result"
    }
   ],
   "source": [
    "train"
   ]
  },
  {
   "cell_type": "code",
   "execution_count": null,
   "id": "c56cb56d",
   "metadata": {},
   "outputs": [],
   "source": []
  }
 ],
 "metadata": {
  "kernelspec": {
   "display_name": "Python 3",
   "language": "python",
   "name": "python3"
  },
  "language_info": {
   "codemirror_mode": {
    "name": "ipython",
    "version": 3
   },
   "file_extension": ".py",
   "mimetype": "text/x-python",
   "name": "python",
   "nbconvert_exporter": "python",
   "pygments_lexer": "ipython3",
   "version": "3.8.8"
  }
 },
 "nbformat": 4,
 "nbformat_minor": 5
}

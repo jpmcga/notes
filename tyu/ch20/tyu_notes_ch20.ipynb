{
 "cells": [
  {
   "cell_type": "markdown",
   "id": "5cc73f4f",
   "metadata": {},
   "source": [
    "# Sam's Teach Yourself Unix"
   ]
  },
  {
   "cell_type": "markdown",
   "id": "f2e4b1cf",
   "metadata": {},
   "source": [
    "## Using ```telnet``` and ```ftp```"
   ]
  },
  {
   "cell_type": "markdown",
   "id": "91bf0175",
   "metadata": {},
   "source": [
    "### Connecting to remote servers"
   ]
  },
  {
   "cell_type": "code",
   "execution_count": 1,
   "id": "17f95bfb",
   "metadata": {},
   "outputs": [
    {
     "name": "stdout",
     "output_type": "stream",
     "text": [
      "rlogin: missing host operand\r\n",
      "Try 'rlogin --help' or 'rlogin --usage' for more information.\r\n"
     ]
    }
   ],
   "source": [
    "# old way was rlogin [domain]; not sure what to login to\n",
    "! rlogin "
   ]
  },
  {
   "cell_type": "markdown",
   "id": "0e2b59e5",
   "metadata": {},
   "source": [
    "Had to brew install package with telnet and ftp <br>\n",
    "logged into sdf with telenet <br>"
   ]
  },
  {
   "cell_type": "markdown",
   "id": "d657702a",
   "metadata": {},
   "source": [
    "### ftp"
   ]
  },
  {
   "cell_type": "markdown",
   "id": "e9da6263",
   "metadata": {},
   "source": [
    "logged onto ftp.ai.mit.edu with ftp <br>\n",
    "couldn't 'get' anything..."
   ]
  },
  {
   "cell_type": "code",
   "execution_count": null,
   "id": "4bce1b63",
   "metadata": {},
   "outputs": [],
   "source": []
  }
 ],
 "metadata": {
  "kernelspec": {
   "display_name": "Python 3 (ipykernel)",
   "language": "python",
   "name": "python3"
  },
  "language_info": {
   "codemirror_mode": {
    "name": "ipython",
    "version": 3
   },
   "file_extension": ".py",
   "mimetype": "text/x-python",
   "name": "python",
   "nbconvert_exporter": "python",
   "pygments_lexer": "ipython3",
   "version": "3.8.16"
  }
 },
 "nbformat": 4,
 "nbformat_minor": 5
}

{
 "cells": [
  {
   "cell_type": "markdown",
   "id": "576834ef",
   "metadata": {},
   "source": [
    "# Sam's Teach Yourself Unix"
   ]
  },
  {
   "cell_type": "markdown",
   "id": "5efc0c76",
   "metadata": {},
   "source": [
    "## Hour 6: Manipulating files"
   ]
  },
  {
   "cell_type": "markdown",
   "id": "3f696174",
   "metadata": {},
   "source": [
    "### mkdir"
   ]
  },
  {
   "cell_type": "markdown",
   "id": "c747f2ac",
   "metadata": {},
   "source": [
    "mkdir default permissions 755; both r,x needed to read contents <br>\n",
    "To use mkdir, you need write permissions for current directory"
   ]
  },
  {
   "cell_type": "code",
   "execution_count": 4,
   "id": "864f93a3",
   "metadata": {},
   "outputs": [
    {
     "name": "stdout",
     "output_type": "stream",
     "text": [
      "mkdir: ch6: File exists\r\n"
     ]
    }
   ],
   "source": [
    "# Get 'file already exists error if run twice\n",
    "!mkdir ch6"
   ]
  },
  {
   "cell_type": "code",
   "execution_count": 5,
   "id": "d515d70b",
   "metadata": {},
   "outputs": [
    {
     "name": "stdout",
     "output_type": "stream",
     "text": [
      "drwxr-xr-x  2 jamesm  staff  64 Feb 14 14:54 \u001b[34mch6\u001b[m\u001b[m\r\n"
     ]
    }
   ],
   "source": [
    "!ls -ld ch6"
   ]
  },
  {
   "cell_type": "markdown",
   "id": "a2740140",
   "metadata": {},
   "source": [
    "### cp"
   ]
  },
  {
   "cell_type": "markdown",
   "id": "84feb421",
   "metadata": {},
   "source": [
    "When using cp, filenames must both be absolute or both be relative"
   ]
  },
  {
   "cell_type": "code",
   "execution_count": 10,
   "id": "39e5d23c",
   "metadata": {},
   "outputs": [],
   "source": [
    "# Use -r to copy directories\n",
    "!cp -r ch6/ ch6-cp"
   ]
  },
  {
   "cell_type": "code",
   "execution_count": 19,
   "id": "403d63c4",
   "metadata": {},
   "outputs": [],
   "source": [
    "# Multple files can be copied to one directory\n",
    "!cp test_uniq.txt test_cp.txt\n",
    "!cp test_uniq.txt test_cp.txt ch6/"
   ]
  },
  {
   "cell_type": "code",
   "execution_count": 20,
   "id": "bfaf2719",
   "metadata": {},
   "outputs": [
    {
     "name": "stdout",
     "output_type": "stream",
     "text": [
      "test_cp.txt   test_uniq.txt\r\n"
     ]
    }
   ],
   "source": [
    "!ls ch6/"
   ]
  },
  {
   "cell_type": "markdown",
   "id": "6f9b1307",
   "metadata": {},
   "source": [
    "### mv"
   ]
  },
  {
   "cell_type": "markdown",
   "id": "933ceacf",
   "metadata": {},
   "source": [
    "mv pretty much the same as cp; can be used to rename"
   ]
  },
  {
   "cell_type": "code",
   "execution_count": 21,
   "id": "90e52f0b",
   "metadata": {},
   "outputs": [
    {
     "name": "stdout",
     "output_type": "stream",
     "text": [
      "mv: rename . to copy.: Invalid argument\r\n"
     ]
    }
   ],
   "source": [
    "# Can't move . files\n",
    "!mv . copy."
   ]
  },
  {
   "cell_type": "code",
   "execution_count": 27,
   "id": "4c12fe38",
   "metadata": {},
   "outputs": [
    {
     "name": "stdout",
     "output_type": "stream",
     "text": [
      "-rw-r--r--  1 jamesm  staff  0 Feb 14 15:16 ch6/test_cp.txt\n",
      "-rw-r--r--  1 jamesm  staff  0 Feb 14 15:17 ch6/test_cp.txt\n",
      "test_cp.txt   test_uniq.txt\n"
     ]
    }
   ],
   "source": [
    "# Be careful not to overright files\n",
    "!touch test_cp.txt\n",
    "!ls -l ch6/test_cp.txt\n",
    "!mv test_cp.txt ch6/\n",
    "!ls -l ch6/test_cp.txt # more recent creation date for second file\n",
    "!ls ch6/"
   ]
  },
  {
   "cell_type": "code",
   "execution_count": 32,
   "id": "ac1aadff",
   "metadata": {},
   "outputs": [
    {
     "name": "stdout",
     "output_type": "stream",
     "text": [
      "overwrite ch6/test_uniq.txt? (y/n [n]) ^C\n"
     ]
    }
   ],
   "source": [
    "# Use -i to prevent accidents\n",
    "!mv -i test_uniq.txt ch6/ "
   ]
  },
  {
   "cell_type": "code",
   "execution_count": 37,
   "id": "86258d0d",
   "metadata": {},
   "outputs": [
    {
     "name": "stdout",
     "output_type": "stream",
     "text": [
      " tyu_notes_ch6.ipynb  \u001b[34mch6-cp\u001b[m\u001b[m                test_uniq.txt\n",
      "\u001b[34mch5_test_dir\u001b[m\u001b[m          oates.gif             tyu_notes_ch1-3.ipynb\n",
      "\u001b[34mch6\u001b[m\u001b[m                   \u001b[31msay.hi\u001b[m\u001b[m                tyu_notes_ch4-5.ipynb\n",
      "mv: rename ch6-cp/ to say.hi: Not a directory\n"
     ]
    }
   ],
   "source": [
    "# Can't rename a dir to existing file name\n",
    "!ls\n",
    "!mv ch6-cp/ say.hi"
   ]
  },
  {
   "cell_type": "markdown",
   "id": "81550ca4",
   "metadata": {},
   "source": [
    "### rmdir"
   ]
  },
  {
   "cell_type": "code",
   "execution_count": 38,
   "id": "daf6b74d",
   "metadata": {},
   "outputs": [
    {
     "name": "stdout",
     "output_type": "stream",
     "text": [
      "rmdir: ch6/: Directory not empty\r\n"
     ]
    }
   ],
   "source": [
    "# Can't rmdir dirs with contents\n",
    "!rmdir ch6/"
   ]
  },
  {
   "cell_type": "markdown",
   "id": "4f092f0b",
   "metadata": {},
   "source": [
    "### rm"
   ]
  },
  {
   "cell_type": "code",
   "execution_count": 40,
   "id": "57f0b812",
   "metadata": {
    "collapsed": true
   },
   "outputs": [
    {
     "name": "stdout",
     "output_type": "stream",
     "text": [
      "rm: ch6/test_cp.txt: No such file or directory\r\n"
     ]
    }
   ],
   "source": [
    "# rm more than 1 files\n",
    "!rm ch6/test_cp.txt ch6/test_uniq.txt"
   ]
  },
  {
   "cell_type": "code",
   "execution_count": 44,
   "id": "6cc529d1",
   "metadata": {},
   "outputs": [
    {
     "name": "stdout",
     "output_type": "stream",
     "text": [
      "drwxr-xr-x  2 jamesm  staff  64 Feb 14 15:23 \u001b[34mch6-cp/\u001b[m\u001b[m\r\n",
      " tyu_notes_ch6.ipynb  oates.gif             tyu_notes_ch1-3.ipynb\r\n",
      "\u001b[34mch5_test_dir\u001b[m\u001b[m          \u001b[31msay.hi\u001b[m\u001b[m                tyu_notes_ch4-5.ipynb\r\n",
      "\u001b[34mch6\u001b[m\u001b[m                   test_uniq.txt\r\n"
     ]
    }
   ],
   "source": [
    "# multiple commands seperated with ;\n",
    "!ls -dl ch6-cp/ ;rm -r ch6-cp/; ls"
   ]
  },
  {
   "cell_type": "code",
   "execution_count": 61,
   "id": "5d02a549",
   "metadata": {},
   "outputs": [
    {
     "name": "stdout",
     "output_type": "stream",
     "text": [
      "root:*:0:0:System Administrator:/var/root:/bin/sh\n",
      "daemon:*:1:1:System Services:/var/root:/usr/bin/false\n",
      "_cvmsroot:*:212:212:CVMS Root:/var/empty:/usr/bin/false\n",
      "/bin/zsh\n"
     ]
    }
   ],
   "source": [
    "# pass file contents directly to grep; see what shell\n",
    "! grep root /etc/passwd\n",
    "! echo $SHELL"
   ]
  },
  {
   "cell_type": "code",
   "execution_count": 72,
   "id": "2dac4c07",
   "metadata": {},
   "outputs": [],
   "source": [
    "# rm -f removes files, ignoring permission: BE CAREFUL"
   ]
  },
  {
   "cell_type": "markdown",
   "id": "a4b03bb0",
   "metadata": {},
   "source": [
    "### Setting alias's in zsh "
   ]
  },
  {
   "cell_type": "markdown",
   "id": "e9a511e7",
   "metadata": {},
   "source": [
    "alias flag alias_name=”command” <br>\n",
    "Add alias's to .zshrc in ~<br>\n",
    "Have to initialize with 'source ~.zshrc"
   ]
  },
  {
   "cell_type": "code",
   "execution_count": 66,
   "id": "c59a643f",
   "metadata": {},
   "outputs": [],
   "source": [
    "!echo 'alias rmr=\"rm -ri\"' >> ~/.zshrc; source ~/.zshrc"
   ]
  },
  {
   "cell_type": "markdown",
   "id": "c8c9d8d9",
   "metadata": {},
   "source": [
    "sh (Bourne shell) lacks alias feature"
   ]
  },
  {
   "cell_type": "code",
   "execution_count": 70,
   "id": "4a7e445f",
   "metadata": {},
   "outputs": [
    {
     "name": "stdout",
     "output_type": "stream",
     "text": [
      "-r-xr-xr-x  1 root  wheel  1326576 May  9  2022 \u001b[31mbash\u001b[m\u001b[m\r\n",
      "-rwxr-xr-x  2 root  wheel  1153456 May  9  2022 \u001b[31mcsh\u001b[m\u001b[m\r\n",
      "-rwxr-xr-x  1 root  wheel   307296 May  9  2022 \u001b[31mdash\u001b[m\u001b[m\r\n",
      "-r-xr-xr-x  1 root  wheel  2599008 May  9  2022 \u001b[31mksh\u001b[m\u001b[m\r\n",
      "-rwxr-xr-x  1 root  wheel   150384 May  9  2022 \u001b[31msh\u001b[m\u001b[m\r\n",
      "-rwxr-xr-x  2 root  wheel  1153456 May  9  2022 \u001b[31mtcsh\u001b[m\u001b[m\r\n",
      "-rwxr-xr-x  1 root  wheel  1377872 May  9  2022 \u001b[31mzsh\u001b[m\u001b[m\r\n"
     ]
    }
   ],
   "source": [
    "# available shells\n",
    "!ls -l /bin | grep sh"
   ]
  },
  {
   "cell_type": "code",
   "execution_count": 71,
   "id": "e97b454a",
   "metadata": {},
   "outputs": [
    {
     "name": "stdout",
     "output_type": "stream",
     "text": [
      "(env) (base) %n@%m %1~ %# \n",
      "(env) (base) %n@%m %1~ %# \n",
      "(env) (base) %n@%m %1~ %# "
     ]
    }
   ],
   "source": [
    "# change shells by typing any of ^\n",
    "!sh"
   ]
  },
  {
   "cell_type": "code",
   "execution_count": null,
   "id": "668d5d71",
   "metadata": {},
   "outputs": [],
   "source": []
  }
 ],
 "metadata": {
  "kernelspec": {
   "display_name": "Python 3 (ipykernel)",
   "language": "python",
   "name": "python3"
  },
  "language_info": {
   "codemirror_mode": {
    "name": "ipython",
    "version": 3
   },
   "file_extension": ".py",
   "mimetype": "text/x-python",
   "name": "python",
   "nbconvert_exporter": "python",
   "pygments_lexer": "ipython3",
   "version": "3.8.16"
  }
 },
 "nbformat": 4,
 "nbformat_minor": 5
}

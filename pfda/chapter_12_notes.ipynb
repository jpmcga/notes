{
 "cells": [
  {
   "cell_type": "markdown",
   "id": "255e905e",
   "metadata": {},
   "source": [
    "# Chapter 12: Advanced pandas"
   ]
  },
  {
   "cell_type": "code",
   "execution_count": 33,
   "id": "61cda8b9",
   "metadata": {},
   "outputs": [],
   "source": [
    "import pandas as pd\n",
    "import numpy as np\n",
    "import sys"
   ]
  },
  {
   "cell_type": "markdown",
   "id": "a8546f17",
   "metadata": {},
   "source": [
    "## 12.1 Categorical Data"
   ]
  },
  {
   "cell_type": "code",
   "execution_count": 6,
   "id": "61067ed1",
   "metadata": {},
   "outputs": [
    {
     "data": {
      "text/html": [
       "<div>\n",
       "<style scoped>\n",
       "    .dataframe tbody tr th:only-of-type {\n",
       "        vertical-align: middle;\n",
       "    }\n",
       "\n",
       "    .dataframe tbody tr th {\n",
       "        vertical-align: top;\n",
       "    }\n",
       "\n",
       "    .dataframe thead th {\n",
       "        text-align: right;\n",
       "    }\n",
       "</style>\n",
       "<table border=\"1\" class=\"dataframe\">\n",
       "  <thead>\n",
       "    <tr style=\"text-align: right;\">\n",
       "      <th></th>\n",
       "      <th>dogs</th>\n",
       "      <th>data</th>\n",
       "    </tr>\n",
       "  </thead>\n",
       "  <tbody>\n",
       "    <tr>\n",
       "      <th>0</th>\n",
       "      <td>big</td>\n",
       "      <td>8</td>\n",
       "    </tr>\n",
       "    <tr>\n",
       "      <th>1</th>\n",
       "      <td>bark</td>\n",
       "      <td>1</td>\n",
       "    </tr>\n",
       "    <tr>\n",
       "      <th>2</th>\n",
       "      <td>bite</td>\n",
       "      <td>6</td>\n",
       "    </tr>\n",
       "    <tr>\n",
       "      <th>3</th>\n",
       "      <td>big</td>\n",
       "      <td>1</td>\n",
       "    </tr>\n",
       "    <tr>\n",
       "      <th>4</th>\n",
       "      <td>bark</td>\n",
       "      <td>5</td>\n",
       "    </tr>\n",
       "    <tr>\n",
       "      <th>5</th>\n",
       "      <td>bite</td>\n",
       "      <td>7</td>\n",
       "    </tr>\n",
       "    <tr>\n",
       "      <th>6</th>\n",
       "      <td>big</td>\n",
       "      <td>7</td>\n",
       "    </tr>\n",
       "    <tr>\n",
       "      <th>7</th>\n",
       "      <td>bark</td>\n",
       "      <td>1</td>\n",
       "    </tr>\n",
       "    <tr>\n",
       "      <th>8</th>\n",
       "      <td>bite</td>\n",
       "      <td>10</td>\n",
       "    </tr>\n",
       "  </tbody>\n",
       "</table>\n",
       "</div>"
      ],
      "text/plain": [
       "   dogs  data\n",
       "0   big     8\n",
       "1  bark     1\n",
       "2  bite     6\n",
       "3   big     1\n",
       "4  bark     5\n",
       "5  bite     7\n",
       "6   big     7\n",
       "7  bark     1\n",
       "8  bite    10"
      ]
     },
     "execution_count": 6,
     "metadata": {},
     "output_type": "execute_result"
    }
   ],
   "source": [
    "# dimension table stores unique values and keys refercning primary observations \n",
    "df = pd.DataFrame({'dogs' : ['big', 'bark', 'bite'] * 3,\n",
    "                  'data' : np.random.randint(1,11, size=9)})\n",
    "df"
   ]
  },
  {
   "cell_type": "code",
   "execution_count": 23,
   "id": "f2cf5583",
   "metadata": {},
   "outputs": [
    {
     "name": "stdout",
     "output_type": "stream",
     "text": [
      "0     big\n",
      "1    bark\n",
      "2    bite\n",
      "3     big\n",
      "4    bark\n",
      "5    bite\n",
      "6     big\n",
      "7    bark\n",
      "8    bite\n",
      "Name: dogs, dtype: category\n",
      "Categories (3, object): ['bark', 'big', 'bite']\n",
      "['big', 'bark', 'bite', 'big', 'bark', 'bite', 'big', 'bark', 'bite']\n",
      "Categories (3, object): ['bark', 'big', 'bite']\n",
      "\n",
      "Index(['bark', 'big', 'bite'], dtype='object')\n",
      "[1 0 2 1 0 2 1 0 2]\n",
      "Index(['big', 'bark', 'bite', 'big', 'bark', 'bite', 'big', 'bark', 'bite'], dtype='object')\n",
      "['big', 'bark', 'bite', 'big', 'bark', 'bite', 'big', 'bark', 'bite']\n",
      "Categories (3, object): ['bark' < 'big' < 'bite']\n"
     ]
    }
   ],
   "source": [
    "df['dogs'] = df.dogs.astype('category')\n",
    "print(df.dogs)\n",
    "print(df.dogs.values)\n",
    "print()\n",
    "cats = df.dogs.values.categories # The unique values\n",
    "print(cats)\n",
    "values = df.dogs.values.codes # The codes\n",
    "print(values)\n",
    "# putting them back together\n",
    "print(cats.take(values)) \n",
    "# or alternativly\n",
    "print(pd.Categorical.from_codes(values, cats, ordered=True)) # Maintain order"
   ]
  },
  {
   "cell_type": "code",
   "execution_count": 35,
   "id": "9a3433ff",
   "metadata": {},
   "outputs": [
    {
     "name": "stdout",
     "output_type": "stream",
     "text": [
      "Series size 443 v cat size 315\n"
     ]
    }
   ],
   "source": [
    "series = df.drop('data', axis=1)\n",
    "cat = pd.Categorical.from_codes(values, cats)\n",
    "print(f'Series size {sys.getsizeof(series)} v cat size {sys.getsizeof(cat)}') # Returns obj size in bytes"
   ]
  },
  {
   "cell_type": "code",
   "execution_count": 53,
   "id": "f954d54e",
   "metadata": {},
   "outputs": [
    {
     "data": {
      "text/html": [
       "<div>\n",
       "<style scoped>\n",
       "    .dataframe tbody tr th:only-of-type {\n",
       "        vertical-align: middle;\n",
       "    }\n",
       "\n",
       "    .dataframe tbody tr th {\n",
       "        vertical-align: top;\n",
       "    }\n",
       "\n",
       "    .dataframe thead th {\n",
       "        text-align: right;\n",
       "    }\n",
       "</style>\n",
       "<table border=\"1\" class=\"dataframe\">\n",
       "  <thead>\n",
       "    <tr style=\"text-align: right;\">\n",
       "      <th></th>\n",
       "      <th>quartile</th>\n",
       "      <th>count</th>\n",
       "      <th>min</th>\n",
       "      <th>max</th>\n",
       "    </tr>\n",
       "  </thead>\n",
       "  <tbody>\n",
       "    <tr>\n",
       "      <th>0</th>\n",
       "      <td>Q1</td>\n",
       "      <td>250</td>\n",
       "      <td>-3.259249</td>\n",
       "      <td>-0.761498</td>\n",
       "    </tr>\n",
       "    <tr>\n",
       "      <th>1</th>\n",
       "      <td>Q2</td>\n",
       "      <td>250</td>\n",
       "      <td>-0.759203</td>\n",
       "      <td>-0.084734</td>\n",
       "    </tr>\n",
       "    <tr>\n",
       "      <th>2</th>\n",
       "      <td>Q3</td>\n",
       "      <td>250</td>\n",
       "      <td>-0.080998</td>\n",
       "      <td>0.621179</td>\n",
       "    </tr>\n",
       "    <tr>\n",
       "      <th>3</th>\n",
       "      <td>Q4</td>\n",
       "      <td>250</td>\n",
       "      <td>0.641343</td>\n",
       "      <td>2.816702</td>\n",
       "    </tr>\n",
       "  </tbody>\n",
       "</table>\n",
       "</div>"
      ],
      "text/plain": [
       "  quartile  count       min       max\n",
       "0       Q1    250 -3.259249 -0.761498\n",
       "1       Q2    250 -0.759203 -0.084734\n",
       "2       Q3    250 -0.080998  0.621179\n",
       "3       Q4    250  0.641343  2.816702"
      ]
     },
     "execution_count": 53,
     "metadata": {},
     "output_type": "execute_result"
    }
   ],
   "source": [
    "# Slick way to get quantile stats\n",
    "data = np.random.randn(1000)\n",
    "qs = pd.Series(pd.qcut(data,\n",
    "                       4,\n",
    "                       labels=['Q1', 'Q2', 'Q3', 'Q4']),\n",
    "               name='quartile')\n",
    "res = (pd.Series(data)\n",
    "       .groupby(qs)\n",
    "       .agg(['count', 'min', 'max'])\n",
    "       .reset_index()\n",
    "      )\n",
    "res"
   ]
  },
  {
   "cell_type": "code",
   "execution_count": 52,
   "id": "ce9b941b",
   "metadata": {},
   "outputs": [
    {
     "data": {
      "text/plain": [
       "['Q4', 'Q1', 'Q3', 'Q2', 'Q4', ..., 'Q1', 'Q1', 'Q1', 'Q3', 'Q2']\n",
       "Length: 1000\n",
       "Categories (4, object): ['Q1' < 'Q2' < 'Q3' < 'Q4']"
      ]
     },
     "execution_count": 52,
     "metadata": {},
     "output_type": "execute_result"
    }
   ],
   "source": [
    "# Converting columns to categorical results in less data, faster compute times bc interacting with\n",
    "# integer codes instead of strings                                                                                "
   ]
  },
  {
   "cell_type": "code",
   "execution_count": 67,
   "id": "81acba8a",
   "metadata": {},
   "outputs": [
    {
     "data": {
      "text/plain": [
       "0    morn\n",
       "1      in\n",
       "2     red\n",
       "3    road\n",
       "4     the\n",
       "5    morn\n",
       "6      in\n",
       "7     red\n",
       "8    road\n",
       "9     the\n",
       "dtype: category\n",
       "Categories (5, object): ['red', 'road', 'in', 'the', 'morn']"
      ]
     },
     "execution_count": 67,
     "metadata": {},
     "output_type": "execute_result"
    }
   ],
   "source": [
    "# use category.cat to access category methods\n",
    "this = pd.Series('this old hound is red'.split(' ') * 2,).astype('category')\n",
    "\n",
    "this.cat.rename_categories(('red road in the morn'.split(' ')))"
   ]
  },
  {
   "cell_type": "code",
   "execution_count": 72,
   "id": "2e886e87",
   "metadata": {},
   "outputs": [
    {
     "data": {
      "text/html": [
       "<div>\n",
       "<style scoped>\n",
       "    .dataframe tbody tr th:only-of-type {\n",
       "        vertical-align: middle;\n",
       "    }\n",
       "\n",
       "    .dataframe tbody tr th {\n",
       "        vertical-align: top;\n",
       "    }\n",
       "\n",
       "    .dataframe thead th {\n",
       "        text-align: right;\n",
       "    }\n",
       "</style>\n",
       "<table border=\"1\" class=\"dataframe\">\n",
       "  <thead>\n",
       "    <tr style=\"text-align: right;\">\n",
       "      <th></th>\n",
       "      <th>value</th>\n",
       "    </tr>\n",
       "  </thead>\n",
       "  <tbody>\n",
       "    <tr>\n",
       "      <th>0</th>\n",
       "      <td>4.5</td>\n",
       "    </tr>\n",
       "    <tr>\n",
       "      <th>1</th>\n",
       "      <td>5.5</td>\n",
       "    </tr>\n",
       "    <tr>\n",
       "      <th>2</th>\n",
       "      <td>6.5</td>\n",
       "    </tr>\n",
       "    <tr>\n",
       "      <th>3</th>\n",
       "      <td>4.5</td>\n",
       "    </tr>\n",
       "    <tr>\n",
       "      <th>4</th>\n",
       "      <td>5.5</td>\n",
       "    </tr>\n",
       "    <tr>\n",
       "      <th>5</th>\n",
       "      <td>6.5</td>\n",
       "    </tr>\n",
       "    <tr>\n",
       "      <th>6</th>\n",
       "      <td>4.5</td>\n",
       "    </tr>\n",
       "    <tr>\n",
       "      <th>7</th>\n",
       "      <td>5.5</td>\n",
       "    </tr>\n",
       "    <tr>\n",
       "      <th>8</th>\n",
       "      <td>6.5</td>\n",
       "    </tr>\n",
       "    <tr>\n",
       "      <th>9</th>\n",
       "      <td>4.5</td>\n",
       "    </tr>\n",
       "    <tr>\n",
       "      <th>10</th>\n",
       "      <td>5.5</td>\n",
       "    </tr>\n",
       "    <tr>\n",
       "      <th>11</th>\n",
       "      <td>6.5</td>\n",
       "    </tr>\n",
       "  </tbody>\n",
       "</table>\n",
       "</div>"
      ],
      "text/plain": [
       "    value\n",
       "0     4.5\n",
       "1     5.5\n",
       "2     6.5\n",
       "3     4.5\n",
       "4     5.5\n",
       "5     6.5\n",
       "6     4.5\n",
       "7     5.5\n",
       "8     6.5\n",
       "9     4.5\n",
       "10    5.5\n",
       "11    6.5"
      ]
     },
     "execution_count": 72,
     "metadata": {},
     "output_type": "execute_result"
    }
   ],
   "source": [
    "# .transform() on groupby like .apply(), can produce scalar values to be broadcast across groups\n",
    "df = pd.DataFrame({'key' : list('abc')*4,\n",
    "                  'value' : np.arange(12.)})\n",
    "df.groupby('key').transform('mean')\n"
   ]
  },
  {
   "cell_type": "code",
   "execution_count": 81,
   "id": "a4c27c74",
   "metadata": {},
   "outputs": [],
   "source": [
    "# Nvm TimeGrouper is depriciated\n",
    "# # Use timegrouper() if multiple values per timestamp\n",
    "# df = pd.DataFrame({'key' : list('abc') * 3,\n",
    "#                   'value' : np.arange(9),\n",
    "#                   'times' : pd.date_range('10-02-1992',\n",
    "#                                           periods=3,\n",
    "#                                           freq='min'\n",
    "#                                          ).repeat(3)})\n",
    "# print(df)\n",
    "\n",
    "# print(df.groupby['key', pd.Grouper('5min')])\n"
   ]
  },
  {
   "cell_type": "markdown",
   "id": "3d966aa4",
   "metadata": {},
   "source": [
    "## 12.3 Techniques for Method Chaining"
   ]
  },
  {
   "cell_type": "code",
   "execution_count": 95,
   "id": "99817430",
   "metadata": {},
   "outputs": [],
   "source": [
    "# Use df.assign to copy df and add new columns, can chain methods\n",
    "df2 = (df.assign(new = df.key + \"_new\")\n",
    "       .groupby('key')\n",
    "       .count()\n",
    "      )"
   ]
  },
  {
   "cell_type": "code",
   "execution_count": 98,
   "id": "28d68d29",
   "metadata": {},
   "outputs": [
    {
     "data": {
      "text/html": [
       "<div>\n",
       "<style scoped>\n",
       "    .dataframe tbody tr th:only-of-type {\n",
       "        vertical-align: middle;\n",
       "    }\n",
       "\n",
       "    .dataframe tbody tr th {\n",
       "        vertical-align: top;\n",
       "    }\n",
       "\n",
       "    .dataframe thead th {\n",
       "        text-align: right;\n",
       "    }\n",
       "</style>\n",
       "<table border=\"1\" class=\"dataframe\">\n",
       "  <thead>\n",
       "    <tr style=\"text-align: right;\">\n",
       "      <th></th>\n",
       "      <th>key</th>\n",
       "      <th>value</th>\n",
       "      <th>times</th>\n",
       "    </tr>\n",
       "  </thead>\n",
       "  <tbody>\n",
       "    <tr>\n",
       "      <th>0</th>\n",
       "      <td>a</td>\n",
       "      <td>0</td>\n",
       "      <td>1992-10-02 00:00:00</td>\n",
       "    </tr>\n",
       "    <tr>\n",
       "      <th>1</th>\n",
       "      <td>b</td>\n",
       "      <td>1</td>\n",
       "      <td>1992-10-02 00:00:00</td>\n",
       "    </tr>\n",
       "    <tr>\n",
       "      <th>2</th>\n",
       "      <td>c</td>\n",
       "      <td>2</td>\n",
       "      <td>1992-10-02 00:00:00</td>\n",
       "    </tr>\n",
       "    <tr>\n",
       "      <th>3</th>\n",
       "      <td>a</td>\n",
       "      <td>3</td>\n",
       "      <td>1992-10-02 00:01:00</td>\n",
       "    </tr>\n",
       "    <tr>\n",
       "      <th>4</th>\n",
       "      <td>b</td>\n",
       "      <td>4</td>\n",
       "      <td>1992-10-02 00:01:00</td>\n",
       "    </tr>\n",
       "    <tr>\n",
       "      <th>5</th>\n",
       "      <td>c</td>\n",
       "      <td>5</td>\n",
       "      <td>1992-10-02 00:01:00</td>\n",
       "    </tr>\n",
       "    <tr>\n",
       "      <th>6</th>\n",
       "      <td>a</td>\n",
       "      <td>6</td>\n",
       "      <td>1992-10-02 00:02:00</td>\n",
       "    </tr>\n",
       "    <tr>\n",
       "      <th>7</th>\n",
       "      <td>b</td>\n",
       "      <td>7</td>\n",
       "      <td>1992-10-02 00:02:00</td>\n",
       "    </tr>\n",
       "    <tr>\n",
       "      <th>8</th>\n",
       "      <td>c</td>\n",
       "      <td>8</td>\n",
       "      <td>1992-10-02 00:02:00</td>\n",
       "    </tr>\n",
       "  </tbody>\n",
       "</table>\n",
       "</div>"
      ],
      "text/plain": [
       "  key  value               times\n",
       "0   a      0 1992-10-02 00:00:00\n",
       "1   b      1 1992-10-02 00:00:00\n",
       "2   c      2 1992-10-02 00:00:00\n",
       "3   a      3 1992-10-02 00:01:00\n",
       "4   b      4 1992-10-02 00:01:00\n",
       "5   c      5 1992-10-02 00:01:00\n",
       "6   a      6 1992-10-02 00:02:00\n",
       "7   b      7 1992-10-02 00:02:00\n",
       "8   c      8 1992-10-02 00:02:00"
      ]
     },
     "execution_count": 98,
     "metadata": {},
     "output_type": "execute_result"
    }
   ],
   "source": [
    "# Use .pipe(fun, arg1) to chain together functinos on df; function must return df or series\n",
    "def f(df):\n",
    "    return df\n",
    "\n",
    "def g(df):\n",
    "    return df\n",
    "\n",
    "def h(df):\n",
    "    return df\n",
    "    \n",
    "\n",
    "result = (df.pipe(f)\n",
    "          .pipe(g)\n",
    "          .pipe(h)\n",
    "         )\n",
    "result"
   ]
  },
  {
   "cell_type": "code",
   "execution_count": null,
   "id": "45d99009",
   "metadata": {},
   "outputs": [],
   "source": []
  }
 ],
 "metadata": {
  "kernelspec": {
   "display_name": "Python 3 (ipykernel)",
   "language": "python",
   "name": "python3"
  },
  "language_info": {
   "codemirror_mode": {
    "name": "ipython",
    "version": 3
   },
   "file_extension": ".py",
   "mimetype": "text/x-python",
   "name": "python",
   "nbconvert_exporter": "python",
   "pygments_lexer": "ipython3",
   "version": "3.10.8"
  }
 },
 "nbformat": 4,
 "nbformat_minor": 5
}

{
 "cells": [
  {
   "cell_type": "markdown",
   "id": "7120d46a",
   "metadata": {},
   "source": [
    "## Notes for Python for Data Analysis 2nd Edition\n",
    "## Chapter 3 Built-in Data Structure, Functions, and Files"
   ]
  },
  {
   "cell_type": "markdown",
   "id": "a93f638c",
   "metadata": {},
   "source": [
    "# Tuples"
   ]
  },
  {
   "cell_type": "code",
   "execution_count": 5,
   "id": "2e5b0d68",
   "metadata": {},
   "outputs": [
    {
     "name": "stdout",
     "output_type": "stream",
     "text": [
      "((2, 3, 4), (7, 8))\n",
      "(7, 8)\n",
      "8\n"
     ]
    }
   ],
   "source": [
    "# Tuples are immutable, don't need parenthesis, but can help\n",
    "tup = 1, 2, 3\n",
    "nested_tup = ((2, 3, 4),(7,8))\n",
    "print(nested_tup)\n",
    "print(nested_tup[1])\n",
    "print(nested_tup[1][1])"
   ]
  },
  {
   "cell_type": "code",
   "execution_count": 12,
   "id": "10f67349",
   "metadata": {},
   "outputs": [
    {
     "name": "stdout",
     "output_type": "stream",
     "text": [
      "('s', 't', 'r', 'i', 'n', 'g')\n",
      "([1, 2, 'a'], [4, 5, 6])\n",
      "('s', 't', 'r', 'i', 'n', 'g', [1, 2, 'a'], [4, 5, 6])\n"
     ]
    }
   ],
   "source": [
    "# Can convert sequnce into tuple with 'tuple'\n",
    "stup = tuple('string')\n",
    "print(stup)\n",
    "# Cant modify tuple, but can modify objects within if mutable\n",
    "# stup[1] = 'b' # fails\n",
    "\n",
    "l_tup = ([1, 2, 3],[4, 5, 6])\n",
    "l_tup[0][2] = 'a'\n",
    "print(l_tup)\n",
    "# l_tup[0] = [7, 8, 9] #fails\n",
    "\n",
    "a_tup = stup + l_tup\n",
    "print(a_tup)"
   ]
  },
  {
   "cell_type": "code",
   "execution_count": 14,
   "id": "f68dae8f",
   "metadata": {},
   "outputs": [
    {
     "name": "stdout",
     "output_type": "stream",
     "text": [
      "(1, 3, 4, 1, 3, 4, 1, 3, 4, 1, 3, 4)\n"
     ]
    }
   ],
   "source": [
    "tup1 = (1, 3, 4)\n",
    "tup2 = (5, 6, 7)\n",
    "# Can't multiply tuple by tuple\n",
    "# print(tup1 * tup2)\n",
    "\n",
    "# But can multiply tuply by number\n",
    "print(tup1 * 4)"
   ]
  },
  {
   "cell_type": "code",
   "execution_count": 118,
   "id": "cb21fa8a",
   "metadata": {},
   "outputs": [
    {
     "name": "stdout",
     "output_type": "stream",
     "text": [
      "a = 1, b = 2, c = 3\n",
      "a = 4, b = 5, c = 6\n",
      "a = 7, b = 8, c = 9\n",
      "1 2\n",
      "[3, 5]\n",
      "1\n",
      "1\n"
     ]
    }
   ],
   "source": [
    "# You can unpack tuples\n",
    "seq = [(1, 2, 3), (4, 5, 6), (7, 8, 9)]\n",
    "for a, b, c in seq:\n",
    "    print(\"a = {}, b = {}, c = {}\".format(a, b, c,))\n",
    "    \n",
    "# Can use special '*' syntax to capture remaining\n",
    "values = 1, 2, 3, 5\n",
    "a, b, *erthin = values\n",
    "print(a, b)\n",
    "print(erthin)\n",
    "\n",
    "# Tuples have methods 'index' and 'count'\n",
    "print(values.index(2)) # Returns index of query\n",
    "print(values.count(2)) # Returns occurences of query"
   ]
  },
  {
   "cell_type": "markdown",
   "id": "07188e04",
   "metadata": {},
   "source": [
    "# Lists"
   ]
  },
  {
   "cell_type": "code",
   "execution_count": 47,
   "id": "ff5c1f02",
   "metadata": {},
   "outputs": [
    {
     "name": "stdout",
     "output_type": "stream",
     "text": [
      "asdf\n",
      "['arf', 'fant', 'af', 'fsf', 'cat']\n",
      "['arf', 'fant', 'af', 'fsf', 'cat', 'af']\n",
      "['arf', 'fant', 'fsf', 'cat', 'af']\n"
     ]
    },
    {
     "data": {
      "text/plain": [
       "['af', 'arf', 'fsf', 'cat', 'fant']"
      ]
     },
     "execution_count": 47,
     "metadata": {},
     "output_type": "execute_result"
    }
   ],
   "source": [
    "# Lists can be modified\n",
    "lst = ['arf', 'asdf', 'af', 'fsf']\n",
    "lst.append('cat')\n",
    "lst.index('cat')\n",
    "lst[4][0]\n",
    "# Can't modify strings in lists\n",
    "# lst[4][0] = 1 #fails\n",
    "\n",
    "# Use 'insert' to add to particular location; 'insert' computationally\n",
    "# expensive so use sparingly\n",
    "\n",
    "lst.insert(2, 'fant')\n",
    "lst\n",
    "\n",
    "# pop removes an object from an index, can be stored in new object\n",
    "one = lst.pop(1)\n",
    "print(one)\n",
    "print(lst)\n",
    "\n",
    "# 'remove' removes the first occurence of a particular object\n",
    "lst.append('af')\n",
    "print(lst)\n",
    "lst.remove('af')\n",
    "print(lst)\n",
    "\n",
    "'af' in lst\n",
    "'af' not in lst\n",
    "# Slower to check wheter an object in a list than dict or set\n",
    "# Extend cheaper than concatenating lists bc you don't have to create a \n",
    "# new list.\n",
    "\n",
    "# sort() method does not make a new list.  Can sort by length. sorted()\n",
    "# fuction makes a copy\n",
    "lst.sort(key=len)\n",
    "lst"
   ]
  },
  {
   "cell_type": "code",
   "execution_count": 52,
   "id": "1acbb7b2",
   "metadata": {},
   "outputs": [
    {
     "data": {
      "text/plain": [
       "['af', 'arf', 'arfff', 'fsf', 'cat', 'fant']"
      ]
     },
     "execution_count": 52,
     "metadata": {},
     "output_type": "execute_result"
    }
   ],
   "source": [
    "# bisect.bisect() returns the location an element should be inserted to \n",
    "# keep order; bisect.insort insertes the item; does not check if sorted\n",
    "import bisect\n",
    "\n",
    "bisect.insort(lst, 'arfff') # sorts alphabetically\n",
    "lst"
   ]
  },
  {
   "cell_type": "code",
   "execution_count": 78,
   "id": "1f3b799f",
   "metadata": {},
   "outputs": [
    {
     "name": "stdout",
     "output_type": "stream",
     "text": [
      "['h', 'e', 'l', 'l', 'o', '!']\n",
      "['h', 'e', 'l', 'l', 'o']\n",
      "!\n",
      "h\n",
      "h\n",
      "['h', 'e', 'l', 'l', 'o', '!']\n",
      "['!', 'o', 'l', 'l', 'e', 'h']\n",
      "['!', 'l', 'e']\n"
     ]
    }
   ],
   "source": [
    "# negative slices arn't 0 indexed; slices end exclusive\n",
    "\n",
    "hello = list('hello!')\n",
    "print(hello)\n",
    "print(hello[:5])\n",
    "# buuut\n",
    "print(hello[5])\n",
    "# print(hello[6]) # Breaks\n",
    "print(hello[-6])\n",
    "\n",
    "# -0 = 0\n",
    "print(hello[-0])\n",
    "print(hello[-6:6])\n",
    "print(hello[::-1])\n",
    "print(hello[::-2])\n"
   ]
  },
  {
   "cell_type": "code",
   "execution_count": 100,
   "id": "a9d42eed",
   "metadata": {},
   "outputs": [
    {
     "name": "stdout",
     "output_type": "stream",
     "text": [
      "0 h\n",
      "1 e\n",
      "2 l\n",
      "3 l\n",
      "4 o\n",
      "5 !\n",
      "['af', 'arf', 'fsf', 'cat', 'fant', 'arfff']\n",
      "[(5, 1, True), (4, 2, False), (9, 3, True)]\n",
      "\n",
      "0: 5, 1\n",
      "1: 4, 2\n",
      "2: 9, 3\n",
      "3: 5, 4\n",
      "fant\n",
      "cat\n",
      "fsf\n",
      "arfff\n",
      "arf\n",
      "af\n",
      "\n",
      "fant\n",
      "cat\n",
      "fsf\n",
      "arfff\n",
      "arf\n",
      "af\n"
     ]
    }
   ],
   "source": [
    "# Make a dict using enumerate\n",
    "dct = {}\n",
    "for i, value in enumerate(hello):\n",
    "    dct[i] = value\n",
    "for key in dct:\n",
    "    print(key, dct[key])\n",
    "    \n",
    "# 'sorted' returns a new list, can take 'key' parameter\n",
    "\n",
    "print(sorted(lst, key=len))\n",
    "\n",
    "# zip returns a list of tuples; number of elements is determined by the \n",
    "# shorted sequence\n",
    "\n",
    "seq1 = [a, b, c, d]\n",
    "seq2 = [1, 2, 3, 4]\n",
    "seq3 = True, False, True\n",
    "\n",
    "print(list(zip(seq1, seq2, seq3)), end='\\n\\n')\n",
    "\n",
    "for i, (a,b) in enumerate(zip(seq1, seq2)):\n",
    "    print('{}: {}, {}'.format(i, a, b))\n",
    "    \n",
    "# reversed creates a generator\n",
    "for x in reversed(lst):\n",
    "    print(x)\n",
    "print()\n",
    "for x in lst[::-1]:\n",
    "    print(x)"
   ]
  },
  {
   "cell_type": "markdown",
   "id": "ab09a7c1",
   "metadata": {},
   "source": [
    "# Dict"
   ]
  },
  {
   "cell_type": "code",
   "execution_count": 2,
   "id": "4bc41261",
   "metadata": {},
   "outputs": [
    {
     "name": "stdout",
     "output_type": "stream",
     "text": [
      "{'a': 2, 'b': 3, 'c': 4, 'd': 5}\n",
      "dict_keys(['a', 'c', 'd'])\n",
      "dict_values([2, 4, 5])\n",
      "{'a': 2, 'c': 4, 'd': 5, 'cat': 'dog', '4': True}\n",
      "0 4\n",
      "1 3\n",
      "2 2\n",
      "3 1\n",
      "4 0\n"
     ]
    }
   ],
   "source": [
    "# Can use del or pop to remove key-value pairs, either by key\n",
    "\n",
    "dct = {'a' : 2,\n",
    "       'b' : 3,\n",
    "       'c' : 4,\n",
    "       'd' : 5\n",
    "}\n",
    "\n",
    "print(dct)\n",
    "del dct['b']\n",
    "dct\n",
    "print(dct.keys())\n",
    "print(dct.values())\n",
    "\n",
    "# Can merge two dcts using 'update'; will change location of existing keys\n",
    "dct.update({'cat' : 'dog', '4' : True})\n",
    "\n",
    "print(dct)\n",
    "\n",
    "# A dict can accept a list of two tuples \n",
    "mapping = dict(zip(range(5), range(5)[::-1]))\n",
    "for k in mapping:\n",
    "    print(k, mapping[k])"
   ]
  },
  {
   "cell_type": "code",
   "execution_count": 14,
   "id": "a152caee",
   "metadata": {},
   "outputs": [
    {
     "name": "stdout",
     "output_type": "stream",
     "text": [
      "not found\n",
      "1\n"
     ]
    },
    {
     "data": {
      "text/plain": [
       "{'c': ['cat', 'caraboo'], 'd': ['dog'], 'b': ['bear']}"
      ]
     },
     "execution_count": 14,
     "metadata": {},
     "output_type": "execute_result"
    }
   ],
   "source": [
    "# .get() method can be used to search a dict and return a value or\n",
    "# a default value.\n",
    "\n",
    "print(mapping.get(6, \"not found\"))\n",
    "print(mapping.get(3, \"not found\"))\n",
    "\n",
    "# .setdefault method allso references of dict values not yet created \n",
    "# during iteration\n",
    "animals = [\"cat\", \"caraboo\", \"dog\", \"bear\"]\n",
    "\n",
    "by_letter = {}\n",
    "for animal in animals:\n",
    "    letter = animal[0]\n",
    "    by_letter.setdefault(letter, []).append(animal)\n",
    "print(by_letter)\n",
    "\n"
   ]
  },
  {
   "cell_type": "code",
   "execution_count": 15,
   "id": "c347477c",
   "metadata": {},
   "outputs": [],
   "source": [
    "# Values in a dict must be immutable; can convert lists to tuples if\n",
    "# they are needed"
   ]
  },
  {
   "cell_type": "markdown",
   "id": "6a3e0196",
   "metadata": {},
   "source": [
    "# Sets"
   ]
  },
  {
   "cell_type": "code",
   "execution_count": 29,
   "id": "bc079048",
   "metadata": {},
   "outputs": [
    {
     "name": "stdout",
     "output_type": "stream",
     "text": [
      "{'d', 'b', 'c'}\n",
      "{'b', 'd', 'e', 'a', 'B', 'f', 'c'}\n",
      "{'b', 'e', 'd', 'f', 'c'}\n",
      "{'B', 'a'}\n",
      "False\n",
      "False\n",
      "True\n",
      "False\n"
     ]
    }
   ],
   "source": [
    "# Elements in set unique, non-mutable\n",
    "\n",
    "s1 = {\"a\", \"B\", \"b\", \"c\", \"d\"}\n",
    "s2 = {\"a\", \"B\", \"e\", \"f\"}\n",
    "\n",
    "print(s1 - s2) \n",
    "print(s1 | s2) # 'OR'\n",
    "print(s1 ^ s2) # 'XOR'\n",
    "print(s1 & s2) # 'AND' in both\n",
    "print(s1 <= s2) # is s1 in s2\n",
    "print(s1 >= s2) # is s2 in s1\n",
    "\n",
    "print({1,2,3} == {3,1,2})\n",
    "print([1,2,3] == [3,1,2])"
   ]
  },
  {
   "cell_type": "markdown",
   "id": "78b6c81a",
   "metadata": {},
   "source": [
    "# List Comprehension"
   ]
  },
  {
   "cell_type": "code",
   "execution_count": 66,
   "id": "ccc26054",
   "metadata": {},
   "outputs": [
    {
     "name": "stdout",
     "output_type": "stream",
     "text": [
      "[0, 2, 4, 6, 8]\n",
      "{'dog', 'bat', 'cat'}\n",
      "{0: 'dog', 1: 'cat', 4: 'bat'}\n"
     ]
    },
    {
     "data": {
      "text/plain": [
       "{1, 2, 3, 4, 5, 9, 10}"
      ]
     },
     "execution_count": 66,
     "metadata": {},
     "output_type": "execute_result"
    }
   ],
   "source": [
    "animals = [\"dog\", \"cat\", \"hippo\", \"horse\", \"bat\"]\n",
    "print([x for x in range(10) if x % 2 == 0])\n",
    "print({ele for ele in animals if len(ele) == 3})\n",
    "print({k: v for k,v in enumerate(animals) if v[0] <= \"d\"})\n",
    "\n",
    "# Nested List comprehension\n",
    "\n",
    "tups = [(1, 2, 3), (4, 5, 4), (9, 3, 10), (1, 2, 3)]\n",
    "flatted = {digit for tup in tups for digit in tup}\n",
    "flatted"
   ]
  },
  {
   "cell_type": "markdown",
   "id": "5312ddcf",
   "metadata": {},
   "source": [
    "# Functions"
   ]
  },
  {
   "cell_type": "code",
   "execution_count": 87,
   "id": "ff2badbc",
   "metadata": {},
   "outputs": [
    {
     "name": "stdout",
     "output_type": "stream",
     "text": [
      "dog\n",
      "dog\n",
      "(1, 2, 3)\n",
      "{1, 2, 3}\n",
      "All The Good Ones\n"
     ]
    }
   ],
   "source": [
    "# If function get to end without encountering return, returns 'None'\n",
    "# Keyword arguments MUST follow positional arguements\n",
    "# The 'global'keyword can be used to call global variables\n",
    "\n",
    "a = 'cat'\n",
    "\n",
    "def f():\n",
    "    global a\n",
    "    a = 'dog'\n",
    "    return a\n",
    "print(f())\n",
    "print(a)\n",
    "\n",
    "# Multiple variables are returned as a tuple\n",
    "def fun():\n",
    "    a = 1\n",
    "    b = 2\n",
    "    c = 3\n",
    "    return a, b, c\n",
    "print(fun())\n",
    "\n",
    "# but you can change this \n",
    "def fun2():\n",
    "    a = 1\n",
    "    b = 2\n",
    "    c = 3\n",
    "    d = 1\n",
    "    return {a, b, c, d}\n",
    "print(fun2())\n",
    "    \n",
    "# .title capatlized the first word in every string\n",
    "print(\"all the Good ones\".title())"
   ]
  },
  {
   "cell_type": "code",
   "execution_count": 107,
   "id": "9a0bcffc",
   "metadata": {},
   "outputs": [
    {
     "name": "stdout",
     "output_type": "stream",
     "text": [
      "Ats\n",
      "\n",
      "False\n",
      "\n",
      "Foof\n",
      "\n",
      "False\n",
      "\n",
      "Fun\n",
      "\n",
      "False\n",
      "\n",
      "Ats\n",
      "Foof\n",
      "Fun\n"
     ]
    }
   ],
   "source": [
    "# You can treat functions like objects and put them in lists\n",
    "t = [\"ats\", \"foof\", \"fun\"]\n",
    "funcs = [str.capitalize, str.isupper]\n",
    "for i in t:\n",
    "    for func in funcs:\n",
    "        print(func(i))\n",
    "# the function 'map' performs a function on each ele in a list\n",
    "for x in map(str.capitalize, t):\n",
    "    print(x)\n"
   ]
  },
  {
   "cell_type": "code",
   "execution_count": 137,
   "id": "6ffcd529",
   "metadata": {},
   "outputs": [
    {
     "name": "stdout",
     "output_type": "stream",
     "text": [
      "atsats\n",
      "fooffoof\n",
      "funfun\n",
      "['ats', 'foof', 'fun', 'adfaasd', 'sdfas']\n"
     ]
    },
    {
     "ename": "NameError",
     "evalue": "name 'y' is not defined",
     "output_type": "error",
     "traceback": [
      "\u001b[0;31m---------------------------------------------------------------------------\u001b[0m",
      "\u001b[0;31mNameError\u001b[0m                                 Traceback (most recent call last)",
      "Input \u001b[0;32mIn [137]\u001b[0m, in \u001b[0;36m<cell line: 15>\u001b[0;34m()\u001b[0m\n\u001b[1;32m     12\u001b[0m five \u001b[38;5;241m=\u001b[39m \u001b[38;5;28;01mlambda\u001b[39;00m y: add(\u001b[38;5;124m\"\u001b[39m\u001b[38;5;124mcat\u001b[39m\u001b[38;5;124m\"\u001b[39m, y)\n\u001b[1;32m     13\u001b[0m five(\u001b[38;5;124m\"\u001b[39m\u001b[38;5;124m5\u001b[39m\u001b[38;5;124m\"\u001b[39m)\n\u001b[0;32m---> 15\u001b[0m six \u001b[38;5;241m=\u001b[39m add(x, \u001b[43my\u001b[49m)\n\u001b[1;32m     16\u001b[0m six(\u001b[38;5;241m1\u001b[39m,\u001b[38;5;241m2\u001b[39m)\n",
      "\u001b[0;31mNameError\u001b[0m: name 'y' is not defined"
     ]
    }
   ],
   "source": [
    "# lamdba functions\n",
    "b = [\"ats\", \"foof\", \"fun\", \"adfaasd\", \"sdfas\"]\n",
    "for x in map(lambda x: x * 2, t):\n",
    "    print(x)\n",
    "print(sorted(b, key=lambda x: set(list(x))))\n",
    "\n",
    "# Currying is using a function as an arguement to a second function\n",
    "def add(x, y):\n",
    "    return x + y\n",
    "\n",
    "# You can define a function like this??\n",
    "five = lambda y: add(\"cat\", y)\n",
    "five(\"5\")\n"
   ]
  },
  {
   "cell_type": "code",
   "execution_count": 4,
   "id": "e8308ad6",
   "metadata": {},
   "outputs": [
    {
     "ename": "NameError",
     "evalue": "name 'ATCG' is not defined",
     "output_type": "error",
     "traceback": [
      "\u001b[0;31m---------------------------------------------------------------------------\u001b[0m",
      "\u001b[0;31mNameError\u001b[0m                                 Traceback (most recent call last)",
      "Input \u001b[0;32mIn [4]\u001b[0m, in \u001b[0;36m<cell line: 2>\u001b[0;34m()\u001b[0m\n\u001b[1;32m      1\u001b[0m string \u001b[38;5;241m=\u001b[39m \u001b[38;5;124m\"\u001b[39m\u001b[38;5;124mATCG\u001b[39m\u001b[38;5;124m\"\u001b[39m\n\u001b[0;32m----> 2\u001b[0m \u001b[38;5;28mprint\u001b[39m(\u001b[38;5;28;43meval\u001b[39;49m\u001b[43m(\u001b[49m\u001b[43mstring\u001b[49m\u001b[43m)\u001b[49m)\n",
      "File \u001b[0;32m<string>:1\u001b[0m, in \u001b[0;36m<module>\u001b[0;34m\u001b[0m\n",
      "\u001b[0;31mNameError\u001b[0m: name 'ATCG' is not defined"
     ]
    }
   ],
   "source": [
    "string = \"ATCG\"\n",
    "print(eval(string))"
   ]
  },
  {
   "cell_type": "code",
   "execution_count": null,
   "id": "a7f3aa32",
   "metadata": {},
   "outputs": [],
   "source": []
  }
 ],
 "metadata": {
  "kernelspec": {
   "display_name": "Python 3 (ipykernel)",
   "language": "python",
   "name": "python3"
  },
  "language_info": {
   "codemirror_mode": {
    "name": "ipython",
    "version": 3
   },
   "file_extension": ".py",
   "mimetype": "text/x-python",
   "name": "python",
   "nbconvert_exporter": "python",
   "pygments_lexer": "ipython3",
   "version": "3.8.5"
  }
 },
 "nbformat": 4,
 "nbformat_minor": 5
}

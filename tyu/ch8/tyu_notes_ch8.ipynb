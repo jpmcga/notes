{
 "cells": [
  {
   "cell_type": "markdown",
   "id": "dad18cc4",
   "metadata": {},
   "source": [
    "# Sam's Teach Yourself Unix"
   ]
  },
  {
   "cell_type": "markdown",
   "id": "8d2a2a33",
   "metadata": {},
   "source": [
    "## Chapter 8: Filters and Piping"
   ]
  },
  {
   "cell_type": "markdown",
   "id": "ad63b5bf",
   "metadata": {},
   "source": [
    "### File Redirection"
   ]
  },
  {
   "cell_type": "code",
   "execution_count": 4,
   "id": "236ef0e3",
   "metadata": {},
   "outputs": [
    {
     "name": "stdout",
     "output_type": "stream",
     "text": [
      "\u001b[34mch1-3\u001b[m\u001b[m/\r\n",
      "\u001b[34mch4-5\u001b[m\u001b[m/\r\n",
      "\u001b[34mch5_test_dir\u001b[m\u001b[m/\r\n"
     ]
    }
   ],
   "source": [
    "# send stdout to file\n",
    "!ls -F1 .. > ls.txt\n",
    "# send stdin to function\n",
    "!head -3 < ls.txt "
   ]
  },
  {
   "cell_type": "code",
   "execution_count": 8,
   "id": "a0865197",
   "metadata": {},
   "outputs": [],
   "source": [
    "# Use << for append\n",
    "!ls -F1 / >> ls.txt"
   ]
  },
  {
   "cell_type": "code",
   "execution_count": 10,
   "id": "85ff6f85",
   "metadata": {},
   "outputs": [
    {
     "name": "stdout",
     "output_type": "stream",
     "text": [
      "\u001b[34mch1-3\u001b[m\u001b[m/\r\n",
      "\u001b[34mch4-5\u001b[m\u001b[m/\r\n",
      "\u001b[34mch5_test_dir\u001b[m\u001b[m/\r\n",
      "\u001b[34mch6\u001b[m\u001b[m/\r\n",
      "\u001b[34mch7\u001b[m\u001b[m/\r\n",
      "\u001b[34mch8\u001b[m\u001b[m/\r\n",
      "newf.txt\r\n",
      "oates.gif\r\n",
      "\u001b[34mApplications\u001b[m\u001b[m/\r\n",
      "\u001b[34mLibrary\u001b[m\u001b[m/\r\n",
      "\u001b[34mSystem\u001b[m\u001b[m/\r\n",
      "\u001b[34mUsers\u001b[m\u001b[m/\r\n",
      "\u001b[34mVolumes\u001b[m\u001b[m/\r\n",
      "\u001b[34mbin\u001b[m\u001b[m/\r\n",
      "\u001b[34mcores\u001b[m\u001b[m/\r\n",
      "\u001b[34mdev\u001b[m\u001b[m/\r\n",
      "\u001b[35metc\u001b[m\u001b[m@\r\n",
      "\u001b[35mhome\u001b[m\u001b[m@\r\n",
      "\u001b[34mopt\u001b[m\u001b[m/\r\n",
      "\u001b[34mprivate\u001b[m\u001b[m/\r\n",
      "\u001b[34msbin\u001b[m\u001b[m/\r\n",
      "\u001b[35mtmp\u001b[m\u001b[m@\r\n",
      "\u001b[34musr\u001b[m\u001b[m/\r\n",
      "\u001b[35mvar\u001b[m\u001b[m@\r\n"
     ]
    }
   ],
   "source": [
    "!cat < ls.txt"
   ]
  },
  {
   "cell_type": "code",
   "execution_count": 13,
   "id": "e9f02ef1",
   "metadata": {},
   "outputs": [
    {
     "name": "stdout",
     "output_type": "stream",
     "text": [
      "GIF89a�^Ah^A�^@^@^@�^@\r\n",
      "^G\r\n",
      "^L\t^O^M\r\n",
      "^N^N^K^N^O^L^P^Q^M^Q^Q^N^L^Q^N^S^R^P^M^R^P^P^R^Q^Q^S^O^O^S^Q^T^T^R^Q^V^P^N^W^R^S^X^R^O^X^S^V^[^W^S^[^W^W^\\^Y^]^^^\\^X^^^^^^^_^\\^_  #\"^Z^U\"^^^[\"^^ \"! #^^^X##&$%)$(.&^^^X&!^_&##)!^_*^^^W*$^]*%!,%$- ^Y-)+/./2&^^2)%3 ^X32839B4++4007108)^^928:AH<1*<53<79<ES=9??,^_CL]D6/D::E.)E3,E>@FFNFMXG;5GPbH?:I;/ICDIRgLD@LLNMC;NGJOGDPS]RMOWNOXE<X]lY<7YMHYYcZKAZSU]_g]fw^SM^XWb\\]dRIdaceGBeVLeXSjXRj^UkIDkVJna]pgeqbWqjkqotrNGtUStg^ucV{j`}dU}rq^?piM-^@lcM-^ANHM-^BM-^IM-^VM-^CqdM-^CM-^DM-^IM-^DxpM-^D|{M-^EVTM-^FunM-^HsiM-^IynM-^JkbM-^JM-^AM-^@M-^L``M-^M|pM-^NroM-^NM-^@zM-^OM-^EM-^DM-^QfTM-^R~oM-^SM-^@sM-^UM-^D{M-^UM-^FM-^@M-^UM-^OM-^OM-^VM-^CvM-^ZM-^G{M-^[M-^JM-^@M-^[M-^JM-^DM-^[M-^NM-^KM-^^M-^J}M-^_M-^L}�M-^LM-^C�M-^PM-^B�M-^PM-^H�ql�M-^Cu�M-^TM-^D�M-^UM-^K�M-^VM-^O�M-^VM-^H�M-^YM-^O�M-^ZM-^K����M-^\\M-^U�M-^]M-^P�M-^_M-^X��M-^[��M-^]��M-^Q��M-^U��M-^S��M-^T��M-^X��M-^R��M-^W��M-^^��M-^W����M-^Cy�M-^\\M-^M��M-^W��M-^_��M-^[������������ŴM-^_ŵ�Ƶ�Ǹ�ǹ�ɸ�ʺ�ʼ�̻�ͼ�;�ξ�о����ѽ�ѿ��ö�������ð�ŷ�ô�ĭ�Ƹ�ɿ�Ư�ƶ�ɯ�ʹ����˲�˹����δ�κ����ж�Ѻ�������Ժ����ֻ������������������������������������������������������������������������������������!�^D^D^G^@^@^@!�^KNETSCAPE2.0^C^A^@^@^@,^@^@^@^@�^Ah^A^@^H�^@��^Y�GM-^O AM-^G^N1Z�(M-^R�H^N%IM-^\\xIҥKM-^\\.f�ı��PM-^\\@M-^F^ZIM-^R�(R(S�,Ų%�V�`�M-^Zyk��W�r��u^KM-^WOM-^_�|��ի�ѣFM-^A)]:��ӧOM-^M%M-^SM-^Z�j��вFM-^K^FmkW�[�Z^[;6M-^[ٳh����M-^V^[�op�M-^JM-^[K�.�rx���M-^[�M-^\\߿M-^@^CM-^_[G����M-^H^S�[̸��w�\"KM-^^L����M-^X33vǹs�v�CM-^K^F��tiy�4��^L��>x���nM^[^_<۸o��ͻ����M-^C^K��F`A>^G^S2d�0���^U/J�M-^H����%�M-^G^Z�]�wM-^W�e��i3'�M-^]=^?^F-M-^J^K���KM-^UBM-^]�T*U�X�~�^_V,Ykh^EM-^XM[o�e`\\�إ�8|5�M-^W`M-^C�^S�`M-^IUh�a�5V�M-^FM-^R���M-^G M-^FM-^X�c�y6ZM-^I(zM-^FZj#b^FOc��M-^FM-^Ol4��Zn8^N��M-^N��M-^CM-^OM-^O@�(�M-^O�^Md^PB\r\n",
      "-^DQs^S5^Y^]'�MM-^G^QM-^T�M-^E$�HVM-^N4�M-^V'y�^Rx-�\"SM�M-^@RSy:��M-^Sz����{��'^_}P�7^U~Y���M-^^`M-^E�^_M-^@^BM-^Z��M-^AM-^D\"^H�M-^Bv9� M-^EM-^EE(!`^WF�M-^Ng-2�!M-^G!f��M-^G���Y;�M-^P�iM-^I+�X)M-^L6ڨ�M-^L4�z۫�<��M-^[n;��M-^[�B޺[q�^]M-^D�r^O^E^Kݰ^XI��tUZM-^YeI\\vM-^I^RK�M-^F�M-^RM-^X6M-^A\"f+�M-^TG^Sz?���M-^[p^^%'0t�y�}�i�'^?��^Y��M-^D^VM-^J �M-^I>x�^~M-^Uè��ZHiM-^F ^��^DM-^K�ڨ�\"lZ��M-^^�XM-^L^^�^V[���M-^J#��^N��ƾ^EM-^Y+�D��M-^F^^^E%M-^W$s^N9��sPZGe�WM-^F�,w�FK\r\n"
     ]
    }
   ],
   "source": [
    "# Use redirection to view bins\n",
    "!cat -v < ../oates.gif > oates.txt\n",
    "!head -5 oates.txt"
   ]
  },
  {
   "cell_type": "markdown",
   "id": "a5c3e744",
   "metadata": {},
   "source": [
    "### wc"
   ]
  },
  {
   "cell_type": "code",
   "execution_count": 17,
   "id": "ef43d0aa",
   "metadata": {},
   "outputs": [
    {
     "name": "stdout",
     "output_type": "stream",
     "text": [
      "   15545   64369 4326632 oates.txt\n",
      "   15545 oates.txt\n",
      "   64369 oates.txt\n",
      " 4326632 oates.txt\n"
     ]
    }
   ],
   "source": [
    "# wc outputs lines | words| characters\n",
    "!wc oates.txt\n",
    "!wc -l oates.txt\n",
    "!wc -w oates.txt\n",
    "!wc -c oates.txt"
   ]
  },
  {
   "cell_type": "code",
   "execution_count": 20,
   "id": "7e9e0062",
   "metadata": {},
   "outputs": [
    {
     "name": "stdout",
     "output_type": "stream",
     "text": [
      "      66\r\n"
     ]
    }
   ],
   "source": [
    "# fun with wc: get number of apps in Library\n",
    "!ls -1 /Library/ | wc -l"
   ]
  },
  {
   "cell_type": "code",
   "execution_count": 22,
   "id": "21035ee2",
   "metadata": {},
   "outputs": [
    {
     "name": "stdout",
     "output_type": "stream",
     "text": [
      "       5\r\n"
     ]
    }
   ],
   "source": [
    "# number of users\n",
    "!who | wc -l"
   ]
  },
  {
   "cell_type": "code",
   "execution_count": 101,
   "id": "894f7bfc",
   "metadata": {},
   "outputs": [
    {
     "name": "stdout",
     "output_type": "stream",
     "text": [
      "   34244 total\r\n",
      "   10700 /bin/ksh\r\n",
      "    4959 /bin/bash\r\n",
      "    4548 /bin/zsh\r\n",
      "    3268 /bin/tcsh\r\n",
      "    3268 /bin/csh\r\n",
      "    1180 /bin/launchctl\r\n",
      "     974 /bin/pax\r\n",
      "     739 /bin/dash\r\n",
      "     478 /bin/ed\r\n",
      "     351 /bin/ps\r\n",
      "     308 /bin/ls\r\n",
      "     297 /bin/dd\r\n",
      "     208 /bin/cp\r\n",
      "     205 /bin/stty\r\n",
      "     184 /bin/chmod\r\n",
      "     175 /bin/date\r\n",
      "     174 /bin/unlink\r\n",
      "     174 /bin/rm\r\n",
      "     172 /bin/expr\r\n",
      "     160 /bin/mv\r\n",
      "     144 /bin/df\r\n",
      "     139 /bin/cat\r\n",
      "     127 /bin/ln\r\n",
      "     127 /bin/link\r\n",
      "     124 /bin/test\r\n",
      "     124 /bin/[\r\n",
      "     117 /bin/kill\r\n",
      "     100 /bin/sh\r\n",
      "      99 /bin/mkdir\r\n",
      "      95 /bin/echo\r\n",
      "      94 /bin/hostname\r\n",
      "      91 /bin/rmdir\r\n",
      "      89 /bin/sleep\r\n",
      "      89 /bin/pwd\r\n",
      "      88 /bin/wait4path\r\n",
      "      75 /bin/sync\r\n"
     ]
    }
   ],
   "source": [
    "# Can be used for multiple files\n",
    "!wc -l /bin/* | sort -nr"
   ]
  },
  {
   "cell_type": "markdown",
   "id": "5bc5dd2a",
   "metadata": {},
   "source": [
    "### uniq"
   ]
  },
  {
   "cell_type": "code",
   "execution_count": 62,
   "id": "00391243",
   "metadata": {},
   "outputs": [
    {
     "name": "stdout",
     "output_type": "stream",
     "text": [
      "       9\n",
      "       9\n"
     ]
    }
   ],
   "source": [
    "# Only remove consecutive duplicate lines\n",
    "!touch uni.txt; echo me > uni.txt; echo oh >> uni.txt; echo my >> uni.txt\n",
    "!cat uni.txt uni.txt uni.txt > unicat.txt\n",
    "!cat unicat.txt | wc -l\n",
    "!uniq unicat.txt | wc -l"
   ]
  },
  {
   "cell_type": "code",
   "execution_count": 40,
   "id": "c2c75bc5",
   "metadata": {},
   "outputs": [
    {
     "name": "stdout",
     "output_type": "stream",
     "text": [
      "\r\n"
     ]
    }
   ],
   "source": []
  },
  {
   "cell_type": "code",
   "execution_count": 76,
   "id": "8a53fc8a",
   "metadata": {},
   "outputs": [
    {
     "name": "stdout",
     "output_type": "stream",
     "text": [
      "       3\n",
      "       1\n"
     ]
    }
   ],
   "source": [
    "!tail -1 unicat.txt > end.txt\n",
    "!cat end.txt end.txt end.txt > unicat2.txt\n",
    "!cat unicat2.txt | wc -l\n",
    "!uniq unicat2.txt | wc -l"
   ]
  },
  {
   "cell_type": "code",
   "execution_count": 78,
   "id": "c238d307",
   "metadata": {},
   "outputs": [
    {
     "name": "stdout",
     "output_type": "stream",
     "text": [
      "me\r\n",
      "oh\r\n",
      "my\r\n",
      "me\r\n",
      "oh\r\n",
      "my\r\n",
      "me\r\n",
      "oh\r\n",
      "my\r\n"
     ]
    }
   ],
   "source": [
    "# -u only lines that are not repeated\n",
    "!uniq -u unicat2.txt\n",
    "!uniq -u unicat.txt"
   ]
  },
  {
   "cell_type": "code",
   "execution_count": 79,
   "id": "0356064e",
   "metadata": {},
   "outputs": [
    {
     "name": "stdout",
     "output_type": "stream",
     "text": [
      "my\r\n"
     ]
    }
   ],
   "source": [
    "# -d only lines that are repeated\n",
    "!uniq -d unicat2.txt\n",
    "!uniq -d unicat.txt"
   ]
  },
  {
   "cell_type": "code",
   "execution_count": 80,
   "id": "dcf5dee5",
   "metadata": {},
   "outputs": [
    {
     "name": "stdout",
     "output_type": "stream",
     "text": [
      "   3 my\r\n"
     ]
    }
   ],
   "source": [
    "# -c how many occurences of a line\n",
    "!uniq -c unicat2.txt"
   ]
  },
  {
   "cell_type": "markdown",
   "id": "aae5dd65",
   "metadata": {},
   "source": [
    "### sort"
   ]
  },
  {
   "cell_type": "code",
   "execution_count": 83,
   "id": "4bab2395",
   "metadata": {},
   "outputs": [
    {
     "name": "stdout",
     "output_type": "stream",
     "text": [
      "web_summary.html\r\n",
      "summary.csv\r\n",
      "singlecell.csv\r\n",
      "normalized_column_counts2.csv\r\n",
      "Library Samples - MyBGI 3.0.html\r\n",
      "haha_500.png\r\n",
      "col_analysis.ipynb\r\n",
      "\u001b[35mOneDrive - AtlasXomics\u001b[m\u001b[m@\r\n",
      "\u001b[34mPublic\u001b[m\u001b[m/\r\n",
      "\u001b[34mPictures\u001b[m\u001b[m/\r\n",
      "\u001b[34mopt\u001b[m\u001b[m/\r\n",
      "\u001b[34mMusic\u001b[m\u001b[m/\r\n",
      "\u001b[34mMovies\u001b[m\u001b[m/\r\n",
      "\u001b[34mLibrary Samples - MyBGI 3.0_files\u001b[m\u001b[m/\r\n",
      "\u001b[34mLibrary\u001b[m\u001b[m/\r\n",
      "\u001b[34mlatch\u001b[m\u001b[m/\r\n",
      "\u001b[34mkeys\u001b[m\u001b[m/\r\n",
      "\u001b[34mjpmcga\u001b[m\u001b[m/\r\n",
      "\u001b[34mfastq\u001b[m\u001b[m/\r\n",
      "\u001b[34menv-3\u001b[m\u001b[m/\r\n",
      "\u001b[34menv-2\u001b[m\u001b[m/\r\n",
      "\u001b[34menv\u001b[m\u001b[m/\r\n",
      "\u001b[34mDownloads\u001b[m\u001b[m/\r\n",
      "\u001b[34mDocuments\u001b[m\u001b[m/\r\n",
      "\u001b[34mDesktop\u001b[m\u001b[m/\r\n",
      "\u001b[34mAtlasXomics\u001b[m\u001b[m/\r\n",
      "\u001b[34matlas-git\u001b[m\u001b[m/\r\n",
      "\u001b[34mApplications\u001b[m\u001b[m/\r\n"
     ]
    }
   ],
   "source": [
    "# defaults to alphebetical, -f to ignore case, r to reverse sort\n",
    "!ls -1F ~ | sort -fr"
   ]
  },
  {
   "cell_type": "code",
   "execution_count": 88,
   "id": "19aab0aa",
   "metadata": {},
   "outputs": [
    {
     "name": "stdout",
     "output_type": "stream",
     "text": [
      "\u001b[34mApplications\u001b[m\u001b[m/\r\n",
      "\u001b[34mbin\u001b[m\u001b[m/\r\n",
      "\u001b[34mch1-3\u001b[m\u001b[m/\r\n",
      "\u001b[34mch4-5\u001b[m\u001b[m/\r\n",
      "\u001b[34mch5_test_dir\u001b[m\u001b[m/\r\n",
      "\u001b[34mch6\u001b[m\u001b[m/\r\n",
      "\u001b[34mch7\u001b[m\u001b[m/\r\n",
      "\u001b[34mch8\u001b[m\u001b[m/\r\n",
      "\u001b[34mcores\u001b[m\u001b[m/\r\n",
      "\u001b[34mdev\u001b[m\u001b[m/\r\n",
      "\u001b[34mLibrary\u001b[m\u001b[m/\r\n",
      "\u001b[34mopt\u001b[m\u001b[m/\r\n",
      "\u001b[34mprivate\u001b[m\u001b[m/\r\n",
      "\u001b[34msbin\u001b[m\u001b[m/\r\n",
      "\u001b[34mSystem\u001b[m\u001b[m/\r\n",
      "\u001b[34mUsers\u001b[m\u001b[m/\r\n",
      "\u001b[34musr\u001b[m\u001b[m/\r\n",
      "\u001b[34mVolumes\u001b[m\u001b[m/\r\n",
      "\u001b[35metc\u001b[m\u001b[m@\r\n",
      "\u001b[35mhome\u001b[m\u001b[m@\r\n",
      "\u001b[35mtmp\u001b[m\u001b[m@\r\n",
      "\u001b[35mvar\u001b[m\u001b[m@\r\n",
      "newf.txt\r\n",
      "oates.gif\r\n"
     ]
    }
   ],
   "source": [
    "# Can be used on files\n",
    "!sort -f ls.txt"
   ]
  },
  {
   "cell_type": "code",
   "execution_count": 96,
   "id": "7a372a7c",
   "metadata": {},
   "outputs": [
    {
     "name": "stdout",
     "output_type": "stream",
     "text": [
      "3816 web_summary.html\r\n",
      " 456 Library Samples - MyBGI 3.0.html\r\n",
      " 408 singlecell.csv\r\n"
     ]
    }
   ],
   "source": [
    "# -n for numberic; top 3 biggest files in ~\n",
    "!ls -1s ~ | sort -nr | head -3"
   ]
  },
  {
   "cell_type": "code",
   "execution_count": 109,
   "id": "8a2d9f9e",
   "metadata": {},
   "outputs": [
    {
     "name": "stdout",
     "output_type": "stream",
     "text": [
      "\u001b[34mApplications\u001b[m\u001b[m\r\n",
      "\u001b[34mAtlasXomics\u001b[m\u001b[m\r\n",
      "\u001b[34mDesktop\u001b[m\u001b[m\r\n",
      "\u001b[34mDocuments\u001b[m\u001b[m\r\n",
      "\u001b[34mDownloads\u001b[m\u001b[m\r\n",
      "\u001b[34mLibrary\u001b[m\u001b[m\r\n",
      "\u001b[34mLibrary Samples - MyBGI 3.0_files\u001b[m\u001b[m\r\n",
      "\u001b[34mMovies\u001b[m\u001b[m\r\n",
      "\u001b[34mMusic\u001b[m\u001b[m\r\n",
      "\u001b[34mPictures\u001b[m\u001b[m\r\n",
      "\u001b[34mPublic\u001b[m\u001b[m\r\n",
      "\u001b[34matlas-git\u001b[m\u001b[m\r\n",
      "\u001b[34menv\u001b[m\u001b[m\r\n",
      "\u001b[34menv-2\u001b[m\u001b[m\r\n",
      "\u001b[34menv-3\u001b[m\u001b[m\r\n",
      "\u001b[34mfastq\u001b[m\u001b[m\r\n",
      "\u001b[34mjpmcga\u001b[m\u001b[m\r\n",
      "\u001b[34mkeys\u001b[m\u001b[m\r\n",
      "\u001b[34mlatch\u001b[m\u001b[m\r\n",
      "\u001b[34mopt\u001b[m\u001b[m\r\n",
      "\u001b[35mOneDrive - AtlasXomics\u001b[m\u001b[m\r\n",
      "Library Samples - MyBGI 3.0.html\r\n",
      "col_analysis.ipynb\r\n",
      "haha_500.png\r\n",
      "normalized_column_counts2.csv\r\n",
      "singlecell.csv\r\n",
      "summary.csv\r\n",
      "web_summary.html\r\n"
     ]
    }
   ],
   "source": [
    "# nothing happends if you do this\n",
    "!ls -1 ~ | sort -n"
   ]
  },
  {
   "cell_type": "code",
   "execution_count": null,
   "id": "8cdc604f",
   "metadata": {},
   "outputs": [],
   "source": []
  }
 ],
 "metadata": {
  "kernelspec": {
   "display_name": "Python 3 (ipykernel)",
   "language": "python",
   "name": "python3"
  },
  "language_info": {
   "codemirror_mode": {
    "name": "ipython",
    "version": 3
   },
   "file_extension": ".py",
   "mimetype": "text/x-python",
   "name": "python",
   "nbconvert_exporter": "python",
   "pygments_lexer": "ipython3",
   "version": "3.8.16"
  }
 },
 "nbformat": 4,
 "nbformat_minor": 5
}

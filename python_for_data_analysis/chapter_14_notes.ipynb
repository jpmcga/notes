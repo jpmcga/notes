{
 "cells": [
  {
   "cell_type": "markdown",
   "id": "0dabfec3",
   "metadata": {},
   "source": [
    "# Notes for Python for Data Analysis 2nd Edition\n",
    "# Chapter 14 Data Analysis Examples"
   ]
  },
  {
   "cell_type": "code",
   "execution_count": 211,
   "id": "8ac62629",
   "metadata": {},
   "outputs": [],
   "source": [
    "from collections import defaultdict, Counter\n",
    "import json\n",
    "import matplotlib.pyplot as plt\n",
    "import numpy as np\n",
    "import pandas as pd\n",
    "import requests\n",
    "import seaborn as sns\n",
    "\n",
    "import warnings\n",
    "warnings.filterwarnings(\"ignore\", module = \"matplotlib\" )"
   ]
  },
  {
   "cell_type": "markdown",
   "id": "15b408cd",
   "metadata": {},
   "source": [
    "## 14.1 USA.gov Data from Bitly"
   ]
  },
  {
   "cell_type": "code",
   "execution_count": 119,
   "id": "8210f50d",
   "metadata": {},
   "outputs": [],
   "source": [
    "data = ((requests\n",
    "        .get('https://raw.githubusercontent.com/wesm/pydata-book/3rd-edition/datasets/bitly_usagov/example.txt'))\n",
    "        .text\n",
    "       )"
   ]
  },
  {
   "cell_type": "code",
   "execution_count": 151,
   "id": "ec665da6",
   "metadata": {},
   "outputs": [
    {
     "name": "stdout",
     "output_type": "stream",
     "text": [
      "[('America/New_York', 1251), ('', 521), ('America/Chicago', 400), ('America/Los_Angeles', 382), ('America/Denver', 191)]\n",
      "[('America/New_York', 1251), ('', 521), ('America/Chicago', 400), ('America/Los_Angeles', 382), ('America/Denver', 191)]\n"
     ]
    }
   ],
   "source": [
    "# json.loads converts json obj to dicts\n",
    "records = [json.loads(line) for line in data.split('\\n')[:-1]] # Get rid of last '' entry\n",
    "\n",
    "# Get counts of each timezoe\n",
    "tzs = [record['tz'] for record in records if 'tz' in record]\n",
    "\n",
    "tz_dict = defaultdict(int)\n",
    "for ele in tzs:\n",
    "    tz_dict[ele] += 1\n",
    "# how to sort a dict\n",
    "res = sorted(tz_dict.items(), key=lambda i: i[1], reverse=True)\n",
    "print(res[:5]) # top5\n",
    "\n",
    "# with Count\n",
    "counts =  Counter(tzs)\n",
    "print(counts.most_common(5))"
   ]
  },
  {
   "cell_type": "code",
   "execution_count": 844,
   "id": "e4a15769",
   "metadata": {},
   "outputs": [
    {
     "name": "stdout",
     "output_type": "stream",
     "text": [
      "America/New_York       1251\n",
      "                        521\n",
      "America/Chicago         400\n",
      "America/Los_Angeles     382\n",
      "America/Denver          191\n",
      "Name: tz, dtype: int64\n"
     ]
    }
   ],
   "source": [
    "# with pandas\n",
    "df = pd.DataFrame(records)\n",
    "print(df.tz.value_counts()[:5])"
   ]
  },
  {
   "cell_type": "code",
   "execution_count": 846,
   "id": "ea6ed863",
   "metadata": {},
   "outputs": [
    {
     "data": {
      "image/png": "[encoded data removed]",
      "text/plain": [
       "<Figure size 720x432 with 1 Axes>"
      ]
     },
     "metadata": {
      "needs_background": "light"
     },
     "output_type": "display_data"
    }
   ],
   "source": [
    "# Setting global parameters\n",
    "plt.rc('figure', figsize=(10,6))\n",
    "\n",
    "tz2 = df.tz.fillna('Missing')\n",
    "tz2[tz2 == ''] = 'Unknown'\n",
    "counts = tz2.value_counts()[:25]\n",
    "sns.barplot(x=counts.index,\n",
    "            y=counts.values,\n",
    "            color='lightblue'\n",
    "           )\n",
    "\n",
    "plt.xticks(rotation=90)\n",
    "for spine in plt.axes().spines:\n",
    "    plt.axes().spines[spine].set_visible(False)"
   ]
  },
  {
   "cell_type": "code",
   "execution_count": 242,
   "id": "a84d84dc",
   "metadata": {},
   "outputs": [
    {
     "data": {
      "text/plain": [
       "Mozilla/5.0                 2594\n",
       "Mozilla/4.0                  601\n",
       "GoogleMaps/RochesterNY       121\n",
       "Opera/9.80                    34\n",
       "TEST_INTERNET_AGENT           24\n",
       "GoogleProducer                21\n",
       "Mozilla/6.0                    5\n",
       "BlackBerry8520/5.0.0.681       4\n",
       "BlackBerry8520/5.0.0.592       3\n",
       "Dalvik/1.4.0                   3\n",
       "dtype: int64"
      ]
     },
     "execution_count": 242,
     "metadata": {},
     "output_type": "execute_result"
    }
   ],
   "source": [
    "# Top operating system\n",
    "# Make Series of os's\n",
    "agents = pd.Series([x.split()[0] for x in df.a.dropna()])\n",
    "agents.value_counts()[:10]"
   ]
  },
  {
   "cell_type": "code",
   "execution_count": 413,
   "id": "c687bcaf",
   "metadata": {},
   "outputs": [
    {
     "data": {
      "text/html": [
       "<div>\n",
       "<style scoped>\n",
       "    .dataframe tbody tr th:only-of-type {\n",
       "        vertical-align: middle;\n",
       "    }\n",
       "\n",
       "    .dataframe tbody tr th {\n",
       "        vertical-align: top;\n",
       "    }\n",
       "\n",
       "    .dataframe thead th {\n",
       "        text-align: right;\n",
       "    }\n",
       "</style>\n",
       "<table border=\"1\" class=\"dataframe\">\n",
       "  <thead>\n",
       "    <tr style=\"text-align: right;\">\n",
       "      <th></th>\n",
       "      <th>a</th>\n",
       "      <th>c</th>\n",
       "      <th>nk</th>\n",
       "      <th>tz</th>\n",
       "      <th>gr</th>\n",
       "      <th>g</th>\n",
       "      <th>h</th>\n",
       "      <th>l</th>\n",
       "      <th>al</th>\n",
       "      <th>hh</th>\n",
       "      <th>r</th>\n",
       "      <th>u</th>\n",
       "      <th>t</th>\n",
       "      <th>hc</th>\n",
       "      <th>cy</th>\n",
       "      <th>ll</th>\n",
       "      <th>_heartbeat_</th>\n",
       "      <th>kw</th>\n",
       "      <th>os</th>\n",
       "    </tr>\n",
       "  </thead>\n",
       "  <tbody>\n",
       "    <tr>\n",
       "      <th>0</th>\n",
       "      <td>Mozilla/5.0 (Windows NT 6.1; WOW64) AppleWebKi...</td>\n",
       "      <td>US</td>\n",
       "      <td>1.0</td>\n",
       "      <td>America/New_York</td>\n",
       "      <td>MA</td>\n",
       "      <td>A6qOVH</td>\n",
       "      <td>wfLQtf</td>\n",
       "      <td>orofrog</td>\n",
       "      <td>en-US,en;q=0.8</td>\n",
       "      <td>1.usa.gov</td>\n",
       "      <td>http://www.facebook.com/l/7AQEFzjSi/1.usa.gov/...</td>\n",
       "      <td>http://www.ncbi.nlm.nih.gov/pubmed/22415991</td>\n",
       "      <td>1.331923e+09</td>\n",
       "      <td>1.331823e+09</td>\n",
       "      <td>Danvers</td>\n",
       "      <td>[42.576698, -70.954903]</td>\n",
       "      <td>NaN</td>\n",
       "      <td>NaN</td>\n",
       "      <td>Windows</td>\n",
       "    </tr>\n",
       "    <tr>\n",
       "      <th>1</th>\n",
       "      <td>GoogleMaps/RochesterNY</td>\n",
       "      <td>US</td>\n",
       "      <td>0.0</td>\n",
       "      <td>America/Denver</td>\n",
       "      <td>UT</td>\n",
       "      <td>mwszkS</td>\n",
       "      <td>mwszkS</td>\n",
       "      <td>bitly</td>\n",
       "      <td>NaN</td>\n",
       "      <td>j.mp</td>\n",
       "      <td>http://www.AwareMap.com/</td>\n",
       "      <td>http://www.monroecounty.gov/etc/911/rss.php</td>\n",
       "      <td>1.331923e+09</td>\n",
       "      <td>1.308262e+09</td>\n",
       "      <td>Provo</td>\n",
       "      <td>[40.218102, -111.613297]</td>\n",
       "      <td>NaN</td>\n",
       "      <td>NaN</td>\n",
       "      <td>Not Windows</td>\n",
       "    </tr>\n",
       "    <tr>\n",
       "      <th>2</th>\n",
       "      <td>Mozilla/4.0 (compatible; MSIE 8.0; Windows NT ...</td>\n",
       "      <td>US</td>\n",
       "      <td>1.0</td>\n",
       "      <td>America/New_York</td>\n",
       "      <td>DC</td>\n",
       "      <td>xxr3Qb</td>\n",
       "      <td>xxr3Qb</td>\n",
       "      <td>bitly</td>\n",
       "      <td>en-US</td>\n",
       "      <td>1.usa.gov</td>\n",
       "      <td>http://t.co/03elZC4Q</td>\n",
       "      <td>http://boxer.senate.gov/en/press/releases/0316...</td>\n",
       "      <td>1.331923e+09</td>\n",
       "      <td>1.331920e+09</td>\n",
       "      <td>Washington</td>\n",
       "      <td>[38.9007, -77.043098]</td>\n",
       "      <td>NaN</td>\n",
       "      <td>NaN</td>\n",
       "      <td>Windows</td>\n",
       "    </tr>\n",
       "    <tr>\n",
       "      <th>3</th>\n",
       "      <td>Mozilla/5.0 (Macintosh; Intel Mac OS X 10_6_8)...</td>\n",
       "      <td>BR</td>\n",
       "      <td>0.0</td>\n",
       "      <td>America/Sao_Paulo</td>\n",
       "      <td>27</td>\n",
       "      <td>zCaLwp</td>\n",
       "      <td>zUtuOu</td>\n",
       "      <td>alelex88</td>\n",
       "      <td>pt-br</td>\n",
       "      <td>1.usa.gov</td>\n",
       "      <td>direct</td>\n",
       "      <td>http://apod.nasa.gov/apod/ap120312.html</td>\n",
       "      <td>1.331923e+09</td>\n",
       "      <td>1.331923e+09</td>\n",
       "      <td>Braz</td>\n",
       "      <td>[-23.549999, -46.616699]</td>\n",
       "      <td>NaN</td>\n",
       "      <td>NaN</td>\n",
       "      <td>Not Windows</td>\n",
       "    </tr>\n",
       "    <tr>\n",
       "      <th>4</th>\n",
       "      <td>Mozilla/5.0 (Windows NT 6.1; WOW64) AppleWebKi...</td>\n",
       "      <td>US</td>\n",
       "      <td>0.0</td>\n",
       "      <td>America/New_York</td>\n",
       "      <td>MA</td>\n",
       "      <td>9b6kNl</td>\n",
       "      <td>9b6kNl</td>\n",
       "      <td>bitly</td>\n",
       "      <td>en-US,en;q=0.8</td>\n",
       "      <td>bit.ly</td>\n",
       "      <td>http://www.shrewsbury-ma.gov/selco/</td>\n",
       "      <td>http://www.shrewsbury-ma.gov/egov/gallery/1341...</td>\n",
       "      <td>1.331923e+09</td>\n",
       "      <td>1.273672e+09</td>\n",
       "      <td>Shrewsbury</td>\n",
       "      <td>[42.286499, -71.714699]</td>\n",
       "      <td>NaN</td>\n",
       "      <td>NaN</td>\n",
       "      <td>Windows</td>\n",
       "    </tr>\n",
       "    <tr>\n",
       "      <th>...</th>\n",
       "      <td>...</td>\n",
       "      <td>...</td>\n",
       "      <td>...</td>\n",
       "      <td>...</td>\n",
       "      <td>...</td>\n",
       "      <td>...</td>\n",
       "      <td>...</td>\n",
       "      <td>...</td>\n",
       "      <td>...</td>\n",
       "      <td>...</td>\n",
       "      <td>...</td>\n",
       "      <td>...</td>\n",
       "      <td>...</td>\n",
       "      <td>...</td>\n",
       "      <td>...</td>\n",
       "      <td>...</td>\n",
       "      <td>...</td>\n",
       "      <td>...</td>\n",
       "      <td>...</td>\n",
       "    </tr>\n",
       "    <tr>\n",
       "      <th>3555</th>\n",
       "      <td>Mozilla/4.0 (compatible; MSIE 9.0; Windows NT ...</td>\n",
       "      <td>US</td>\n",
       "      <td>1.0</td>\n",
       "      <td>America/New_York</td>\n",
       "      <td>NJ</td>\n",
       "      <td>e5SvKE</td>\n",
       "      <td>fqPSr9</td>\n",
       "      <td>tweetdeckapi</td>\n",
       "      <td>en</td>\n",
       "      <td>1.usa.gov</td>\n",
       "      <td>direct</td>\n",
       "      <td>http://www.fda.gov/AdvisoryCommittees/Committe...</td>\n",
       "      <td>1.331927e+09</td>\n",
       "      <td>1.301298e+09</td>\n",
       "      <td>Paramus</td>\n",
       "      <td>[40.9445, -74.07]</td>\n",
       "      <td>NaN</td>\n",
       "      <td>NaN</td>\n",
       "      <td>Windows</td>\n",
       "    </tr>\n",
       "    <tr>\n",
       "      <th>3556</th>\n",
       "      <td>Mozilla/5.0 (Windows NT 5.1) AppleWebKit/535.1...</td>\n",
       "      <td>US</td>\n",
       "      <td>0.0</td>\n",
       "      <td>America/Chicago</td>\n",
       "      <td>OK</td>\n",
       "      <td>jQLtP4</td>\n",
       "      <td>jQLtP4</td>\n",
       "      <td>bitly</td>\n",
       "      <td>en-US,en;q=0.8</td>\n",
       "      <td>1.usa.gov</td>\n",
       "      <td>http://www.facebook.com/l.php?u=http%3A%2F%2F1...</td>\n",
       "      <td>http://www.okc.gov/PublicNotificationSystem/Fo...</td>\n",
       "      <td>1.331927e+09</td>\n",
       "      <td>1.307530e+09</td>\n",
       "      <td>Oklahoma City</td>\n",
       "      <td>[35.4715, -97.518997]</td>\n",
       "      <td>NaN</td>\n",
       "      <td>NaN</td>\n",
       "      <td>Windows</td>\n",
       "    </tr>\n",
       "    <tr>\n",
       "      <th>3557</th>\n",
       "      <td>GoogleMaps/RochesterNY</td>\n",
       "      <td>US</td>\n",
       "      <td>0.0</td>\n",
       "      <td>America/Denver</td>\n",
       "      <td>UT</td>\n",
       "      <td>mwszkS</td>\n",
       "      <td>mwszkS</td>\n",
       "      <td>bitly</td>\n",
       "      <td>NaN</td>\n",
       "      <td>j.mp</td>\n",
       "      <td>http://www.AwareMap.com/</td>\n",
       "      <td>http://www.monroecounty.gov/etc/911/rss.php</td>\n",
       "      <td>1.331927e+09</td>\n",
       "      <td>1.308262e+09</td>\n",
       "      <td>Provo</td>\n",
       "      <td>[40.218102, -111.613297]</td>\n",
       "      <td>NaN</td>\n",
       "      <td>NaN</td>\n",
       "      <td>Not Windows</td>\n",
       "    </tr>\n",
       "    <tr>\n",
       "      <th>3558</th>\n",
       "      <td>GoogleProducer</td>\n",
       "      <td>US</td>\n",
       "      <td>0.0</td>\n",
       "      <td>America/Los_Angeles</td>\n",
       "      <td>CA</td>\n",
       "      <td>zjtI4X</td>\n",
       "      <td>zjtI4X</td>\n",
       "      <td>bitly</td>\n",
       "      <td>NaN</td>\n",
       "      <td>1.usa.gov</td>\n",
       "      <td>direct</td>\n",
       "      <td>http://www.ahrq.gov/qual/qitoolkit/</td>\n",
       "      <td>1.331927e+09</td>\n",
       "      <td>1.327529e+09</td>\n",
       "      <td>Mountain View</td>\n",
       "      <td>[37.419201, -122.057404]</td>\n",
       "      <td>NaN</td>\n",
       "      <td>NaN</td>\n",
       "      <td>Not Windows</td>\n",
       "    </tr>\n",
       "    <tr>\n",
       "      <th>3559</th>\n",
       "      <td>Mozilla/4.0 (compatible; MSIE 8.0; Windows NT ...</td>\n",
       "      <td>US</td>\n",
       "      <td>0.0</td>\n",
       "      <td>America/New_York</td>\n",
       "      <td>VA</td>\n",
       "      <td>qxKrTK</td>\n",
       "      <td>qxKrTK</td>\n",
       "      <td>bitly</td>\n",
       "      <td>en-US</td>\n",
       "      <td>1.usa.gov</td>\n",
       "      <td>http://t.co/OEEEvwjU</td>\n",
       "      <td>http://herndon-va.gov/Content/public_safety/Pu...</td>\n",
       "      <td>1.331927e+09</td>\n",
       "      <td>1.312898e+09</td>\n",
       "      <td>Mc Lean</td>\n",
       "      <td>[38.935799, -77.162102]</td>\n",
       "      <td>NaN</td>\n",
       "      <td>NaN</td>\n",
       "      <td>Windows</td>\n",
       "    </tr>\n",
       "  </tbody>\n",
       "</table>\n",
       "<p>3440 rows × 19 columns</p>\n",
       "</div>"
      ],
      "text/plain": [
       "                                                      a   c   nk  \\\n",
       "0     Mozilla/5.0 (Windows NT 6.1; WOW64) AppleWebKi...  US  1.0   \n",
       "1                                GoogleMaps/RochesterNY  US  0.0   \n",
       "2     Mozilla/4.0 (compatible; MSIE 8.0; Windows NT ...  US  1.0   \n",
       "3     Mozilla/5.0 (Macintosh; Intel Mac OS X 10_6_8)...  BR  0.0   \n",
       "4     Mozilla/5.0 (Windows NT 6.1; WOW64) AppleWebKi...  US  0.0   \n",
       "...                                                 ...  ..  ...   \n",
       "3555  Mozilla/4.0 (compatible; MSIE 9.0; Windows NT ...  US  1.0   \n",
       "3556  Mozilla/5.0 (Windows NT 5.1) AppleWebKit/535.1...  US  0.0   \n",
       "3557                             GoogleMaps/RochesterNY  US  0.0   \n",
       "3558                                     GoogleProducer  US  0.0   \n",
       "3559  Mozilla/4.0 (compatible; MSIE 8.0; Windows NT ...  US  0.0   \n",
       "\n",
       "                       tz  gr       g       h             l              al  \\\n",
       "0        America/New_York  MA  A6qOVH  wfLQtf       orofrog  en-US,en;q=0.8   \n",
       "1          America/Denver  UT  mwszkS  mwszkS         bitly             NaN   \n",
       "2        America/New_York  DC  xxr3Qb  xxr3Qb         bitly           en-US   \n",
       "3       America/Sao_Paulo  27  zCaLwp  zUtuOu      alelex88           pt-br   \n",
       "4        America/New_York  MA  9b6kNl  9b6kNl         bitly  en-US,en;q=0.8   \n",
       "...                   ...  ..     ...     ...           ...             ...   \n",
       "3555     America/New_York  NJ  e5SvKE  fqPSr9  tweetdeckapi              en   \n",
       "3556      America/Chicago  OK  jQLtP4  jQLtP4         bitly  en-US,en;q=0.8   \n",
       "3557       America/Denver  UT  mwszkS  mwszkS         bitly             NaN   \n",
       "3558  America/Los_Angeles  CA  zjtI4X  zjtI4X         bitly             NaN   \n",
       "3559     America/New_York  VA  qxKrTK  qxKrTK         bitly           en-US   \n",
       "\n",
       "             hh                                                  r  \\\n",
       "0     1.usa.gov  http://www.facebook.com/l/7AQEFzjSi/1.usa.gov/...   \n",
       "1          j.mp                           http://www.AwareMap.com/   \n",
       "2     1.usa.gov                               http://t.co/03elZC4Q   \n",
       "3     1.usa.gov                                             direct   \n",
       "4        bit.ly                http://www.shrewsbury-ma.gov/selco/   \n",
       "...         ...                                                ...   \n",
       "3555  1.usa.gov                                             direct   \n",
       "3556  1.usa.gov  http://www.facebook.com/l.php?u=http%3A%2F%2F1...   \n",
       "3557       j.mp                           http://www.AwareMap.com/   \n",
       "3558  1.usa.gov                                             direct   \n",
       "3559  1.usa.gov                               http://t.co/OEEEvwjU   \n",
       "\n",
       "                                                      u             t  \\\n",
       "0           http://www.ncbi.nlm.nih.gov/pubmed/22415991  1.331923e+09   \n",
       "1           http://www.monroecounty.gov/etc/911/rss.php  1.331923e+09   \n",
       "2     http://boxer.senate.gov/en/press/releases/0316...  1.331923e+09   \n",
       "3               http://apod.nasa.gov/apod/ap120312.html  1.331923e+09   \n",
       "4     http://www.shrewsbury-ma.gov/egov/gallery/1341...  1.331923e+09   \n",
       "...                                                 ...           ...   \n",
       "3555  http://www.fda.gov/AdvisoryCommittees/Committe...  1.331927e+09   \n",
       "3556  http://www.okc.gov/PublicNotificationSystem/Fo...  1.331927e+09   \n",
       "3557        http://www.monroecounty.gov/etc/911/rss.php  1.331927e+09   \n",
       "3558                http://www.ahrq.gov/qual/qitoolkit/  1.331927e+09   \n",
       "3559  http://herndon-va.gov/Content/public_safety/Pu...  1.331927e+09   \n",
       "\n",
       "                hc             cy                        ll  _heartbeat_   kw  \\\n",
       "0     1.331823e+09        Danvers   [42.576698, -70.954903]          NaN  NaN   \n",
       "1     1.308262e+09          Provo  [40.218102, -111.613297]          NaN  NaN   \n",
       "2     1.331920e+09     Washington     [38.9007, -77.043098]          NaN  NaN   \n",
       "3     1.331923e+09           Braz  [-23.549999, -46.616699]          NaN  NaN   \n",
       "4     1.273672e+09     Shrewsbury   [42.286499, -71.714699]          NaN  NaN   \n",
       "...            ...            ...                       ...          ...  ...   \n",
       "3555  1.301298e+09        Paramus         [40.9445, -74.07]          NaN  NaN   \n",
       "3556  1.307530e+09  Oklahoma City     [35.4715, -97.518997]          NaN  NaN   \n",
       "3557  1.308262e+09          Provo  [40.218102, -111.613297]          NaN  NaN   \n",
       "3558  1.327529e+09  Mountain View  [37.419201, -122.057404]          NaN  NaN   \n",
       "3559  1.312898e+09        Mc Lean   [38.935799, -77.162102]          NaN  NaN   \n",
       "\n",
       "               os  \n",
       "0         Windows  \n",
       "1     Not Windows  \n",
       "2         Windows  \n",
       "3     Not Windows  \n",
       "4         Windows  \n",
       "...           ...  \n",
       "3555      Windows  \n",
       "3556      Windows  \n",
       "3557  Not Windows  \n",
       "3558  Not Windows  \n",
       "3559      Windows  \n",
       "\n",
       "[3440 rows x 19 columns]"
      ]
     },
     "execution_count": 413,
     "metadata": {},
     "output_type": "execute_result"
    }
   ],
   "source": [
    "# Group by 'os' and timezoe\n",
    "df2 = df[df.a.notnull()] # Remember this is how to filter on values in a column\n",
    "df2['os'] = np.where(df2.a.str.contains('Windows'),\n",
    "                    'Windows', 'Not Windows') "
   ]
  },
  {
   "cell_type": "code",
   "execution_count": 412,
   "id": "7edfd3ac",
   "metadata": {},
   "outputs": [
    {
     "data": {
      "image/png": "[encoded data removed]",
      "text/plain": [
       "<Figure size 720x432 with 1 Axes>"
      ]
     },
     "metadata": {
      "needs_background": "light"
     },
     "output_type": "display_data"
    }
   ],
   "source": [
    "by_os = df2.groupby(['tz', 'os']).size()\n",
    "by_os = by_os.unstack().fillna(0)# sum by timezoe level\n",
    "top_10 = by_os.sum(1).nlargest(10).index\n",
    "top_by_os = by_os.loc[top_10].stack()\n",
    "top_by_os.name = 'total'\n",
    "top_by_os = top_by_os.reset_index()\n",
    "\n",
    "sns.barplot(data=top_by_os, x='tz', y='total', hue='os')\n",
    "plt.xticks(rotation=90)\n",
    "for spine in plt.axes().spines:\n",
    "    plt.axes().spines[spine].set_visible(False)\n",
    "\n",
    "# indexer = tz_sums.sum(1).sort_values().argsort() # Need to figure out what wrong here\n",
    "# res = tz_sums.take(indexer[-10:]).stack().reset_index()\n",
    "# res.rename({0:'total'}, axis=1, inplace=True)\n",
    "# # # ^ don't have to do this crap can just use pandas nlargest method\n",
    "# # tz_sums.sum(1).nlargest(10)"
   ]
  },
  {
   "cell_type": "code",
   "execution_count": 429,
   "id": "36f256aa",
   "metadata": {},
   "outputs": [
    {
     "data": {
      "image/png": "[encoded data removed]",
      "text/plain": [
       "<Figure size 720x432 with 1 Axes>"
      ]
     },
     "metadata": {
      "needs_background": "light"
     },
     "output_type": "display_data"
    }
   ],
   "source": [
    "# Normalize the values to sum of timezoe to see relative percentages\n",
    "g = top_by_os.groupby('tz')\n",
    "top_by_os['relative'] = top_by_os.total / g.total.transform('sum')\n",
    "sns.barplot(data=top_by_os, x='tz', y='relative', hue='os')\n",
    "plt.xticks(rotation=90)\n",
    "for spine in plt.axes().spines:\n",
    "    plt.axes().spines[spine].set_visible(False)"
   ]
  },
  {
   "cell_type": "markdown",
   "id": "110ecd32",
   "metadata": {},
   "source": [
    "## 14.2 MovieLens 1M Dataset"
   ]
  },
  {
   "cell_type": "code",
   "execution_count": 452,
   "id": "7d5fea54",
   "metadata": {},
   "outputs": [],
   "source": [
    "pd.options.display.max_rows = 20"
   ]
  },
  {
   "cell_type": "code",
   "execution_count": 449,
   "id": "18572a85",
   "metadata": {},
   "outputs": [],
   "source": [
    "# Make display smaller\n",
    "\n",
    "unames = ['user_id', 'gender', 'age', 'occupation', 'zip']\n",
    "users = pd.read_table('data/users.dat',\n",
    "                      sep='::',\n",
    "                      header=None, # Need to specify bc data has no column headers\n",
    "                     names=unames\n",
    "                      ) \n",
    "\n",
    "rnames = ['user_id', 'movie_id', 'rating', 'timestamp']\n",
    "ratings = pd.read_table('data/ratings.dat',\n",
    "                       sep='::',\n",
    "                       header=None,\n",
    "                       names=rnames\n",
    "                       )\n",
    "\n",
    "mnames = ['movie_id', 'title', 'genres']\n",
    "movies = pd.read_table('data/movies.dat',\n",
    "                      sep='::',\n",
    "                      header=None,\n",
    "                      names=mnames\n",
    "                      )\n"
   ]
  },
  {
   "cell_type": "code",
   "execution_count": 454,
   "id": "a7a8de43",
   "metadata": {},
   "outputs": [
    {
     "data": {
      "text/html": [
       "<div>\n",
       "<style scoped>\n",
       "    .dataframe tbody tr th:only-of-type {\n",
       "        vertical-align: middle;\n",
       "    }\n",
       "\n",
       "    .dataframe tbody tr th {\n",
       "        vertical-align: top;\n",
       "    }\n",
       "\n",
       "    .dataframe thead th {\n",
       "        text-align: right;\n",
       "    }\n",
       "</style>\n",
       "<table border=\"1\" class=\"dataframe\">\n",
       "  <thead>\n",
       "    <tr style=\"text-align: right;\">\n",
       "      <th></th>\n",
       "      <th>user_id</th>\n",
       "      <th>gender</th>\n",
       "      <th>age</th>\n",
       "      <th>occupation</th>\n",
       "      <th>zip</th>\n",
       "      <th>movie_id</th>\n",
       "      <th>rating</th>\n",
       "      <th>timestamp</th>\n",
       "      <th>title</th>\n",
       "      <th>genres</th>\n",
       "    </tr>\n",
       "  </thead>\n",
       "  <tbody>\n",
       "    <tr>\n",
       "      <th>0</th>\n",
       "      <td>1</td>\n",
       "      <td>F</td>\n",
       "      <td>1</td>\n",
       "      <td>10</td>\n",
       "      <td>48067</td>\n",
       "      <td>1193</td>\n",
       "      <td>5</td>\n",
       "      <td>978300760</td>\n",
       "      <td>One Flew Over the Cuckoo's Nest (1975)</td>\n",
       "      <td>Drama</td>\n",
       "    </tr>\n",
       "    <tr>\n",
       "      <th>1</th>\n",
       "      <td>2</td>\n",
       "      <td>M</td>\n",
       "      <td>56</td>\n",
       "      <td>16</td>\n",
       "      <td>70072</td>\n",
       "      <td>1193</td>\n",
       "      <td>5</td>\n",
       "      <td>978298413</td>\n",
       "      <td>One Flew Over the Cuckoo's Nest (1975)</td>\n",
       "      <td>Drama</td>\n",
       "    </tr>\n",
       "    <tr>\n",
       "      <th>2</th>\n",
       "      <td>12</td>\n",
       "      <td>M</td>\n",
       "      <td>25</td>\n",
       "      <td>12</td>\n",
       "      <td>32793</td>\n",
       "      <td>1193</td>\n",
       "      <td>4</td>\n",
       "      <td>978220179</td>\n",
       "      <td>One Flew Over the Cuckoo's Nest (1975)</td>\n",
       "      <td>Drama</td>\n",
       "    </tr>\n",
       "    <tr>\n",
       "      <th>3</th>\n",
       "      <td>15</td>\n",
       "      <td>M</td>\n",
       "      <td>25</td>\n",
       "      <td>7</td>\n",
       "      <td>22903</td>\n",
       "      <td>1193</td>\n",
       "      <td>4</td>\n",
       "      <td>978199279</td>\n",
       "      <td>One Flew Over the Cuckoo's Nest (1975)</td>\n",
       "      <td>Drama</td>\n",
       "    </tr>\n",
       "    <tr>\n",
       "      <th>4</th>\n",
       "      <td>17</td>\n",
       "      <td>M</td>\n",
       "      <td>50</td>\n",
       "      <td>1</td>\n",
       "      <td>95350</td>\n",
       "      <td>1193</td>\n",
       "      <td>5</td>\n",
       "      <td>978158471</td>\n",
       "      <td>One Flew Over the Cuckoo's Nest (1975)</td>\n",
       "      <td>Drama</td>\n",
       "    </tr>\n",
       "    <tr>\n",
       "      <th>...</th>\n",
       "      <td>...</td>\n",
       "      <td>...</td>\n",
       "      <td>...</td>\n",
       "      <td>...</td>\n",
       "      <td>...</td>\n",
       "      <td>...</td>\n",
       "      <td>...</td>\n",
       "      <td>...</td>\n",
       "      <td>...</td>\n",
       "      <td>...</td>\n",
       "    </tr>\n",
       "    <tr>\n",
       "      <th>1000204</th>\n",
       "      <td>5949</td>\n",
       "      <td>M</td>\n",
       "      <td>18</td>\n",
       "      <td>17</td>\n",
       "      <td>47901</td>\n",
       "      <td>2198</td>\n",
       "      <td>5</td>\n",
       "      <td>958846401</td>\n",
       "      <td>Modulations (1998)</td>\n",
       "      <td>Documentary</td>\n",
       "    </tr>\n",
       "    <tr>\n",
       "      <th>1000205</th>\n",
       "      <td>5675</td>\n",
       "      <td>M</td>\n",
       "      <td>35</td>\n",
       "      <td>14</td>\n",
       "      <td>30030</td>\n",
       "      <td>2703</td>\n",
       "      <td>3</td>\n",
       "      <td>976029116</td>\n",
       "      <td>Broken Vessels (1998)</td>\n",
       "      <td>Drama</td>\n",
       "    </tr>\n",
       "    <tr>\n",
       "      <th>1000206</th>\n",
       "      <td>5780</td>\n",
       "      <td>M</td>\n",
       "      <td>18</td>\n",
       "      <td>17</td>\n",
       "      <td>92886</td>\n",
       "      <td>2845</td>\n",
       "      <td>1</td>\n",
       "      <td>958153068</td>\n",
       "      <td>White Boys (1999)</td>\n",
       "      <td>Drama</td>\n",
       "    </tr>\n",
       "    <tr>\n",
       "      <th>1000207</th>\n",
       "      <td>5851</td>\n",
       "      <td>F</td>\n",
       "      <td>18</td>\n",
       "      <td>20</td>\n",
       "      <td>55410</td>\n",
       "      <td>3607</td>\n",
       "      <td>5</td>\n",
       "      <td>957756608</td>\n",
       "      <td>One Little Indian (1973)</td>\n",
       "      <td>Comedy|Drama|Western</td>\n",
       "    </tr>\n",
       "    <tr>\n",
       "      <th>1000208</th>\n",
       "      <td>5938</td>\n",
       "      <td>M</td>\n",
       "      <td>25</td>\n",
       "      <td>1</td>\n",
       "      <td>35401</td>\n",
       "      <td>2909</td>\n",
       "      <td>4</td>\n",
       "      <td>957273353</td>\n",
       "      <td>Five Wives, Three Secretaries and Me (1998)</td>\n",
       "      <td>Documentary</td>\n",
       "    </tr>\n",
       "  </tbody>\n",
       "</table>\n",
       "<p>1000209 rows × 10 columns</p>\n",
       "</div>"
      ],
      "text/plain": [
       "         user_id gender  age  occupation    zip  movie_id  rating  timestamp  \\\n",
       "0              1      F    1          10  48067      1193       5  978300760   \n",
       "1              2      M   56          16  70072      1193       5  978298413   \n",
       "2             12      M   25          12  32793      1193       4  978220179   \n",
       "3             15      M   25           7  22903      1193       4  978199279   \n",
       "4             17      M   50           1  95350      1193       5  978158471   \n",
       "...          ...    ...  ...         ...    ...       ...     ...        ...   \n",
       "1000204     5949      M   18          17  47901      2198       5  958846401   \n",
       "1000205     5675      M   35          14  30030      2703       3  976029116   \n",
       "1000206     5780      M   18          17  92886      2845       1  958153068   \n",
       "1000207     5851      F   18          20  55410      3607       5  957756608   \n",
       "1000208     5938      M   25           1  35401      2909       4  957273353   \n",
       "\n",
       "                                               title                genres  \n",
       "0             One Flew Over the Cuckoo's Nest (1975)                 Drama  \n",
       "1             One Flew Over the Cuckoo's Nest (1975)                 Drama  \n",
       "2             One Flew Over the Cuckoo's Nest (1975)                 Drama  \n",
       "3             One Flew Over the Cuckoo's Nest (1975)                 Drama  \n",
       "4             One Flew Over the Cuckoo's Nest (1975)                 Drama  \n",
       "...                                              ...                   ...  \n",
       "1000204                           Modulations (1998)           Documentary  \n",
       "1000205                        Broken Vessels (1998)                 Drama  \n",
       "1000206                            White Boys (1999)                 Drama  \n",
       "1000207                     One Little Indian (1973)  Comedy|Drama|Western  \n",
       "1000208  Five Wives, Three Secretaries and Me (1998)           Documentary  \n",
       "\n",
       "[1000209 rows x 10 columns]"
      ]
     },
     "execution_count": 454,
     "metadata": {},
     "output_type": "execute_result"
    }
   ],
   "source": [
    "db = pd.merge(pd.merge(users, ratings), movies) # nested merge :fire:\n",
    "db"
   ]
  },
  {
   "cell_type": "code",
   "execution_count": 716,
   "id": "7cce048f",
   "metadata": {},
   "outputs": [
    {
     "data": {
      "text/html": [
       "<div>\n",
       "<style scoped>\n",
       "    .dataframe tbody tr th:only-of-type {\n",
       "        vertical-align: middle;\n",
       "    }\n",
       "\n",
       "    .dataframe tbody tr th {\n",
       "        vertical-align: top;\n",
       "    }\n",
       "\n",
       "    .dataframe thead th {\n",
       "        text-align: right;\n",
       "    }\n",
       "</style>\n",
       "<table border=\"1\" class=\"dataframe\">\n",
       "  <thead>\n",
       "    <tr style=\"text-align: right;\">\n",
       "      <th></th>\n",
       "      <th>title</th>\n",
       "      <th>rating</th>\n",
       "      <th>size</th>\n",
       "    </tr>\n",
       "  </thead>\n",
       "  <tbody>\n",
       "    <tr>\n",
       "      <th>2901</th>\n",
       "      <td>Schindler's List (1993)</td>\n",
       "      <td>4.510417</td>\n",
       "      <td>2304</td>\n",
       "    </tr>\n",
       "    <tr>\n",
       "      <th>3504</th>\n",
       "      <td>Usual Suspects, The (1995)</td>\n",
       "      <td>4.517106</td>\n",
       "      <td>1783</td>\n",
       "    </tr>\n",
       "    <tr>\n",
       "      <th>713</th>\n",
       "      <td>Close Shave, A (1995)</td>\n",
       "      <td>4.520548</td>\n",
       "      <td>657</td>\n",
       "    </tr>\n",
       "    <tr>\n",
       "      <th>1354</th>\n",
       "      <td>Godfather, The (1972)</td>\n",
       "      <td>4.524966</td>\n",
       "      <td>2223</td>\n",
       "    </tr>\n",
       "    <tr>\n",
       "      <th>2970</th>\n",
       "      <td>Shawshank Redemption, The (1994)</td>\n",
       "      <td>4.554558</td>\n",
       "      <td>2227</td>\n",
       "    </tr>\n",
       "    <tr>\n",
       "      <th>2940</th>\n",
       "      <td>Seven Samurai (The Magnificent Seven) (Shichin...</td>\n",
       "      <td>4.560510</td>\n",
       "      <td>628</td>\n",
       "    </tr>\n",
       "    <tr>\n",
       "      <th>2883</th>\n",
       "      <td>Sanjuro (1962)</td>\n",
       "      <td>4.608696</td>\n",
       "      <td>69</td>\n",
       "    </tr>\n",
       "    <tr>\n",
       "      <th>199</th>\n",
       "      <td>Apple, The (Sib) (1998)</td>\n",
       "      <td>4.666667</td>\n",
       "      <td>9</td>\n",
       "    </tr>\n",
       "    <tr>\n",
       "      <th>1870</th>\n",
       "      <td>Lamerica (1994)</td>\n",
       "      <td>4.750000</td>\n",
       "      <td>8</td>\n",
       "    </tr>\n",
       "    <tr>\n",
       "      <th>1622</th>\n",
       "      <td>I Am Cuba (Soy Cuba/Ya Kuba) (1964)</td>\n",
       "      <td>4.800000</td>\n",
       "      <td>5</td>\n",
       "    </tr>\n",
       "    <tr>\n",
       "      <th>2903</th>\n",
       "      <td>Schlafes Bruder (Brother of Sleep) (1995)</td>\n",
       "      <td>5.000000</td>\n",
       "      <td>1</td>\n",
       "    </tr>\n",
       "    <tr>\n",
       "      <th>2453</th>\n",
       "      <td>One Little Indian (1973)</td>\n",
       "      <td>5.000000</td>\n",
       "      <td>1</td>\n",
       "    </tr>\n",
       "    <tr>\n",
       "      <th>249</th>\n",
       "      <td>Baby, The (1973)</td>\n",
       "      <td>5.000000</td>\n",
       "      <td>1</td>\n",
       "    </tr>\n",
       "    <tr>\n",
       "      <th>407</th>\n",
       "      <td>Bittersweet Motel (2000)</td>\n",
       "      <td>5.000000</td>\n",
       "      <td>1</td>\n",
       "    </tr>\n",
       "    <tr>\n",
       "      <th>3087</th>\n",
       "      <td>Song of Freedom (1936)</td>\n",
       "      <td>5.000000</td>\n",
       "      <td>1</td>\n",
       "    </tr>\n",
       "    <tr>\n",
       "      <th>1203</th>\n",
       "      <td>Follow the Bitch (1998)</td>\n",
       "      <td>5.000000</td>\n",
       "      <td>1</td>\n",
       "    </tr>\n",
       "    <tr>\n",
       "      <th>3044</th>\n",
       "      <td>Smashing Time (1967)</td>\n",
       "      <td>5.000000</td>\n",
       "      <td>2</td>\n",
       "    </tr>\n",
       "    <tr>\n",
       "      <th>3477</th>\n",
       "      <td>Ulysses (Ulisse) (1954)</td>\n",
       "      <td>5.000000</td>\n",
       "      <td>1</td>\n",
       "    </tr>\n",
       "    <tr>\n",
       "      <th>2025</th>\n",
       "      <td>Lured (1947)</td>\n",
       "      <td>5.000000</td>\n",
       "      <td>1</td>\n",
       "    </tr>\n",
       "    <tr>\n",
       "      <th>1297</th>\n",
       "      <td>Gate of Heavenly Peace, The (1995)</td>\n",
       "      <td>5.000000</td>\n",
       "      <td>3</td>\n",
       "    </tr>\n",
       "  </tbody>\n",
       "</table>\n",
       "</div>"
      ],
      "text/plain": [
       "                                                  title    rating  size\n",
       "2901                            Schindler's List (1993)  4.510417  2304\n",
       "3504                         Usual Suspects, The (1995)  4.517106  1783\n",
       "713                               Close Shave, A (1995)  4.520548   657\n",
       "1354                              Godfather, The (1972)  4.524966  2223\n",
       "2970                   Shawshank Redemption, The (1994)  4.554558  2227\n",
       "2940  Seven Samurai (The Magnificent Seven) (Shichin...  4.560510   628\n",
       "2883                                     Sanjuro (1962)  4.608696    69\n",
       "199                             Apple, The (Sib) (1998)  4.666667     9\n",
       "1870                                    Lamerica (1994)  4.750000     8\n",
       "1622                I Am Cuba (Soy Cuba/Ya Kuba) (1964)  4.800000     5\n",
       "2903          Schlafes Bruder (Brother of Sleep) (1995)  5.000000     1\n",
       "2453                           One Little Indian (1973)  5.000000     1\n",
       "249                                    Baby, The (1973)  5.000000     1\n",
       "407                            Bittersweet Motel (2000)  5.000000     1\n",
       "3087                             Song of Freedom (1936)  5.000000     1\n",
       "1203                            Follow the Bitch (1998)  5.000000     1\n",
       "3044                               Smashing Time (1967)  5.000000     2\n",
       "3477                            Ulysses (Ulisse) (1954)  5.000000     1\n",
       "2025                                       Lured (1947)  5.000000     1\n",
       "1297                 Gate of Heavenly Peace, The (1995)  5.000000     3"
      ]
     },
     "execution_count": 716,
     "metadata": {},
     "output_type": "execute_result"
    }
   ],
   "source": [
    "num_rat = db.groupby('title').size()\n",
    "num_rat.name = 'size'\n",
    "num_rat = num_rat.to_frame().reset_index()\n",
    "avg_rat = db.groupby('title')['title', 'rating'].mean('rating').reset_index() # Notice how to select columns on grby\n",
    "pd.merge(avg_rat, num_rat).sort_values('rating')[-20:]"
   ]
  },
  {
   "cell_type": "code",
   "execution_count": 701,
   "id": "10fb6386",
   "metadata": {},
   "outputs": [
    {
     "data": {
      "text/html": [
       "<div>\n",
       "<style scoped>\n",
       "    .dataframe tbody tr th:only-of-type {\n",
       "        vertical-align: middle;\n",
       "    }\n",
       "\n",
       "    .dataframe tbody tr th {\n",
       "        vertical-align: top;\n",
       "    }\n",
       "\n",
       "    .dataframe thead th {\n",
       "        text-align: right;\n",
       "    }\n",
       "</style>\n",
       "<table border=\"1\" class=\"dataframe\">\n",
       "  <thead>\n",
       "    <tr style=\"text-align: right;\">\n",
       "      <th>gender</th>\n",
       "      <th>F</th>\n",
       "      <th>M</th>\n",
       "    </tr>\n",
       "    <tr>\n",
       "      <th>genres</th>\n",
       "      <th></th>\n",
       "      <th></th>\n",
       "    </tr>\n",
       "  </thead>\n",
       "  <tbody>\n",
       "    <tr>\n",
       "      <th>Comedy|Film-Noir|Thriller</th>\n",
       "      <td>1.000000</td>\n",
       "      <td>2.250000</td>\n",
       "    </tr>\n",
       "    <tr>\n",
       "      <th>Action|Adventure|Children's</th>\n",
       "      <td>1.250000</td>\n",
       "      <td>1.325000</td>\n",
       "    </tr>\n",
       "    <tr>\n",
       "      <th>Action|Adventure|Children's|Fantasy</th>\n",
       "      <td>1.857143</td>\n",
       "      <td>2.135135</td>\n",
       "    </tr>\n",
       "    <tr>\n",
       "      <th>Action|Children's</th>\n",
       "      <td>1.861538</td>\n",
       "      <td>1.708696</td>\n",
       "    </tr>\n",
       "    <tr>\n",
       "      <th>Action|Adventure|Children's|Sci-Fi</th>\n",
       "      <td>2.163636</td>\n",
       "      <td>1.820339</td>\n",
       "    </tr>\n",
       "    <tr>\n",
       "      <th>...</th>\n",
       "      <td>...</td>\n",
       "      <td>...</td>\n",
       "    </tr>\n",
       "    <tr>\n",
       "      <th>Sci-Fi|War</th>\n",
       "      <td>4.376623</td>\n",
       "      <td>4.464789</td>\n",
       "    </tr>\n",
       "    <tr>\n",
       "      <th>Film-Noir|Romance|Thriller</th>\n",
       "      <td>4.448718</td>\n",
       "      <td>4.211073</td>\n",
       "    </tr>\n",
       "    <tr>\n",
       "      <th>Animation</th>\n",
       "      <td>4.533333</td>\n",
       "      <td>4.353107</td>\n",
       "    </tr>\n",
       "    <tr>\n",
       "      <th>Animation|Comedy|Thriller</th>\n",
       "      <td>4.550802</td>\n",
       "      <td>4.445110</td>\n",
       "    </tr>\n",
       "    <tr>\n",
       "      <th>Fantasy</th>\n",
       "      <td>NaN</td>\n",
       "      <td>4.000000</td>\n",
       "    </tr>\n",
       "  </tbody>\n",
       "</table>\n",
       "<p>301 rows × 2 columns</p>\n",
       "</div>"
      ],
      "text/plain": [
       "gender                                      F         M\n",
       "genres                                                 \n",
       "Comedy|Film-Noir|Thriller            1.000000  2.250000\n",
       "Action|Adventure|Children's          1.250000  1.325000\n",
       "Action|Adventure|Children's|Fantasy  1.857143  2.135135\n",
       "Action|Children's                    1.861538  1.708696\n",
       "Action|Adventure|Children's|Sci-Fi   2.163636  1.820339\n",
       "...                                       ...       ...\n",
       "Sci-Fi|War                           4.376623  4.464789\n",
       "Film-Noir|Romance|Thriller           4.448718  4.211073\n",
       "Animation                            4.533333  4.353107\n",
       "Animation|Comedy|Thriller            4.550802  4.445110\n",
       "Fantasy                                   NaN  4.000000\n",
       "\n",
       "[301 rows x 2 columns]"
      ]
     },
     "execution_count": 701,
     "metadata": {},
     "output_type": "execute_result"
    }
   ],
   "source": [
    "# Use pivot table to get the mean by gender\n",
    "genre_ratings = db.pivot_table('rating', index='genres',\n",
    "              columns='gender', aggfunc='mean').sort_values(by='F')\n",
    "genre_ratings"
   ]
  },
  {
   "cell_type": "code",
   "execution_count": 841,
   "id": "e9dbbbed",
   "metadata": {},
   "outputs": [],
   "source": [
    "# Make is of title with more than 250 rating\n",
    "genre_by_size = db.groupby('genres').size()\n",
    "active_genres = genre_by_size[genre_by_size >= 250]"
   ]
  },
  {
   "cell_type": "code",
   "execution_count": 842,
   "id": "8f41665c",
   "metadata": {},
   "outputs": [
    {
     "data": {
      "text/plain": [
       "([], [])"
      ]
     },
     "execution_count": 842,
     "metadata": {},
     "output_type": "execute_result"
    },
    {
     "data": {
      "image/png": "[encoded data removed]",
      "text/plain": [
       "<Figure size 1440x432 with 1 Axes>"
      ]
     },
     "metadata": {
      "needs_background": "light"
     },
     "output_type": "display_data"
    }
   ],
   "source": [
    "active_genres.sort_values().plot(kind='bar', figsize=(20,6))\n",
    "plt.xticks([])"
   ]
  },
  {
   "cell_type": "code",
   "execution_count": 704,
   "id": "5b96fe71",
   "metadata": {},
   "outputs": [],
   "source": [
    "# Filter by genres with more than 250 ratings\n",
    "active_genres = active_genres.index\n",
    "genre_ratings = genre_ratings.loc[active_genres]"
   ]
  },
  {
   "cell_type": "code",
   "execution_count": 712,
   "id": "e2bc3a4c",
   "metadata": {},
   "outputs": [
    {
     "data": {
      "text/html": [
       "<div>\n",
       "<style scoped>\n",
       "    .dataframe tbody tr th:only-of-type {\n",
       "        vertical-align: middle;\n",
       "    }\n",
       "\n",
       "    .dataframe tbody tr th {\n",
       "        vertical-align: top;\n",
       "    }\n",
       "\n",
       "    .dataframe thead th {\n",
       "        text-align: right;\n",
       "    }\n",
       "</style>\n",
       "<table border=\"1\" class=\"dataframe\">\n",
       "  <thead>\n",
       "    <tr style=\"text-align: right;\">\n",
       "      <th>gender</th>\n",
       "      <th>F</th>\n",
       "      <th>M</th>\n",
       "      <th>dif</th>\n",
       "    </tr>\n",
       "    <tr>\n",
       "      <th>genres</th>\n",
       "      <th></th>\n",
       "      <th></th>\n",
       "      <th></th>\n",
       "    </tr>\n",
       "  </thead>\n",
       "  <tbody>\n",
       "    <tr>\n",
       "      <th>Action|Adventure|Comedy|Horror</th>\n",
       "      <td>3.297297</td>\n",
       "      <td>3.909283</td>\n",
       "      <td>-0.611985</td>\n",
       "    </tr>\n",
       "    <tr>\n",
       "      <th>Action|Western</th>\n",
       "      <td>3.541667</td>\n",
       "      <td>4.144167</td>\n",
       "      <td>-0.602500</td>\n",
       "    </tr>\n",
       "    <tr>\n",
       "      <th>Action|Comedy|Crime|Horror|Thriller</th>\n",
       "      <td>2.735714</td>\n",
       "      <td>3.232558</td>\n",
       "      <td>-0.496844</td>\n",
       "    </tr>\n",
       "    <tr>\n",
       "      <th>Adventure|Animation|Sci-Fi|Thriller</th>\n",
       "      <td>3.511111</td>\n",
       "      <td>3.980344</td>\n",
       "      <td>-0.469233</td>\n",
       "    </tr>\n",
       "    <tr>\n",
       "      <th>Action|Comedy|War</th>\n",
       "      <td>2.873016</td>\n",
       "      <td>3.291971</td>\n",
       "      <td>-0.418955</td>\n",
       "    </tr>\n",
       "    <tr>\n",
       "      <th>...</th>\n",
       "      <td>...</td>\n",
       "      <td>...</td>\n",
       "      <td>...</td>\n",
       "    </tr>\n",
       "    <tr>\n",
       "      <th>Musical|Romance|War</th>\n",
       "      <td>3.887850</td>\n",
       "      <td>3.445087</td>\n",
       "      <td>0.442764</td>\n",
       "    </tr>\n",
       "    <tr>\n",
       "      <th>Adventure|Children's|Comedy</th>\n",
       "      <td>3.046083</td>\n",
       "      <td>2.567901</td>\n",
       "      <td>0.478182</td>\n",
       "    </tr>\n",
       "    <tr>\n",
       "      <th>Comedy|Horror|Musical|Sci-Fi</th>\n",
       "      <td>3.673016</td>\n",
       "      <td>3.160131</td>\n",
       "      <td>0.512885</td>\n",
       "    </tr>\n",
       "    <tr>\n",
       "      <th>Children's|Musical</th>\n",
       "      <td>3.859504</td>\n",
       "      <td>3.286325</td>\n",
       "      <td>0.573179</td>\n",
       "    </tr>\n",
       "    <tr>\n",
       "      <th>Action|Comedy|Romance|Thriller</th>\n",
       "      <td>3.254717</td>\n",
       "      <td>2.578358</td>\n",
       "      <td>0.676359</td>\n",
       "    </tr>\n",
       "  </tbody>\n",
       "</table>\n",
       "<p>259 rows × 3 columns</p>\n",
       "</div>"
      ],
      "text/plain": [
       "gender                                      F         M       dif\n",
       "genres                                                           \n",
       "Action|Adventure|Comedy|Horror       3.297297  3.909283 -0.611985\n",
       "Action|Western                       3.541667  4.144167 -0.602500\n",
       "Action|Comedy|Crime|Horror|Thriller  2.735714  3.232558 -0.496844\n",
       "Adventure|Animation|Sci-Fi|Thriller  3.511111  3.980344 -0.469233\n",
       "Action|Comedy|War                    2.873016  3.291971 -0.418955\n",
       "...                                       ...       ...       ...\n",
       "Musical|Romance|War                  3.887850  3.445087  0.442764\n",
       "Adventure|Children's|Comedy          3.046083  2.567901  0.478182\n",
       "Comedy|Horror|Musical|Sci-Fi         3.673016  3.160131  0.512885\n",
       "Children's|Musical                   3.859504  3.286325  0.573179\n",
       "Action|Comedy|Romance|Thriller       3.254717  2.578358  0.676359\n",
       "\n",
       "[259 rows x 3 columns]"
      ]
     },
     "execution_count": 712,
     "metadata": {},
     "output_type": "execute_result"
    }
   ],
   "source": [
    "# Measureing the difference between male and female\n",
    "genre_ratings['dif'] = genre_ratings['F'] - genre_ratings['M']\n",
    "genre_ratings.sort_values(by='dif')"
   ]
  },
  {
   "cell_type": "code",
   "execution_count": 722,
   "id": "5bb5a86f",
   "metadata": {},
   "outputs": [
    {
     "data": {
      "text/plain": [
       "genres\n",
       "Fantasy|Sci-Fi                  1.183067\n",
       "Action|Comedy|Sci-Fi|War        1.185632\n",
       "Action|War                      1.191213\n",
       "Horror|Sci-Fi                   1.195728\n",
       "Action|Adventure|Sci-Fi|War     1.203245\n",
       "Children's                      1.207422\n",
       "Adventure|Children's|Sci-Fi     1.211616\n",
       "Comedy|Horror|Thriller          1.212956\n",
       "Action|Comedy|Fantasy           1.218889\n",
       "Comedy|Crime|Horror             1.222715\n",
       "Action|Adventure|Drama          1.223888\n",
       "Horror|Mystery|Thriller         1.226117\n",
       "Comedy|Musical|Romance          1.227628\n",
       "Sci-Fi                          1.239424\n",
       "Comedy|Drama|Sci-Fi             1.245533\n",
       "Horror|Thriller                 1.248948\n",
       "Action|Horror                   1.250906\n",
       "Comedy|Horror|Musical|Sci-Fi    1.260177\n",
       "Horror                          1.275224\n",
       "Action|Comedy|Musical|Sci-Fi    1.277695\n",
       "Name: rating, dtype: float64"
      ]
     },
     "execution_count": 722,
     "metadata": {},
     "output_type": "execute_result"
    }
   ],
   "source": [
    "# By most disagreement\n",
    "genre_std = db.groupby('genres')['rating'].std()\n",
    "genre_std = genre_std.loc[active_genres]\n",
    "genre_std.sort_values()[-20:]"
   ]
  },
  {
   "cell_type": "markdown",
   "id": "ff14c813",
   "metadata": {},
   "source": [
    "## 14.3 US Baby Names 1880-2010"
   ]
  },
  {
   "cell_type": "code",
   "execution_count": 724,
   "id": "c4b1fc59",
   "metadata": {},
   "outputs": [
    {
     "name": "stdout",
     "output_type": "stream",
     "text": [
      "Mary,F,7065\r",
      "\r\n",
      "Anna,F,2604\r",
      "\r\n",
      "Emma,F,2003\r",
      "\r\n",
      "Elizabeth,F,1939\r",
      "\r\n",
      "Minnie,F,1746\r",
      "\r\n",
      "Margaret,F,1578\r",
      "\r\n",
      "Ida,F,1472\r",
      "\r\n",
      "Alice,F,1414\r",
      "\r\n",
      "Bertha,F,1320\r",
      "\r\n",
      "Sarah,F,1288\r",
      "\r\n"
     ]
    }
   ],
   "source": [
    "!head data/names/yob1880.txt"
   ]
  },
  {
   "cell_type": "code",
   "execution_count": 805,
   "id": "42c47b14",
   "metadata": {},
   "outputs": [],
   "source": [
    "years = range(1880, 2022)\n",
    "pieces = []\n",
    "columns = ['name', 'sex', 'births']\n",
    "\n",
    "for year in years:\n",
    "    df = pd.read_csv(f'data/names/yob{year}.txt',names=columns)\n",
    "    df['year'] = year\n",
    "    pieces.append(df)\n",
    "\n",
    "names = pd.concat(pieces, ignore_index=True)\n"
   ]
  },
  {
   "cell_type": "code",
   "execution_count": 838,
   "id": "d2a7d009",
   "metadata": {},
   "outputs": [
    {
     "data": {
      "image/png": "[encoded data removed]",
      "text/plain": [
       "<Figure size 1440x432 with 1 Axes>"
      ]
     },
     "metadata": {
      "needs_background": "light"
     },
     "output_type": "display_data"
    }
   ],
   "source": [
    "fm_totals = names.groupby(['year', 'sex']).sum().unstack(1)\n",
    "fm_totals.plot(title='Lookie at this graph', figsize=(20,6))\n",
    "plt.axes().spines['top'].set_visible(False)\n",
    "plt.axes().spines['right'].set_visible(False)"
   ]
  },
  {
   "cell_type": "code",
   "execution_count": 808,
   "id": "966813ae",
   "metadata": {},
   "outputs": [],
   "source": [
    "# Add propotion column\n",
    "def add_prop(group):\n",
    "    group['prop'] = group.births / group.births.sum()\n",
    "    return group\n",
    "\n",
    "names = names.groupby(['year', 'sex']).apply(add_prop)"
   ]
  },
  {
   "cell_type": "code",
   "execution_count": 809,
   "id": "3b79016d",
   "metadata": {},
   "outputs": [
    {
     "data": {
      "text/html": [
       "<div>\n",
       "<style scoped>\n",
       "    .dataframe tbody tr th:only-of-type {\n",
       "        vertical-align: middle;\n",
       "    }\n",
       "\n",
       "    .dataframe tbody tr th {\n",
       "        vertical-align: top;\n",
       "    }\n",
       "\n",
       "    .dataframe thead th {\n",
       "        text-align: right;\n",
       "    }\n",
       "</style>\n",
       "<table border=\"1\" class=\"dataframe\">\n",
       "  <thead>\n",
       "    <tr style=\"text-align: right;\">\n",
       "      <th></th>\n",
       "      <th>births</th>\n",
       "    </tr>\n",
       "    <tr>\n",
       "      <th>name</th>\n",
       "      <th></th>\n",
       "    </tr>\n",
       "  </thead>\n",
       "  <tbody>\n",
       "    <tr>\n",
       "      <th>Linda</th>\n",
       "      <td>1457512</td>\n",
       "    </tr>\n",
       "    <tr>\n",
       "      <th>Anthony</th>\n",
       "      <td>1469628</td>\n",
       "    </tr>\n",
       "    <tr>\n",
       "      <th>Jennifer</th>\n",
       "      <td>1474216</td>\n",
       "    </tr>\n",
       "    <tr>\n",
       "      <th>George</th>\n",
       "      <td>1486086</td>\n",
       "    </tr>\n",
       "    <tr>\n",
       "      <th>Patricia</th>\n",
       "      <td>1577758</td>\n",
       "    </tr>\n",
       "    <tr>\n",
       "      <th>Matthew</th>\n",
       "      <td>1631157</td>\n",
       "    </tr>\n",
       "    <tr>\n",
       "      <th>Elizabeth</th>\n",
       "      <td>1666227</td>\n",
       "    </tr>\n",
       "    <tr>\n",
       "      <th>Daniel</th>\n",
       "      <td>1956580</td>\n",
       "    </tr>\n",
       "    <tr>\n",
       "      <th>Christopher</th>\n",
       "      <td>2058380</td>\n",
       "    </tr>\n",
       "    <tr>\n",
       "      <th>Thomas</th>\n",
       "      <td>2340278</td>\n",
       "    </tr>\n",
       "    <tr>\n",
       "      <th>Charles</th>\n",
       "      <td>2424044</td>\n",
       "    </tr>\n",
       "    <tr>\n",
       "      <th>Richard</th>\n",
       "      <td>2580610</td>\n",
       "    </tr>\n",
       "    <tr>\n",
       "      <th>Joseph</th>\n",
       "      <td>2650083</td>\n",
       "    </tr>\n",
       "    <tr>\n",
       "      <th>David</th>\n",
       "      <td>3659839</td>\n",
       "    </tr>\n",
       "    <tr>\n",
       "      <th>Mary</th>\n",
       "      <td>4147669</td>\n",
       "    </tr>\n",
       "    <tr>\n",
       "      <th>William</th>\n",
       "      <td>4172145</td>\n",
       "    </tr>\n",
       "    <tr>\n",
       "      <th>Michael</th>\n",
       "      <td>4414507</td>\n",
       "    </tr>\n",
       "    <tr>\n",
       "      <th>Robert</th>\n",
       "      <td>4854199</td>\n",
       "    </tr>\n",
       "    <tr>\n",
       "      <th>John</th>\n",
       "      <td>5172233</td>\n",
       "    </tr>\n",
       "    <tr>\n",
       "      <th>James</th>\n",
       "      <td>5226309</td>\n",
       "    </tr>\n",
       "  </tbody>\n",
       "</table>\n",
       "</div>"
      ],
      "text/plain": [
       "              births\n",
       "name                \n",
       "Linda        1457512\n",
       "Anthony      1469628\n",
       "Jennifer     1474216\n",
       "George       1486086\n",
       "Patricia     1577758\n",
       "Matthew      1631157\n",
       "Elizabeth    1666227\n",
       "Daniel       1956580\n",
       "Christopher  2058380\n",
       "Thomas       2340278\n",
       "Charles      2424044\n",
       "Richard      2580610\n",
       "Joseph       2650083\n",
       "David        3659839\n",
       "Mary         4147669\n",
       "William      4172145\n",
       "Michael      4414507\n",
       "Robert       4854199\n",
       "John         5172233\n",
       "James        5226309"
      ]
     },
     "execution_count": 809,
     "metadata": {},
     "output_type": "execute_result"
    }
   ],
   "source": [
    "plt.rc('figure', figsize=(10,6))\n",
    "all_sums = names.groupby('name')[['births']].sum('births').sort_values('births')[-20:]#.plot(kind='bar')"
   ]
  },
  {
   "cell_type": "code",
   "execution_count": 857,
   "id": "17c51f49",
   "metadata": {},
   "outputs": [
    {
     "data": {
      "text/html": [
       "<div>\n",
       "<style scoped>\n",
       "    .dataframe tbody tr th:only-of-type {\n",
       "        vertical-align: middle;\n",
       "    }\n",
       "\n",
       "    .dataframe tbody tr th {\n",
       "        vertical-align: top;\n",
       "    }\n",
       "\n",
       "    .dataframe thead th {\n",
       "        text-align: right;\n",
       "    }\n",
       "</style>\n",
       "<table border=\"1\" class=\"dataframe\">\n",
       "  <thead>\n",
       "    <tr style=\"text-align: right;\">\n",
       "      <th></th>\n",
       "      <th>name</th>\n",
       "      <th>sex</th>\n",
       "      <th>births</th>\n",
       "      <th>year</th>\n",
       "      <th>prop</th>\n",
       "    </tr>\n",
       "  </thead>\n",
       "  <tbody>\n",
       "    <tr>\n",
       "      <th>0</th>\n",
       "      <td>Mary</td>\n",
       "      <td>F</td>\n",
       "      <td>7065</td>\n",
       "      <td>1880</td>\n",
       "      <td>0.077642</td>\n",
       "    </tr>\n",
       "    <tr>\n",
       "      <th>1</th>\n",
       "      <td>Anna</td>\n",
       "      <td>F</td>\n",
       "      <td>2604</td>\n",
       "      <td>1880</td>\n",
       "      <td>0.028617</td>\n",
       "    </tr>\n",
       "    <tr>\n",
       "      <th>2</th>\n",
       "      <td>Emma</td>\n",
       "      <td>F</td>\n",
       "      <td>2003</td>\n",
       "      <td>1880</td>\n",
       "      <td>0.022012</td>\n",
       "    </tr>\n",
       "    <tr>\n",
       "      <th>3</th>\n",
       "      <td>Elizabeth</td>\n",
       "      <td>F</td>\n",
       "      <td>1939</td>\n",
       "      <td>1880</td>\n",
       "      <td>0.021309</td>\n",
       "    </tr>\n",
       "    <tr>\n",
       "      <th>4</th>\n",
       "      <td>Minnie</td>\n",
       "      <td>F</td>\n",
       "      <td>1746</td>\n",
       "      <td>1880</td>\n",
       "      <td>0.019188</td>\n",
       "    </tr>\n",
       "    <tr>\n",
       "      <th>...</th>\n",
       "      <td>...</td>\n",
       "      <td>...</td>\n",
       "      <td>...</td>\n",
       "      <td>...</td>\n",
       "      <td>...</td>\n",
       "    </tr>\n",
       "    <tr>\n",
       "      <th>283871</th>\n",
       "      <td>Zev</td>\n",
       "      <td>M</td>\n",
       "      <td>218</td>\n",
       "      <td>2021</td>\n",
       "      <td>0.000126</td>\n",
       "    </tr>\n",
       "    <tr>\n",
       "      <th>283872</th>\n",
       "      <td>Atharv</td>\n",
       "      <td>M</td>\n",
       "      <td>217</td>\n",
       "      <td>2021</td>\n",
       "      <td>0.000125</td>\n",
       "    </tr>\n",
       "    <tr>\n",
       "      <th>283873</th>\n",
       "      <td>Bishop</td>\n",
       "      <td>M</td>\n",
       "      <td>217</td>\n",
       "      <td>2021</td>\n",
       "      <td>0.000125</td>\n",
       "    </tr>\n",
       "    <tr>\n",
       "      <th>283874</th>\n",
       "      <td>Blaise</td>\n",
       "      <td>M</td>\n",
       "      <td>217</td>\n",
       "      <td>2021</td>\n",
       "      <td>0.000125</td>\n",
       "    </tr>\n",
       "    <tr>\n",
       "      <th>283875</th>\n",
       "      <td>Davian</td>\n",
       "      <td>M</td>\n",
       "      <td>217</td>\n",
       "      <td>2021</td>\n",
       "      <td>0.000125</td>\n",
       "    </tr>\n",
       "  </tbody>\n",
       "</table>\n",
       "<p>283876 rows × 5 columns</p>\n",
       "</div>"
      ],
      "text/plain": [
       "             name sex  births  year      prop\n",
       "0            Mary   F    7065  1880  0.077642\n",
       "1            Anna   F    2604  1880  0.028617\n",
       "2            Emma   F    2003  1880  0.022012\n",
       "3       Elizabeth   F    1939  1880  0.021309\n",
       "4          Minnie   F    1746  1880  0.019188\n",
       "...           ...  ..     ...   ...       ...\n",
       "283871        Zev   M     218  2021  0.000126\n",
       "283872     Atharv   M     217  2021  0.000125\n",
       "283873     Bishop   M     217  2021  0.000125\n",
       "283874     Blaise   M     217  2021  0.000125\n",
       "283875     Davian   M     217  2021  0.000125\n",
       "\n",
       "[283876 rows x 5 columns]"
      ]
     },
     "execution_count": 857,
     "metadata": {},
     "output_type": "execute_result"
    }
   ],
   "source": [
    "def get_largest(group, n=1000, columns='births'):\n",
    "    return group.nlargest(n, columns)\n",
    "top1000 = names.groupby(['year', 'sex']).apply(get_largest)\n",
    "\n",
    "top1000.reset_index(inplace=True, drop=True) # Get rid of duplicated stuff\n",
    "top1000"
   ]
  },
  {
   "cell_type": "code",
   "execution_count": 858,
   "id": "0ab670e5",
   "metadata": {},
   "outputs": [
    {
     "data": {
      "text/html": [
       "<div>\n",
       "<style scoped>\n",
       "    .dataframe tbody tr th:only-of-type {\n",
       "        vertical-align: middle;\n",
       "    }\n",
       "\n",
       "    .dataframe tbody tr th {\n",
       "        vertical-align: top;\n",
       "    }\n",
       "\n",
       "    .dataframe thead th {\n",
       "        text-align: right;\n",
       "    }\n",
       "</style>\n",
       "<table border=\"1\" class=\"dataframe\">\n",
       "  <thead>\n",
       "    <tr style=\"text-align: right;\">\n",
       "      <th></th>\n",
       "      <th>name</th>\n",
       "      <th>sex</th>\n",
       "      <th>births</th>\n",
       "      <th>year</th>\n",
       "      <th>prop</th>\n",
       "    </tr>\n",
       "  </thead>\n",
       "  <tbody>\n",
       "    <tr>\n",
       "      <th>0</th>\n",
       "      <td>Mary</td>\n",
       "      <td>F</td>\n",
       "      <td>7065</td>\n",
       "      <td>1880</td>\n",
       "      <td>0.077642</td>\n",
       "    </tr>\n",
       "    <tr>\n",
       "      <th>1</th>\n",
       "      <td>Anna</td>\n",
       "      <td>F</td>\n",
       "      <td>2604</td>\n",
       "      <td>1880</td>\n",
       "      <td>0.028617</td>\n",
       "    </tr>\n",
       "    <tr>\n",
       "      <th>2</th>\n",
       "      <td>Emma</td>\n",
       "      <td>F</td>\n",
       "      <td>2003</td>\n",
       "      <td>1880</td>\n",
       "      <td>0.022012</td>\n",
       "    </tr>\n",
       "    <tr>\n",
       "      <th>3</th>\n",
       "      <td>Elizabeth</td>\n",
       "      <td>F</td>\n",
       "      <td>1939</td>\n",
       "      <td>1880</td>\n",
       "      <td>0.021309</td>\n",
       "    </tr>\n",
       "    <tr>\n",
       "      <th>4</th>\n",
       "      <td>Minnie</td>\n",
       "      <td>F</td>\n",
       "      <td>1746</td>\n",
       "      <td>1880</td>\n",
       "      <td>0.019188</td>\n",
       "    </tr>\n",
       "    <tr>\n",
       "      <th>...</th>\n",
       "      <td>...</td>\n",
       "      <td>...</td>\n",
       "      <td>...</td>\n",
       "      <td>...</td>\n",
       "      <td>...</td>\n",
       "    </tr>\n",
       "    <tr>\n",
       "      <th>282871</th>\n",
       "      <td>Aarya</td>\n",
       "      <td>F</td>\n",
       "      <td>255</td>\n",
       "      <td>2021</td>\n",
       "      <td>0.000157</td>\n",
       "    </tr>\n",
       "    <tr>\n",
       "      <th>282872</th>\n",
       "      <td>Eleanora</td>\n",
       "      <td>F</td>\n",
       "      <td>255</td>\n",
       "      <td>2021</td>\n",
       "      <td>0.000157</td>\n",
       "    </tr>\n",
       "    <tr>\n",
       "      <th>282873</th>\n",
       "      <td>Sandra</td>\n",
       "      <td>F</td>\n",
       "      <td>255</td>\n",
       "      <td>2021</td>\n",
       "      <td>0.000157</td>\n",
       "    </tr>\n",
       "    <tr>\n",
       "      <th>282874</th>\n",
       "      <td>Soleil</td>\n",
       "      <td>F</td>\n",
       "      <td>255</td>\n",
       "      <td>2021</td>\n",
       "      <td>0.000157</td>\n",
       "    </tr>\n",
       "    <tr>\n",
       "      <th>282875</th>\n",
       "      <td>Annabella</td>\n",
       "      <td>F</td>\n",
       "      <td>254</td>\n",
       "      <td>2021</td>\n",
       "      <td>0.000156</td>\n",
       "    </tr>\n",
       "  </tbody>\n",
       "</table>\n",
       "<p>141880 rows × 5 columns</p>\n",
       "</div>"
      ],
      "text/plain": [
       "             name sex  births  year      prop\n",
       "0            Mary   F    7065  1880  0.077642\n",
       "1            Anna   F    2604  1880  0.028617\n",
       "2            Emma   F    2003  1880  0.022012\n",
       "3       Elizabeth   F    1939  1880  0.021309\n",
       "4          Minnie   F    1746  1880  0.019188\n",
       "...           ...  ..     ...   ...       ...\n",
       "282871      Aarya   F     255  2021  0.000157\n",
       "282872   Eleanora   F     255  2021  0.000157\n",
       "282873     Sandra   F     255  2021  0.000157\n",
       "282874     Soleil   F     255  2021  0.000157\n",
       "282875  Annabella   F     254  2021  0.000156\n",
       "\n",
       "[141880 rows x 5 columns]"
      ]
     },
     "execution_count": 858,
     "metadata": {},
     "output_type": "execute_result"
    }
   ],
   "source": [
    "boys = top1000[top1000.sex == 'M']\n",
    "girls = top1000[top1000.sex == 'F']\n",
    "\n",
    "girls"
   ]
  },
  {
   "cell_type": "code",
   "execution_count": 866,
   "id": "bc4141e0",
   "metadata": {},
   "outputs": [
    {
     "data": {
      "text/plain": [
       "<AxesSubplot:xlabel='year'>"
      ]
     },
     "execution_count": 866,
     "metadata": {},
     "output_type": "execute_result"
    },
    {
     "data": {
      "image/png": "[encoded data removed]",
      "text/plain": [
       "<Figure size 720x432 with 1 Axes>"
      ]
     },
     "metadata": {
      "needs_background": "light"
     },
     "output_type": "display_data"
    }
   ],
   "source": [
    "total_births = top1000.pivot_table('births',\n",
    "                                   index='year',\n",
    "                                   columns='name',\n",
    "                                   aggfunc=sum\n",
    "                                  )\n",
    "\n",
    "total_births['Zoe'].plot()"
   ]
  },
  {
   "cell_type": "code",
   "execution_count": 882,
   "id": "73ecd949",
   "metadata": {},
   "outputs": [],
   "source": [
    "names_p = names.pivot_table('births',\n",
    "                                   index='year',\n",
    "                                   columns='name',\n",
    "                                   aggfunc=sum\n",
    "                                  )"
   ]
  },
  {
   "cell_type": "code",
   "execution_count": 944,
   "id": "52643c1a",
   "metadata": {},
   "outputs": [
    {
     "data": {
      "text/plain": [
       "<function matplotlib.pyplot.axes(arg=None, **kwargs)>"
      ]
     },
     "execution_count": 944,
     "metadata": {},
     "output_type": "execute_result"
    },
    {
     "data": {
      "image/png": "[encoded data removed]",
      "text/plain": [
       "<Figure size 1080x432 with 6 Axes>"
      ]
     },
     "metadata": {
      "needs_background": "light"
     },
     "output_type": "display_data"
    }
   ],
   "source": [
    "subnames = ['James', \"Zoe\", \"Robert\", \"Teresa\", \"Kenneth\", \"Ciaran\"]\n",
    "names_p[subnames].plot(\n",
    "    grid=False,\n",
    "    subplots=True,\n",
    "    sharex = True,\n",
    "    sharey = True,\n",
    "    figsize=(15, 6),\n",
    "    sort_columns=True,\n",
    "    rot=65,\n",
    "    title='Lookie Zoë'\n",
    ")\n",
    "\n",
    "# for spine in plt.axes().spines:\n",
    "#     plt.axes().spines[spine].set_visible(False)"
   ]
  },
  {
   "cell_type": "code",
   "execution_count": 967,
   "id": "57823a0b",
   "metadata": {},
   "outputs": [
    {
     "data": {
      "image/png": "[encoded data removed]",
      "text/plain": [
       "<Figure size 1080x432 with 1 Axes>"
      ]
     },
     "metadata": {
      "needs_background": "light"
     },
     "output_type": "display_data"
    }
   ],
   "source": [
    "# How top100 compare a % of total\n",
    "table = top1000.pivot_table('prop',\n",
    "                    index='year',\n",
    "                    columns='sex',\n",
    "                    aggfunc=sum\n",
    "                   )                    \n",
    "\n",
    "table.plot( \n",
    "    yticks=np.linspace(0, 1.2, 5), # Range cant handle decimals\n",
    "    xticks=range(1880, 2021, 10),\n",
    "    figsize=(15,6)\n",
    ")\n",
    "\n",
    "for spine in plt.axes().spines:\n",
    "    plt.axes().spines[spine].set_visible(False)"
   ]
  },
  {
   "cell_type": "code",
   "execution_count": 980,
   "id": "15143c01",
   "metadata": {},
   "outputs": [
    {
     "data": {
      "text/plain": [
       "51"
      ]
     },
     "execution_count": 980,
     "metadata": {},
     "output_type": "execute_result"
    }
   ],
   "source": [
    "# Getting number of names that sum to 50% to measure diversity\n",
    "df = boys[boys.year == 1992]\n",
    "test = df.sort_values(by='prop', ascending=False).prop.cumsum()\n",
    "# searchsorted function return to 0-indexed position where inserting the value would keep order\n",
    "test.values.searchsorted(0.5) + 1"
   ]
  },
  {
   "cell_type": "code",
   "execution_count": 986,
   "id": "ef559184",
   "metadata": {},
   "outputs": [
    {
     "data": {
      "text/plain": [
       "<AxesSubplot:title={'center':'Number of popular names in top %50'}, xlabel='year'>"
      ]
     },
     "execution_count": 986,
     "metadata": {},
     "output_type": "execute_result"
    },
    {
     "data": {
      "image/png": "[encoded data removed]",
      "text/plain": [
       "<Figure size 720x432 with 1 Axes>"
      ]
     },
     "metadata": {
      "needs_background": "light"
     },
     "output_type": "display_data"
    }
   ],
   "source": [
    "# Write function to to this\n",
    "def get_quant_count(group, q=0.5):\n",
    "    group = group.sort_values(by='prop', ascending=False).prop.cumsum()\n",
    "    return group.values.searchsorted(q) + 1\n",
    "\n",
    "diversity = names.groupby(['year', 'sex']).apply(get_quant_count).unstack('sex')\n",
    "\n",
    "diversity.plot(\n",
    "title='Number of popular names in top %50'\n",
    ")"
   ]
  },
  {
   "cell_type": "code",
   "execution_count": 998,
   "id": "c8341352",
   "metadata": {},
   "outputs": [],
   "source": [
    "# See counts of last letters\n",
    "get_last_letter = lambda x: x[-1]\n",
    "# %timeit names.name.apply(get_last_letter) # apply and map take same amount of time\n",
    "# %timeit names.name.map(get_last_letter) \n",
    "last_letter = names.name.apply(get_last_letter)"
   ]
  },
  {
   "cell_type": "code",
   "execution_count": 1015,
   "id": "43fcafd6",
   "metadata": {},
   "outputs": [],
   "source": [
    "table = names.pivot_table('births', index=last_letter,\n",
    "                         columns=['sex', 'year'], aggfunc=sum)\n",
    "# Select three representive years with reindex\n",
    "subtable = table.reindex(columns=[1880, 1960, 2020], level=1)"
   ]
  },
  {
   "cell_type": "code",
   "execution_count": 1029,
   "id": "937de0fe",
   "metadata": {},
   "outputs": [
    {
     "data": {
      "text/plain": [
       "<AxesSubplot:title={'center':'Male'}, xlabel='name'>"
      ]
     },
     "execution_count": 1029,
     "metadata": {},
     "output_type": "execute_result"
    },
    {
     "data": {
      "image/png": "[encoded data removed]",
      "text/plain": [
       "<Figure size 720x432 with 2 Axes>"
      ]
     },
     "metadata": {
      "needs_background": "light"
     },
     "output_type": "display_data"
    }
   ],
   "source": [
    "# Easily create a new table\n",
    "letter_prop = subtable / subtable.sum()\n",
    "letter_prop\n",
    "fig, axes = plt.subplots(2, 1, figsize=(10,6),\n",
    "                         sharex=True,\n",
    "                         sharey=True) # how you can specify the pannel in a subplot\n",
    "letter_prop['F'].plot(kind='bar', ax=axes[0], title='Female')\n",
    "letter_prop['M'].plot(kind='bar', ax=axes[1], title='Male')\n"
   ]
  },
  {
   "cell_type": "code",
   "execution_count": 1054,
   "id": "07835e76",
   "metadata": {},
   "outputs": [
    {
     "data": {
      "text/plain": [
       "<AxesSubplot:xlabel='year'>"
      ]
     },
     "execution_count": 1054,
     "metadata": {},
     "output_type": "execute_result"
    },
    {
     "data": {
      "image/png": "[encoded data removed]",
      "text/plain": [
       "<Figure size 720x432 with 1 Axes>"
      ]
     },
     "metadata": {
      "needs_background": "light"
     },
     "output_type": "display_data"
    }
   ],
   "source": [
    "# Making time series for paricular letters for particular gender\n",
    "\n",
    "\n",
    "t2 = (table / table.sum()).loc[list('asyni'), 'F'].T\n",
    "t2.plot()"
   ]
  },
  {
   "cell_type": "code",
   "execution_count": 1074,
   "id": "399420a2",
   "metadata": {},
   "outputs": [],
   "source": [
    "# See lesie\n",
    "all_names = pd.Series(top1000.name.unique())\n",
    "lesley_like = all_names[all_names.str.lower().str.contains('lesl')]\n",
    "lessies = top1000[top1000.name.isin(lesley_like)]"
   ]
  },
  {
   "cell_type": "code",
   "execution_count": 1081,
   "id": "14192c43",
   "metadata": {},
   "outputs": [
    {
     "data": {
      "text/plain": [
       "<AxesSubplot:xlabel='year'>"
      ]
     },
     "execution_count": 1081,
     "metadata": {},
     "output_type": "execute_result"
    },
    {
     "data": {
      "image/png": "[encoded data removed]",
      "text/plain": [
       "<Figure size 720x432 with 1 Axes>"
      ]
     },
     "metadata": {
      "needs_background": "light"
     },
     "output_type": "display_data"
    }
   ],
   "source": [
    "(lessies.pivot_table('prop', index='year', columns='sex', aggfunc='sum')\n",
    "        .plot(style={'M': 'k-', 'F': 'k--'}))"
   ]
  },
  {
   "cell_type": "markdown",
   "id": "8a62bf72",
   "metadata": {},
   "source": [
    "## 14.4 USDA Food Database"
   ]
  },
  {
   "cell_type": "code",
   "execution_count": 1091,
   "id": "299c29a0",
   "metadata": {},
   "outputs": [],
   "source": [
    "# !curl 'https://raw.githubusercontent.com/wesm/pydata-book/3rd-edition/datasets/usda_food/database.json' > data/fooddb.json\n",
    "db = json.load(open('data/fooddb.json'))"
   ]
  },
  {
   "cell_type": "code",
   "execution_count": 1097,
   "id": "db17076c",
   "metadata": {},
   "outputs": [
    {
     "name": "stdout",
     "output_type": "stream",
     "text": [
      "dict_keys(['id', 'description', 'tags', 'manufacturer', 'group', 'portions', 'nutrients'])\n",
      "{'value': 25.18, 'units': 'g', 'description': 'Protein', 'group': 'Composition'}\n",
      "{'value': 29.2, 'units': 'g', 'description': 'Total lipid (fat)', 'group': 'Composition'}\n",
      "{'value': 3.06, 'units': 'g', 'description': 'Carbohydrate, by difference', 'group': 'Composition'}\n",
      "{'value': 3.28, 'units': 'g', 'description': 'Ash', 'group': 'Other'}\n",
      "{'value': 376.0, 'units': 'kcal', 'description': 'Energy', 'group': 'Energy'}\n",
      "{'value': 39.28, 'units': 'g', 'description': 'Water', 'group': 'Composition'}\n",
      "{'value': 1573.0, 'units': 'kJ', 'description': 'Energy', 'group': 'Energy'}\n",
      "{'value': 0.0, 'units': 'g', 'description': 'Fiber, total dietary', 'group': 'Composition'}\n",
      "{'value': 673.0, 'units': 'mg', 'description': 'Calcium, Ca', 'group': 'Elements'}\n",
      "{'value': 0.64, 'units': 'mg', 'description': 'Iron, Fe', 'group': 'Elements'}\n",
      "{'value': 22.0, 'units': 'mg', 'description': 'Magnesium, Mg', 'group': 'Elements'}\n",
      "{'value': 490.0, 'units': 'mg', 'description': 'Phosphorus, P', 'group': 'Elements'}\n",
      "{'value': 93.0, 'units': 'mg', 'description': 'Potassium, K', 'group': 'Elements'}\n",
      "{'value': 690.0, 'units': 'mg', 'description': 'Sodium, Na', 'group': 'Elements'}\n",
      "{'value': 2.94, 'units': 'mg', 'description': 'Zinc, Zn', 'group': 'Elements'}\n",
      "{'value': 0.024, 'units': 'mg', 'description': 'Copper, Cu', 'group': 'Elements'}\n",
      "{'value': 0.021, 'units': 'mg', 'description': 'Manganese, Mn', 'group': 'Elements'}\n",
      "{'value': 14.5, 'units': 'mcg', 'description': 'Selenium, Se', 'group': 'Elements'}\n",
      "{'value': 1054.0, 'units': 'IU', 'description': 'Vitamin A, IU', 'group': 'Vitamins'}\n",
      "{'value': 262.0, 'units': 'mcg', 'description': 'Retinol', 'group': 'Vitamins'}\n",
      "{'value': 271.0, 'units': 'mcg_RAE', 'description': 'Vitamin A, RAE', 'group': 'Vitamins'}\n",
      "{'value': 0.0, 'units': 'mg', 'description': 'Vitamin C, total ascorbic acid', 'group': 'Vitamins'}\n",
      "{'value': 0.031, 'units': 'mg', 'description': 'Thiamin', 'group': 'Vitamins'}\n",
      "{'value': 0.45, 'units': 'mg', 'description': 'Riboflavin', 'group': 'Vitamins'}\n",
      "{'value': 0.18, 'units': 'mg', 'description': 'Niacin', 'group': 'Vitamins'}\n",
      "{'value': 0.19, 'units': 'mg', 'description': 'Pantothenic acid', 'group': 'Vitamins'}\n",
      "{'value': 0.074, 'units': 'mg', 'description': 'Vitamin B-6', 'group': 'Vitamins'}\n",
      "{'value': 18.0, 'units': 'mcg', 'description': 'Folate, total', 'group': 'Vitamins'}\n",
      "{'value': 0.27, 'units': 'mcg', 'description': 'Vitamin B-12', 'group': 'Vitamins'}\n",
      "{'value': 0.0, 'units': 'mcg', 'description': 'Folic acid', 'group': 'Vitamins'}\n",
      "{'value': 18.0, 'units': 'mcg', 'description': 'Folate, food', 'group': 'Vitamins'}\n",
      "{'value': 18.0, 'units': 'mcg_DFE', 'description': 'Folate, DFE', 'group': 'Vitamins'}\n",
      "{'value': 93.0, 'units': 'mg', 'description': 'Cholesterol', 'group': 'Other'}\n",
      "{'value': 18.584, 'units': 'g', 'description': 'Fatty acids, total saturated', 'group': 'Other'}\n",
      "{'value': 8.275, 'units': 'g', 'description': 'Fatty acids, total monounsaturated', 'group': 'Other'}\n",
      "{'value': 0.83, 'units': 'g', 'description': 'Fatty acids, total polyunsaturated', 'group': 'Other'}\n",
      "{'value': 0.324, 'units': 'g', 'description': 'Tryptophan', 'group': 'Amino Acids'}\n",
      "{'value': 0.896, 'units': 'g', 'description': 'Threonine', 'group': 'Amino Acids'}\n",
      "{'value': 1.563, 'units': 'g', 'description': 'Isoleucine', 'group': 'Amino Acids'}\n",
      "{'value': 2.412, 'units': 'g', 'description': 'Leucine', 'group': 'Amino Acids'}\n",
      "{'value': 2.095, 'units': 'g', 'description': 'Lysine', 'group': 'Amino Acids'}\n",
      "{'value': 0.659, 'units': 'g', 'description': 'Methionine', 'group': 'Amino Acids'}\n",
      "{'value': 0.126, 'units': 'g', 'description': 'Cystine', 'group': 'Amino Acids'}\n",
      "{'value': 1.326, 'units': 'g', 'description': 'Phenylalanine', 'group': 'Amino Acids'}\n",
      "{'value': 1.216, 'units': 'g', 'description': 'Tyrosine', 'group': 'Amino Acids'}\n",
      "{'value': 1.682, 'units': 'g', 'description': 'Valine', 'group': 'Amino Acids'}\n",
      "{'value': 0.952, 'units': 'g', 'description': 'Arginine', 'group': 'Amino Acids'}\n",
      "{'value': 0.884, 'units': 'g', 'description': 'Histidine', 'group': 'Amino Acids'}\n",
      "{'value': 0.711, 'units': 'g', 'description': 'Alanine', 'group': 'Amino Acids'}\n",
      "{'value': 1.618, 'units': 'g', 'description': 'Aspartic acid', 'group': 'Amino Acids'}\n",
      "{'value': 6.16, 'units': 'g', 'description': 'Glutamic acid', 'group': 'Amino Acids'}\n",
      "{'value': 0.439, 'units': 'g', 'description': 'Glycine', 'group': 'Amino Acids'}\n",
      "{'value': 2.838, 'units': 'g', 'description': 'Proline', 'group': 'Amino Acids'}\n",
      "{'value': 1.472, 'units': 'g', 'description': 'Serine', 'group': 'Amino Acids'}\n",
      "{'value': 25.18, 'units': 'g', 'description': 'Protein', 'group': 'Composition'}\n",
      "{'value': 29.2, 'units': 'g', 'description': 'Total lipid (fat)', 'group': 'Composition'}\n",
      "{'value': 3.06, 'units': 'g', 'description': 'Carbohydrate, by difference', 'group': 'Composition'}\n",
      "{'value': 3.28, 'units': 'g', 'description': 'Ash', 'group': 'Other'}\n",
      "{'value': 376.0, 'units': 'kcal', 'description': 'Energy', 'group': 'Energy'}\n",
      "{'value': 39.28, 'units': 'g', 'description': 'Water', 'group': 'Composition'}\n",
      "{'value': 1573.0, 'units': 'kJ', 'description': 'Energy', 'group': 'Energy'}\n",
      "{'value': 0.0, 'units': 'g', 'description': 'Fiber, total dietary', 'group': 'Composition'}\n",
      "{'value': 673.0, 'units': 'mg', 'description': 'Calcium, Ca', 'group': 'Elements'}\n",
      "{'value': 0.64, 'units': 'mg', 'description': 'Iron, Fe', 'group': 'Elements'}\n",
      "{'value': 22.0, 'units': 'mg', 'description': 'Magnesium, Mg', 'group': 'Elements'}\n",
      "{'value': 490.0, 'units': 'mg', 'description': 'Phosphorus, P', 'group': 'Elements'}\n",
      "{'value': 93.0, 'units': 'mg', 'description': 'Potassium, K', 'group': 'Elements'}\n",
      "{'value': 690.0, 'units': 'mg', 'description': 'Sodium, Na', 'group': 'Elements'}\n",
      "{'value': 2.94, 'units': 'mg', 'description': 'Zinc, Zn', 'group': 'Elements'}\n",
      "{'value': 0.024, 'units': 'mg', 'description': 'Copper, Cu', 'group': 'Elements'}\n",
      "{'value': 0.021, 'units': 'mg', 'description': 'Manganese, Mn', 'group': 'Elements'}\n",
      "{'value': 14.5, 'units': 'mcg', 'description': 'Selenium, Se', 'group': 'Elements'}\n",
      "{'value': 1054.0, 'units': 'IU', 'description': 'Vitamin A, IU', 'group': 'Vitamins'}\n",
      "{'value': 262.0, 'units': 'mcg', 'description': 'Retinol', 'group': 'Vitamins'}\n",
      "{'value': 271.0, 'units': 'mcg_RAE', 'description': 'Vitamin A, RAE', 'group': 'Vitamins'}\n",
      "{'value': 0.0, 'units': 'mg', 'description': 'Vitamin C, total ascorbic acid', 'group': 'Vitamins'}\n",
      "{'value': 0.031, 'units': 'mg', 'description': 'Thiamin', 'group': 'Vitamins'}\n",
      "{'value': 0.45, 'units': 'mg', 'description': 'Riboflavin', 'group': 'Vitamins'}\n",
      "{'value': 0.18, 'units': 'mg', 'description': 'Niacin', 'group': 'Vitamins'}\n",
      "{'value': 0.19, 'units': 'mg', 'description': 'Pantothenic acid', 'group': 'Vitamins'}\n",
      "{'value': 0.074, 'units': 'mg', 'description': 'Vitamin B-6', 'group': 'Vitamins'}\n",
      "{'value': 18.0, 'units': 'mcg', 'description': 'Folate, total', 'group': 'Vitamins'}\n",
      "{'value': 0.27, 'units': 'mcg', 'description': 'Vitamin B-12', 'group': 'Vitamins'}\n",
      "{'value': 0.0, 'units': 'mcg', 'description': 'Folic acid', 'group': 'Vitamins'}\n",
      "{'value': 18.0, 'units': 'mcg', 'description': 'Folate, food', 'group': 'Vitamins'}\n",
      "{'value': 18.0, 'units': 'mcg_DFE', 'description': 'Folate, DFE', 'group': 'Vitamins'}\n",
      "{'value': 0.324, 'units': 'g', 'description': 'Tryptophan', 'group': 'Amino Acids'}\n",
      "{'value': 0.896, 'units': 'g', 'description': 'Threonine', 'group': 'Amino Acids'}\n",
      "{'value': 1.563, 'units': 'g', 'description': 'Isoleucine', 'group': 'Amino Acids'}\n",
      "{'value': 2.412, 'units': 'g', 'description': 'Leucine', 'group': 'Amino Acids'}\n",
      "{'value': 2.095, 'units': 'g', 'description': 'Lysine', 'group': 'Amino Acids'}\n",
      "{'value': 0.659, 'units': 'g', 'description': 'Methionine', 'group': 'Amino Acids'}\n",
      "{'value': 0.126, 'units': 'g', 'description': 'Cystine', 'group': 'Amino Acids'}\n",
      "{'value': 1.326, 'units': 'g', 'description': 'Phenylalanine', 'group': 'Amino Acids'}\n",
      "{'value': 1.216, 'units': 'g', 'description': 'Tyrosine', 'group': 'Amino Acids'}\n",
      "{'value': 1.682, 'units': 'g', 'description': 'Valine', 'group': 'Amino Acids'}\n",
      "{'value': 0.952, 'units': 'g', 'description': 'Arginine', 'group': 'Amino Acids'}\n",
      "{'value': 0.884, 'units': 'g', 'description': 'Histidine', 'group': 'Amino Acids'}\n",
      "{'value': 0.711, 'units': 'g', 'description': 'Alanine', 'group': 'Amino Acids'}\n",
      "{'value': 1.618, 'units': 'g', 'description': 'Aspartic acid', 'group': 'Amino Acids'}\n",
      "{'value': 6.16, 'units': 'g', 'description': 'Glutamic acid', 'group': 'Amino Acids'}\n",
      "{'value': 0.439, 'units': 'g', 'description': 'Glycine', 'group': 'Amino Acids'}\n",
      "{'value': 2.838, 'units': 'g', 'description': 'Proline', 'group': 'Amino Acids'}\n",
      "{'value': 1.472, 'units': 'g', 'description': 'Serine', 'group': 'Amino Acids'}\n",
      "{'value': 93.0, 'units': 'mg', 'description': 'Cholesterol', 'group': 'Other'}\n",
      "{'value': 18.584, 'units': 'g', 'description': 'Fatty acids, total saturated', 'group': 'Other'}\n",
      "{'value': 8.275, 'units': 'g', 'description': 'Fatty acids, total monounsaturated', 'group': 'Other'}\n",
      "{'value': 0.83, 'units': 'g', 'description': 'Fatty acids, total polyunsaturated', 'group': 'Other'}\n",
      "{'value': 25.18, 'units': 'g', 'description': 'Protein', 'group': 'Composition'}\n",
      "{'value': 29.2, 'units': 'g', 'description': 'Total lipid (fat)', 'group': 'Composition'}\n",
      "{'value': 3.06, 'units': 'g', 'description': 'Carbohydrate, by difference', 'group': 'Composition'}\n",
      "{'value': 3.28, 'units': 'g', 'description': 'Ash', 'group': 'Other'}\n",
      "{'value': 376.0, 'units': 'kcal', 'description': 'Energy', 'group': 'Energy'}\n",
      "{'value': 39.28, 'units': 'g', 'description': 'Water', 'group': 'Composition'}\n",
      "{'value': 1573.0, 'units': 'kJ', 'description': 'Energy', 'group': 'Energy'}\n",
      "{'value': 0.0, 'units': 'g', 'description': 'Fiber, total dietary', 'group': 'Composition'}\n",
      "{'value': 673.0, 'units': 'mg', 'description': 'Calcium, Ca', 'group': 'Elements'}\n",
      "{'value': 0.64, 'units': 'mg', 'description': 'Iron, Fe', 'group': 'Elements'}\n",
      "{'value': 22.0, 'units': 'mg', 'description': 'Magnesium, Mg', 'group': 'Elements'}\n",
      "{'value': 490.0, 'units': 'mg', 'description': 'Phosphorus, P', 'group': 'Elements'}\n",
      "{'value': 93.0, 'units': 'mg', 'description': 'Potassium, K', 'group': 'Elements'}\n",
      "{'value': 690.0, 'units': 'mg', 'description': 'Sodium, Na', 'group': 'Elements'}\n",
      "{'value': 2.94, 'units': 'mg', 'description': 'Zinc, Zn', 'group': 'Elements'}\n",
      "{'value': 0.024, 'units': 'mg', 'description': 'Copper, Cu', 'group': 'Elements'}\n",
      "{'value': 0.021, 'units': 'mg', 'description': 'Manganese, Mn', 'group': 'Elements'}\n",
      "{'value': 14.5, 'units': 'mcg', 'description': 'Selenium, Se', 'group': 'Elements'}\n",
      "{'value': 1054.0, 'units': 'IU', 'description': 'Vitamin A, IU', 'group': 'Vitamins'}\n",
      "{'value': 262.0, 'units': 'mcg', 'description': 'Retinol', 'group': 'Vitamins'}\n",
      "{'value': 271.0, 'units': 'mcg_RAE', 'description': 'Vitamin A, RAE', 'group': 'Vitamins'}\n",
      "{'value': 0.0, 'units': 'mg', 'description': 'Vitamin C, total ascorbic acid', 'group': 'Vitamins'}\n",
      "{'value': 0.031, 'units': 'mg', 'description': 'Thiamin', 'group': 'Vitamins'}\n",
      "{'value': 0.45, 'units': 'mg', 'description': 'Riboflavin', 'group': 'Vitamins'}\n",
      "{'value': 0.18, 'units': 'mg', 'description': 'Niacin', 'group': 'Vitamins'}\n",
      "{'value': 0.19, 'units': 'mg', 'description': 'Pantothenic acid', 'group': 'Vitamins'}\n",
      "{'value': 0.074, 'units': 'mg', 'description': 'Vitamin B-6', 'group': 'Vitamins'}\n",
      "{'value': 18.0, 'units': 'mcg', 'description': 'Folate, total', 'group': 'Vitamins'}\n",
      "{'value': 0.27, 'units': 'mcg', 'description': 'Vitamin B-12', 'group': 'Vitamins'}\n",
      "{'value': 0.0, 'units': 'mcg', 'description': 'Folic acid', 'group': 'Vitamins'}\n",
      "{'value': 18.0, 'units': 'mcg', 'description': 'Folate, food', 'group': 'Vitamins'}\n",
      "{'value': 18.0, 'units': 'mcg_DFE', 'description': 'Folate, DFE', 'group': 'Vitamins'}\n",
      "{'value': 0.324, 'units': 'g', 'description': 'Tryptophan', 'group': 'Amino Acids'}\n",
      "{'value': 0.896, 'units': 'g', 'description': 'Threonine', 'group': 'Amino Acids'}\n",
      "{'value': 1.563, 'units': 'g', 'description': 'Isoleucine', 'group': 'Amino Acids'}\n",
      "{'value': 2.412, 'units': 'g', 'description': 'Leucine', 'group': 'Amino Acids'}\n",
      "{'value': 2.095, 'units': 'g', 'description': 'Lysine', 'group': 'Amino Acids'}\n",
      "{'value': 0.659, 'units': 'g', 'description': 'Methionine', 'group': 'Amino Acids'}\n",
      "{'value': 0.126, 'units': 'g', 'description': 'Cystine', 'group': 'Amino Acids'}\n",
      "{'value': 1.326, 'units': 'g', 'description': 'Phenylalanine', 'group': 'Amino Acids'}\n",
      "{'value': 1.216, 'units': 'g', 'description': 'Tyrosine', 'group': 'Amino Acids'}\n",
      "{'value': 1.682, 'units': 'g', 'description': 'Valine', 'group': 'Amino Acids'}\n",
      "{'value': 0.952, 'units': 'g', 'description': 'Arginine', 'group': 'Amino Acids'}\n",
      "{'value': 0.884, 'units': 'g', 'description': 'Histidine', 'group': 'Amino Acids'}\n",
      "{'value': 0.711, 'units': 'g', 'description': 'Alanine', 'group': 'Amino Acids'}\n",
      "{'value': 1.618, 'units': 'g', 'description': 'Aspartic acid', 'group': 'Amino Acids'}\n",
      "{'value': 6.16, 'units': 'g', 'description': 'Glutamic acid', 'group': 'Amino Acids'}\n",
      "{'value': 0.439, 'units': 'g', 'description': 'Glycine', 'group': 'Amino Acids'}\n",
      "{'value': 2.838, 'units': 'g', 'description': 'Proline', 'group': 'Amino Acids'}\n",
      "{'value': 1.472, 'units': 'g', 'description': 'Serine', 'group': 'Amino Acids'}\n",
      "{'value': 93.0, 'units': 'mg', 'description': 'Cholesterol', 'group': 'Other'}\n",
      "{'value': 18.584, 'units': 'g', 'description': 'Fatty acids, total saturated', 'group': 'Other'}\n",
      "{'value': 8.275, 'units': 'g', 'description': 'Fatty acids, total monounsaturated', 'group': 'Other'}\n",
      "{'value': 0.83, 'units': 'g', 'description': 'Fatty acids, total polyunsaturated', 'group': 'Other'}\n"
     ]
    }
   ],
   "source": [
    "print(db[0].keys())\n",
    "for n in db[0]['nutrients']:\n",
    "    print(n)"
   ]
  },
  {
   "cell_type": "code",
   "execution_count": 1115,
   "id": "dad51d66",
   "metadata": {},
   "outputs": [
    {
     "name": "stdout",
     "output_type": "stream",
     "text": [
      "fgroup\n",
      "Vegetables and Vegetable Products    812\n",
      "Beef Products                        618\n",
      "Baked Products                       496\n",
      "Breakfast Cereals                    403\n",
      "Fast Foods                           365\n",
      "                                    ... \n",
      "Dairy and Egg Products               107\n",
      "Fats and Oils                         97\n",
      "Meals, Entrees, and Sidedishes        57\n",
      "Restaurant Foods                      51\n",
      "Spices and Herbs                      41\n",
      "Length: 25, dtype: int64\n"
     ]
    }
   ],
   "source": [
    "# Make a metadata dict from db\n",
    "columns= ['description', 'group', 'id', 'manufacturer']\n",
    "info = pd.DataFrame(db, columns=columns).rename(columns = {'description' : 'food',\n",
    "                                                'group' : 'fgroup'}, copy=False)\n",
    "print(info.value_counts(info.fgroup)"
   ]
  },
  {
   "cell_type": "code",
   "execution_count": 1124,
   "id": "62d5b2c5",
   "metadata": {},
   "outputs": [],
   "source": [
    "# Covert nutrients into new table\n",
    "nutrients = []\n",
    "for rec in db:\n",
    "    fnuts = pd.DataFrame(rec['nutrients'])\n",
    "    fnuts['id'] = rec['id']\n",
    "    nutrients.append(fnuts)\n",
    "    \n",
    "nutrients = pd.concat(nutrients, ignore_index=True).rename(columns={'description' : 'nutrient',\n",
    "                                                                   'group' : 'nutgroup'})\n"
   ]
  },
  {
   "cell_type": "code",
   "execution_count": 1125,
   "id": "a4f3148e",
   "metadata": {},
   "outputs": [
    {
     "data": {
      "text/plain": [
       "375176"
      ]
     },
     "execution_count": 1125,
     "metadata": {},
     "output_type": "execute_result"
    }
   ],
   "source": [
    "# Get rid of dulicates\n",
    "nutrients.duplicated().sum() # how many are duplicated\n",
    "nutrients = nutrients.drop_duplicates()\n",
    "len(nutrients)"
   ]
  },
  {
   "cell_type": "code",
   "execution_count": 1130,
   "id": "3391d953",
   "metadata": {},
   "outputs": [],
   "source": [
    "# join the two table with outer\n",
    "ndata = pd.merge(nutrients, info, how='outer')"
   ]
  },
  {
   "cell_type": "code",
   "execution_count": 1147,
   "id": "470c1732",
   "metadata": {},
   "outputs": [],
   "source": [
    "result = ndata.groupby(['nutrient' ,'fgroup'])['value'].quantile(0.5)"
   ]
  },
  {
   "cell_type": "code",
   "execution_count": 1153,
   "id": "6f5daded",
   "metadata": {},
   "outputs": [
    {
     "data": {
      "text/plain": [
       "<AxesSubplot:xlabel='fgroup'>"
      ]
     },
     "execution_count": 1153,
     "metadata": {},
     "output_type": "execute_result"
    },
    {
     "data": {
      "image/png": "[encoded data removed]",
      "text/plain": [
       "<Figure size 1440x432 with 1 Axes>"
      ]
     },
     "metadata": {
      "needs_background": "light"
     },
     "output_type": "display_data"
    }
   ],
   "source": [
    "result['Energy'].sort_values().plot(kind='bar', figsize=(20,6))"
   ]
  },
  {
   "cell_type": "code",
   "execution_count": 1156,
   "id": "ab887c53",
   "metadata": {},
   "outputs": [],
   "source": [
    "# Finding which gorup is most dense in each nutrient\n",
    "get_max = lambda x: x.loc[x.value.idxmax()]\n",
    "get_min = lambda x: x.loc[x.value.idxmin()]\n",
    "by_nutrient = ndata.groupby(['nutgroup', 'nutrient']).apply(get_max)"
   ]
  },
  {
   "cell_type": "code",
   "execution_count": 1158,
   "id": "6e5f987e",
   "metadata": {},
   "outputs": [],
   "source": [
    "by_nutrient.to_csv('best_nut_by_group.csv')"
   ]
  },
  {
   "cell_type": "markdown",
   "id": "f90284bf",
   "metadata": {},
   "source": [
    "## 2012 Federal Election Commission Database"
   ]
  },
  {
   "cell_type": "code",
   "execution_count": 1163,
   "id": "e912b0b3",
   "metadata": {},
   "outputs": [],
   "source": [
    "# path = 'https://raw.githubusercontent.com/wesm/pydata-book/3rd-edition/datasets/fec/P00000001-ALL.csv'\n",
    "# fec = pd.read_html(path)[0] \n",
    "# ^ took too long\n",
    "fec = pd.read_csv('data/fec.csv')"
   ]
  },
  {
   "cell_type": "code",
   "execution_count": 1196,
   "id": "fe4c8ad9",
   "metadata": {},
   "outputs": [],
   "source": [
    "# Create parties column\n",
    "unique_cans = fec.cand_nm.unique()\n",
    "rebubs = [can for can in unique_cans if 'Barack' not in can]\n",
    "\n",
    "parties = dict(zip(rebubs, ['Rep'] * len(rebubs)))\n",
    "parties['Obama, Barack'] = 'Dem'\n",
    "fec['party'] = fec.cand_nm.map(parties)"
   ]
  },
  {
   "cell_type": "code",
   "execution_count": 1209,
   "id": "40d62e0a",
   "metadata": {},
   "outputs": [
    {
     "data": {
      "text/plain": [
       "(694282, 17)"
      ]
     },
     "execution_count": 1209,
     "metadata": {},
     "output_type": "execute_result"
    }
   ],
   "source": [
    "# Remove refunds, keep only barack, mit\n",
    "fec = fec[fec['contb_receipt_amt'] > 0 ]\n",
    "fec_fil = fec[fec.cand_nm.isin(['Obama, Barack', 'Romney, Mitt'])]"
   ]
  },
  {
   "cell_type": "code",
   "execution_count": 1268,
   "id": "cef03806",
   "metadata": {},
   "outputs": [
    {
     "data": {
      "text/plain": [
       "<AxesSubplot:ylabel='contbr_occupation'>"
      ]
     },
     "execution_count": 1268,
     "metadata": {},
     "output_type": "execute_result"
    },
    {
     "data": {
      "image/png": "[encoded data removed]",
      "text/plain": [
       "<Figure size 720x432 with 1 Axes>"
      ]
     },
     "metadata": {
      "needs_background": "light"
     },
     "output_type": "display_data"
    }
   ],
   "source": [
    "# Clean up occ names\n",
    "occ_mapping = {\n",
    "    \"INFORMATION REQUESTED PER BEST EFFORTS\" : \"NA\",\n",
    "    \"INFORMATION REQUESTED\" : \"NA\",\n",
    "    \"INFORMATION REQUESTED (BEST EFFORTS)\" : \"NA\",\n",
    "    \"NONE\" : \"NA\"\n",
    "}\n",
    "f = lambda x: occ_mapping.get(x, x) # Use get() to return x if no match for x\n",
    "fec.contbr_occupation = fec.contbr_occupation.map(f)\n",
    "\n",
    "by_occ = fec.pivot_table('contb_receipt_amt',\n",
    "                index='contbr_occupation',\n",
    "                columns='party',\n",
    "                aggfunc='sum')\n",
    "\n",
    "# Filter for over 2000000\n",
    "by_occ_fil = by_occ[by_occ.sum(1) > 2000000]\n",
    "by_occ_fil.plot(kind='barh')"
   ]
  },
  {
   "cell_type": "code",
   "execution_count": 1280,
   "id": "f29399b2",
   "metadata": {},
   "outputs": [
    {
     "data": {
      "text/plain": [
       "cand_nm        contbr_occupation                     \n",
       "Obama, Barack  RETIRED                                   25305116.38\n",
       "               ATTORNEY                                  11141982.97\n",
       "               INFORMATION REQUESTED                      4866973.96\n",
       "               HOMEMAKER                                  4248875.80\n",
       "               PHYSICIAN                                  3735124.94\n",
       "Romney, Mitt   RETIRED                                   11508473.59\n",
       "               INFORMATION REQUESTED PER BEST EFFORTS    11396894.84\n",
       "               HOMEMAKER                                  8147446.22\n",
       "               ATTORNEY                                   5364718.82\n",
       "               PRESIDENT                                  2491244.89\n",
       "Name: contb_receipt_amt, dtype: float64"
      ]
     },
     "execution_count": 1280,
     "metadata": {},
     "output_type": "execute_result"
    }
   ],
   "source": [
    "# cannidate occupations\n",
    "\n",
    "def get_top_amounts(group, key, n=5):\n",
    "    totals = group.groupby(key)['contb_receipt_amt'].sum()\n",
    "    return totals.nlargest(n)\n",
    "\n",
    "g = fec_fil.groupby('cand_nm')\n",
    "g.apply(get_top_amounts, 'contbr_occupation')"
   ]
  },
  {
   "cell_type": "code",
   "execution_count": 1299,
   "id": "7edf2205",
   "metadata": {},
   "outputs": [
    {
     "data": {
      "text/plain": [
       "<AxesSubplot:xlabel='contb_receipt_amt'>"
      ]
     },
     "execution_count": 1299,
     "metadata": {},
     "output_type": "execute_result"
    },
    {
     "data": {
      "image/png": "[encoded data removed]",
      "text/plain": [
       "<Figure size 720x432 with 1 Axes>"
      ]
     },
     "metadata": {
      "needs_background": "light"
     },
     "output_type": "display_data"
    }
   ],
   "source": [
    "# Bin data by contribution amount\n",
    "bins = np.array([1, 10, 100, 1000, 10000, 100000, 1000000, 10000000])\n",
    "labels = pd.cut(fec_fil.contb_receipt_amt, bins)\n",
    "g = fec_fil.groupby(['cand_nm', labels]).sum()\n",
    "total = g.drop('file_num', axis=1).unstack(0)\n",
    "total.div(total.sum(axis=1), axis=0).plot(kind='bar') # this is how to get %"
   ]
  },
  {
   "cell_type": "code",
   "execution_count": 1307,
   "id": "c13ea3fd",
   "metadata": {},
   "outputs": [
    {
     "data": {
      "text/html": [
       "<div>\n",
       "<style scoped>\n",
       "    .dataframe tbody tr th:only-of-type {\n",
       "        vertical-align: middle;\n",
       "    }\n",
       "\n",
       "    .dataframe tbody tr th {\n",
       "        vertical-align: top;\n",
       "    }\n",
       "\n",
       "    .dataframe thead th {\n",
       "        text-align: right;\n",
       "    }\n",
       "</style>\n",
       "<table border=\"1\" class=\"dataframe\">\n",
       "  <thead>\n",
       "    <tr style=\"text-align: right;\">\n",
       "      <th>cand_nm</th>\n",
       "      <th>Obama, Barack</th>\n",
       "      <th>Romney, Mitt</th>\n",
       "    </tr>\n",
       "    <tr>\n",
       "      <th>contbr_st</th>\n",
       "      <th></th>\n",
       "      <th></th>\n",
       "    </tr>\n",
       "  </thead>\n",
       "  <tbody>\n",
       "    <tr>\n",
       "      <th>AA</th>\n",
       "      <td>56405.00</td>\n",
       "      <td>135.00</td>\n",
       "    </tr>\n",
       "    <tr>\n",
       "      <th>AB</th>\n",
       "      <td>2048.00</td>\n",
       "      <td>NaN</td>\n",
       "    </tr>\n",
       "    <tr>\n",
       "      <th>AE</th>\n",
       "      <td>42973.75</td>\n",
       "      <td>5680.00</td>\n",
       "    </tr>\n",
       "    <tr>\n",
       "      <th>AK</th>\n",
       "      <td>281840.15</td>\n",
       "      <td>86204.24</td>\n",
       "    </tr>\n",
       "    <tr>\n",
       "      <th>AL</th>\n",
       "      <td>543123.48</td>\n",
       "      <td>527303.51</td>\n",
       "    </tr>\n",
       "    <tr>\n",
       "      <th>...</th>\n",
       "      <td>...</td>\n",
       "      <td>...</td>\n",
       "    </tr>\n",
       "    <tr>\n",
       "      <th>WI</th>\n",
       "      <td>1130155.46</td>\n",
       "      <td>270316.32</td>\n",
       "    </tr>\n",
       "    <tr>\n",
       "      <th>WV</th>\n",
       "      <td>169154.47</td>\n",
       "      <td>126725.12</td>\n",
       "    </tr>\n",
       "    <tr>\n",
       "      <th>WY</th>\n",
       "      <td>194046.74</td>\n",
       "      <td>252595.84</td>\n",
       "    </tr>\n",
       "    <tr>\n",
       "      <th>XX</th>\n",
       "      <td>NaN</td>\n",
       "      <td>400250.00</td>\n",
       "    </tr>\n",
       "    <tr>\n",
       "      <th>ZZ</th>\n",
       "      <td>5963.00</td>\n",
       "      <td>NaN</td>\n",
       "    </tr>\n",
       "  </tbody>\n",
       "</table>\n",
       "<p>67 rows × 2 columns</p>\n",
       "</div>"
      ],
      "text/plain": [
       "cand_nm    Obama, Barack  Romney, Mitt\n",
       "contbr_st                             \n",
       "AA              56405.00        135.00\n",
       "AB               2048.00           NaN\n",
       "AE              42973.75       5680.00\n",
       "AK             281840.15      86204.24\n",
       "AL             543123.48     527303.51\n",
       "...                  ...           ...\n",
       "WI            1130155.46     270316.32\n",
       "WV             169154.47     126725.12\n",
       "WY             194046.74     252595.84\n",
       "XX                   NaN     400250.00\n",
       "ZZ               5963.00           NaN\n",
       "\n",
       "[67 rows x 2 columns]"
      ]
     },
     "execution_count": 1307,
     "metadata": {},
     "output_type": "execute_result"
    }
   ],
   "source": [
    "# Donations by state\n",
    "gor(fec_fil.groupby(['cand_nm', 'contbr_st']).contb_receipt_amt.sum(1).unstack(0))"
   ]
  },
  {
   "cell_type": "code",
   "execution_count": null,
   "id": "cada3a3d",
   "metadata": {},
   "outputs": [],
   "source": []
  }
 ],
 "metadata": {
  "kernelspec": {
   "display_name": "Python 3",
   "language": "python",
   "name": "python3"
  },
  "language_info": {
   "codemirror_mode": {
    "name": "ipython",
    "version": 3
   },
   "file_extension": ".py",
   "mimetype": "text/x-python",
   "name": "python",
   "nbconvert_exporter": "python",
   "pygments_lexer": "ipython3",
   "version": "3.8.8"
  }
 },
 "nbformat": 4,
 "nbformat_minor": 5
}

{
 "cells": [
  {
   "cell_type": "markdown",
   "metadata": {},
   "source": [
    "# Sam's Teach Yourself Unix\n",
    "## Chapter 18: find"
   ]
  },
  {
   "cell_type": "markdown",
   "metadata": {},
   "source": [
    "### ```find``` options\n",
    "```find``` uses full word options instead of letters"
   ]
  },
  {
   "cell_type": "code",
   "execution_count": null,
   "metadata": {},
   "outputs": [],
   "source": [
    "! find . -print # files in pwd"
   ]
  },
  {
   "cell_type": "code",
   "execution_count": null,
   "metadata": {},
   "outputs": [],
   "source": [
    "! find ~/jpmcga/notes -name \"*tyu*.ipynb\" # re needs to be in quotes\n",
    "! find ~/jpmcga/notes -name \"*tyu*\" | wc -l"
   ]
  },
  {
   "cell_type": "code",
   "execution_count": null,
   "metadata": {},
   "outputs": [],
   "source": [
    "! find ~/jpmcga/notes -atime 100 -name \"*tyu*\" # file accessed exactly 100 days ago\n"
   ]
  },
  {
   "cell_type": "code",
   "execution_count": null,
   "metadata": {},
   "outputs": [],
   "source": [
    "! find ~/jpmcga/notes -atime -100 -name \"*tyu*\" # file accessed within 100 days"
   ]
  },
  {
   "cell_type": "code",
   "execution_count": null,
   "metadata": {},
   "outputs": [],
   "source": [
    "! find ~/jpmcga/notes -atime +99 -name \"*tyu*\" # file accessed morethan 99 days"
   ]
  },
  {
   "cell_type": "code",
   "execution_count": null,
   "metadata": {},
   "outputs": [],
   "source": [
    "! find ~/jpmcga/notes -type d -name \"*tyu*\" # d=dir, l=link, f=file"
   ]
  },
  {
   "cell_type": "code",
   "execution_count": null,
   "metadata": {},
   "outputs": [],
   "source": [
    "! find ~/jpmcga/notes -type d -name \"*tyu*\" -user jamesm # created by"
   ]
  },
  {
   "cell_type": "code",
   "execution_count": null,
   "metadata": {},
   "outputs": [],
   "source": [
    "# two different dirs\n",
    "! find ~/jpmcga/notes/tyu/ ~/jpmcga/notes/pfda -name \"*notes*\" -mtime +100"
   ]
  },
  {
   "cell_type": "code",
   "execution_count": null,
   "metadata": {},
   "outputs": [],
   "source": [
    "# use -exec to excute command on each match\n",
    "! find ~/jpmcga/notes/pfda -name \"*notes*\" -mtime +100 -exec ls -l {} \\;"
   ]
  },
  {
   "cell_type": "code",
   "execution_count": null,
   "metadata": {},
   "outputs": [],
   "source": [
    "# remove files\n",
    "! find . -name \".ipynb_*\" -exec rm -r {} \\;"
   ]
  },
  {
   "cell_type": "markdown",
   "metadata": {},
   "source": [
    "### xargs"
   ]
  },
  {
   "cell_type": "markdown",
   "metadata": {},
   "source": [
    "```xargs``` only operates on files that pass critera from find"
   ]
  },
  {
   "cell_type": "code",
   "execution_count": null,
   "metadata": {},
   "outputs": [],
   "source": [
    "# using -exec call grep on every file\n",
    "! find ~/jpmcga/notes/pfda -type f -exec grep -l -i notes {} \\;\n",
    "%timeit ! find ~/jpmcga/notes/pfda -type f -exec grep -l -i notes {} \\; # 3.75 sec"
   ]
  },
  {
   "cell_type": "code",
   "execution_count": null,
   "metadata": {},
   "outputs": [],
   "source": [
    "! find ~/jpmcga/notes/pfda -type f | xargs grep -l -i notes\n",
    "%timeit ! find ~/jpmcga/notes/pfda -type f | xargs grep -l -i notes #2.7 sec"
   ]
  },
  {
   "cell_type": "code",
   "execution_count": null,
   "metadata": {},
   "outputs": [],
   "source": [
    "# search for any file containing 'pyplot'\n",
    "! find ~/jpmcga/notes/pfda -type f | xargs grep -i pyplot"
   ]
  },
  {
   "cell_type": "markdown",
   "metadata": {},
   "source": [
    "### Exercises"
   ]
  },
  {
   "cell_type": "markdown",
   "metadata": {},
   "source": [
    "1. How many files on computer?"
   ]
  },
  {
   "cell_type": "code",
   "execution_count": null,
   "metadata": {},
   "outputs": [],
   "source": [
    "# should probably run in sudo, send error message to txt file\n",
    "! find / -type f 2>error.txt | wc -l # 4,970,079"
   ]
  },
  {
   "cell_type": "markdown",
   "metadata": {},
   "source": [
    "2. All filenames that contain 'abc', all files that contain 'abc'"
   ]
  },
  {
   "cell_type": "code",
   "execution_count": null,
   "metadata": {},
   "outputs": [],
   "source": [
    "# filenames\n",
    "! find / -type f -name \"*abc*\""
   ]
  },
  {
   "cell_type": "code",
   "execution_count": null,
   "metadata": {},
   "outputs": [],
   "source": [
    "! find / -type f 2>error.txt | xargs grep abc | wc -l # 2475"
   ]
  },
  {
   "cell_type": "code",
   "execution_count": null,
   "metadata": {},
   "outputs": [],
   "source": []
  }
 ],
 "metadata": {
  "kernelspec": {
   "display_name": "Python 3 (ipykernel)",
   "language": "python",
   "name": "python3"
  },
  "language_info": {
   "codemirror_mode": {
    "name": "ipython",
    "version": 3
   },
   "file_extension": ".py",
   "mimetype": "text/x-python",
   "name": "python",
   "nbconvert_exporter": "python",
   "pygments_lexer": "ipython3",
   "version": "3.8.16"
  }
 },
 "nbformat": 4,
 "nbformat_minor": 2
}

{
 "cells": [
  {
   "cell_type": "markdown",
   "id": "ee7c1262",
   "metadata": {},
   "source": [
    "netstat -sn 10.0.0.0/24 # Ping every address on LAN, use sudo for more info\n",
    "hostname # Return hostname\n",
    "hostname -i # Return self ip4\n",
    "hostname -I # Return network ip4, ip6\n",
    "sudo raspi-config # Open config file for raspi\n",
    "\n",
    "\n"
   ]
  }
 ],
 "metadata": {
  "kernelspec": {
   "display_name": "Python 3 (ipykernel)",
   "language": "python",
   "name": "python3"
  },
  "language_info": {
   "codemirror_mode": {
    "name": "ipython",
    "version": 3
   },
   "file_extension": ".py",
   "mimetype": "text/x-python",
   "name": "python",
   "nbconvert_exporter": "python",
   "pygments_lexer": "ipython3",
   "version": "3.10.8"
  }
 },
 "nbformat": 4,
 "nbformat_minor": 5
}

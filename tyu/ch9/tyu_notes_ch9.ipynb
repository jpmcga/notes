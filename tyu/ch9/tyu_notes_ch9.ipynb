{
 "cells": [
  {
   "cell_type": "markdown",
   "id": "83b65e16",
   "metadata": {},
   "source": [
    "# Sam's Teach Yourself Unix"
   ]
  },
  {
   "cell_type": "markdown",
   "id": "ce29c7c7",
   "metadata": {},
   "source": [
    "## Chapter 9: Wildcards and Regular Expressions"
   ]
  },
  {
   "cell_type": "markdown",
   "id": "5c66239d",
   "metadata": {},
   "source": [
    "### Filename Wildcards"
   ]
  },
  {
   "cell_type": "code",
   "execution_count": null,
   "id": "e1d307db",
   "metadata": {},
   "outputs": [],
   "source": [
    "# * refers to all files in a given dir\n",
    "!echo /bin/*"
   ]
  },
  {
   "cell_type": "code",
   "execution_count": null,
   "id": "68445c85",
   "metadata": {},
   "outputs": [],
   "source": [
    "!echo /bin/*t"
   ]
  },
  {
   "cell_type": "code",
   "execution_count": null,
   "id": "287b0508",
   "metadata": {},
   "outputs": [],
   "source": [
    "!echo /bin/t*"
   ]
  },
  {
   "cell_type": "code",
   "execution_count": null,
   "id": "1acb9bc1",
   "metadata": {},
   "outputs": [],
   "source": [
    "!echo /bin/*t*"
   ]
  },
  {
   "cell_type": "code",
   "execution_count": null,
   "id": "9aff2e4c",
   "metadata": {},
   "outputs": [],
   "source": [
    "!echo ../*.???"
   ]
  },
  {
   "cell_type": "code",
   "execution_count": null,
   "id": "f4316ad6",
   "metadata": {},
   "outputs": [],
   "source": [
    "!echo ../*.??f"
   ]
  },
  {
   "cell_type": "code",
   "execution_count": null,
   "id": "833ebb7a",
   "metadata": {},
   "outputs": [],
   "source": [
    "# start with any of bcst\n",
    "!echo /bin/[bcst]*"
   ]
  },
  {
   "cell_type": "code",
   "execution_count": null,
   "id": "c54f2710",
   "metadata": {},
   "outputs": [],
   "source": [
    "# specify range\n",
    "!echo /bin/[a-d]*"
   ]
  },
  {
   "cell_type": "code",
   "execution_count": null,
   "id": "5f3960f0",
   "metadata": {},
   "outputs": [],
   "source": [
    "# 0-9 or 'o'\n",
    "!echo ../*[0-9o]*"
   ]
  },
  {
   "cell_type": "markdown",
   "id": "7819aa08",
   "metadata": {},
   "source": [
    "### grep"
   ]
  },
  {
   "cell_type": "code",
   "execution_count": null,
   "id": "ad82933a",
   "metadata": {},
   "outputs": [],
   "source": [
    "!head /Users/jamesm/fastq/D00945_NG01726_linker2_R2.fastq"
   ]
  },
  {
   "cell_type": "code",
   "execution_count": null,
   "id": "04c83ac9",
   "metadata": {},
   "outputs": [],
   "source": [
    "!grep '^CAAG[ACT]' /Users/jamesm/fastq/D00945_NG01726_linker2_R2.fastq"
   ]
  },
  {
   "cell_type": "code",
   "execution_count": null,
   "id": "29472037",
   "metadata": {},
   "outputs": [],
   "source": [
    "# * has different meaning in grep: zero or more occurences of\n",
    "!grep 'z' /Users/jamesm/fastq/D00945_NG01726_linker2_R2.fastq # No output\n",
    "!grep 'z*' /Users/jamesm/fastq/D00945_NG01726_linker2_R2.fastq | head"
   ]
  },
  {
   "cell_type": "code",
   "execution_count": null,
   "id": "201b59ff",
   "metadata": {},
   "outputs": [],
   "source": [
    "# TO have at least one z\n",
    "!grep 'zz' /Users/jamesm/fastq/D00945_NG01726_linker2_R2.fastq # No output"
   ]
  },
  {
   "cell_type": "code",
   "execution_count": null,
   "id": "fa2055c9",
   "metadata": {},
   "outputs": [],
   "source": [
    "!grep ':1/$' /Users/jamesm/fastq/D00945_NG01726_linker2_R2.fastq # ends with"
   ]
  },
  {
   "cell_type": "code",
   "execution_count": null,
   "id": "34669546",
   "metadata": {},
   "outputs": [],
   "source": [
    "# $ only interprited as eol if at end of regex\n",
    "!echo $100 >> text.txt\n",
    "!grep '$100' text.txt # huh doesn't seem to work in zsh"
   ]
  },
  {
   "cell_type": "code",
   "execution_count": null,
   "id": "c6b5a548",
   "metadata": {},
   "outputs": [],
   "source": [
    "# Will search all file in current dir and all below\n",
    "!grep 100 * */*"
   ]
  },
  {
   "cell_type": "code",
   "execution_count": null,
   "id": "51386c52",
   "metadata": {},
   "outputs": [],
   "source": [
    "# use \\ to use charater meaning of symbol\n",
    "! echo this is a sentence. >> text.txt"
   ]
  },
  {
   "cell_type": "code",
   "execution_count": null,
   "id": "35a76edf",
   "metadata": {},
   "outputs": [],
   "source": [
    "! grep '.' text.txt\n",
    "! grep '\\.' text.txt"
   ]
  },
  {
   "cell_type": "markdown",
   "id": "8003a0f5",
   "metadata": {},
   "source": [
    "#### Flags for grep"
   ]
  },
  {
   "cell_type": "code",
   "execution_count": null,
   "id": "be228e87",
   "metadata": {},
   "outputs": [],
   "source": [
    "# -c flag to return a count of matching lines\n",
    "! grep -c 100 text.txt "
   ]
  },
  {
   "cell_type": "code",
   "execution_count": null,
   "id": "fe05646a",
   "metadata": {},
   "outputs": [],
   "source": [
    "# -i for case insensitive\n",
    "! echo That >> text.txt"
   ]
  },
  {
   "cell_type": "code",
   "execution_count": null,
   "id": "83fa9435",
   "metadata": {},
   "outputs": [],
   "source": [
    "! grep -i 'Th' text.txt"
   ]
  },
  {
   "cell_type": "code",
   "execution_count": null,
   "id": "a8a76187",
   "metadata": {},
   "outputs": [],
   "source": [
    "# -l lists only the file names\n",
    "! grep -l Th *"
   ]
  },
  {
   "cell_type": "code",
   "execution_count": null,
   "id": "c0a14a15",
   "metadata": {},
   "outputs": [],
   "source": [
    "# -n includes line number \n",
    "! grep -n 1000 *"
   ]
  },
  {
   "cell_type": "markdown",
   "id": "03356f80",
   "metadata": {},
   "source": [
    "### egrep"
   ]
  },
  {
   "cell_type": "markdown",
   "id": "527eb99e",
   "metadata": {},
   "source": [
    "- grep probably comes from '**g**lobal **r**eg**e**x **p**rint'\n",
    "- egrep for more advanced pattern matching"
   ]
  },
  {
   "cell_type": "code",
   "execution_count": null,
   "id": "d342f74a",
   "metadata": {},
   "outputs": [],
   "source": [
    "# Regular grep lacks 'one or more occurences' pattern\n",
    "! grep p+ text.txt"
   ]
  },
  {
   "cell_type": "code",
   "execution_count": null,
   "id": "93a4bc0f",
   "metadata": {},
   "outputs": [],
   "source": [
    "# Have to do this stupid thing; I actually you should just do 'p'\n",
    "! grep 'pp*' text.txt"
   ]
  },
  {
   "cell_type": "code",
   "execution_count": null,
   "id": "d7405457",
   "metadata": {},
   "outputs": [],
   "source": [
    "# + for one or more\n",
    "! egrep p+ text.txt"
   ]
  },
  {
   "cell_type": "code",
   "execution_count": null,
   "id": "ff15a6a5",
   "metadata": {},
   "outputs": [],
   "source": [
    "# Can also do either/or\n",
    "! egrep '(y|p)' text.txt"
   ]
  },
  {
   "cell_type": "code",
   "execution_count": null,
   "id": "b38816c4",
   "metadata": {},
   "outputs": [],
   "source": [
    "# starts with ranges with either/or\n",
    "! egrep '^([a-zA-Z]|100)' text.txt # Not sure why not seeing files"
   ]
  },
  {
   "cell_type": "markdown",
   "id": "2ca37d77",
   "metadata": {},
   "source": [
    "### fgreg"
   ]
  },
  {
   "cell_type": "markdown",
   "id": "4da11066",
   "metadata": {},
   "source": [
    "- fgrep uses a file of patterns to search"
   ]
  },
  {
   "cell_type": "code",
   "execution_count": null,
   "id": "0fdbc391",
   "metadata": {},
   "outputs": [],
   "source": [
    "! echo 'bash\\ncat\\ntest\\nt' > words"
   ]
  },
  {
   "cell_type": "code",
   "execution_count": null,
   "id": "eed5b36b",
   "metadata": {},
   "outputs": [],
   "source": [
    "# guess you need -f flag\n",
    "! fgrep -f words text.txt"
   ]
  },
  {
   "cell_type": "code",
   "execution_count": null,
   "id": "e40a079e",
   "metadata": {},
   "outputs": [],
   "source": [
    "# By default shows the entire line\n",
    "! echo 't' > words\n",
    "! fgrep -f words text.txt"
   ]
  },
  {
   "cell_type": "markdown",
   "id": "29ff002f",
   "metadata": {},
   "source": [
    "### awk"
   ]
  },
  {
   "cell_type": "code",
   "execution_count": null,
   "id": "82c37cc3",
   "metadata": {},
   "outputs": [],
   "source": [
    "! echo 'this is a sample sentence' | awk '{for (i=1;i<=NF;i++) print $i}'"
   ]
  },
  {
   "cell_type": "code",
   "execution_count": null,
   "id": "90907f4c",
   "metadata": {},
   "outputs": [],
   "source": [
    "# Made shell script test.sh and used chmod 755 to make exe\n",
    "! cat test.sh"
   ]
  },
  {
   "cell_type": "code",
   "execution_count": null,
   "id": "3d61406e",
   "metadata": {},
   "outputs": [],
   "source": [
    "! zsh test.sh text.txt"
   ]
  },
  {
   "cell_type": "code",
   "execution_count": null,
   "id": "92d930c7",
   "metadata": {},
   "outputs": [],
   "source": [
    "# -v shows all lines than DO NOT match pattern\n",
    "! fgrep -v -f words text.txt"
   ]
  },
  {
   "cell_type": "markdown",
   "id": "10c314e0",
   "metadata": {},
   "source": [
    "### Exercises"
   ]
  },
  {
   "cell_type": "code",
   "execution_count": null,
   "id": "7d4839a5",
   "metadata": {},
   "outputs": [],
   "source": [
    "# All files in the /tmp dir\n",
    "! ls /tmp/*"
   ]
  },
  {
   "cell_type": "code",
   "execution_count": null,
   "id": "33e077cd",
   "metadata": {},
   "outputs": [],
   "source": [
    "# All files that contain w (case insensitive) in tmp\n",
    "! ls /tmp/*[Ww]* # wtf is Listeners"
   ]
  },
  {
   "cell_type": "code",
   "execution_count": null,
   "id": "5c8c0f69",
   "metadata": {},
   "outputs": [],
   "source": [
    "# All files that start with b, contain e, end with.c\n",
    "! touch biggesmalls.c\n",
    "! ls -R / | grep '^b.*e.*\\.c$'"
   ]
  },
  {
   "cell_type": "code",
   "execution_count": null,
   "id": "d90288f8",
   "metadata": {},
   "outputs": [],
   "source": [
    "# All files that start with test or contain hi# '.*hi.*'\n",
    "! ls -R / | egrep  '(^test|hi)'"
   ]
  },
  {
   "cell_type": "code",
   "execution_count": null,
   "id": "02e8e58e",
   "metadata": {},
   "outputs": [],
   "source": [
    "# lines that contain hot and cold\n",
    "! echo 'hot\\n23fhotf as2dfghjmq4wr32e fscold4ewr\\ncold' >> text.txt"
   ]
  },
  {
   "cell_type": "code",
   "execution_count": null,
   "id": "8b75d14d",
   "metadata": {},
   "outputs": [],
   "source": [
    "! grep 'hot.*cold' text.txt # assuming in this order, otherwise complicated"
   ]
  },
  {
   "cell_type": "code",
   "execution_count": null,
   "id": "22d1dbc0",
   "metadata": {},
   "outputs": [],
   "source": [
    "# Lines that contain cat not cats\n",
    "! echo 'sadf3f catssfsdf\\ncatfff' >> text.txt"
   ]
  },
  {
   "cell_type": "code",
   "execution_count": null,
   "id": "1bb4ce34",
   "metadata": {},
   "outputs": [],
   "source": [
    "! grep 'cat[^s]' text.txt"
   ]
  },
  {
   "cell_type": "code",
   "execution_count": null,
   "id": "729cfd59",
   "metadata": {},
   "outputs": [],
   "source": [
    "# Lines that begin with numeral\n",
    "! grep '^[0-9]' text.txt"
   ]
  },
  {
   "cell_type": "code",
   "execution_count": null,
   "id": "acc9ae32",
   "metadata": {},
   "outputs": [],
   "source": [
    "# Show how to match hot and cold with grep and pipes\n",
    "! grep 'hot.*cold' text.txt"
   ]
  },
  {
   "cell_type": "code",
   "execution_count": null,
   "id": "3d619efe",
   "metadata": {},
   "outputs": [],
   "source": [
    "! cat text.txt | grep 'hot.*cold'"
   ]
  },
  {
   "cell_type": "code",
   "execution_count": null,
   "id": "46fd881d",
   "metadata": {},
   "outputs": [],
   "source": [
    "# Show how to use -v flag\n",
    "! echo cabana >> text.txt\n",
    "! echo jazz\\nfunk\\njazzandfunk >> text.txt\n",
    "! echo disco\\nblues\\nska >> text.txt"
   ]
  },
  {
   "cell_type": "code",
   "execution_count": null,
   "id": "6ff9f5ed",
   "metadata": {},
   "outputs": [],
   "source": [
    "! grep -v cabana text.txt"
   ]
  },
  {
   "cell_type": "code",
   "execution_count": null,
   "id": "4306412a",
   "metadata": {},
   "outputs": [],
   "source": [
    "! egrep -v 'jazz|funk' text.txt"
   ]
  },
  {
   "cell_type": "code",
   "execution_count": null,
   "id": "b9a26b2d",
   "metadata": {},
   "outputs": [],
   "source": [
    "! egrep -v 'jazz|funk|disco|blues|ska' text.txt"
   ]
  },
  {
   "cell_type": "code",
   "execution_count": null,
   "id": "aafb1589",
   "metadata": {},
   "outputs": [],
   "source": [
    "# Find out name of 11th or 24th file in /etc\n",
    "! ls -1 /etc/ | cat -n | egrep '11|24'"
   ]
  },
  {
   "cell_type": "code",
   "execution_count": null,
   "id": "3793d1c4",
   "metadata": {},
   "outputs": [],
   "source": [
    "# To ways to find lines containing a list\n",
    "! echo 'jazz\\nfunk\\ndisco\\nblues\\nska' > words"
   ]
  },
  {
   "cell_type": "code",
   "execution_count": null,
   "id": "f85d432b",
   "metadata": {},
   "outputs": [],
   "source": [
    "! egrep 'jazz|funk|disco|blues|ska' text.txt "
   ]
  },
  {
   "cell_type": "code",
   "execution_count": null,
   "id": "d26da46d",
   "metadata": {},
   "outputs": [],
   "source": [
    "! fgrep -f words text.txt "
   ]
  }
 ],
 "metadata": {
  "kernelspec": {
   "display_name": "Python 3 (ipykernel)",
   "language": "python",
   "name": "python3"
  },
  "language_info": {
   "codemirror_mode": {
    "name": "ipython",
    "version": 3
   },
   "file_extension": ".py",
   "mimetype": "text/x-python",
   "name": "python",
   "nbconvert_exporter": "python",
   "pygments_lexer": "ipython3",
   "version": "3.8.16"
  }
 },
 "nbformat": 4,
 "nbformat_minor": 5
}

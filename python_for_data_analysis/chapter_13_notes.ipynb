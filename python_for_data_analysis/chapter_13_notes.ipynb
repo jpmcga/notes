{
 "cells": [
  {
   "cell_type": "markdown",
   "id": "4b93418e",
   "metadata": {},
   "source": [
    "# Chapter 13: Introduction to Modeling Libraries in Python"
   ]
  },
  {
   "cell_type": "code",
   "execution_count": 1,
   "id": "be4993c3",
   "metadata": {},
   "outputs": [],
   "source": [
    "import pandas as pd\n",
    "import numpy as np\n"
   ]
  },
  {
   "cell_type": "code",
   "execution_count": 5,
   "id": "cbdb5013",
   "metadata": {},
   "outputs": [],
   "source": [
    "# !pip3 install patsy\n",
    "# !pip3 install statsmodels # This install scipy as well\n",
    "# !pip3 install sklearn"
   ]
  },
  {
   "cell_type": "markdown",
   "id": "784ce8dd",
   "metadata": {},
   "source": [
    "## 13.1 Interfacing Between pandas and Model Code"
   ]
  },
  {
   "cell_type": "code",
   "execution_count": 19,
   "id": "ec2be781",
   "metadata": {},
   "outputs": [
    {
     "name": "stdout",
     "output_type": "stream",
     "text": [
      "          x         y         z\n",
      "0 -0.097825  0.330839 -0.772891\n",
      "1 -0.185997 -1.929895  1.142972\n",
      "2 -1.669465  1.858885 -0.101421\n",
      "\n",
      "[[-0.09782549  0.33083946 -0.77289098]\n",
      " [-0.18599733 -1.92989505  1.14297172]\n",
      " [-1.66946456  1.85888538 -0.10142126]]\n",
      "\n",
      "          x         y         z cat\n",
      "0 -0.097825  0.330839 -0.772891   c\n",
      "1 -0.185997 -1.929895  1.142972   a\n",
      "2 -1.669465  1.858885 -0.101421   t\n",
      "\n",
      "[[-0.0978254872127047 0.33083946270968806 -0.7728909753020009 'c']\n",
      " [-0.1859973259311163 -1.9298950482046968 1.1429717235788583 'a']\n",
      " [-1.6694645637580399 1.8588853786334036 -0.10142125672844508 't']]\n"
     ]
    }
   ],
   "source": [
    "# numpy array main entry point into modeling code\n",
    "# use pd. values to get array from df\n",
    "df = pd.DataFrame(np.random.randn(3,3),\n",
    "                 columns=list('xyz'))\n",
    "print(df)\n",
    "print()\n",
    "print(df.values)\n",
    "print()\n",
    "\n",
    "# if df contains non-numeric column, then returns python object instead of array\n",
    "# ^actually I think this is wrong in the book?\n",
    "df2 = df.assign(cat = list('cat'))\n",
    "print(df2)\n",
    "print()\n",
    "print(df2.values)"
   ]
  },
  {
   "cell_type": "code",
   "execution_count": 10,
   "id": "6c5fc066",
   "metadata": {},
   "outputs": [
    {
     "data": {
      "text/html": [
       "<div>\n",
       "<style scoped>\n",
       "    .dataframe tbody tr th:only-of-type {\n",
       "        vertical-align: middle;\n",
       "    }\n",
       "\n",
       "    .dataframe tbody tr th {\n",
       "        vertical-align: top;\n",
       "    }\n",
       "\n",
       "    .dataframe thead th {\n",
       "        text-align: right;\n",
       "    }\n",
       "</style>\n",
       "<table border=\"1\" class=\"dataframe\">\n",
       "  <thead>\n",
       "    <tr style=\"text-align: right;\">\n",
       "      <th></th>\n",
       "      <th>x</th>\n",
       "      <th>y</th>\n",
       "      <th>z</th>\n",
       "    </tr>\n",
       "  </thead>\n",
       "  <tbody>\n",
       "    <tr>\n",
       "      <th>0</th>\n",
       "      <td>0.510020</td>\n",
       "      <td>0.460474</td>\n",
       "      <td>0.932837</td>\n",
       "    </tr>\n",
       "    <tr>\n",
       "      <th>1</th>\n",
       "      <td>-0.386415</td>\n",
       "      <td>0.816194</td>\n",
       "      <td>-0.213773</td>\n",
       "    </tr>\n",
       "    <tr>\n",
       "      <th>2</th>\n",
       "      <td>-0.289658</td>\n",
       "      <td>0.059980</td>\n",
       "      <td>-0.953676</td>\n",
       "    </tr>\n",
       "  </tbody>\n",
       "</table>\n",
       "</div>"
      ],
      "text/plain": [
       "          x         y         z\n",
       "0  0.510020  0.460474  0.932837\n",
       "1 -0.386415  0.816194 -0.213773\n",
       "2 -0.289658  0.059980 -0.953676"
      ]
     },
     "execution_count": 10,
     "metadata": {},
     "output_type": "execute_result"
    }
   ],
   "source": []
  },
  {
   "cell_type": "code",
   "execution_count": null,
   "id": "043d527b",
   "metadata": {},
   "outputs": [],
   "source": []
  }
 ],
 "metadata": {
  "kernelspec": {
   "display_name": "Python 3 (ipykernel)",
   "language": "python",
   "name": "python3"
  },
  "language_info": {
   "codemirror_mode": {
    "name": "ipython",
    "version": 3
   },
   "file_extension": ".py",
   "mimetype": "text/x-python",
   "name": "python",
   "nbconvert_exporter": "python",
   "pygments_lexer": "ipython3",
   "version": "3.10.8"
  }
 },
 "nbformat": 4,
 "nbformat_minor": 5
}

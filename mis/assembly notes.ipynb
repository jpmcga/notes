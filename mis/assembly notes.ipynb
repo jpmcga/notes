{
 "cells": [
  {
   "cell_type": "markdown",
   "id": "4e29fcde",
   "metadata": {},
   "source": [
    "# Notes from Assembly & shortest common superstring\n",
    "## Ben Langmead, JHU\n",
    "### https://www.cs.jhu.edu/~langmea/resources/lecture_notes/assembly_scs.pdf"
   ]
  },
  {
   "attachments": {},
   "cell_type": "markdown",
   "id": "58939218",
   "metadata": {},
   "source": [
    "Find all overlaps: <br>\n",
    "- suffix of 'source' must match prefix of 'sink'\n",
    "    -   CTCGGCTCTAGCCCCTCATTTT <br>\n",
    "         |---------------------------------| <br>\n",
    "        GGCTCTAGGCCCTCATTTTTT\n",
    "- Build a directed graph (digraph) where edges connect overlapping nodes <br>\n"
   ]
  },
  {
   "cell_type": "markdown",
   "id": "5291322f",
   "metadata": {},
   "source": [
    "V: { a: CTCTAG**GCC**, b: **GCC**CT**CAAT**, c: **CAAT**TTTT } <br>\n",
    "E: { (a, b), (b, c) }"
   ]
  },
  {
   "cell_type": "code",
   "execution_count": 24,
   "id": "1e5404f4",
   "metadata": {},
   "outputs": [],
   "source": [
    "def suffixPrefixMatch(x, y, k):\n",
    "    '''Return\tlength\tof\tlongest\tsuffix\tof\tx\tof\tlength\tat\tleast\tk\tthat\n",
    "        matches\ta\tprefix\tof\ty.\t\tReturn\t0\tif\tthere\tno\tsuffix/prefix\n",
    "        match\thas\tlength\tat\tleast k.'''\n",
    "    if len(x) < k or len(y) < k:\n",
    "        return 0\n",
    "    idx = len(y) \n",
    "    while True:\n",
    "        hit = str.rfind(y, x[-k:], 0, idx)\n",
    "        if hit == -1:\n",
    "            return 0\n",
    "        ln = hit + k\n",
    "        if x[-ln:] == y[:ln]:\n",
    "            return ln # return length of prefix\n",
    "        idx = hit + k - 1 # keep searching to left in Y\n",
    "    return -1"
   ]
  },
  {
   "cell_type": "code",
   "execution_count": 28,
   "id": "c4f0c43a",
   "metadata": {},
   "outputs": [
    {
     "name": "stdout",
     "output_type": "stream",
     "text": [
      "BAA BAA 3\n",
      "BAA AAB 2\n",
      "BAA BBA 0\n",
      "BAA ABA 0\n",
      "BAA ABB 0\n",
      "BAA BBB 0\n",
      "BAA AAA 2\n",
      "BAA BAB 0\n",
      "AAB BAA 0\n",
      "AAB AAB 3\n",
      "AAB BBA 0\n",
      "AAB ABA 2\n",
      "AAB ABB 2\n",
      "AAB BBB 0\n",
      "AAB AAA 0\n",
      "AAB BAB 0\n",
      "BBA BAA 2\n",
      "BBA AAB 0\n",
      "BBA BBA 3\n",
      "BBA ABA 0\n",
      "BBA ABB 0\n",
      "BBA BBB 0\n",
      "BBA AAA 0\n",
      "BBA BAB 2\n",
      "ABA BAA 2\n",
      "ABA AAB 0\n",
      "ABA BBA 0\n",
      "ABA ABA 3\n",
      "ABA ABB 0\n",
      "ABA BBB 0\n",
      "ABA AAA 0\n",
      "ABA BAB 2\n",
      "ABB BAA 0\n",
      "ABB AAB 0\n",
      "ABB BBA 2\n",
      "ABB ABA 0\n",
      "ABB ABB 3\n",
      "ABB BBB 2\n",
      "ABB AAA 0\n",
      "ABB BAB 0\n",
      "BBB BAA 0\n",
      "BBB AAB 0\n",
      "BBB BBA 2\n",
      "BBB ABA 0\n",
      "BBB ABB 0\n",
      "BBB BBB 3\n",
      "BBB AAA 0\n",
      "BBB BAB 0\n",
      "AAA BAA 0\n",
      "AAA AAB 2\n",
      "AAA BBA 0\n",
      "AAA ABA 0\n",
      "AAA ABB 0\n",
      "AAA BBB 0\n",
      "AAA AAA 3\n",
      "AAA BAB 0\n",
      "BAB BAA 0\n",
      "BAB AAB 0\n",
      "BAB BBA 0\n",
      "BAB ABA 2\n",
      "BAB ABB 2\n",
      "BAB BBB 0\n",
      "BAB AAA 0\n",
      "BAB BAB 3\n"
     ]
    }
   ],
   "source": [
    "strings = [\n",
    "    'BAA',\n",
    "    'AAB',\n",
    "    'BBA',\n",
    "    'ABA',\n",
    "    'ABB',\n",
    "    'BBB',\n",
    "    'AAA',\n",
    "    'BAB',\n",
    "]\n",
    "\n",
    "for string1 in strings:\n",
    "    for string2 in strings:\n",
    "        print(\n",
    "            string1,\n",
    "            string2,\n",
    "            suffixPrefixMatch(string1, string2, 2)\n",
    "    )\n"
   ]
  },
  {
   "cell_type": "markdown",
   "id": "4e1a4a42",
   "metadata": {},
   "source": [
    "Shortest common substring can be solved by graph where every node is visited onc, and each edge has cost = -(length of overlap); the shortest common substring is the path with the minimized score...except this is NP-hard.\n",
    "- Traveling Salesman problem (TSP): https://en.wikipedia.org/wiki/Travelling_salesman_problem\n",
    "Ignoring the edge length and just connecting all vertices makes a Hamiltonian Path\n",
    "- Hamiltonian Path: https://en.wikipedia.org/wiki/Hamiltonian_path\n",
    "- Review in Algorithms: https://www.cs.jhu.edu/~langmea/resources/lecture_notes/assembly_scs.pdf"
   ]
  },
  {
   "cell_type": "markdown",
   "id": "b143b0ba",
   "metadata": {},
   "source": [
    "Because finding the shortest common superstring in NP-hard, it may be better to try a **greedy algorithm** that finds suboptimal string.\n",
    "- Iterate through strings, at each iteration, combine longest match\n",
    "- Will be one merge per string\n",
    "- Greedy will provide a good approximation"
   ]
  },
  {
   "cell_type": "code",
   "execution_count": 48,
   "id": "6e7cf373",
   "metadata": {},
   "outputs": [],
   "source": [
    "def combine(source, sink, ln):\n",
    "    return source + sink[ln:]\n",
    "\n"
   ]
  },
  {
   "cell_type": "markdown",
   "id": "fed9fecc",
   "metadata": {},
   "source": [
    "Greedy algorithm can also return a superstring _shorter_ the correct string.\n",
    "- caused by collapsing repeats\n",
    "- Can be solved with longer k\n",
    "- **This is why long reads are important in genome sequencing!**\n",
    "\n"
   ]
  },
  {
   "cell_type": "code",
   "execution_count": null,
   "id": "3c185fbd",
   "metadata": {},
   "outputs": [],
   "source": []
  }
 ],
 "metadata": {
  "kernelspec": {
   "display_name": "Python 3 (ipykernel)",
   "language": "python",
   "name": "python3"
  },
  "language_info": {
   "codemirror_mode": {
    "name": "ipython",
    "version": 3
   },
   "file_extension": ".py",
   "mimetype": "text/x-python",
   "name": "python",
   "nbconvert_exporter": "python",
   "pygments_lexer": "ipython3",
   "version": "3.8.16"
  }
 },
 "nbformat": 4,
 "nbformat_minor": 5
}

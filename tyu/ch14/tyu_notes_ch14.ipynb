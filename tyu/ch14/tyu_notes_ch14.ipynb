{
 "cells": [
  {
   "cell_type": "markdown",
   "id": "5d1c18d4",
   "metadata": {},
   "source": [
    "# Sam's Teach Yourself Unix"
   ]
  },
  {
   "cell_type": "markdown",
   "id": "5c321510",
   "metadata": {},
   "source": [
    "## Chapter 14 Getting the most out of C Shell"
   ]
  },
  {
   "cell_type": "markdown",
   "id": "8942966d",
   "metadata": {},
   "source": [
    "### history"
   ]
  },
  {
   "cell_type": "code",
   "execution_count": 22,
   "id": "3f891466",
   "metadata": {},
   "outputs": [
    {
     "name": "stdout",
     "output_type": "stream",
     "text": [
      "zsh:fc:1: no such event: 1\r\n"
     ]
    }
   ],
   "source": [
    "# history doesn't work in jupyter, seems each ! expression has a new history?\n",
    "! history "
   ]
  },
  {
   "cell_type": "markdown",
   "id": "d3b3b876",
   "metadata": {},
   "source": [
    "To save history settings, modify .rc files in ~ <br>\n",
    "```\n",
    "set history=100 savehist=50\n",
    "```"
   ]
  },
  {
   "cell_type": "code",
   "execution_count": 28,
   "id": "b568eca4",
   "metadata": {},
   "outputs": [
    {
     "name": "stdout",
     "output_type": "stream",
     "text": [
      "!=0\r\n",
      "'#'=0\r\n",
      "'$'=97019\r\n",
      "'*'=(  )\r\n",
      "-=569X\r\n",
      "0=/bin/zsh\r\n",
      "'?'=0\r\n",
      "@=(  )\r\n",
      "ARGC=0\r\n",
      "CDPATH=''\r\n"
     ]
    }
   ],
   "source": [
    "# Remember, to view settings use 'set'\n",
    "! set | head"
   ]
  },
  {
   "cell_type": "markdown",
   "id": "a51627c7",
   "metadata": {},
   "source": [
    "'!' commands don't work in jupyter <br>\n",
    "- repeat most recent command starting with h\n",
    "```!h```\n",
    "- third executed command\n",
    "```!3```\n",
    "- repeat last command\n",
    "```!!```\n",
    "- all but the fisrt word of previous command\n",
    "```!*```\n",
    "- repeat last word of previous command\n",
    "```!?```\n",
    "- repeat last two commands\n",
    "```!-2```"
   ]
  },
  {
   "cell_type": "markdown",
   "id": "cd9b368e",
   "metadata": {},
   "source": [
    "Neat patternn to pass file names to wc<br>\n",
    "- ```echo *```\n",
    "- ```wc -l !*```"
   ]
  },
  {
   "cell_type": "markdown",
   "id": "6d44096e",
   "metadata": {},
   "source": [
    "Get number of 'users' from /etc/passwrd with awk with 'first name' > 4 char"
   ]
  },
  {
   "cell_type": "code",
   "execution_count": 35,
   "id": "835c6356",
   "metadata": {},
   "outputs": [
    {
     "name": "stdout",
     "output_type": "stream",
     "text": [
      "      18\r\n"
     ]
    }
   ],
   "source": [
    "! awk '{ FS = \":\" } ; { print $5 }' < /etc/passwd | awk '{ if (length($1) == 4) print $0 }' | wc -l"
   ]
  },
  {
   "cell_type": "markdown",
   "id": "ff981fb9",
   "metadata": {},
   "source": [
    "### Command Aliases"
   ]
  },
  {
   "cell_type": "markdown",
   "id": "147ab245",
   "metadata": {},
   "source": [
    "see alias's with ```alias```; bc jupyter is weird, can use look a .zshrc"
   ]
  },
  {
   "cell_type": "code",
   "execution_count": 45,
   "id": "6564c652",
   "metadata": {},
   "outputs": [
    {
     "name": "stdout",
     "output_type": "stream",
     "text": [
      "alias ls=\"ls -F\"\r\n",
      "alias rmr=\"rm -ri\"\r\n",
      "alias bark=\"echo woofwoof\"\r\n",
      "alias trans=\"tr atcgATCG tagcTAGC\"\r\n",
      "alias rcomp=\"rev | trans\"\r\n"
     ]
    }
   ],
   "source": [
    "! grep alias /Users/jamesm/.zshrc"
   ]
  },
  {
   "cell_type": "markdown",
   "id": "edd414ef",
   "metadata": {},
   "source": [
    "for zsh, structure is word='command'"
   ]
  },
  {
   "cell_type": "markdown",
   "id": "0038537b",
   "metadata": {},
   "source": [
    "### Change the Prompt"
   ]
  },
  {
   "cell_type": "markdown",
   "id": "d1dcafa8",
   "metadata": {},
   "source": [
    "In csh, use ```set prompt=$pwd``` to change the prompt to cwd"
   ]
  },
  {
   "cell_type": "markdown",
   "id": "a01f1d17",
   "metadata": {},
   "source": [
    "To change in .zsh, add ```PROMPT='%F{cyan}%n :%W:%t: '``` to ~/.zshrc \n",
    "- %n shows username\n",
    "- %W shows date\n",
    "- %t shows time"
   ]
  },
  {
   "cell_type": "code",
   "execution_count": 46,
   "id": "85889498",
   "metadata": {},
   "outputs": [
    {
     "name": "stdout",
     "output_type": "stream",
     "text": [
      "ls\n",
      "awk rev.txt tyu_notes_ch14.ipynb\n"
     ]
    }
   ],
   "source": [
    "# commands wrapped in ` will be executed by echo\n",
    "! echo ls\n",
    "! echo `ls`"
   ]
  },
  {
   "cell_type": "markdown",
   "id": "67fcc852",
   "metadata": {},
   "source": [
    "### Simple shell scripts"
   ]
  },
  {
   "cell_type": "markdown",
   "id": "3cbeb65b",
   "metadata": {},
   "source": [
    "If first charater of scopt is #, shell defauts as csh, otherwise sh"
   ]
  },
  {
   "cell_type": "code",
   "execution_count": 51,
   "id": "c9647c95",
   "metadata": {},
   "outputs": [
    {
     "name": "stdout",
     "output_type": "stream",
     "text": [
      "/Users/jamesm/opt/anaconda3/bin:/Users/jamesm/opt/anaconda3/condabin:/Library/Frameworks/Python.framework/Versions/3.9/bin:/opt/homebrew/bin:/opt/homebrew/sbin:/usr/local/bin:/usr/bin:/bin:/usr/sbin:/sbin:/Users/jamesm/.cargo/bin\r\n"
     ]
    }
   ],
   "source": [
    "# simple script to list scipts in dir\n",
    "! export PATH=\"$PWD:$PATH\" # doesn't work in jupyter\n",
    "! echo $PATH"
   ]
  },
  {
   "cell_type": "code",
   "execution_count": 52,
   "id": "7d62681a",
   "metadata": {},
   "outputs": [
    {
     "name": "stdout",
     "output_type": "stream",
     "text": [
      "\u001b[31mlocate.file\u001b[m\u001b[m          \u001b[31mnew.script\u001b[m\u001b[m           tyu_notes_ch14.ipynb\r\n"
     ]
    }
   ],
   "source": [
    "! ls"
   ]
  },
  {
   "cell_type": "markdown",
   "id": "c2ea31b8",
   "metadata": {},
   "source": [
    "locate.file displays the directory a given script in PATH lives; new.script displays 'scripts' in pwd"
   ]
  },
  {
   "cell_type": "markdown",
   "id": "12c6f4e0",
   "metadata": {},
   "source": [
    "### Exercises"
   ]
  },
  {
   "cell_type": "markdown",
   "id": "8781de9b",
   "metadata": {},
   "source": [
    "1. How do set history to 30 commands? 10 commands across sessions?"
   ]
  },
  {
   "cell_type": "code",
   "execution_count": 53,
   "id": "d66ca5ea",
   "metadata": {},
   "outputs": [],
   "source": [
    "# in csh\n",
    "! set history=30; set savehist=10"
   ]
  }
 ],
 "metadata": {
  "kernelspec": {
   "display_name": "Python 3 (ipykernel)",
   "language": "python",
   "name": "python3"
  },
  "language_info": {
   "codemirror_mode": {
    "name": "ipython",
    "version": 3
   },
   "file_extension": ".py",
   "mimetype": "text/x-python",
   "name": "python",
   "nbconvert_exporter": "python",
   "pygments_lexer": "ipython3",
   "version": "3.8.16"
  }
 },
 "nbformat": 4,
 "nbformat_minor": 5
}

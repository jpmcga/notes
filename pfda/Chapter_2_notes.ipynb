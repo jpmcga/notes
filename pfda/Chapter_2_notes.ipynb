{
 "cells": [
  {
   "cell_type": "markdown",
   "id": "2ab8b67a",
   "metadata": {},
   "source": [
    "Notes for Python for Data Analysis 2nd Edition\n",
    "Chapter 2 Python Language Basics, IPython, Jupyter Notebooks"
   ]
  },
  {
   "cell_type": "code",
   "execution_count": 6,
   "id": "e2497914",
   "metadata": {},
   "outputs": [],
   "source": [
    "# Tab-complete in Jupyter/IPython shows all methonds for object\n",
    "# '__' shows all magic methods/attributes\n",
    "\n",
    "a = [1,5,6,3,5,3]\n",
    "\n",
    "a.__"
   ]
  },
  {
   "cell_type": "code",
   "execution_count": 17,
   "id": "dc293183",
   "metadata": {},
   "outputs": [],
   "source": [
    "# Tab-complete shows methods from modules\n",
    "\n",
    "import datetime\n",
    "import numpy\n",
    "\n",
    "# datetime.\n",
    "# numpy"
   ]
  },
  {
   "cell_type": "code",
   "execution_count": 18,
   "id": "d1c326f6",
   "metadata": {},
   "outputs": [
    {
     "data": {
      "text/plain": [
       "'/etc/aliases'"
      ]
     },
     "execution_count": 18,
     "metadata": {},
     "output_type": "execute_result"
    }
   ],
   "source": [
    "# Also shows file paths \n",
    "\n",
    "\"/Users/jamesmcgann/Atlasxomics/\"\n",
    "\"/etc/aliases\""
   ]
  },
  {
   "cell_type": "code",
   "execution_count": 197,
   "id": "81cbd24f",
   "metadata": {},
   "outputs": [],
   "source": [
    "# ? after a module of function shows doc string\n",
    "\n",
    "def docstring():\n",
    "    \"\"\"This is a docstring\"\"\"\n",
    "\n",
    "numpy?\n",
    "docstring?"
   ]
  },
  {
   "cell_type": "code",
   "execution_count": 29,
   "id": "284e36af",
   "metadata": {},
   "outputs": [],
   "source": [
    "# ?? shows source code\n",
    "\n",
    "numpy??"
   ]
  },
  {
   "cell_type": "code",
   "execution_count": 30,
   "id": "34c7dd83",
   "metadata": {},
   "outputs": [],
   "source": [
    "# Terminal shortcuts\n",
    "\n",
    "# ctrl+a: beginning of line\n",
    "# ctrl+e: end of line\n",
    "# ctrl+k: delete all following text\n",
    "# ctrl+u: delete all text\n",
    "# ctrl+l: clear screen\n",
    "# ctrl+r: partial match of search history"
   ]
  },
  {
   "cell_type": "code",
   "execution_count": 3,
   "id": "df74dc7f",
   "metadata": {},
   "outputs": [
    {
     "name": "stdout",
     "output_type": "stream",
     "text": [
      "this is a test\n",
      "this is a test\n",
      "this is a test\n",
      "this is a test\n",
      "this is a test\n",
      "this is a test\n",
      "this is a test\n",
      "The slowest run took 12.91 times longer than the fastest. This could mean that an intermediate result is being cached.\n",
      "1.14 ms ± 1.64 ms per loop (mean ± std. dev. of 7 runs, 1 loop each)\n"
     ]
    },
    {
     "data": {
      "text/plain": [
       "'/Users/jamesmcgann'"
      ]
     },
     "execution_count": 3,
     "metadata": {},
     "output_type": "execute_result"
    },
    {
     "data": {
      "text/plain": [
       "<Figure size 640x480 with 0 Axes>"
      ]
     },
     "metadata": {},
     "output_type": "display_data"
    }
   ],
   "source": [
    "# Magic commands in IPython start with %.  %magic shows documentation;\n",
    "# %run allows you to run python programs\n",
    "\n",
    "%timeit -n 1 %run magic_test.py\n",
    "# %magic\n",
    "\n",
    "# %timeit returns time it takes to execute a command\n",
    "%pwd\n",
    "# %hist\n",
    "#%reset # delete all variables in namespacem, also history lol\n",
    "# pdb automatically enter debugger after any exception"
   ]
  },
  {
   "cell_type": "code",
   "execution_count": 2,
   "id": "d88e5b45",
   "metadata": {},
   "outputs": [
    {
     "data": {
      "text/plain": [
       "[<matplotlib.lines.Line2D at 0x107af2e20>]"
      ]
     },
     "execution_count": 2,
     "metadata": {},
     "output_type": "execute_result"
    },
    {
     "data": {
      "image/png": "[encoded data removed]",
      "text/plain": [
       "<Figure size 640x480 with 1 Axes>"
      ]
     },
     "metadata": {},
     "output_type": "display_data"
    }
   ],
   "source": [
    "# %matplotlib configure matplotlib interaction\n",
    "%matplotlib inline\n",
    "import matplotlib as plt\n",
    "import numpy as np\n",
    "\n",
    "plt.pyplot.plot(np.random.rand(50).cumsum())"
   ]
  },
  {
   "cell_type": "code",
   "execution_count": 67,
   "id": "73b59c8f",
   "metadata": {},
   "outputs": [
    {
     "name": "stdout",
     "output_type": "stream",
     "text": [
      "5=D6:)"
     ]
    }
   ],
   "source": [
    "# semicolons can be used to seperate multiple statements on a \n",
    "# single line\n",
    "\n",
    "a = 5; b = 6\n",
    "\n",
    "print(a, b, sep=\"=D\", end=\":)\")"
   ]
  },
  {
   "cell_type": "code",
   "execution_count": 70,
   "id": "7d3a2dc0",
   "metadata": {},
   "outputs": [
    {
     "name": "stdout",
     "output_type": "stream",
     "text": [
      "[1, 2, 3, 4]\n",
      "[1, 2, 3, 4, 5]\n",
      "<class 'int'>\n",
      "<class 'str'>\n"
     ]
    }
   ],
   "source": [
    "# In Python, assigning a variable makes a reference to the right side of \n",
    "# the equals sign.\n",
    "\n",
    "a = [1,2,3,4]\n",
    "b = a\n",
    "print(b)\n",
    "a.append(5)\n",
    "print(b)\n",
    "\n",
    "# Also can be refered to as \"binding\" and \"bound variables\"\n",
    "\n"
   ]
  },
  {
   "cell_type": "code",
   "execution_count": 75,
   "id": "607e4efa",
   "metadata": {},
   "outputs": [
    {
     "name": "stdout",
     "output_type": "stream",
     "text": [
      "<class 'int'>\n",
      "<class 'str'>\n",
      "False\n",
      "True\n",
      "False\n",
      "True\n"
     ]
    }
   ],
   "source": [
    "# Object passed to functions are not copied, new references are created\n",
    "# Object references in Python have no type associated with them ie\n",
    "a = 5\n",
    "print(type(a))\n",
    "a = 'foo'\n",
    "print(type(a))\n",
    "# Type information is store in the object itself\n",
    "\n",
    "# Can use isinstance to get bool\n",
    "print(isinstance(a, int))\n",
    "print(isinstance(a, str))\n",
    "print(isinstance(a, (int, float, list, dict)))\n",
    "print(isinstance(a, (int, float, list, dict, str)))"
   ]
  },
  {
   "cell_type": "code",
   "execution_count": 4,
   "id": "133673ce",
   "metadata": {},
   "outputs": [
    {
     "ename": "AttributeError",
     "evalue": "'int' object has no attribute 'isalnum'",
     "output_type": "error",
     "traceback": [
      "\u001b[0;31m---------------------------------------------------------------------------\u001b[0m",
      "\u001b[0;31mAttributeError\u001b[0m                            Traceback (most recent call last)",
      "Input \u001b[0;32mIn [4]\u001b[0m, in \u001b[0;36m<cell line: 3>\u001b[0;34m()\u001b[0m\n\u001b[1;32m      1\u001b[0m \u001b[38;5;66;03m# attribute = Objects stored inside the object\u001b[39;00m\n\u001b[1;32m      2\u001b[0m \u001b[38;5;66;03m# methods = Functions stored inside the object\u001b[39;00m\n\u001b[0;32m----> 3\u001b[0m \u001b[38;5;28mprint\u001b[39m(\u001b[43ma\u001b[49m\u001b[38;5;241;43m.\u001b[39;49m\u001b[43misalnum\u001b[49m())\n\u001b[1;32m      4\u001b[0m \u001b[38;5;28mprint\u001b[39m(a\u001b[38;5;241m.\u001b[39mcapitalize())\n\u001b[1;32m      5\u001b[0m \u001b[38;5;28mprint\u001b[39m(a\u001b[38;5;241m.\u001b[39misnumeric())\n",
      "\u001b[0;31mAttributeError\u001b[0m: 'int' object has no attribute 'isalnum'"
     ]
    }
   ],
   "source": [
    "# attribute = Objects stored inside the object\n",
    "# methods = Functions stored inside the object\n",
    "print(a.isalnum())\n",
    "print(a.capitalize())\n",
    "print(a.isnumeric())\n",
    "print(a.isdigit())\n",
    "\n",
    "# Can check if an object it iterable with iter\n",
    "iter(a)\n",
    "# iter(5)"
   ]
  },
  {
   "cell_type": "code",
   "execution_count": 5,
   "id": "5e3d1bfc",
   "metadata": {},
   "outputs": [
    {
     "name": "stdout",
     "output_type": "stream",
     "text": [
      "True\n",
      "False\n",
      "False\n",
      "['0x1014d6a90', '0x1014d6a90', '0x10e33c370']\n",
      "0x1014b3cb0\n",
      "4316818288\n",
      "4316818000\n",
      "4316817968\n",
      "4316817968\n",
      "4316818288\n"
     ]
    }
   ],
   "source": [
    "# Use 'is' and 'is not' to check if two references refer to the same \n",
    "# object\n",
    "x = 4\n",
    "y = x\n",
    "z = str(x)\n",
    "print(x is y)\n",
    "print(x is not y)\n",
    "print(x is z)\n",
    "print([hex(id(i)) for i in [x,y,z]])\n",
    "print(hex(id(None)))\n",
    "\n",
    "# The fuction list() always creates a new copy\n",
    "# There is ever only one instance of None\n",
    "\n",
    "# Memory will save the value to a specific memory location\n",
    "# variable locations are 4 bytes appart from each other\n",
    "a = 11\n",
    "b = 2\n",
    "c = 1\n",
    "d = 1\n",
    "e = 11\n",
    "print(id(a))\n",
    "print(id(b))\n",
    "print(id(c))\n",
    "print(id(d))\n",
    "print(id(e))"
   ]
  },
  {
   "cell_type": "code",
   "execution_count": 109,
   "id": "4d495b76",
   "metadata": {},
   "outputs": [
    {
     "name": "stdout",
     "output_type": "stream",
     "text": [
      "0\n",
      "2\n",
      "9\n",
      "3\n",
      "3\n",
      "15\n",
      "3\n",
      "1\n",
      "6\n"
     ]
    }
   ],
   "source": [
    "# Binary operators: &, | (OR), ^ (XOR)\n",
    "print(1 & 2) # (0001 & 0010 = 0000)\n",
    "print(3 & 2) # (0011 & 0010 = 0010)\n",
    "print(9 & 15) # (1001 & 1111 = 1001)\n",
    "\n",
    "print(1 | 2) # (0001 | 0010 = 0011 = 3)\n",
    "print(3 | 2) # (0011 | 0010 = 0011 = 3)\n",
    "print(9 | 15) # (1001 | 1111 = 1111 = 15)\n",
    "\n",
    "print(1 ^ 2) # (0001 | 0010 = 0011 = 3)\n",
    "print(3 ^ 2) # (0011 | 0010 = 0001 = 1)\n",
    "print(9 ^ 15) # (1001 | 1111 = 0110 = 6)"
   ]
  },
  {
   "cell_type": "code",
   "execution_count": 118,
   "id": "13c19b90",
   "metadata": {},
   "outputs": [
    {
     "name": "stdout",
     "output_type": "stream",
     "text": [
      "1.5342e-06 <class 'float'>\n",
      "numerator\n",
      "\n",
      "\\denominator\n",
      "\n",
      " numerator\\n\\n\\denominator\n"
     ]
    }
   ],
   "source": [
    "# Tuples are immutable, strings are immutatble. Scalars refer to one thing.\n",
    "# Floats can be written in scientific notation\n",
    "fl = 1.5342e-6\n",
    "print(fl, type(fl))\n",
    "\n",
    "# String in Python are incoded in Unicode\n",
    "# '\\' is an escape character\n",
    "print(\"numerator\\n\\n\\denominator\")\n",
    "# if a string is prefaced with 'r' than it ignores special characters\n",
    "print(\"\\n\", r\"numerator\\n\\n\\denominator\")\n"
   ]
  },
  {
   "cell_type": "code",
   "execution_count": 144,
   "id": "d365f7de",
   "metadata": {},
   "outputs": [
    {
     "name": "stdout",
     "output_type": "stream",
     "text": [
      "this is a and b\n",
      "this is b and a\n",
      "4.56 Pesos are worth US$1\n",
      "4.56 Pesos are worth US$1\n"
     ]
    }
   ],
   "source": [
    "# You can save string formatting in a variable\n",
    "\n",
    "print(\"this is {} and {}\".format(\"a\", \"b\"))\n",
    "print(\"this is {1} and {0}\".format(\"a\", \"b\"))\n",
    "\n",
    "var = \"{0:.2f} {1:s} are worth US${2:d}\"\n",
    "print(var.format(4.5560, 'Pesos', 1))\n",
    "var2 = r\"{0:.2f} {1:s} are worth US${2:d}\"\n",
    "print(var2.format(4.5560, 'Pesos', 1)) # 'r' get overridden by .format"
   ]
  },
  {
   "cell_type": "code",
   "execution_count": 154,
   "id": "58dcaa61",
   "metadata": {},
   "outputs": [
    {
     "name": "stdout",
     "output_type": "stream",
     "text": [
      "español\n",
      "b'espa\\xc3\\xb1ol' <class 'bytes'>\n",
      "español\n",
      "b'this is a byte' <class 'bytes'>\n"
     ]
    }
   ],
   "source": [
    "# You can switch between Unicode, UTF-8, Latin etc. using encode/decode\n",
    "v = \"español\"\n",
    "print(v)\n",
    "utf8 = v.encode('utf-8')\n",
    "print(utf8, type(utf8))\n",
    "print(utf8.decode('utf-8'))\n",
    "\n",
    "# You can encode text as bytes with the 'b' prefix before a string\n",
    "byte = b\"this is a byte\"\n",
    "print(byte, type(byte))"
   ]
  },
  {
   "cell_type": "code",
   "execution_count": 166,
   "id": "9c169486",
   "metadata": {},
   "outputs": [
    {
     "name": "stdout",
     "output_type": "stream",
     "text": [
      "10/02/92\n",
      "05:30:15\n",
      "1992-10-02 17:00:00\n",
      "1992-10-02 17:30:15\n"
     ]
    }
   ],
   "source": [
    "# Datetime\n",
    "from datetime import datetime, date, time\n",
    "\n",
    "dt = datetime(1992, 10, 2, 17, 30, 15)\n",
    "print(datetime.strftime(dt, \"%D\"))\n",
    "print(datetime.strftime(dt, \"%I:%M:%S\"))\n",
    "\n",
    "# Datetime objects are immutable, to .replace creates a copy\n",
    "print(dt.replace(minute=0, second=0))\n",
    "print(dt)\n",
    "\n"
   ]
  },
  {
   "cell_type": "code",
   "execution_count": 172,
   "id": "11e1b27f",
   "metadata": {},
   "outputs": [
    {
     "name": "stdout",
     "output_type": "stream",
     "text": [
      "-550 days, 12:51:17 <class 'datetime.timedelta'>\n",
      "1994-04-05 04:38:58\n"
     ]
    }
   ],
   "source": [
    "# The difference between two datetimes produces a datetime delta object\n",
    "# in format (days, seconds)\n",
    "d2 = datetime(1994, 4, 5, 4, 38, 58)\n",
    "\n",
    "dif = dt - d2\n",
    "print(dif, type(dif))\n",
    "print(dt - dif)"
   ]
  },
  {
   "cell_type": "code",
   "execution_count": 185,
   "id": "f5878d59",
   "metadata": {},
   "outputs": [
    {
     "name": "stdout",
     "output_type": "stream",
     "text": [
      "done\n",
      "12\n",
      "7\n"
     ]
    }
   ],
   "source": [
    "# If statements get evaluated left to right, the first True statement\n",
    "# with complete the if\n",
    "\n",
    "a,b,c,d = 1,2,3,4\n",
    "if a < 2 or d < c:\n",
    "    print(\"done\")\n",
    "\n",
    "# You can also chain comparisons\n",
    "a<b<c>d\n",
    "\n",
    "# 'continue' passes to the next iteration of a for loop\n",
    "lt = [1, 2, None, 4, None, 5]\n",
    "total = 0\n",
    "for i in lt:\n",
    "    if i is None:\n",
    "        continue\n",
    "    total += i\n",
    "print(total)\n",
    "\n",
    "# 'break' kills a loop\n",
    "\n",
    "lt = [1, 2, None, 4, None, 5]\n",
    "total = 0\n",
    "for i in lt:\n",
    "    if i is None:\n",
    "        continue\n",
    "    elif total > 5:\n",
    "        break # only terminate innermost loop\n",
    "    elif i >1:\n",
    "        pass # pass moves ontop next iteration w.o doing anything\n",
    "    total += i\n",
    "print(total)"
   ]
  },
  {
   "cell_type": "code",
   "execution_count": 194,
   "id": "4de118ca",
   "metadata": {},
   "outputs": [
    {
     "name": "stdout",
     "output_type": "stream",
     "text": [
      "[100, 94, 88, 82, 76, 70, 64, 58, 52, 46, 40, 34, 28, 22, 16, 10, 4]\n"
     ]
    }
   ],
   "source": [
    "# Range can be used to return a list, incremented by 'step'\n",
    "print(list(range(100, 1, -6)))"
   ]
  },
  {
   "cell_type": "code",
   "execution_count": 6,
   "id": "e7c55ad3",
   "metadata": {},
   "outputs": [
    {
     "name": "stdout",
     "output_type": "stream",
     "text": [
      "not five\n"
     ]
    }
   ],
   "source": [
    "# Ternary expression allows you to evaluate if/else on one line\n",
    "x = 6\n",
    "res = 'is five' if x == 5 else 'not five'\n",
    "print(res)"
   ]
  },
  {
   "cell_type": "code",
   "execution_count": 1,
   "id": "8025112e",
   "metadata": {},
   "outputs": [
    {
     "data": {
      "text/plain": [
       "11"
      ]
     },
     "execution_count": 1,
     "metadata": {},
     "output_type": "execute_result"
    }
   ],
   "source": []
  },
  {
   "cell_type": "code",
   "execution_count": null,
   "id": "1f2130e4",
   "metadata": {},
   "outputs": [],
   "source": []
  }
 ],
 "metadata": {
  "kernelspec": {
   "display_name": "Python 3 (ipykernel)",
   "language": "python",
   "name": "python3"
  },
  "language_info": {
   "codemirror_mode": {
    "name": "ipython",
    "version": 3
   },
   "file_extension": ".py",
   "mimetype": "text/x-python",
   "name": "python",
   "nbconvert_exporter": "python",
   "pygments_lexer": "ipython3",
   "version": "3.8.5"
  }
 },
 "nbformat": 4,
 "nbformat_minor": 5
}

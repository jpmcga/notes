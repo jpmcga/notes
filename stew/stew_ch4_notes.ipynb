{
 "cells": [
  {
   "cell_type": "markdown",
   "id": "2dbf7e58",
   "metadata": {},
   "source": [
    "# Chapter 4: Descriptive Statistics"
   ]
  },
  {
   "cell_type": "code",
   "execution_count": 14,
   "id": "0459cbbe",
   "metadata": {},
   "outputs": [],
   "source": [
    "import math\n",
    "import matplotlib.pyplot as plt\n",
    "import numpy as np\n",
    "import statistics\n",
    "\n",
    "from collections import defaultdict, Counter\n",
    "from typing import List, Tuple, Union"
   ]
  },
  {
   "cell_type": "code",
   "execution_count": 15,
   "id": "73d74650",
   "metadata": {},
   "outputs": [
    {
     "name": "stdout",
     "output_type": "stream",
     "text": [
      "79.2\n",
      "82.0\n"
     ]
    }
   ],
   "source": [
    "scores = [\n",
    "    53, 87, 76, 73, 62, 99,\n",
    "    78, 93, 82, 69, 65, 93,\n",
    "    92, 92, 78, 82, 89, 65,\n",
    "    63, 49, 88, 87, 94, 73,\n",
    "    85, 77, 98, 59, 93, 82\n",
    "]\n",
    "\n",
    "print(np.mean(scores))\n",
    "print(np.median(scores))"
   ]
  },
  {
   "cell_type": "markdown",
   "id": "e8d8aae9",
   "metadata": {},
   "source": [
    "**mean**:\n",
    "$$\n",
    "\\bar{x} = \\frac{\\sum \\limits _{i=0} ^{n} x_i}{n}\n",
    "$$"
   ]
  },
  {
   "cell_type": "markdown",
   "id": "94a7b423",
   "metadata": {},
   "source": [
    "**standard deviation**: \n",
    "$$\n",
    "s_1 = \\sqrt{\\overline {x^2} - \\bar x^2}\n",
    "$$\n",
    "<br>\n",
    "<center>where $\\overline {x^2}$ is average of all the squares of all x's."
   ]
  },
  {
   "cell_type": "code",
   "execution_count": 16,
   "id": "50bc39f1",
   "metadata": {},
   "outputs": [],
   "source": [
    "mean = np.mean(scores)\n",
    "squares = sum(np.square(scores)) / len(scores)"
   ]
  },
  {
   "cell_type": "code",
   "execution_count": 17,
   "id": "e2046e31",
   "metadata": {},
   "outputs": [],
   "source": [
    "def stdev_pop(items: List[float]) -> float:\n",
    "    \n",
    "    squares = sum(np.square(items)) / len(items)\n",
    "    mean = np.mean(items)\n",
    "    \n",
    "    return math.sqrt(squares - mean**2)\n",
    "\n",
    "assert round(stdev_pop(scores), 3) == round(np.std(scores), 3)"
   ]
  },
  {
   "cell_type": "markdown",
   "id": "08cad7d4",
   "metadata": {},
   "source": [
    "**sample correlation coefficient**:\n",
    "$$\n",
    "r(x, y) = \\frac {\\overline {xy} - \\bar x \\bar y} {s_{1x} s_{1y}}\n",
    "$$\n",
    "<br>\n",
    "<center> where $\\overline {xy}$ is the average value of the product of x and y."
   ]
  },
  {
   "cell_type": "code",
   "execution_count": 18,
   "id": "ea9e1672",
   "metadata": {},
   "outputs": [],
   "source": [
    "scores2 = [74, 57, 62, 64, 69, 51,\n",
    "           61, 54, 59, 66, 68, 54,\n",
    "           54, 54, 61, 59, 56, 68,\n",
    "           69, 76, 56, 57, 53, 64,\n",
    "           58, 62, 51, 71, 54, 59]"
   ]
  },
  {
   "cell_type": "code",
   "execution_count": 19,
   "id": "5116bd2f",
   "metadata": {},
   "outputs": [
    {
     "name": "stdout",
     "output_type": "stream",
     "text": [
      "4716.833333333333 4807.4400000000005\n"
     ]
    }
   ],
   "source": [
    "products_avg = np.mean([x*y for x, y in zip(scores, scores2)])\n",
    "product_of_avgs = np.mean(scores) * np.mean(scores2)\n",
    "print(products_avg, product_of_avgs)"
   ]
  },
  {
   "cell_type": "code",
   "execution_count": 20,
   "id": "233278b0",
   "metadata": {},
   "outputs": [
    {
     "name": "stdout",
     "output_type": "stream",
     "text": [
      "-0.9993934828131141\n"
     ]
    }
   ],
   "source": [
    "def get_r(\n",
    "    items1: List[float],\n",
    "    items2: List[float]\n",
    ") -> float:\n",
    "    \n",
    "    products_avg = np.mean([x*y for x, y in zip(items1, items2)])\n",
    "    product_of_avgs = np.mean(items1) * np.mean(items2)\n",
    "    \n",
    "    return (products_avg - product_of_avgs) / (np.std(items1) * np.std(items2))\n",
    "\n",
    "assert round(get_r(scores, scores2), 4) == round(np.corrcoef(scores, scores2)[0,1], 4)\n",
    "print(get_r(scores, scores2))"
   ]
  },
  {
   "cell_type": "markdown",
   "id": "0c547dd7",
   "metadata": {},
   "source": [
    "**Exercise 1**: Calculate mean, median, mode, histogram for set of data."
   ]
  },
  {
   "cell_type": "code",
   "execution_count": 21,
   "id": "d712b435",
   "metadata": {},
   "outputs": [],
   "source": [
    "data = [17, 18, 20, 22, 21, 19, 16, 15, 18, 20, 21, 21, 22, 21, 19, 20, 19, 17, 16, 16, 17]"
   ]
  },
  {
   "cell_type": "code",
   "execution_count": 22,
   "id": "b7a3c64f",
   "metadata": {},
   "outputs": [],
   "source": [
    "def get_mean(items: List[float]) -> float:\n",
    "    return sum(items) / len(items)\n",
    "\n",
    "assert(get_mean(data)) == np.mean(data)\n",
    "\n",
    "def get_median(items: List[float]) -> float:\n",
    "        \n",
    "    items = sorted(items)\n",
    "    if len(items) % 2 != 0:\n",
    "        return items[int(len(items)/2)]\n",
    "    else:\n",
    "        low = (len(items) // 2) - 1\n",
    "        return (items[low] + items[low + 1]) / 2\n",
    "    \n",
    "assert get_median(data) == np.median(data)\n",
    "assert get_median(data[:-1]) == np.median(data[:-1])\n",
    "\n",
    "def get_mode(items: List[Union[float, str]]) -> Union[float, str]:\n",
    "    \"\"\"Inspired by Data Science from Scratch\"\"\"\n",
    "    counts = Counter(items)\n",
    "    max_count = max(counts.values())\n",
    "    return [key for key, value in counts.items() if value == max_count]\n",
    "    \n",
    "assert get_mode(data) == statistics.multimode(data)\n",
    "assert get_mode([1,1,2,2,3]) == statistics.multimode([1,1,2,2,3])"
   ]
  },
  {
   "cell_type": "code",
   "execution_count": 23,
   "id": "bfe57a0a",
   "metadata": {},
   "outputs": [
    {
     "name": "stdout",
     "output_type": "stream",
     "text": [
      "mean: 18.81\n",
      "median: 19\n",
      "mode: 21\n"
     ]
    }
   ],
   "source": [
    "print(\n",
    "f\"mean: {round(get_mean(data), 2)}\\n\\\n",
    "median: {get_median(data):.0f}\\n\\\n",
    "mode: {get_mode(data)[0]}\"\n",
    ")"
   ]
  },
  {
   "cell_type": "code",
   "execution_count": 24,
   "id": "39e70352",
   "metadata": {},
   "outputs": [
    {
     "data": {
      "text/plain": [
       "Text(0.5, 1.0, 'Temperature histogram')"
      ]
     },
     "execution_count": 24,
     "metadata": {},
     "output_type": "execute_result"
    },
    {
     "data": {
      "image/png": "[encoded data removed]",
      "text/plain": [
       "<Figure size 640x480 with 1 Axes>"
      ]
     },
     "metadata": {},
     "output_type": "display_data"
    }
   ],
   "source": [
    "plt.hist(\n",
    "    data,\n",
    "    [x for x in range(15, max(data), 2)],\n",
    "    edgecolor = (0, 0, 0)\n",
    ")\n",
    "\n",
    "plt.xticks(ticks=[x for x in range(15, max(data), 2)])\n",
    "plt.xlabel(\"Temperature range\")\n",
    "plt.ylabel(\"Occurences\")\n",
    "plt.title(\"Temperature histogram\")\n"
   ]
  },
  {
   "cell_type": "markdown",
   "id": "34d0c43a",
   "metadata": {},
   "source": [
    "**Exercise 2**: Calculate mean, median, mode, histogram for all positive perfect squares < 1000"
   ]
  },
  {
   "cell_type": "code",
   "execution_count": 25,
   "id": "605e6d5f",
   "metadata": {},
   "outputs": [
    {
     "name": "stdout",
     "output_type": "stream",
     "text": [
      "mean: 336\n",
      "median: 256\n",
      "mode: all numbers\n"
     ]
    }
   ],
   "source": [
    "perfect_sqs = []\n",
    "x = 1\n",
    "sq = x**2\n",
    "while sq < 1000:\n",
    "    perfect_sqs.append(sq)\n",
    "    x += 1\n",
    "    sq = x**2\n",
    "\n",
    "\n",
    "print(\n",
    "f\"mean: {get_mean(perfect_sqs):.0f}\\n\\\n",
    "median: {get_median(perfect_sqs):.0f}\\n\\\n",
    "mode: all numbers\"\n",
    ")"
   ]
  },
  {
   "cell_type": "markdown",
   "id": "cdec98f9",
   "metadata": {},
   "source": [
    "**Exercise 3**: Calculate mean, median, mode for data."
   ]
  },
  {
   "cell_type": "code",
   "execution_count": 26,
   "id": "16e8c57d",
   "metadata": {},
   "outputs": [
    {
     "name": "stdout",
     "output_type": "stream",
     "text": [
      "mean: 5.25\n",
      "mode: 0\n",
      "std: 4.49\n"
     ]
    }
   ],
   "source": [
    "ex3 = [5, 10, 6, 11, 0, 0, 0, 10]\n",
    "mean_ex3 = np.mean(ex3)\n",
    "mode_ex3 = statistics.mode(ex3)\n",
    "std_ex3 = np.std(ex3)\n",
    "\n",
    "print(\n",
    "f\"mean: {mean_ex3}\\n\\\n",
    "mode: {mode_ex3}\\n\\\n",
    "std: {std_ex3:.2f}\"\n",
    ")"
   ]
  },
  {
   "cell_type": "code",
   "execution_count": 27,
   "id": "45bd48c4",
   "metadata": {},
   "outputs": [
    {
     "name": "stdout",
     "output_type": "stream",
     "text": [
      "standard deviation: 4.49\n"
     ]
    }
   ],
   "source": [
    "# manually\n",
    "sqrs_avg_ex3 = sum([x**2 for x in ex3]) / len(ex3)\n",
    "avg_sqr_ex2 = (sum(ex3) / len(ex3))**2\n",
    "print(f\"standard deviation: {round(math.sqrt(sqrs_avg_ex3 - avg_sqr_ex2), 2)}\")"
   ]
  },
  {
   "cell_type": "markdown",
   "id": "b4b10349",
   "metadata": {},
   "source": [
    "**Exercise 4**: Draw histogram, calculate mean std for earned-run avgs"
   ]
  },
  {
   "cell_type": "code",
   "execution_count": 28,
   "id": "b0ee5db8",
   "metadata": {},
   "outputs": [
    {
     "name": "stdout",
     "output_type": "stream",
     "text": [
      "mean: 4.07\n",
      "standard deviation: 0.26\n"
     ]
    }
   ],
   "source": [
    "ex4 = [3.8, 3.82, 3.87, 3.88, 3.95, 3.98, 3.99, 3.99, 4.03, 4.08, 4.11, 4.28, 4.54, 4.72]\n",
    "print(f\"mean: {np.mean(ex4):.2f}\")\n",
    "print(f\"standard deviation: {np.std(ex4):.2f}\")"
   ]
  },
  {
   "cell_type": "code",
   "execution_count": 29,
   "id": "24a3c7cf",
   "metadata": {},
   "outputs": [
    {
     "data": {
      "text/plain": [
       "Text(0, 0.5, 'Counts')"
      ]
     },
     "execution_count": 29,
     "metadata": {},
     "output_type": "execute_result"
    },
    {
     "data": {
      "image/png": "[encoded data removed]",
      "text/plain": [
       "<Figure size 640x480 with 1 Axes>"
      ]
     },
     "metadata": {},
     "output_type": "display_data"
    }
   ],
   "source": [
    "plt.hist(\n",
    "    x=ex4,\n",
    "    bins=np.arange(min(ex4), max(ex4), 0.1),\n",
    "    edgecolor=(0, 0, 0)\n",
    ")\n",
    "\n",
    "plt.yticks([x for x in range(5)])\n",
    "plt.xticks(np.arange(min(ex4), max(ex4), 0.1))\n",
    "plt.title(\"Histogram of earned-run averages\")\n",
    "plt.xlabel(\"Averges (bin)\")\n",
    "plt.ylabel(\"Counts\")\n"
   ]
  },
  {
   "cell_type": "markdown",
   "id": "2b23c095",
   "metadata": {},
   "source": [
    "**Exercise 5**: Calculate correlation coefficent between English and History scores, and Chemistry and History scores."
   ]
  },
  {
   "cell_type": "code",
   "execution_count": 30,
   "id": "2ec2eb9d",
   "metadata": {},
   "outputs": [],
   "source": [
    "english = [\n",
    "    58, 88, 79, 76, 66, 99,\n",
    "    80, 94, 84, 72, 69, 94,\n",
    "    93, 92, 80, 84, 90, 69,\n",
    "    67, 54, 90, 89, 95, 76,\n",
    "    86, 80, 98, 63, 94, 84\n",
    "]\n",
    "\n",
    "chemistry = [\n",
    "    76, 94, 88, 86, 81, 99,\n",
    "    89, 96, 91, 84, 82, 96,\n",
    "    96, 96, 89, 91, 94, 82,\n",
    "    81, 74, 94, 93, 97, 86,\n",
    "    92, 88, 99, 79, 96, 91\n",
    "]"
   ]
  },
  {
   "cell_type": "code",
   "execution_count": 31,
   "id": "93f72587",
   "metadata": {},
   "outputs": [
    {
     "name": "stdout",
     "output_type": "stream",
     "text": [
      "6610.4\n",
      "6449.52\n",
      "13.4\n",
      "12.02\n"
     ]
    },
    {
     "data": {
      "text/plain": [
       "0.9996"
      ]
     },
     "execution_count": 31,
     "metadata": {},
     "output_type": "execute_result"
    }
   ],
   "source": [
    "# History, English manually for practice\n",
    "xy_bar_he = sum([x*y for x, y in zip(scores, english)]) / len(scores)\n",
    "xbar_ybar_he = (sum(scores)/len(scores)) * (sum(english)/len(english))\n",
    "s1_h = math.sqrt((sum([i**2 for i in scores])/len(scores)) - (sum(scores)/len(scores))**2)\n",
    "s1_e = math.sqrt((sum([i**2 for i in english])/len(english)) - (sum(english)/len(english))**2)\n",
    "\n",
    "cof_he = (xy_bar_he - xbar_ybar_he) / (s1_h * s1_e)\n",
    "print(xy_bar_he)\n",
    "print(xbar_ybar_he)\n",
    "print(round(s1_h, 2))\n",
    "print(round(s1_e, 2))\n",
    "round(cof_he, 4)"
   ]
  },
  {
   "cell_type": "code",
   "execution_count": 32,
   "id": "76e7ad90",
   "metadata": {},
   "outputs": [
    {
     "data": {
      "text/plain": [
       "0.9992"
      ]
     },
     "execution_count": 32,
     "metadata": {},
     "output_type": "execute_result"
    }
   ],
   "source": [
    "# manually for practice\n",
    "xy_bar_hc = sum(x*y for x, y in zip(scores, chemistry)) / len(scores)\n",
    "xbar_ybar_hc = sum(scores)/len(scores) * sum(chemistry) / len(chemistry)\n",
    "s1_c = math.sqrt(sum([i**2 for i in chemistry])/len(chemistry) - (sum(chemistry)/len(chemistry))**2)\n",
    "\n",
    "cof_hc = (xy_bar_hc - xbar_ybar_hc) / (s1_h * s1_c)\n",
    "round(cof_hc, 4)"
   ]
  },
  {
   "cell_type": "markdown",
   "id": "70d904a3",
   "metadata": {},
   "source": [
    "**Exercise 7**: Calculate correlation coefficent between the following sets."
   ]
  },
  {
   "cell_type": "code",
   "execution_count": 33,
   "id": "9e2cc331",
   "metadata": {},
   "outputs": [
    {
     "name": "stdout",
     "output_type": "stream",
     "text": [
      "correlation:  0.962\n"
     ]
    },
    {
     "data": {
      "text/plain": [
       "Text(0.5, 1.0, 'Exercise 7')"
      ]
     },
     "execution_count": 33,
     "metadata": {},
     "output_type": "execute_result"
    },
    {
     "data": {
      "image/png": "[encoded data removed]",
      "text/plain": [
       "<Figure size 640x480 with 1 Axes>"
      ]
     },
     "metadata": {},
     "output_type": "display_data"
    }
   ],
   "source": [
    "# a little more automation\n",
    "x_7 = [i for i in range(9)]\n",
    "y_7 = [0, 1, 4, 9, 16, 25, 36, 49, 64]\n",
    "\n",
    "cor_7 = (\n",
    "    ((sum([x*y for x, y in zip(x_7, y_7)])/len(x_7)) - (np.mean(x_7) * np.mean(y_7))) /\n",
    "                            (np.std(x_7) * np.std(y_7))\n",
    ")\n",
    "print(\"correlation: \", round(cor_7, 3))\n",
    "plt.scatter(x_7, y_7) # ahh not linear...\n",
    "plt.title(\"Exercise 7\")"
   ]
  },
  {
   "cell_type": "markdown",
   "id": "70b7c69d",
   "metadata": {},
   "source": [
    "**Exercise 8**: Calculate correlation coefficent between the following sets."
   ]
  },
  {
   "cell_type": "code",
   "execution_count": 34,
   "id": "323bed48",
   "metadata": {},
   "outputs": [
    {
     "name": "stdout",
     "output_type": "stream",
     "text": [
      "correlation:  1.0\n"
     ]
    },
    {
     "data": {
      "text/plain": [
       "Text(0.5, 1.0, 'Exercise 8')"
      ]
     },
     "execution_count": 34,
     "metadata": {},
     "output_type": "execute_result"
    },
    {
     "data": {
      "image/png": "[encoded data removed]",
      "text/plain": [
       "<Figure size 640x480 with 1 Axes>"
      ]
     },
     "metadata": {},
     "output_type": "display_data"
    }
   ],
   "source": [
    "# w np\n",
    "x_8 = [i for i in range(4)] + [7]\n",
    "y_8 = [i for i in range(0, 7, 2)] + [14]\n",
    "cor_8 = np.corrcoef(x_8, y_8)\n",
    "print(\"correlation: \", cor_8[0,1])\n",
    "\n",
    "plt.scatter(x_8, y_8)\n",
    "plt.title(\"Exercise 8\")"
   ]
  },
  {
   "cell_type": "markdown",
   "id": "f7c717c3",
   "metadata": {},
   "source": [
    "**Exercise 9**: Calculate correlation coefficent between the following sets."
   ]
  },
  {
   "cell_type": "code",
   "execution_count": 35,
   "id": "de27b4a4",
   "metadata": {},
   "outputs": [
    {
     "name": "stdout",
     "output_type": "stream",
     "text": [
      "0.0\n",
      "0.0\n"
     ]
    },
    {
     "data": {
      "text/plain": [
       "Text(0.5, 1.0, 'Exercise 9')"
      ]
     },
     "execution_count": 35,
     "metadata": {},
     "output_type": "execute_result"
    },
    {
     "data": {
      "image/png": "[encoded data removed]",
      "text/plain": [
       "<Figure size 640x480 with 1 Axes>"
      ]
     },
     "metadata": {},
     "output_type": "display_data"
    }
   ],
   "source": [
    "# my function\n",
    "x_9 = [-1, 0, 1, 0]\n",
    "y_9 = [0, -1, 0, 1]\n",
    "\n",
    "print(get_r(x_9, y_9))\n",
    "print(np.corrcoef(x_9, y_9)[0,1])\n",
    "\n",
    "plt.scatter(x_9, y_9)\n",
    "plt.title(\"Exercise 9\")"
   ]
  },
  {
   "cell_type": "markdown",
   "id": "01a9ebd9",
   "metadata": {},
   "source": [
    "**Exercise 10**: Make a list of friends/family, histogram of first letter."
   ]
  },
  {
   "cell_type": "code",
   "execution_count": 36,
   "id": "e45052c7",
   "metadata": {},
   "outputs": [
    {
     "data": {
      "text/plain": [
       "Text(0.5, 1.0, 'Exersice 10')"
      ]
     },
     "execution_count": 36,
     "metadata": {},
     "output_type": "execute_result"
    },
    {
     "data": {
      "image/png": "[encoded data removed]",
      "text/plain": [
       "<Figure size 640x480 with 1 Axes>"
      ]
     },
     "metadata": {},
     "output_type": "display_data"
    }
   ],
   "source": [
    "names = [\n",
    "    \"Tess\", \"Bob\", \"Zoe\", \"Elah\", \"Nina\", \"Harlow\", \"Pat\", \"Eva\", \"Daniel\", \"Dan\",\n",
    "    \"Colette\", \"Cathy\", \"Tom\", \"Connie\", \"Elaine\", \"Paul\", \"Shauna\", \"Maggie\", \"Molly\",\n",
    "    \"Fiona\", \"Rielly\", \"Rene\", \"Tom\", \"Vicky\", \"Joe\", \"Alex\", \"Marggie\", \"Carla\", \"Nick\",\n",
    "    \"Tashie\", \"Satya\", \"James\", \"Alex\", \"Aleiko\", \"Jason\", \"George\", \"Armand\", \"Kobe\", \"Nick\",\n",
    "    \"Karissa\", \"Buster\", \"Jeremiah\", \"Star\", \"Kenny\", \"Pete\", \"Coleen\", \"Vicky\", \"Ned\", \"Dennis\",\n",
    "    \"Eddy\", \"Eddy\", \"Christie\", \"Sienna\", \"Jim\", \"Greg\", \"Amanda\", \"Jesse\", \"Bill\", \"Jimmmy\", \"Elisa\",\n",
    "    \"Samantah\", \"Ed\", \"Dan\", \"Austin\", \"Abigail\", \"Arianna\", \"Julianan\", \"Joe\", \"Ken\", \"Colin\",\n",
    "    \"Zev\", \"Molly\", \"Shannon\", \"Gummaro\", \"Silas\", \"Nancy\", \"Tim\", \"Laura\", \"Maria\", \"Sharon\", \"Jeff\", \"Teresa\"\n",
    "]\n",
    "\n",
    "counts = sorted(Counter([name[0] for name in names]).items())\n",
    "plt.bar(\n",
    "    [x[0] for x in counts],\n",
    "    [y[1] for y in counts]\n",
    ")\n",
    "\n",
    "plt.title(\"Exersice 10\")"
   ]
  },
  {
   "cell_type": "markdown",
   "id": "fdd94d38",
   "metadata": {},
   "source": [
    "**Exercise 11**: Write a program to calculate average for a list.\n",
    "- see answer to Exercise 1: _get_mean()_"
   ]
  },
  {
   "cell_type": "code",
   "execution_count": 37,
   "id": "75c92320",
   "metadata": {},
   "outputs": [],
   "source": [
    "assert get_mean([1, 2, 3]) == 2\n",
    "assert get_mean([0]) == 0"
   ]
  },
  {
   "cell_type": "markdown",
   "id": "b3f90f43",
   "metadata": {},
   "source": [
    "**Exercise 12**: Write a program to calculate population _and_ sample standard deviation"
   ]
  },
  {
   "cell_type": "code",
   "execution_count": 38,
   "id": "ea3fd223",
   "metadata": {},
   "outputs": [],
   "source": [
    "def get_std(items: List[float], method=\"population\") -> float:\n",
    "    \n",
    "    assert method in [\"population\", \"sample\"], \"Method must be either 'population' or 'sample'\"\n",
    "\n",
    "    squares = sum(np.square(items)) / len(items)\n",
    "    mean = np.mean(items)\n",
    "    std = math.sqrt(squares - mean**2)\n",
    "    \n",
    "    if method == \"sample\":\n",
    "        n = len(items)\n",
    "        std = std * math.sqrt(n / (n - 1))\n",
    "    \n",
    "    return std\n",
    "                            \n",
    "array = np.random.randint(100, size=10)\n",
    "assert round(get_std(array), 5) == round(np.std(array), 5)\n",
    "assert round(get_std(array, 'sample'), 5) == round(np.std(array, ddof=1), 5)\n",
    "assert get_std([1]) == 0"
   ]
  },
  {
   "cell_type": "markdown",
   "id": "2e6f62e1",
   "metadata": {},
   "source": [
    "**Exercise 13**: Write a program to calculate correlation coefficient\n",
    "- see _get_r()_"
   ]
  },
  {
   "cell_type": "code",
   "execution_count": 39,
   "id": "b9699edd",
   "metadata": {},
   "outputs": [],
   "source": [
    "assert round(get_r(scores, scores2), 4) == round(np.corrcoef(scores, scores2)[0,1], 4)\n",
    "assert get_r([-1, 0, 1, 0], [0, -1, 0, 1]) == 0"
   ]
  },
  {
   "cell_type": "markdown",
   "id": "94ec5292",
   "metadata": {},
   "source": [
    "**Exercise 14-15**: Write a program to sort a list, use it to right a program to return a median"
   ]
  },
  {
   "cell_type": "code",
   "execution_count": 40,
   "id": "dc2af321",
   "metadata": {},
   "outputs": [],
   "source": [
    "def bubble_sort(xs: List[float]) -> List[float]:\n",
    "    \"\"\"Classic bubble sort\"\"\"\n",
    "    for j in range(len(xs)-1):\n",
    "        for i in range(len(xs)-1):\n",
    "            xs_cp = xs\n",
    "            a = xs[i]\n",
    "            b = xs[i+1]\n",
    "            if a > b:\n",
    "                xs_cp[i] = b\n",
    "                xs_cp[i+1] = a\n",
    "            xs = xs_cp\n",
    "    return xs\n",
    "\n",
    "def get_median2(xs: List[float]) -> float:\n",
    "    \n",
    "    xs = bubble_sort(xs)\n",
    "    if len(xs) % 2 != 0:\n",
    "        return xs[int(len(xs)/2)]\n",
    "    else:\n",
    "        low = (len(xs) // 2) - 1\n",
    "        return (xs[low] + xs[low + 1]) / 2\n",
    "assert get_median2([1,3,2]) == 2\n",
    "assert get_median2([4,3,2,1]) == 2.5"
   ]
  },
  {
   "cell_type": "markdown",
   "id": "5d23cf8e",
   "metadata": {},
   "source": [
    "**Exercise 16**: Write a program to make a histogram for a list of number, automatically compute bins"
   ]
  },
  {
   "cell_type": "code",
   "execution_count": null,
   "id": "83d4c223",
   "metadata": {},
   "outputs": [],
   "source": []
  }
 ],
 "metadata": {
  "kernelspec": {
   "display_name": "Python 3 (ipykernel)",
   "language": "python",
   "name": "python3"
  },
  "language_info": {
   "codemirror_mode": {
    "name": "ipython",
    "version": 3
   },
   "file_extension": ".py",
   "mimetype": "text/x-python",
   "name": "python",
   "nbconvert_exporter": "python",
   "pygments_lexer": "ipython3",
   "version": "3.8.16"
  }
 },
 "nbformat": 4,
 "nbformat_minor": 5
}

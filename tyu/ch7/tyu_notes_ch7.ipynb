{
 "cells": [
  {
   "cell_type": "markdown",
   "id": "b7136c20",
   "metadata": {},
   "source": [
    "# Sam's Teach Yourself Unix"
   ]
  },
  {
   "cell_type": "markdown",
   "id": "a66c70f9",
   "metadata": {},
   "source": [
    "## Hour 7: Looking into Files"
   ]
  },
  {
   "cell_type": "markdown",
   "id": "a96c6344",
   "metadata": {},
   "source": [
    "### file"
   ]
  },
  {
   "cell_type": "markdown",
   "id": "03e27a59",
   "metadata": {},
   "source": [
    "file estimate type of file based on contents"
   ]
  },
  {
   "cell_type": "code",
   "execution_count": null,
   "id": "42e023f6",
   "metadata": {},
   "outputs": [],
   "source": [
    "!ls -F /\n",
    "!file /etc\n",
    "# cores/ are snapshots of memory when a program files, aka 'core dump'"
   ]
  },
  {
   "cell_type": "code",
   "execution_count": null,
   "id": "fdb433a0",
   "metadata": {},
   "outputs": [],
   "source": [
    "!file /Library/Apple/usr/lib/libRosettaAot.dylib\n",
    "!file say.hi oates.gif"
   ]
  },
  {
   "cell_type": "code",
   "execution_count": null,
   "id": "98a630e6",
   "metadata": {},
   "outputs": [],
   "source": [
    "!file /etc/*\n",
    "# executable denotes file is output of compiler program"
   ]
  },
  {
   "cell_type": "code",
   "execution_count": null,
   "id": "b61abf3a",
   "metadata": {},
   "outputs": [],
   "source": [
    "# Permissions can change file interpritation\n",
    "! file ~/.zshrc\n",
    "! cp /Users/jamesm/.zshrc ./ch7_test.txt\n",
    "! file ch7_test.txt\n",
    "! ls -l ch7_test.txt\n",
    "! chmod +x ch7_test.txt\n",
    "! file ch7_test.txt # ahh doesn't work in zsh"
   ]
  },
  {
   "cell_type": "code",
   "execution_count": null,
   "id": "44fb05ef",
   "metadata": {},
   "outputs": [],
   "source": [
    "!file /usr/lib/*"
   ]
  },
  {
   "cell_type": "markdown",
   "id": "45541660",
   "metadata": {},
   "source": [
    "### head & tail"
   ]
  },
  {
   "cell_type": "code",
   "execution_count": null,
   "id": "e66ee994",
   "metadata": {},
   "outputs": [],
   "source": [
    "# specify multiple files and # lines displayed\n",
    "! head -3 tyu_notes_ch1-3.ipynb oates.gif"
   ]
  },
  {
   "cell_type": "code",
   "execution_count": null,
   "id": "1c0380e3",
   "metadata": {},
   "outputs": [],
   "source": [
    "# Part of a pipe\n",
    "! who | head -1"
   ]
  },
  {
   "cell_type": "code",
   "execution_count": null,
   "id": "54d59236",
   "metadata": {},
   "outputs": [],
   "source": [
    "! tail -2 ~/.zshrc"
   ]
  },
  {
   "cell_type": "code",
   "execution_count": null,
   "id": "608db544",
   "metadata": {},
   "outputs": [],
   "source": [
    "# combined for lines 10-15\n",
    "! head -15 ~/.zshrc | tail -5"
   ]
  },
  {
   "cell_type": "markdown",
   "id": "34c3428c",
   "metadata": {},
   "source": [
    "### cat"
   ]
  },
  {
   "cell_type": "code",
   "execution_count": null,
   "id": "1d334a6a",
   "metadata": {},
   "outputs": [],
   "source": [
    "# -v flag for 'control key notation'; -s to compress multiple blank lines\n",
    "! cat oates.gif | head -2\n",
    "! echo\n",
    "! cat -v oates.gif | head -2\n",
    "! echo \n",
    "! cat -s oates.gif | head -2\n",
    "# 'Broken pipe' bc lines are defined as no more than 512 characters"
   ]
  },
  {
   "cell_type": "markdown",
   "id": "02410491",
   "metadata": {},
   "source": [
    "### more"
   ]
  },
  {
   "cell_type": "code",
   "execution_count": null,
   "id": "02508c6c",
   "metadata": {},
   "outputs": [],
   "source": [
    "# make a long file\n",
    "!cat ch7_test.txt ch7_test.txt ch7_test.txt ch7_test.txt >> long.txt"
   ]
  },
  {
   "cell_type": "code",
   "execution_count": null,
   "id": "4ad98379",
   "metadata": {},
   "outputs": [],
   "source": [
    "# -s supress blank lines,\n",
    "!more long.txt # Ahh can't really do in jupyter"
   ]
  },
  {
   "cell_type": "code",
   "execution_count": null,
   "id": "86adfe67",
   "metadata": {},
   "outputs": [],
   "source": [
    "!more +12 /Users/jamesm/normalized_column_counts2.csv # start at line 12"
   ]
  },
  {
   "cell_type": "code",
   "execution_count": null,
   "id": "eb800a1a",
   "metadata": {},
   "outputs": [],
   "source": [
    "!more +/1.936983344 /Users/jamesm/normalized_column_counts2.csv # return line starting with pattern\n",
    "# :f or = to display filename and current line\n",
    "# v to start vi \n",
    "# /pattern to find pattern"
   ]
  },
  {
   "cell_type": "code",
   "execution_count": null,
   "id": "8c099b1c",
   "metadata": {},
   "outputs": [],
   "source": [
    "# Passing cat to more disables vi\n",
    "!cat long.txt | more"
   ]
  },
  {
   "cell_type": "code",
   "execution_count": null,
   "id": "a773c048",
   "metadata": {},
   "outputs": [],
   "source": []
  }
 ],
 "metadata": {
  "kernelspec": {
   "display_name": "Python 3 (ipykernel)",
   "language": "python",
   "name": "python3"
  },
  "language_info": {
   "codemirror_mode": {
    "name": "ipython",
    "version": 3
   },
   "file_extension": ".py",
   "mimetype": "text/x-python",
   "name": "python",
   "nbconvert_exporter": "python",
   "pygments_lexer": "ipython3",
   "version": "3.8.16"
  }
 },
 "nbformat": 4,
 "nbformat_minor": 5
}

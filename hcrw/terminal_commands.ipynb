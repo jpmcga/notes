{
 "cells": [
  {
   "cell_type": "markdown",
   "id": "6e7e7e21",
   "metadata": {},
   "source": [
    "netstat -sn 10.0.0.0/24 # Ping every address on LAN, use sudo for more info <br>\n",
    "hostname # Return hostname <br>\n",
    "hostname -i # Return self ip4 <br>\n",
    "hostname -I # Return network ip4, ip6 <br>\n",
    "sudo raspi-config # Open config file for rasps; can be used to connect to wifi <br>\n",
    "ssh [username]@[ip-address] # ssh into pi <br>\n",
    "sudo shutdown -h now # shutdown raspi <br>\n",
    "<br>\n",
    "as -o file.o file.s # Assembles assembly code (.s) into machine code (.o) object file <br>\n",
    "ld -o file file.o # Creates an executable from machine code object file <br>\n",
    "./file # Run an executable in pwd <br>\n",
    "gdb file # Runs GNU debugger on executable machine code file <br>\n",
    "hexdump -C exe # Display all bytes of executable in hex with memory offset and ASCII <br>\n",
    "objdump -s exe # Disply hexdump grouped insto sections by header with memory address instead of offset <br>\n",
    "readelf -e exe # Another way to view memory address of execuatable and linker format file <br>\n",
    "objdump -d exe # Disassembles machine code with assembly language instructions <br>\n",
    "whereis [command] # Shows loc of binary executable <br>\n",
    "gcc -o exe exe.c # Compiles an executable from C <br>\n",
    "<br>\n",
    "ps -eH # Provides a tree of running processes <br>\n",
    "ps 1 # shows the first command and location <br>\n",
    "stat /sbin/init # shows information on a binary <br>\n",
    "pstree # shows processes in tree format <br>\n",
    "ps -e -T # shows all proesses as well as threads <br>\n",
    "kill [pid] # stops a running process <br>\n",
    "dmesg # Display system diagnositc messages <br>\n",
    "strace [program] # View system calls for a program <br>\n",
    "lsmod # List loaded kernal modules for unix <br>\n",
    "modinfo [program] # View info on loaded module for unix <br>\n",
    "lsblk # list storage devices and filesystems for unix <br>\n",
    "df # observer overall storage of storage device <br>\n",
    "tree -d -L 3 / # View tree of your filesystem 3 levels deep, for unix <br>\n",
    "systemctl list-units --type=service -state=runnning # lists all running services, foy unit <br>\n",
    "systemctl stats [service] # Lists information for a particular service <br>\n",
    "ps --ppid 1 # Lists all child processes from PID 1 (systemd) <br>\n",
    "<br>\n",
    "ifconfig # View information on all network interfaces <br>\n",
    "ifconfig [interface] # Information on a specific interface <br>\n",
    "sudo arp-scan -l # Lists all ip and mac for local network hosts <br>\n",
    "ip route # View default gateway and routing configs <br>\n",
    "netstat -net # Show all tcp connection with port numbers <br>\n",
    "netstat -netp # Return above, but with process ids <br>\n",
    "nmap -sT [ip] # List all the open ports on a networked device <br>\n",
    "traceroute [domain] # List routers encountered on packets journey <br>\n",
    "cat /var/log/syslog # View system log <br>\n",
    "sudo dhclient -r wlan0 # Release current ip address\n",
    "sudo dhclient wlan0 # Get new up from dhcp\n",
    "curl http://ipinfo.io/ip # Get your public ip address\n",
    "host [domain] # Get ip address of a domain, use ip adress to reverse lookup\n",
    "\n",
    "python3 -m http.server 8888 # launch builtin python web server\n",
    "\n",
    "\n",
    "\n",
    "\n",
    "\n",
    "\n"
   ]
  },
  {
   "cell_type": "code",
   "execution_count": 6,
   "id": "4c8b54c6",
   "metadata": {},
   "outputs": [
    {
     "name": "stdout",
     "output_type": "stream",
     "text": [
      "ifconfig: interface wlan0 does not exist\r\n"
     ]
    }
   ],
   "source": [
    "! ifconfig wlan0"
   ]
  },
  {
   "cell_type": "code",
   "execution_count": null,
   "id": "887035f5",
   "metadata": {},
   "outputs": [],
   "source": [
    "\n"
   ]
  },
  {
   "cell_type": "code",
   "execution_count": null,
   "id": "e258395b",
   "metadata": {},
   "outputs": [],
   "source": []
  }
 ],
 "metadata": {
  "kernelspec": {
   "display_name": "Python 3 (ipykernel)",
   "language": "python",
   "name": "python3"
  },
  "language_info": {
   "codemirror_mode": {
    "name": "ipython",
    "version": 3
   },
   "file_extension": ".py",
   "mimetype": "text/x-python",
   "name": "python",
   "nbconvert_exporter": "python",
   "pygments_lexer": "ipython3",
   "version": "3.10.8"
  }
 },
 "nbformat": 4,
 "nbformat_minor": 5
}

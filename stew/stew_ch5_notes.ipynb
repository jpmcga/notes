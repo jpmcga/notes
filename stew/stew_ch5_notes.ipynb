{
 "cells": [
  {
   "cell_type": "markdown",
   "id": "6518fe06",
   "metadata": {},
   "source": [
    "# Chapter 5: Definition of Probability"
   ]
  },
  {
   "cell_type": "code",
   "execution_count": 123,
   "id": "ff14efb9",
   "metadata": {},
   "outputs": [],
   "source": [
    "import itertools\n",
    "\n",
    "from collections import defaultdict\n",
    "from utils import utils"
   ]
  },
  {
   "cell_type": "markdown",
   "id": "cd494c5a",
   "metadata": {},
   "source": [
    "### Notes"
   ]
  },
  {
   "cell_type": "markdown",
   "id": "81eaf91f",
   "metadata": {},
   "source": [
    "- **Random event**: event where each outcome equally likely\n",
    "- **Probability space**: set of all possible outcomes of an experient, denoted $\\Omega$ or _S_\n",
    "- **_s_**: count of all possible outcome of S _N(S)_\n",
    "- **event**: subset of probablity space _S_, denoted _A_\n",
    "\n",
    "Formula for probability of event _A_:\n",
    "$$\n",
    "Pr(A) = \\frac {N(A)} {s}\n",
    "$$\n",
    "\n",
    "Two items to note: probability that event _S_ will occur, no outcomes occur\n",
    "\n",
    "$$\n",
    "Pr(S) = \\frac {N(S)} {s} = \\frac {s} {s} = 1\n",
    "$$\n",
    "\n",
    "$$\n",
    "Pr(\\emptyset) = 0\n",
    "$$\n",
    "\n",
    "Event complements (probability that the event will not occur) are equal to 1 - probabilty of the event:\n",
    "\n",
    "$$\n",
    "Pr(A^c) = 1 - Pr(A)\n",
    "$$\n",
    "\n",
    "Probability of a **union** (A _or_ B) denoted $Pr(A \\cup B)$; probabilty of **intersection** (A _and_ B) denoted $Pr(A \\cap B)$.  No single formula for an intersection; for union of _two_ events:\n",
    "\n",
    "$$\n",
    "Pr(A \\cup B) = Pr(A) + Pr(B) - Pr(A \\cap B)\n",
    "$$\n",
    "\n",
    "when the two events are disjoint (cannot occur simultaneously), this simplifies to:\n",
    "\n",
    "$$\n",
    "Pr(A \\cup B) = Pr(A) + Pr(B)\n",
    "$$\n",
    "\n",
    "**Axioms** (or postulates) are assumptions used to prove **theorems** i.e: <br>\n",
    "\n",
    "<center> Axiom 1: $Pr(S) = 1$ <center> <br>\n",
    "    \n",
    "<center> Axiom 2: $Pr(X) \\geq 0$, for any event $X$ <center> <br>\n",
    "    \n",
    "<center> Theorem 1: $Pr(X) \\leq 1$, for any event $X$ <center> <br>\n",
    "\n",
    "For unions of three or more events, you have to add back in the probability of the intersection of all events (it's a mess):\n",
    "$$\n",
    "Pr(E1 \\cup E2 \\cup E3) = Pr(E1) + Pr(E2) + Pr(E3) - Pr(E1 \\cap E2) - Pr(E1 \\cap E3) - Pr(E2 \\cap E3) + Pr(E1 \\cap E2 \\cap E3)\n",
    "$$\n",
    "and so on...."
   ]
  },
  {
   "cell_type": "markdown",
   "id": "f2e216d7",
   "metadata": {},
   "source": [
    "### Exercises"
   ]
  },
  {
   "cell_type": "markdown",
   "id": "ec911b6f",
   "metadata": {},
   "source": [
    "**Ex 1**. Probability of prime number on die:\n",
    "\n",
    "$ Pr(X) = \\frac {N(X)} {s} $\n"
   ]
  },
  {
   "cell_type": "code",
   "execution_count": 4,
   "id": "3e31f0d1",
   "metadata": {},
   "outputs": [
    {
     "data": {
      "text/plain": [
       "0.5"
      ]
     },
     "execution_count": 4,
     "metadata": {},
     "output_type": "execute_result"
    }
   ],
   "source": [
    "primes = {2, 3, 5}\n",
    "pr_primes = len(primes) / 6\n",
    "pr_primes"
   ]
  },
  {
   "cell_type": "markdown",
   "id": "360a845a",
   "metadata": {},
   "source": [
    "**Ex 2**. Probability of 7 or 11 when two dies rolled:\n",
    "\n",
    "$ Pr(A \\cup B) = Pr(A) + Pr(B) $\n"
   ]
  },
  {
   "cell_type": "code",
   "execution_count": 79,
   "id": "ccacf292",
   "metadata": {},
   "outputs": [
    {
     "data": {
      "text/plain": [
       "defaultdict(int,\n",
       "            {2: 0.027777777777777776,\n",
       "             3: 0.05555555555555555,\n",
       "             4: 0.08333333333333333,\n",
       "             5: 0.1111111111111111,\n",
       "             6: 0.1388888888888889,\n",
       "             7: 0.16666666666666666,\n",
       "             8: 0.1388888888888889,\n",
       "             9: 0.1111111111111111,\n",
       "             10: 0.08333333333333333,\n",
       "             11: 0.05555555555555555,\n",
       "             12: 0.027777777777777776})"
      ]
     },
     "execution_count": 79,
     "metadata": {},
     "output_type": "execute_result"
    }
   ],
   "source": [
    "# get die probabilities\n",
    "die_space = list(itertools.product(range(1,7), repeat=2))\n",
    "die_probabilities = defaultdict(int)\n",
    "\n",
    "for s in range(1, 13):\n",
    "    for d in die_space:\n",
    "        if sum(d) == s:\n",
    "            die_probabilities[s] += 1\n",
    "            \n",
    "for key in die_probabilities.keys():\n",
    "    die_probabilities[key] = die_probabilities[key] / len(die_space)\n",
    "\n",
    "die_probabilities"
   ]
  },
  {
   "cell_type": "code",
   "execution_count": 89,
   "id": "fe5977b7",
   "metadata": {},
   "outputs": [
    {
     "data": {
      "text/plain": [
       "0.222"
      ]
     },
     "execution_count": 89,
     "metadata": {},
     "output_type": "execute_result"
    }
   ],
   "source": [
    "round(die_probabilities[7] + die_probabilities[11], 3)"
   ]
  },
  {
   "cell_type": "markdown",
   "id": "c8dcd463",
   "metadata": {},
   "source": [
    "**Ex 3**. On a roulette wheel from 1 to 36 with 0 and 00, probability of getting 7?\n",
    "$$\n",
    "Pr(S) = \\frac {N(S)} {s}\n",
    "$$"
   ]
  },
  {
   "cell_type": "code",
   "execution_count": 92,
   "id": "bbca7bce",
   "metadata": {},
   "outputs": [
    {
     "data": {
      "text/plain": [
       "0.026"
      ]
     },
     "execution_count": 92,
     "metadata": {},
     "output_type": "execute_result"
    }
   ],
   "source": [
    "pr_7 = 1 / (len(list(range(1,37))) + 2)\n",
    "round(pr_7, 3)"
   ]
  },
  {
   "cell_type": "markdown",
   "id": "eeb246b1",
   "metadata": {},
   "source": [
    "**Ex 4**. On roulette wheel with circumference of 38, what is the probability of exactly 7?  Between 7 and 10?\n",
    "\n",
    "- Assume each number (ie. 7) is 1/38 of the area of the wheel\n",
    "\n",
    "$ Pr(7 \\cup 8 \\cup 9) = Pr(7) + Pr(8) + Pr(9) $ ...because they are disjoint\n"
   ]
  },
  {
   "cell_type": "code",
   "execution_count": 93,
   "id": "0ec1a22c",
   "metadata": {},
   "outputs": [],
   "source": [
    "pr_7 = 1 / 38\n",
    "pr_789 = 3 / 38"
   ]
  },
  {
   "cell_type": "markdown",
   "id": "e97707c0",
   "metadata": {},
   "source": [
    "**Ex 5**. What is $ S^c $? $ \\emptyset ^c $ ?\n",
    "- $ S^c = \\emptyset $\n",
    "- $ \\emptyset^c = S $"
   ]
  },
  {
   "cell_type": "markdown",
   "id": "52f87a74",
   "metadata": {},
   "source": [
    "**Ex 6**. Prove $ Pr(X) \\leq 1 $, for all events X\n",
    "- $ Pr(S) = 1 = Pr(X) + Pr(X^c)$\n",
    "- $ 1 = Pr(X) + Pr(X^c) $\n",
    "- $ Pr(X) = 1 - Pr(X^c) $\n",
    "- Probabilities are always bounded between 0 and 1, therefore $ 0 \\leq Pr(X^c) \\leq 1$\n",
    "- therefore $ Pr(X) \\leq 1 $"
   ]
  },
  {
   "cell_type": "markdown",
   "id": "4e8c2993",
   "metadata": {},
   "source": [
    "**Ex 7**. Prove $ Pr(A^c) = 1 - Pr(A) $"
   ]
  },
  {
   "cell_type": "markdown",
   "id": "dcdd2c05",
   "metadata": {},
   "source": [
    "- $ 1 = Pr(A \\cup A^c) = Pr(A) + Pr(A^c)$\n",
    "- $ Pr(A) + Pr(A^c) = 1 $\n",
    "- $ Pr(A^c) = 1 - Pr(A) $"
   ]
  },
  {
   "cell_type": "markdown",
   "id": "2f3347cf",
   "metadata": {},
   "source": [
    "**Ex 8**. Prove $ Pr(\\emptyset) = 0 $"
   ]
  },
  {
   "cell_type": "markdown",
   "id": "f3a52c69",
   "metadata": {},
   "source": [
    "- $ Pr(\\emptyset) = S^c $\n",
    "- $ S^c = 1 - S; S = 1$\n",
    "- $ S^c = 0 = Pr(\\emptyset) $"
   ]
  },
  {
   "cell_type": "markdown",
   "id": "e450d504",
   "metadata": {},
   "source": [
    "**Ex 9**. Prove $ Pr(A \\cup B \\cup C) = Pr(A) + Pr(B) + Pr(C)$, if A, B, C are disjoint events"
   ]
  },
  {
   "cell_type": "markdown",
   "id": "b4c14991",
   "metadata": {},
   "source": [
    "Rule:\n",
    "$$\n",
    "Pr(A \\cup B \\cup C) = Pr(A) + Pr(B) + Pr(C) - Pr(A \\cap B) - Pr(A \\cap C) - Pr(B \\cap C) + Pr(A \\cap B \\cap C)\n",
    "$$\n",
    "If A, B, C are disjoint, then:\n",
    "$$ Pr(A \\cap B) = Pr(\\emptyset) = 0 $$\n",
    "$$ Pr(A \\cap C) = Pr(\\emptyset) = 0 $$\n",
    "$$ Pr(B \\cap C) = Pr(\\emptyset) = 0 $$\n",
    "<center> and\n",
    "$$  Pr(A \\cap B \\cap C) = 0 $$\n",
    "<center> therefore\n",
    "$$ Pr(A \\cup B \\cup C) = Pr(A) + Pr(B) + Pr(C) + Pr(A \\cap B) + Pr(A \\cap C)+ Pr(B \\cap C) + Pr(A \\cap B \\cap C)  = $$ $$ Pr(A \\cup B \\cup C) = Pr(A) + Pr(B) + Pr(C) + 0 + 0 + 0 + 0 = $$\n",
    "$$ Pr(A \\cup B \\cup C) = Pr(A) + Pr(B) + Pr(C) $$"
   ]
  },
  {
   "cell_type": "markdown",
   "id": "a754ddf5",
   "metadata": {},
   "source": [
    "**Ex 10**. Prove $ Pr(A \\cup B) = Pr(A) + Pr(B) - Pr(A \\cap B)$"
   ]
  },
  {
   "cell_type": "markdown",
   "id": "7695fe41",
   "metadata": {},
   "source": [
    "$$ A \\cup B = (A \\cap B^c) \\cup (A^c \\cap B) \\cup (A \\cap B) $$\n",
    "$$ Pr(A \\cup B) = Pr((A \\cap B^c) \\cup (A^c \\cap B) \\cup (A \\cap B)) $$\n",
    "Because they are disjoint:\n",
    "$$ Pr((A \\cap B^c) \\cup (A^c \\cap B) \\cup (A \\cap B)) = Pr(A \\cap B^c) + Pr(A^c \\cap B) + Pr(A \\cap B) $$\n",
    "and\n",
    "$$\n",
    "Pr(A \\cup B) = Pr(A \\cap B^c) + Pr(A^c \\cap B) + Pr(A \\cap B)\n",
    "$$\n",
    "because (do I need to explain this?):\n",
    "$$\n",
    "Pr(A \\cap B^c) + Pr(A^c \\cap B) + Pr(A \\cap B) = Pr(A) + Pr(B) - Pr(A \\cap B)\n",
    "$$\n",
    "therefore\n",
    "$$\n",
    "Pr(A \\cup B) = Pr(A) + Pr(B) - Pr(A \\cap B)\n",
    "$$"
   ]
  },
  {
   "cell_type": "markdown",
   "id": "dc41b8f6",
   "metadata": {},
   "source": [
    "**Ex 11**. What is the probability a meteor will hit Wethersfield, CT (17 miles$^2$) on earth (200e9 miles$^2$)"
   ]
  },
  {
   "cell_type": "code",
   "execution_count": 96,
   "id": "286723e8",
   "metadata": {},
   "outputs": [
    {
     "data": {
      "text/plain": [
       "7e-08"
      ]
     },
     "execution_count": 96,
     "metadata": {},
     "output_type": "execute_result"
    }
   ],
   "source": [
    "pr_m = 14 / 200e6\n",
    "pr_m"
   ]
  },
  {
   "cell_type": "markdown",
   "id": "13a7766f",
   "metadata": {},
   "source": [
    "**Ex 12**. What is the probability a meteor will hit an ocean?"
   ]
  },
  {
   "cell_type": "code",
   "execution_count": 98,
   "id": "1ecf6971",
   "metadata": {},
   "outputs": [
    {
     "data": {
      "text/plain": [
       "0.7"
      ]
     },
     "execution_count": 98,
     "metadata": {},
     "output_type": "execute_result"
    }
   ],
   "source": [
    "pr_o = (200e6 * 0.7) / 200e6\n",
    "pr_o"
   ]
  },
  {
   "cell_type": "markdown",
   "id": "292586ac",
   "metadata": {},
   "source": [
    "**Ex 13**. If you flip a coin 5 times, what is the probablity you will get a head on 1st, 2nd, or 3rd?"
   ]
  },
  {
   "cell_type": "markdown",
   "id": "bd2b55c1",
   "metadata": {},
   "source": [
    "$$\n",
    "𝑃𝑟(F \\cup S \\cup T)= Pr(F) + Pr(S) + Pr(T) - Pr(F \\cup S) - Pr(F \\cup T) - Pr(S \\cup T) + Pr(F \\cup S \\cup T)\n",
    "$$"
   ]
  },
  {
   "cell_type": "code",
   "execution_count": 158,
   "id": "aed9756b",
   "metadata": {},
   "outputs": [
    {
     "data": {
      "text/plain": [
       "0.875"
      ]
     },
     "execution_count": 158,
     "metadata": {},
     "output_type": "execute_result"
    }
   ],
   "source": [
    "pr_13 = 1/2 + 1/2 + 1/2 - 1/4 - 1/4 - 1/4 + 1/8\n",
    "pr_13"
   ]
  },
  {
   "cell_type": "code",
   "execution_count": 160,
   "id": "19607e79",
   "metadata": {},
   "outputs": [
    {
     "data": {
      "text/plain": [
       "0.875"
      ]
     },
     "execution_count": 160,
     "metadata": {},
     "output_type": "execute_result"
    }
   ],
   "source": [
    "# or take the probability of getting no heads\n",
    "pr_13c = 1 - (1/2*1/2*1/2)\n",
    "pr_13c"
   ]
  },
  {
   "cell_type": "markdown",
   "id": "b5a572c1",
   "metadata": {},
   "source": [
    "**Ex 14**. If you roll a die three times, what is the probability that you'll get a 1 on least 1 toss?"
   ]
  },
  {
   "cell_type": "code",
   "execution_count": 155,
   "id": "f824cfb6",
   "metadata": {},
   "outputs": [
    {
     "data": {
      "text/plain": [
       "0.421"
      ]
     },
     "execution_count": 155,
     "metadata": {},
     "output_type": "execute_result"
    }
   ],
   "source": [
    "outcomes14 = list(itertools.product(range(1,7), repeat=3))\n",
    "s14= len(outcomes14)\n",
    "Nx14 = len([outcome for outcome in outcomes14 if 1 in outcome])\n",
    "\n",
    "round(Nx14/s14, 3)"
   ]
  },
  {
   "cell_type": "markdown",
   "id": "fb5e9f11",
   "metadata": {},
   "source": [
    "**Ex 15**. When rolling three die, are the chances of rolling a 9 equal to chances of rolling 10?\n",
    "$$\n",
    "Pr(X) = \\frac {N(x)} {s}\n",
    "$$"
   ]
  },
  {
   "cell_type": "code",
   "execution_count": 171,
   "id": "b86522f9",
   "metadata": {},
   "outputs": [
    {
     "name": "stdout",
     "output_type": "stream",
     "text": [
      "probability nine: 0.116, ten: 0.125\n"
     ]
    }
   ],
   "source": [
    "rolls = list(itertools.product(range(1,7), repeat=3))\n",
    "nines = [roll for roll in rolls if sum(roll) == 9]\n",
    "tens = [roll for roll in rolls if sum(roll) == 10]\n",
    "\n",
    "print(f\"probability nine: {round(len(nines)/len(rolls), 3)}, ten: {len(tens)/len(rolls)}\")"
   ]
  },
  {
   "cell_type": "markdown",
   "id": "3ea1bcac",
   "metadata": {},
   "source": [
    "**Ex 17**. Calculate the probability of blue eyes (recessive) from the following crosses:\n",
    "| _Mother_ | _Father_ |\n",
    "| --- | --- |\n",
    "| Br-Br | Br-Br |\n",
    "| Br-Br | Br-Bl |\n",
    "| Br-Br | Bl-Bl |\n",
    "| Br-Bl | Br-Bl |\n",
    "| Br-Bl | Bl-Bl |\n",
    "| Bl-Bl | Bl-Bl |"
   ]
  },
  {
   "cell_type": "code",
   "execution_count": 244,
   "id": "77e837d4",
   "metadata": {},
   "outputs": [
    {
     "data": {
      "text/plain": [
       "[(('Br', 'Br'), ('Br', 'Br')),\n",
       " (('Br', 'Br'), ('Br', 'Bl')),\n",
       " (('Br', 'Br'), ('Bl', 'Bl')),\n",
       " (('Br', 'Bl'), ('Br', 'Bl')),\n",
       " (('Br', 'Bl'), ('Bl', 'Bl')),\n",
       " (('Bl', 'Bl'), ('Bl', 'Bl'))]"
      ]
     },
     "execution_count": 244,
     "metadata": {},
     "output_type": "execute_result"
    }
   ],
   "source": [
    "mother = \"\"\"\n",
    "Br-Br\n",
    "Br-Br\n",
    "Br-Br\n",
    "Br-Bl\n",
    "Br-Bl\n",
    "Bl-Bl\n",
    "\"\"\"\n",
    "mother = [tuple(genotype.split('-')) for genotype in mother.split()]\n",
    "\n",
    "father = \"\"\"\n",
    "Br-Br\n",
    "Br-Bl\n",
    "Bl-Bl\n",
    "Br-Bl\n",
    "Bl-Bl\n",
    "Bl-Bl\n",
    "\"\"\"\n",
    "father = [tuple(genotype.split('-')) for genotype in father.split()]\n",
    "\n",
    "matings = list(zip(mother, father))\n",
    "matings"
   ]
  },
  {
   "cell_type": "code",
   "execution_count": 246,
   "id": "6996a4ae",
   "metadata": {},
   "outputs": [
    {
     "name": "stdout",
     "output_type": "stream",
     "text": [
      "0.0\n",
      "0.0\n",
      "0.0\n",
      "25.0\n",
      "50.0\n",
      "100.0\n"
     ]
    }
   ],
   "source": [
    "for mating in matings:\n",
    "    outcomes = list(itertools.product(mating[0], mating[1]))\n",
    "    print(sum([1 for outcome in outcomes if 'Br' not in outcome]) / 4 * 100)"
   ]
  },
  {
   "cell_type": "markdown",
   "id": "94b45b24",
   "metadata": {},
   "source": [
    "**Ex 18**. Suppose four grandparents had Bl-Br; what is the probability that a grandchild will have blue eye?"
   ]
  },
  {
   "cell_type": "code",
   "execution_count": 247,
   "id": "c7ff734a",
   "metadata": {},
   "outputs": [
    {
     "name": "stdout",
     "output_type": "stream",
     "text": [
      "change blue-eyed gc = 25.0%\n"
     ]
    }
   ],
   "source": [
    "grandparents = [[('Bl', 'Br'), ('Bl', 'Br')], [('Bl', 'Br'), ('Bl', 'Br')]]\n",
    "parents = [list(itertools.product(pair[0], pair[1])) for pair in grandparents]\n",
    "matings = list(itertools.product(parents[0], parents[1]))\n",
    "\n",
    "p_blue = []\n",
    "for mating in matings:\n",
    "    outcomes = list(itertools.product(mating[0], mating[1]))\n",
    "    p_blue.append(sum([1 for outcome in outcomes if 'Br' not in outcome]) / 4)\n",
    "print(f\"change blue-eyed gc = {sum(p_blue) / len(matings) * 100}%\")"
   ]
  },
  {
   "cell_type": "markdown",
   "id": "9a14cd79",
   "metadata": {},
   "source": [
    "**Ex 21**. For n tosses, what is the probability that you will get at least 1 head?\n",
    "$$\n",
    "P(H) = 1 - (1/2)^n\n",
    "$$"
   ]
  },
  {
   "cell_type": "markdown",
   "id": "f8ea9e80",
   "metadata": {},
   "source": [
    "**Ex 26**. Job offer 1 = 40%, job offer 2 = 40%, both = 16%.  What is the probability that you'll get offered either?\n",
    "$$\n",
    "Pr(A \\cup B) = Pr(A) + Pr(R) - Pr(A \\cap B)\n",
    "$$"
   ]
  },
  {
   "cell_type": "code",
   "execution_count": 258,
   "id": "ec2f50ba",
   "metadata": {},
   "outputs": [
    {
     "data": {
      "text/plain": [
       "0.64"
      ]
     },
     "execution_count": 258,
     "metadata": {},
     "output_type": "execute_result"
    }
   ],
   "source": [
    "pr26 = .4 + .4 - .16\n",
    "pr26"
   ]
  },
  {
   "cell_type": "markdown",
   "id": "c61bc694",
   "metadata": {},
   "source": [
    "**Ex 27**. 70% of families in a town have kids; 30% under 6, 60% 6 and up: what percent have kids both over 6 and under 6?"
   ]
  },
  {
   "cell_type": "code",
   "execution_count": 261,
   "id": "9a1e58e4",
   "metadata": {},
   "outputs": [
    {
     "data": {
      "text/plain": [
       "20"
      ]
     },
     "execution_count": 261,
     "metadata": {},
     "output_type": "execute_result"
    }
   ],
   "source": [
    "over_only = 70 - 30 # 40%\n",
    "under_only = 70 - 60 # 10%\n",
    "over_n_under  = 70 - over_only - under_only\n",
    "over_n_under"
   ]
  },
  {
   "cell_type": "code",
   "execution_count": null,
   "id": "9ba95a99",
   "metadata": {},
   "outputs": [],
   "source": []
  }
 ],
 "metadata": {
  "kernelspec": {
   "display_name": "Python 3 (ipykernel)",
   "language": "python",
   "name": "python3"
  },
  "language_info": {
   "codemirror_mode": {
    "name": "ipython",
    "version": 3
   },
   "file_extension": ".py",
   "mimetype": "text/x-python",
   "name": "python",
   "nbconvert_exporter": "python",
   "pygments_lexer": "ipython3",
   "version": "3.8.16"
  }
 },
 "nbformat": 4,
 "nbformat_minor": 5
}

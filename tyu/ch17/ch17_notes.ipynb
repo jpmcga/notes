{
 "cells": [
  {
   "cell_type": "markdown",
   "id": "1579982d",
   "metadata": {},
   "source": [
    "# Sam's Teach Yourself Unix"
   ]
  },
  {
   "cell_type": "markdown",
   "id": "19154379",
   "metadata": {},
   "source": [
    "## Chapter 17: Printing"
   ]
  },
  {
   "cell_type": "markdown",
   "id": "f83f334c",
   "metadata": {},
   "source": [
    "### find local printers"
   ]
  },
  {
   "cell_type": "code",
   "execution_count": 10,
   "id": "865a2669",
   "metadata": {},
   "outputs": [],
   "source": [
    "# no printers in enviroment\n",
    "! env $PRINTER | grep -i PRINT"
   ]
  },
  {
   "cell_type": "code",
   "execution_count": 14,
   "id": "ce3389bf",
   "metadata": {},
   "outputs": [
    {
     "name": "stdout",
     "output_type": "stream",
     "text": [
      "ZSH_EXECUTION_STRING=' set | grep -i print'\n"
     ]
    }
   ],
   "source": [
    "# ...or in set\n",
    "! set | grep -i print"
   ]
  },
  {
   "cell_type": "code",
   "execution_count": 36,
   "id": "d4fae62c",
   "metadata": {},
   "outputs": [
    {
     "name": "stdout",
     "output_type": "stream",
     "text": [
      "Adobe_PDF_via_LogMeIn-7 jamesm          251904   Thu Sep 23 11:00:28 2021\n",
      "Adobe_PDF_via_LogMeIn-8 jamesm          219136   Mon Nov 29 19:22:45 2021\n",
      "Adobe_PDF_via_LogMeIn-9 jamesm          219136   Mon Nov 29 19:23:09 2021\n",
      "EPSON_ET_8500_Series-12 jamesm          224256   Thu Mar 17 16:03:36 2022\n",
      "EPSON_ET_8500_Series-13 jamesm          201728   Fri May 20 16:08:18 2022\n",
      "EPSON_ET_8500_Series-14 jamesm          201728   Fri May 20 16:08:37 2022\n",
      "EPSON_ET_8500_Series-15 jamesm          201728   Fri May 20 16:11:31 2022\n",
      "EPSON_ET_8500_Series-16 jamesm           60416   Fri Dec  2 14:36:50 2022\n",
      "Adobe_PDF_via_LogMeIn-32 jamesm               0   Mon Apr 17 15:59:27 2023\n",
      "HP_DeskJet_3700_series_2-34 jamesm               0   Mon Apr 17 17:43:10 2023\n"
     ]
    }
   ],
   "source": [
    "# lpstat on zsh show printers just fine\n",
    "! lpstat"
   ]
  },
  {
   "cell_type": "code",
   "execution_count": 22,
   "id": "11b60fdf",
   "metadata": {},
   "outputs": [],
   "source": [
    "! touch blank # for printing"
   ]
  },
  {
   "cell_type": "code",
   "execution_count": 1,
   "id": "de95ec19",
   "metadata": {},
   "outputs": [
    {
     "name": "stdout",
     "output_type": "stream",
     "text": [
      "PRINTER=HP_DeskJet_3700_series_2\n",
      "HP_DeskJet_3700_series_2\n"
     ]
    }
   ],
   "source": [
    "# set printer in env\n",
    "! export PRINTER=HP_DeskJet_3700_series_2\n",
    "! env | grep PRINT\n",
    "! echo $PRINTER"
   ]
  },
  {
   "cell_type": "markdown",
   "id": "84e807fa",
   "metadata": {},
   "source": [
    "### printing"
   ]
  },
  {
   "cell_type": "markdown",
   "id": "cc38babc",
   "metadata": {},
   "source": [
    "- mac has both lp and lpr commands for printing"
   ]
  },
  {
   "cell_type": "code",
   "execution_count": 21,
   "id": "6e1ba5a6",
   "metadata": {},
   "outputs": [
    {
     "name": "stdout",
     "output_type": "stream",
     "text": [
      "request id is HP_DeskJet_3700_series_2-39 (1 file(s))\r\n"
     ]
    }
   ],
   "source": [
    "# this works!\n",
    "! lp hi.txt"
   ]
  },
  {
   "cell_type": "code",
   "execution_count": 31,
   "id": "e66481e3",
   "metadata": {},
   "outputs": [
    {
     "name": "stdout",
     "output_type": "stream",
     "text": [
      "lp: Error - expected hostname after “-h” option.\r\n",
      "Usage: lp [options] [--] [file(s)]\r\n",
      "       lp [options] -i id\r\n",
      "Options:\r\n",
      "-c                      Make a copy of the print file(s)\r\n",
      "-d destination          Specify the destination\r\n",
      "-E                      Encrypt the connection to the server\r\n",
      "-h server[:port]        Connect to the named server and port\r\n",
      "-H HH:MM                Hold the job until the specified UTC time\r\n",
      "-H hold                 Hold the job until released/resumed\r\n",
      "-H immediate            Print the job as soon as possible\r\n",
      "-H restart              Reprint the job\r\n",
      "-H resume               Resume a held job\r\n",
      "-i id                   Specify an existing job ID to modify\r\n",
      "-m                      Send an email notification when the job completes\r\n",
      "-n num-copies           Specify the number of copies to print\r\n",
      "-o option[=value]       Specify a printer-specific option\r\n",
      "-o job-sheets=standard  Print a banner page with the job\r\n",
      "-o media=size           Specify the media size to use\r\n",
      "-o number-up=N          Specify that input pages should be printed N-up (1, 2, 4, 6, 9, and 16 are supported)\r\n",
      "-o orientation-requested=N\r\n",
      "                        Specify portrait (3) or landscape (4) orientation\r\n",
      "-o print-quality=N      Specify the print quality - draft (3), normal (4), or best (5)\r\n",
      "-o sides=one-sided      Specify 1-sided printing\r\n",
      "-o sides=two-sided-long-edge\r\n",
      "                        Specify 2-sided portrait printing\r\n",
      "-o sides=two-sided-short-edge\r\n",
      "                        Specify 2-sided landscape printing\r\n",
      "-P page-list            Specify a list of pages to print\r\n",
      "-q priority             Specify the priority from low (1) to high (100)\r\n",
      "-s                      Be silent\r\n",
      "-t title                Specify the job title\r\n",
      "-U username             Specify the username to use for authentication\r\n"
     ]
    }
   ],
   "source": [
    "! lp -h"
   ]
  },
  {
   "cell_type": "code",
   "execution_count": 37,
   "id": "bb295aca",
   "metadata": {},
   "outputs": [],
   "source": [
    "# landscape\n",
    "! lpr -o orientation-requested=4"
   ]
  },
  {
   "cell_type": "code",
   "execution_count": 14,
   "id": "255a3420",
   "metadata": {},
   "outputs": [
    {
     "name": "stdout",
     "output_type": "stream",
     "text": [
      "system default destination: HP_DeskJet_3700_series_2\n",
      "network https\n",
      "network ipp\n",
      "network http\n",
      "network ipps\n",
      "network lpd\n",
      "network smb\n",
      "network socket\n",
      "network dnssd://HP%20DeskJet%203700%20series%20%5B60F9FE%5D._ipp._tcp.local./?uuid=439f5558-e680-f458-aebf-1a9e9c0ec428\n"
     ]
    }
   ],
   "source": [
    "# list default printer\n",
    "! lpstat -d\n",
    "! lpinfo -v # doesn't seem to do what it used to"
   ]
  },
  {
   "cell_type": "code",
   "execution_count": 33,
   "id": "926e13f6",
   "metadata": {},
   "outputs": [
    {
     "name": "stdout",
     "output_type": "stream",
     "text": [
      "HP_DeskJet_3700_series_2 is ready\r\n",
      "Rank    Owner   Job     File(s)                         Total Size\r\n",
      "1st     jamesm  40      (stdin)                         0 bytes\r\n",
      "2nd     jamesm  43      (stdin)                         0 bytes\r\n",
      "3rd     jamesm  44      (stdin)                         0 bytes\r\n"
     ]
    }
   ],
   "source": [
    "# lpq to see print queue\n",
    "! lpq"
   ]
  },
  {
   "cell_type": "markdown",
   "id": "23079ed1",
   "metadata": {},
   "source": [
    "### formatting with pr"
   ]
  },
  {
   "cell_type": "code",
   "execution_count": 40,
   "id": "6d11302d",
   "metadata": {},
   "outputs": [],
   "source": [
    "! ls -1 /bin/ > bin.txt"
   ]
  },
  {
   "cell_type": "code",
   "execution_count": 44,
   "id": "a8f85507",
   "metadata": {},
   "outputs": [],
   "source": [
    "! ls -1 /etc/ > etc.txt"
   ]
  },
  {
   "cell_type": "code",
   "execution_count": 47,
   "id": "59549643",
   "metadata": {},
   "outputs": [
    {
     "name": "stdout",
     "output_type": "stream",
     "text": [
      "\r\n",
      "\r\n",
      "Apr 18 17:10 2023  Page 1\r\n",
      "\r\n",
      "\r\n",
      "\u001b[31m[\u001b[m\u001b[m\t\t\t    afpovertcp.cfg\r\n",
      "\u001b[31mbash\u001b[m\u001b[m\t\t\t    \u001b[35maliases\u001b[m\u001b[m\r\n",
      "\u001b[31mcat\u001b[m\u001b[m\t\t\t    aliases.db\r\n",
      "\u001b[31mchmod\u001b[m\u001b[m\t\t    \u001b[34mapache2\u001b[m\u001b[m\r\n",
      "\u001b[31mcp\u001b[m\u001b[m\t\t\t    \u001b[34masl\u001b[m\u001b[m\r\n",
      "\u001b[31mcsh\u001b[m\u001b[m\t\t\t    asl.conf\r\n",
      "\u001b[31mdash\u001b[m\u001b[m\t\t\t    auto_home\r\n",
      "\u001b[31mdate\u001b[m\u001b[m\t\t\t    auto_master\r\n",
      "\u001b[31mdd\u001b[m\u001b[m\t\t\t    autofs.conf\r\n",
      "\u001b[31mdf\u001b[m\u001b[m\t\t\t    bashrc\r\n",
      "\u001b[31mecho\u001b[m\u001b[m\t\t\t    bashrc_Apple_Terminal\r\n",
      "\u001b[31med\u001b[m\u001b[m\t\t\t    com.apple.screensharing.agent.launc\r\n",
      "\u001b[31mexpr\u001b[m\u001b[m\t\t\t    csh.cshrc\r\n",
      "\u001b[31mhostname\u001b[m\u001b[m\t\t    csh.login\r\n",
      "\u001b[31mkill\u001b[m\u001b[m\t\t\t    csh.logout\r\n"
     ]
    }
   ],
   "source": [
    "# print each file in a seperate column\n",
    "! pr -m bin.txt etc.txt | head -20"
   ]
  },
  {
   "cell_type": "code",
   "execution_count": 56,
   "id": "37f51717",
   "metadata": {},
   "outputs": [],
   "source": [
    "# remove header and print!\n",
    "! pr -m bin.txt etc.txt | head -20 | lpr "
   ]
  },
  {
   "cell_type": "markdown",
   "id": "ba6d8c1b",
   "metadata": {},
   "source": [
    "### print queue"
   ]
  },
  {
   "cell_type": "code",
   "execution_count": 58,
   "id": "e2ceb219",
   "metadata": {},
   "outputs": [
    {
     "name": "stdout",
     "output_type": "stream",
     "text": [
      "HP_DeskJet_3700_series_2 is ready\n",
      "no entries\n",
      "lprm: Job #40 is already aborted - can’t cancel.\n"
     ]
    }
   ],
   "source": [
    "# cancel a job with lprm using job name from lpq\n",
    "! lpq\n",
    "! lprm 40"
   ]
  },
  {
   "cell_type": "markdown",
   "id": "f716fa07",
   "metadata": {},
   "source": [
    "### _exercises_"
   ]
  },
  {
   "cell_type": "code",
   "execution_count": 69,
   "id": "a90dae2d",
   "metadata": {},
   "outputs": [
    {
     "name": "stdout",
     "output_type": "stream",
     "text": [
      "FcFontSetPrint(3)        - Print a set of patterns to stdout\n",
      "FcPatternPrint(3)        - Print a pattern for debugging\n",
      "FcValuePrint(3)          - Print a value to stdout\n",
      "zstdgrep(1)              - print lines matching a pattern in zstandard-compressed files\n",
      "MPI_Comm_get_name(3)     - Return the print name from the communicator\n",
      "MPI_Comm_set_name(3)     - Sets the print name for a communicator\n",
      "MPI_Type_get_name(3)     - Get the print name for a datatype\n",
      "MPI_Win_get_name(3)      - Get the print name associated with the MPI RMA window\n",
      "MPI_Win_set_name(3)      - Set the print name for an MPI RMA window\n",
      "acountry(1)              - print the country where an IPv4 address or host is located\n",
      "adig(1)                  - print information collected from Domain Name System (DNS) servers\n",
      "ahost(1)                 - print the A or AAAA record associated with a hostname or IP address\n",
      "kvno(1)                  - print key version numbers of Kerberos principals\n",
      "webpinfo(1)              - print out the chunk level structure of WebP files along with basic integrity checks\n",
      "x86_64-apple-darwin13.4.0-size(1), size(1) - print the size of the sections in an object file\n",
      "x86_64-apple-darwin13.4.0-strings(1), strings(1) - find the printable strings in a object, or other binary, file\n",
      "zmq_z85_decode(3)        - decode a binary key from Z85 printable text\n",
      "zmq_z85_encode(3)        - encode a binary key as Z85 printable text\n",
      "zstdgrep(1)              - print lines matching a pattern in zstandard-compressed files\n",
      "PrintUITool(8)           - a tool to perform privileged ui based operations on the printing system\n",
      "     200 print_cmds.txt\n"
     ]
    }
   ],
   "source": [
    "# many print commands\n",
    "! man -k print > print_cmds.txt\n",
    "! cat print_cmds.txt | head -20\n",
    "! wc -l print_cmds.txt"
   ]
  }
 ],
 "metadata": {
  "kernelspec": {
   "display_name": "Python 3 (ipykernel)",
   "language": "python",
   "name": "python3"
  },
  "language_info": {
   "codemirror_mode": {
    "name": "ipython",
    "version": 3
   },
   "file_extension": ".py",
   "mimetype": "text/x-python",
   "name": "python",
   "nbconvert_exporter": "python",
   "pygments_lexer": "ipython3",
   "version": "3.8.16"
  }
 },
 "nbformat": 4,
 "nbformat_minor": 5
}

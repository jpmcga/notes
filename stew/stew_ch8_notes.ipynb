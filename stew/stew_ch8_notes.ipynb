{
 "cells": [
  {
   "cell_type": "markdown",
   "id": "f336185d",
   "metadata": {},
   "source": [
    "# Chapter 8: Discrete Random Variables"
   ]
  },
  {
   "cell_type": "code",
   "execution_count": 75,
   "id": "f38eff8b",
   "metadata": {},
   "outputs": [],
   "source": [
    "import itertools\n",
    "\n",
    "from collections import Counter\n",
    "from matplotlib import pyplot as plt"
   ]
  },
  {
   "cell_type": "markdown",
   "id": "97a618e8",
   "metadata": {},
   "source": [
    "### Random variables\n",
    "- A _random variable_ is a variable the [probabilistically](https://chrispiech.github.io/probabilityForComputerScientists/en/part2/rvs/) takes on a value.  A random variable takes on a specified value when a event occurs.  Random variables that can only take on isolated vales are _discrete random variables_.  Random variables are denoted with capital letters (ie. X).\n",
    "- A random variable can be defined with a _probability density (or mass) function_; for a particular number _a_, the probability density funciton returns the probability that a random variable will equal that number: \n",
    "$$\n",
    "f(a) = Pr(X = a)\n",
    "$$\n",
    "\n",
    "For a probability density function,\n",
    "\n",
    "- $f(a) \\le 1$ for all possible values of a\n",
    "- $f(a) \\ge 0$ for all possible values of a\n",
    "\n",
    "The probability of the union of two disjoint random variables is simply the sum, of their probabilities,\n",
    "$$\n",
    "Pr[(X=2) \\cup (X=3)] = Pr(X=2) + Pr(X=3) = f(2) + f(3) \n",
    "$$\n",
    "\n",
    "The _cumulative distribution function_ tells the probability that random variable X will be less than or equal to value a* and equals the sum of of all possible values of X that are less than or equal to a*.  A cumulative distribution function is denoted with a capital F:\n",
    "$$\n",
    "F(a) = Pr(X \\le a)\n",
    "$$\n",
    "\n",
    "- If $a \\le b$, then $F(a) \\le F(b)$ (F is a _monotone increasing_ function)\n",
    "- F(a) is a piecewise constant ie. if graph, stays flat for an interval and then jumps to next step."
   ]
  },
  {
   "cell_type": "markdown",
   "id": "731a4e6d",
   "metadata": {},
   "source": [
    "### Expectation\n",
    "Expectation, or expected value, of _X_ tells  the average of all values if the random variable was measured many times,\n",
    "$$\n",
    "E(X) = f(a_1)a_1 + f(a_2)a_2 + f(a_3)a_3 +...._f(a_n)a_n = \\sum_{i=1}^{n} f(a_i)a_i\n",
    "$$\n",
    "The expectation can also be called the mean or $\\mu$.\n",
    "If _c_ is a constant, then:\n",
    "$$\n",
    "E(cX) = cE(X)\n",
    "$$\n",
    "If _g_ is a function:\n",
    "$$\n",
    "E[g(X)] = \\sum_{i=1}^{n} g(x_i)f(x_i)\n",
    "$$"
   ]
  },
  {
   "cell_type": "markdown",
   "id": "fc1e93d6",
   "metadata": {},
   "source": [
    "### Variance\n",
    "The variance of _X_ is a measure of the average distance each possible value _a_ is from X.  The variance is calculated by taking the square of the difference of each value _a_ from the expectation _E_ of _X_:\n",
    "$$\n",
    "\\sigma^2 = Var(X) = F(a_1)[a_1 - E(X)]^2 + F(a_2)[a_2 - E(X)]^2 + ... + F(a_3)[a_3 - E(X)]^2\n",
    "$$\n",
    "The square root of the variation is the standard deviation of _E_:\n",
    "$$\n",
    "\\sigma = \\sqrt{Var(X)}\n",
    "$$\n",
    "Var(X) can be calculated with the shortcut:\n",
    "$$\n",
    "Var(X) = E(X^2) - [E(X)]^2\n",
    "$$"
   ]
  },
  {
   "cell_type": "markdown",
   "id": "a400f6d0",
   "metadata": {},
   "source": [
    "### Bernoulli Trials\n",
    "A Bernoulli Trial, _Z_, can have two possible values: success (1) and failure (0), with success having probability _p_ and failure _1 - p_. Then,\n",
    "\n",
    "- expectation\n",
    "$$\n",
    "E(Z) = 0*(1-p) + 1*p = p \n",
    "$$\n",
    "\n",
    "- variance\n",
    "$$\n",
    "Var(Z) = f(0)(0-p)^2 + f(1)(1-p)^2 = p(1 - p)\n",
    "$$\n",
    "\n"
   ]
  },
  {
   "cell_type": "markdown",
   "id": "b07df4db",
   "metadata": {},
   "source": [
    "### Variance of a Sum\n",
    "For a constant _c_,\n",
    "$$\n",
    "Var(cX) = c^2Var(X)\n",
    "$$\n",
    "\n",
    "For two _independent_ variables _X_ and _Y_, \n",
    "$$\n",
    "Var(X+Y) = Var(X) + Var(Y)\n",
    "$$"
   ]
  },
  {
   "cell_type": "markdown",
   "id": "2eabaa89",
   "metadata": {},
   "source": [
    "### Exercises"
   ]
  },
  {
   "cell_type": "markdown",
   "id": "7ba97f3b",
   "metadata": {},
   "source": [
    "**Exercise 1**. List five quanities not yet mentioned in this book that can be represented by a discrete random variable; give their possible values."
   ]
  },
  {
   "cell_type": "markdown",
   "id": "7745358b",
   "metadata": {},
   "source": [
    "- Number of times a substring match a random string (len(S) > len(s).\n",
    "    - Values: 1, 2, 100, 90\n",
    "    \n",
    "- Number of offspring with independently segregating trait T in N offspring.\n",
    "    - Values: 1, 2, 100, 90\n",
    "    \n",
    "- Height of an individual (to nearest inch) of an individual selected from population P.\n",
    "    - Values: 42, 60, 72\n",
    "    \n",
    "- Number of RNA molecules detected in an RNA-seq experiment\n",
    "    - Values: 20, 2e5, 2e9\n",
    "    \n",
    "- Number of new customers a company will recruit in a year.\n",
    "    - 1, 20, 100"
   ]
  },
  {
   "cell_type": "markdown",
   "id": "148dfb2c",
   "metadata": {},
   "source": [
    "**Exercise 2**. In a given city in a given year, let _X_ be the number of days that it rained and _Y_ be the time (measured in seconds) that it rained.  Which of these are discrete random variables?  Provide possible values."
   ]
  },
  {
   "cell_type": "markdown",
   "id": "c7316d16",
   "metadata": {},
   "source": [
    "- Number of days; time is continous\n",
    "    - 1, 100, 365"
   ]
  },
  {
   "cell_type": "markdown",
   "id": "eee4fb9d",
   "metadata": {},
   "source": [
    "**Exercise 3**. Let _X_ be the number rolled by two fair dice.  Determine $fx(k)$, the density function of _X_."
   ]
  },
  {
   "cell_type": "markdown",
   "id": "f41fda07",
   "metadata": {},
   "source": [
    "$f(2) = 1/36$\n",
    "\n",
    "$f(3) = 1/18$\n",
    "\n",
    "$f(4) = 1/12$\n",
    "\n",
    "$f(5) = 1/9$\n",
    "\n",
    "$f(6) = 5/36$\n",
    "\n",
    "$f(7) = 1/6$\n",
    "\n",
    "$f(8) = 5/36$\n",
    "\n",
    "$f(9) = 1/9$\n",
    "\n",
    "$f(10) = 1/12$\n",
    "\n",
    "$f(11) = 1/18$\n",
    "\n",
    "$f(12) = 1/36$\n"
   ]
  },
  {
   "cell_type": "markdown",
   "id": "b00f008e",
   "metadata": {},
   "source": [
    "**Exercise 4**. Let _X_ be a discrete random variable. If $Pr(X<7)=1/3$, and $Pr(X>7) = 1/5$, then what is $fx(7)$?"
   ]
  },
  {
   "cell_type": "markdown",
   "id": "8bfee3c6",
   "metadata": {},
   "source": [
    "$$\n",
    "fx(7) = Pr(X=7) = 1 - (1/3 + 1/5) = 15/15 - 8/15 = 7/15\n",
    "$$"
   ]
  },
  {
   "cell_type": "markdown",
   "id": "c22b9a12",
   "metadata": {},
   "source": [
    "**Exercise 5**. _X_ is a discrete random variable.  If $Pr(X<5)=5/6$, and $Pr(X \\le 5) = 11/12$, then what is $fx(5)$?"
   ]
  },
  {
   "cell_type": "markdown",
   "id": "cc46c18f",
   "metadata": {},
   "source": [
    "1/12"
   ]
  },
  {
   "cell_type": "markdown",
   "id": "04365459",
   "metadata": {},
   "source": [
    "**Exercise 6**. Suppose _X_ is a discrete random variable, and suppose that at every point the value of the density function for _X_ is either 0 or 1/5. How many possible values are there for _X_?"
   ]
  },
  {
   "cell_type": "markdown",
   "id": "4bcc599e",
   "metadata": {},
   "source": [
    "- The sum of the values of the density function must equal 1; therefore,\n",
    "$$f(a) = 1/5$$\n",
    "$$f(b) = 1/5$$\n",
    "$$f(c) = 1/5$$\n",
    "$$f(d) = 1/5$$\n",
    "$$f(e) = 1/5$$\n",
    "    and there are five possible values for _X_."
   ]
  },
  {
   "cell_type": "markdown",
   "id": "6a94852d",
   "metadata": {},
   "source": [
    "**Exercise 7**. Flip a fair coin a few times, and let _X_ be the number of heads you get before your first tail.  Determine the density function for _X_."
   ]
  },
  {
   "cell_type": "markdown",
   "id": "af661bd8",
   "metadata": {},
   "source": [
    "- Pr(0 H before T) = Pr(T on first toss) = $Pr(X = 0) = 1/2 = 1/2^1$\n",
    "- Pr(1 H before T) = Pr(H then T) = $Pr(X = 1) = 1/2 * 1/2 = (1/2)^2$\n",
    "- Pr(1 H before T) = Pr(H then T) = $Pr(X = 1) = 1/2 * 1/2 * 1/2 = (1/2)^3$\n",
    "\n",
    "You always have to take into account the last flip; generalizing,\n",
    "$$\n",
    "Pr(X = k) = \\frac {1}{2}^{(k + 1)} = 2^{-(k+1)}\n",
    "$$"
   ]
  },
  {
   "cell_type": "markdown",
   "id": "4b5a2dbb",
   "metadata": {},
   "source": [
    "**Exercise 8**. Let _X_ be a random variable with the following density function:\n",
    "$$f(-1/2) = 1/2$$\n",
    "$$f(1/2) = 1/6$$\n",
    "$$f(2) = 1/3$$\n",
    "$$f(k) = 0$$\n",
    "Make a graph of $$Fx(a)$$"
   ]
  },
  {
   "cell_type": "code",
   "execution_count": 53,
   "id": "54ce64c3",
   "metadata": {},
   "outputs": [
    {
     "data": {
      "text/plain": [
       "Text(0.5, 1.0, 'f(a)')"
      ]
     },
     "execution_count": 53,
     "metadata": {},
     "output_type": "execute_result"
    },
    {
     "data": {
      "image/png": "[encoded data removed]",
      "text/plain": [
       "<Figure size 640x480 with 1 Axes>"
      ]
     },
     "metadata": {},
     "output_type": "display_data"
    }
   ],
   "source": [
    "# graph of f(a)\n",
    "a = [-1/2, 1/2, 2]\n",
    "pr_a = [1/2, 1/6, 1/3]\n",
    "\n",
    "plt.bar(\n",
    "    a,\n",
    "    pr_a,\n",
    "    width=.03\n",
    ")\n",
    "\n",
    "plt.plot(a, pr_a, 'bo', markersize=6)\n",
    "plt.xlabel(\"a\")\n",
    "plt.ylabel(\"Pr(X=a)\")\n",
    "plt.title(\"f(a)\")"
   ]
  },
  {
   "cell_type": "code",
   "execution_count": 139,
   "id": "f9c25c03",
   "metadata": {},
   "outputs": [
    {
     "data": {
      "text/plain": [
       "Text(0.5, 1.0, 'Solution problem 8')"
      ]
     },
     "execution_count": 139,
     "metadata": {},
     "output_type": "execute_result"
    },
    {
     "data": {
      "image/png": "[encoded data removed]",
      "text/plain": [
       "<Figure size 640x480 with 1 Axes>"
      ]
     },
     "metadata": {},
     "output_type": "display_data"
    }
   ],
   "source": [
    "# graph of f(a)\n",
    "a = [-1/2, 1/2, 2]\n",
    "pr_a = [1/2, (1/6 + 1/2), (1/6 + 1/2 + 1/3)]\n",
    "\n",
    "plt.step(a, pr_a, where='post')\n",
    "\n",
    "plt.plot(a, pr_a, 'bo', markersize=6)\n",
    "plt.xlabel(\"a\")\n",
    "plt.ylabel(\"F(a)\")\n",
    "plt.title(\"Solution problem 8\")"
   ]
  },
  {
   "cell_type": "markdown",
   "id": "260bbd40",
   "metadata": {},
   "source": [
    "**Exercise 9**. Let _X_ be a discrete random variable such that _F(a)_ is constant for _a_ $\\ge$ 10.  What can you say about _f(k)_ if _k_ $\\ge$ 10?"
   ]
  },
  {
   "cell_type": "markdown",
   "id": "0e3d4d0b",
   "metadata": {},
   "source": [
    "f(k) = 0 if k $\\ge$ 10; for a step function, the probability only occur on the steps not plateaus---I feel like this is true....\n",
    "\n",
    "Useful quote from chatgpt:\n",
    "\n",
    "> The probability density function (PDF) f(k) is the derivative of the CDF. Since the CDF is constant for a ≥ 10, the derivative of a constant is zero. Therefore, for k ≥ 10, the PDF f(k) is equal to zero."
   ]
  },
  {
   "cell_type": "code",
   "execution_count": 138,
   "id": "a100442f",
   "metadata": {},
   "outputs": [
    {
     "data": {
      "text/plain": [
       "(-150.0, 50.0)"
      ]
     },
     "execution_count": 138,
     "metadata": {},
     "output_type": "execute_result"
    },
    {
     "data": {
      "image/png": "[encoded data removed]",
      "text/plain": [
       "<Figure size 640x480 with 1 Axes>"
      ]
     },
     "metadata": {},
     "output_type": "display_data"
    }
   ],
   "source": [
    "x = [-150, -100, 5, 10, 100]\n",
    "y = [0, .2, .7, 1, 1]\n",
    "  \n",
    "plt.step(x, y, where='post')\n",
    "\n",
    "plt.xlim(-150, 50)"
   ]
  },
  {
   "cell_type": "markdown",
   "id": "9e4cdb47",
   "metadata": {},
   "source": [
    "**Exercise 10**. Show that $E(X+Y) = E(X) + E(Y)$ for any two random variables."
   ]
  },
  {
   "cell_type": "markdown",
   "id": "ca155fca",
   "metadata": {},
   "source": [
    "$$E(X) = f(a_1)a_1 + f(a_2)a_2 + f(a_3)a_3$$\n",
    "$$E(Y) = f(b_1)b_1 + f(b_2)b_2 + f(b_3)b_3$$\n",
    "$$E(X + Y) = f(a_1)a_1 + f(a_2)a_2 + f(a_3)a_3 + f(b_1)b_1 + f(b_2)b_2 + f(b_3)b_3$$\n",
    "$$E(X) + E(Y) = (f(a_1)a_1 + f(a_2)a_2 + f(a_3)a_3) + (f(b_1)b_1 + f(b_2)b_2 + f(b_3)b_3) = E(X + Y)$$\n",
    "idk, by the [commutative proberty](https://en.wikipedia.org/wiki/Commutative_property).\n",
    "\n",
    "Did more research and this is wrong.  Looks like the general proof involves integrals, but you can do it with ' linearity of expectation'(see [here](https://math.stackexchange.com/questions/1182620/how-to-understand-the-proof-of-exy-ex-ey))."
   ]
  },
  {
   "cell_type": "markdown",
   "id": "0c8e5769",
   "metadata": {},
   "source": [
    "**Exercise 11**. Show that $Var(c) = 0$ if _c_ is a constant number."
   ]
  },
  {
   "cell_type": "markdown",
   "id": "9786432d",
   "metadata": {},
   "source": [
    "For a constant number, $E(X) = x$\n",
    "$$Var(X) = E(X^2) - [E(X)]^2 = x^2 - x^2 = 0$$\n"
   ]
  },
  {
   "cell_type": "markdown",
   "id": "293fcdf8",
   "metadata": {},
   "source": [
    "**Exercise 12**. Calculate $Var(Y)$ when _Y_ represents the number that appears when a single die is thrown."
   ]
  },
  {
   "cell_type": "markdown",
   "id": "ae49482d",
   "metadata": {},
   "source": [
    "$$E(Y) = \\sum_{i=1}^{n} f(a_i)a_i$$\n",
    "$$Var(Y) = E(Y^2) - [E(Y)]^2$$"
   ]
  },
  {
   "cell_type": "markdown",
   "id": "db3101cc",
   "metadata": {},
   "source": [
    "$$E(X) = (1/6)*1 + (1/6)*2 + (1/6)*3 + (1/6)*4 + (1/6)*5 + (1/6)*6 = 3\\frac{1}{2}$$\n",
    "\n",
    "$$\n",
    "[E(S)]^2 = (3.5)^2 = 12.25\n",
    "$$\n",
    "\n",
    "$$\n",
    "𝐸(𝑆2) = (1^2*1/6) + (2^2*1/6) + (3^2*1/6) + (4^2*1/6) + (5^2*1/6) + (6^2*1/6) = 1/6 + 4/6 + 9/6 + 16/6 + 25/6 + 6 = 91/6 = 15.16\n",
    "$$\n",
    "\n",
    "$$\n",
    "Var(S) = 15.16 - 12.25 = 2.91\n",
    "$$"
   ]
  },
  {
   "cell_type": "markdown",
   "id": "ee63c1d7",
   "metadata": {},
   "source": [
    "**Exercise 13**. Verify that $Var(X + Y) = Var(X) + Var(Y)$ if _X_ and _Y_ are the results of throwing two different dice. "
   ]
  },
  {
   "cell_type": "markdown",
   "id": "29445002",
   "metadata": {},
   "source": [
    "$$E(X) = E(Y) = 3.5 $$\n",
    "\n",
    "\n",
    "$$Var(X) = Var(Y) = \\frac{1}{6}((1-3.5)^2 + (2-3.5)^2 + (3-3.5)^2 + (4-3.5)^2 + (5-3.5)^2 + (6-3.5)^2 ) = $$\n",
    "$$\\frac{1}{6}(6.25 + 2.25 + 0.25 + 0.25 + 2.25 + 6.25) = 2.91$$\n",
    "$$Var(X) + Var(Y) = 2.91 + 2.91 = 5.82$$\n",
    "\n",
    "From the book:\n",
    "$$\n",
    "Var(X+Y) = E[(X+Y)^2] + [E(X)+E(Y)]^2\n",
    "$$\n",
    "$$\n",
    "[E(X) + E(Y)]^2 = 49\n",
    "$$\n",
    "This the expectation of rolling two die at once---tricky.\n",
    "$$\n",
    "E[(X+Y)^2] = (1/36)2^2 + (2/36)3^2 + (3/36)4^2 + (4/36)5^2 + (5/36)6^2 + (6/36)7^2 + (5/36)8^2 + (4/36)9^2 +(3/36)10^2 + (2/36)11^2 + (1/36)12^2 = 54.83\n",
    "$$\n",
    "$$\n",
    "Var(X+Y) = E[(X+Y)^2] + [E(X)+E(Y)]^2 = 54.83 - 49 = 5.83\n",
    "$$"
   ]
  },
  {
   "cell_type": "markdown",
   "id": "d7be38e5",
   "metadata": {},
   "source": [
    "**Exercise 14**. Suppose you toss a die _n_ times. Let _X_ represent the total of all the numbers that appear.  What is _E(X)_? What is _Var(X)_?"
   ]
  },
  {
   "cell_type": "markdown",
   "id": "c36b5290",
   "metadata": {},
   "source": [
    "$$\n",
    "E(X) = 3.5n; Var(X) = 2.91n\n",
    "$$"
   ]
  },
  {
   "cell_type": "markdown",
   "id": "9fcd5d09",
   "metadata": {},
   "source": [
    "**Exercise 15**. You and a friend play the following game: You flip a fair coin.  If it comes up head, you pay 1.  If it comes up tails, your friend rolls a die.  If the result is an even number, you are paid 2; if the result is an odd number, then you pay your friend 3.  What is your expected payoff--that is, the average amount you will win or lose?"
   ]
  },
  {
   "cell_type": "markdown",
   "id": "f1bfdf54",
   "metadata": {},
   "source": [
    "$$\n",
    "E(X) = -1(1/2) + 2(1/2)(1/2) - 3(1/2) = 3/4\n",
    "$$"
   ]
  },
  {
   "cell_type": "markdown",
   "id": "60fba157",
   "metadata": {},
   "source": [
    "**Exercise 16**. You and your friend play the following game: You pay your friend 3 each turn and then flip a fair coin.  If it's tails, your friend pays you 2^n where _n_ is the number of times you've flipped the coin, and the game ends.  If it's heads, you have the choice of stopping or continuing.  If you have _m_ dollars to start with, and you play the game either until you win or until you have on money left, what will you win on the average."
   ]
  },
  {
   "cell_type": "markdown",
   "id": "186cd40f",
   "metadata": {},
   "source": [
    "- T Round 1: -3 + 2^0 = -2\n",
    "- T Round 2: -6 + 2^1 = -4\n",
    "- T Round 3: -9 + 2^2 = -5\n",
    "- T Round 4: -12 + 2^3 = -4\n",
    "- T Round 5: -15 + 2^4 = 1\n",
    "- T Round 6: -18 + 2^5 = 14\n",
    "- T Round n: -3n + 2^(n-1)\n",
    "\n",
    "Probability of each success = 1/2^n\n",
    "\n",
    "$$\n",
    "(-3n + 2^{n-1})\\frac{1}{2}^n\n",
    "$$\n",
    "The expected value is the sum of each of _m_ round of the game. Is the number of round simply m//3 (floor)?  Noooo because you have to take into account the probability of stopping if you win as well?  This is terrible..."
   ]
  },
  {
   "cell_type": "markdown",
   "id": "21bf9f63",
   "metadata": {},
   "source": [
    "**Exercise 17**. Let _X_ be a random vairable that equals 1 on Sunday, 2 on Monday and so on, up to 7 on Saturday.  Calculate _E(X)_ and _Var(X)_."
   ]
  },
  {
   "cell_type": "markdown",
   "id": "330dbc8f",
   "metadata": {},
   "source": [
    "$$\n",
    "E(X) = 1*\\frac{1}{7} + 2*\\frac{1}{7} + 3*\\frac{1}{7} + 4*\\frac{1}{7} + 5*\\frac{1}{7} + 6*\\frac{1}{7} + 7*\\frac{1}{7} = \\frac{1}{7} + \\frac{2}{7} + \\frac{3}{7} + \\frac{4}{7} + \\frac{5}{7} + \\frac{6}{7} + \\frac{7}{7} = 4\n",
    "$$\n",
    "\n",
    "$$\n",
    "Var(X) = \\frac{1}{7}(1-4)^2 + \\frac{1}{7}(2-4)^2 + \\frac{1}{7}(3-4)^2 + \\frac{1}{7}(4-4)^2 + \\frac{1}{7}(5-4)^2 + \\frac{1}{7}(6-4)^2 + \\frac{1}{7}(7-4)^2 = \n",
    "$$\n",
    "$$\n",
    "\\frac{1}{7}*9 + \\frac{1}{7}*4 + \\frac{1}{7}*1 + \\frac{1}{7}*0 + \\frac{1}{7}*1 + \\frac{1}{7}*4 + \\frac{1}{7}*9 = \\frac{9}{7} + \\frac{4}{7} + \\frac{1}{7} + \\frac{1}{7} + \\frac{4}{7} + \\frac{9}{7} = 4\n",
    "$$"
   ]
  },
  {
   "cell_type": "markdown",
   "id": "7ffd9bc7",
   "metadata": {},
   "source": [
    "**Exercise 18**. If _X_ is a discrete random variable with the cumulative distribution:\n",
    "$$\n",
    "\\begin{equation*}\n",
    "    F(a) = \\begin{cases}\n",
    "               0    &  a \\le -2,\\\\\n",
    "               0.4  &  -2 \\le a \\lt 4.5,\\\\\n",
    "               0.85 &  4.5 \\le a \\lt 9, \\\\\n",
    "               1    &  9 \\le a\n",
    "          \\end{cases}\n",
    "\\end{equation*}\n",
    "$$\n",
    "what is the density function for _X_?"
   ]
  },
  {
   "cell_type": "markdown",
   "id": "4bbad4e6",
   "metadata": {},
   "source": [
    "$$\n",
    "\\begin{equation*}\n",
    "    f(k) = \\begin{cases}\n",
    "               0.4  & \\text{if } k = -2 \\\\\n",
    "               0.45 & \\text{if } k = 4.5 \\\\\n",
    "               0.15 & \\text{if } k =9 \\\\\n",
    "               0    & \\text{elsewhere } \\\\\n",
    "          \\end{cases}\n",
    "\\end{equation*}\n",
    "$$"
   ]
  },
  {
   "cell_type": "markdown",
   "id": "fc2cfa96",
   "metadata": {},
   "source": [
    "**Exercise 19**. Let _X_ be a discrete random variable representing one half of the number of seconds that have elapsed this this book was purchased.  What is a set of possible values for _X_?"
   ]
  },
  {
   "cell_type": "code",
   "execution_count": 67,
   "id": "e9366c19",
   "metadata": {},
   "outputs": [
    {
     "data": {
      "text/plain": [
       "{497664000.0, 505958400.0, 514252800.0}"
      ]
     },
     "execution_count": 67,
     "metadata": {},
     "output_type": "execute_result"
    }
   ],
   "source": [
    "{(60*60*24*384*30)/2, (60*60*24*384*30.5)/2, (60*60*24*384*31)/2} # k/2 where k is set of all numbers"
   ]
  },
  {
   "cell_type": "markdown",
   "id": "500ffa54",
   "metadata": {},
   "source": [
    "**Exercise 20**. Let _X_ be a discrete random variable.  If $f(0)=0.5, f(1)=0.2, f(2)=0.1, f(3)=c, \\text{and} f(x)=0 \\text{ everywhere else}$, then what is the value of _c_?"
   ]
  },
  {
   "cell_type": "code",
   "execution_count": 68,
   "id": "012e403b",
   "metadata": {},
   "outputs": [],
   "source": [
    "c = 0.2"
   ]
  },
  {
   "cell_type": "markdown",
   "id": "9eeb8dd7",
   "metadata": {},
   "source": [
    "**Exercise 21**. Let _X_ be a discrete random variable representing the average of the numbers rolled on two dice.  What is the density function for _X_?"
   ]
  },
  {
   "cell_type": "code",
   "execution_count": 86,
   "id": "0e791f98",
   "metadata": {},
   "outputs": [
    {
     "data": {
      "text/plain": [
       "{1.0: 0.027777777777777776,\n",
       " 1.5: 0.05555555555555555,\n",
       " 2.0: 0.08333333333333333,\n",
       " 2.5: 0.1111111111111111,\n",
       " 3.0: 0.1388888888888889,\n",
       " 3.5: 0.16666666666666666,\n",
       " 4.0: 0.1388888888888889,\n",
       " 4.5: 0.1111111111111111,\n",
       " 5.0: 0.08333333333333333,\n",
       " 5.5: 0.05555555555555555,\n",
       " 6.0: 0.027777777777777776}"
      ]
     },
     "execution_count": 86,
     "metadata": {},
     "output_type": "execute_result"
    }
   ],
   "source": [
    "rolls = list(itertools.product(range(1,7), repeat=2))\n",
    "averges = [(x + y)/2 for x, y in rolls]\n",
    "n = len(averges)\n",
    "counts = Counter(averges)\n",
    "freqs = {k: v/n for k, v in counts.items()}\n",
    "freqs"
   ]
  },
  {
   "cell_type": "markdown",
   "id": "be40b232",
   "metadata": {},
   "source": [
    "**Exercise 22**. Let _X_ be a discrete random vaiable representing the number of television channels that you watched.  What are the possible values for _X_?"
   ]
  },
  {
   "cell_type": "markdown",
   "id": "053d37ce",
   "metadata": {},
   "source": [
    "- As many stations as available on your network."
   ]
  },
  {
   "cell_type": "markdown",
   "id": "92da9cad",
   "metadata": {},
   "source": [
    "**Exercise 23**. Let _X_ be the numberical value of the card you draw from a 53-card deck.  Suppose that kings, jacks, and queens are worth 10.  Find E(X)."
   ]
  },
  {
   "cell_type": "markdown",
   "id": "a4609633",
   "metadata": {},
   "source": [
    "$$\n",
    "E(X) = \\frac{1}{13} [\\sum_{i=1}^{10}i+30] = \\frac{85}{13} = 6 \\frac{7}{13}\n",
    "$$"
   ]
  },
  {
   "cell_type": "markdown",
   "id": "65ec4b27",
   "metadata": {},
   "source": [
    "**Exercise 24**. What is the variance of a Bernoulli-trial variable when the probability of succcess is 0.6 and the probability of failure is 0.4?"
   ]
  },
  {
   "cell_type": "markdown",
   "id": "4724f929",
   "metadata": {},
   "source": [
    "$$\n",
    "E(Z) = p = 0.6\n",
    "$$\n",
    "\n",
    "$$\n",
    "Var(Z) = p(1-p) = 0.6*0.4 = 0.24\n",
    "$$"
   ]
  },
  {
   "cell_type": "markdown",
   "id": "8781d9eb",
   "metadata": {},
   "source": [
    "**Exercise 25**. Let _X_ and _Y_ be two random variables representing the numbers that come up on two dice. Let $Z=X+Y$.  Calculate the density function of _Z_ and then calculate _E(Z)_. Show that $E(Z) = E(X) + E(Y)$"
   ]
  },
  {
   "cell_type": "code",
   "execution_count": 98,
   "id": "ff40a820",
   "metadata": {},
   "outputs": [
    {
     "data": {
      "text/plain": [
       "{2: 0.027777777777777776,\n",
       " 3: 0.05555555555555555,\n",
       " 4: 0.08333333333333333,\n",
       " 5: 0.1111111111111111,\n",
       " 6: 0.1388888888888889,\n",
       " 7: 0.16666666666666666,\n",
       " 8: 0.1388888888888889,\n",
       " 9: 0.1111111111111111,\n",
       " 10: 0.08333333333333333,\n",
       " 11: 0.05555555555555555,\n",
       " 12: 0.027777777777777776}"
      ]
     },
     "execution_count": 98,
     "metadata": {},
     "output_type": "execute_result"
    }
   ],
   "source": [
    "# density function of Z\n",
    "rolls = list(itertools.product(range(1, 7)x, repeat=2))\n",
    "sums = [x + y for x, y in rolls]\n",
    "n = len(sums)\n",
    "freqs = {k: v/n for k, v in Counter(sums).items()}\n",
    "freqs"
   ]
  },
  {
   "cell_type": "code",
   "execution_count": 104,
   "id": "147edfc9",
   "metadata": {},
   "outputs": [
    {
     "name": "stdout",
     "output_type": "stream",
     "text": [
      "6.999999999999999 ~= 7\n"
     ]
    }
   ],
   "source": [
    "# E(Z)\n",
    "E_Z = sum([k*v for k, v in freqs.items()])\n",
    "print(E_Z, \"~= 7\")"
   ]
  },
  {
   "cell_type": "markdown",
   "id": "9cc151ea",
   "metadata": {},
   "source": [
    "$$\n",
    "E(X) = E(Y) = 3.5\n",
    "$$\n",
    "$$\n",
    "E(Z) = E(X) + E(Y) = 3.5 + 3.5 = 7\n",
    "$$"
   ]
  },
  {
   "cell_type": "markdown",
   "id": "cdd9d177",
   "metadata": {},
   "source": [
    "**Exercise 26**. Show that $E(cX)=cE(X)$ for any random variable _X_ and any constant _c_."
   ]
  },
  {
   "cell_type": "markdown",
   "id": "6875854d",
   "metadata": {},
   "source": [
    "$$\n",
    "E(cX) = \\sum_{i} cf(a_i)a_i = c(f(a)*a)  cE(X)\n",
    "$$"
   ]
  },
  {
   "cell_type": "markdown",
   "id": "cf8df5fc",
   "metadata": {},
   "source": [
    "**Exercise 27**. Show that $Var(cX)=c^2Var(X)$ for any random variable _X_ and any constant _c_."
   ]
  },
  {
   "cell_type": "markdown",
   "id": "225b644f",
   "metadata": {},
   "source": [
    "$$\n",
    "Var(cX) = E(cX^2) - [E(cX)]^2\n",
    "$$\n",
    "\n",
    "$$\n",
    "E(c^2X^2) - [E(cX)]^2\n",
    "$$\n",
    "\n",
    "$$\n",
    "c^2E(X^2) - c^2[E(X)]\n",
    "$$\n",
    "\n",
    "$$\n",
    "c^2(E(X^2) - [E(X)]^2) = c^2Var(X)\n",
    "$$"
   ]
  },
  {
   "cell_type": "markdown",
   "id": "f00163f0",
   "metadata": {},
   "source": [
    "**Exercise 28**. Show that $E(X + Y + Z) = E(X) + E(Y) + E(Z)$ for any random variables _X_, _Y_, and _Z_."
   ]
  },
  {
   "cell_type": "markdown",
   "id": "3c8a7a9c",
   "metadata": {},
   "source": [
    "Let $E(X+Y) = E(W)$,\n",
    "\n",
    "$$\n",
    "E(W+Z) = E(W) + E(Z) = E(X + Y) + E(Z) = E(X) + E(Y) + E(Z)\n",
    "$$"
   ]
  },
  {
   "cell_type": "markdown",
   "id": "ee97cf9c",
   "metadata": {},
   "source": [
    "**Exercise 29**. Derive the density function for the random varible whose cumulative distribution function is illustrated in Figure 8-4."
   ]
  },
  {
   "cell_type": "code",
   "execution_count": 140,
   "id": "bb0466aa",
   "metadata": {},
   "outputs": [
    {
     "data": {
      "text/plain": [
       "(0.0, 9.0)"
      ]
     },
     "execution_count": 140,
     "metadata": {},
     "output_type": "execute_result"
    },
    {
     "data": {
      "image/png": "[encoded data removed]",
      "text/plain": [
       "<Figure size 640x480 with 1 Axes>"
      ]
     },
     "metadata": {},
     "output_type": "display_data"
    }
   ],
   "source": [
    "x = [0, 1, 2, 4, 6.5, 7, 9]\n",
    "y = [0, .2, .4, .5, .8, 1, 1]\n",
    "  \n",
    "plt.step(x, y, where='post')\n",
    "\n",
    "plt.xlabel(\"a\")\n",
    "plt.ylabel(\"F(a)\")\n",
    "plt.title(\"Figure 8.4\")\n",
    "plt.xlim(0,9)"
   ]
  },
  {
   "cell_type": "markdown",
   "id": "cd8bec24",
   "metadata": {},
   "source": [
    "$$\n",
    "\\begin{equation*}\n",
    "    f(a) = \\begin{cases}\n",
    "               0.2  & \\text{if } a = 1 \\\\\n",
    "               0.2 & \\text{if } a = 2 \\\\\n",
    "               0.1 & \\text{if } a = 4 \\\\                \n",
    "               0.3 & \\text{if } a = 6 \\\\\n",
    "               0.2 & \\text{if } a = 7 \\\\              \n",
    "               0    & \\text{elsewhere } \\\\\n",
    "          \\end{cases}\n",
    "\\end{equation*}\n",
    "$$"
   ]
  },
  {
   "cell_type": "markdown",
   "id": "cf00d232",
   "metadata": {},
   "source": [
    "**Exercise 30**. \n",
    "\n",
    "**(a)** Let $T_2$ be a random variable equal to the sum of the numbers that apear when you toss two dice, and let $T_{50}$ be the sum of the number that appear when you toss 50 dice. Calculate $E(T_2)$, $Var(T_2)$, $E(T_{50})$, and $Var(T_{50})$\n",
    "\n",
    "**(b)** Let $A_2$ be a random variable equal to the average of the number that appear when you toss two dice, and let $A_{50}$ be the average of the number that appear when you toss 50 dice.  Calculate $E(A_2)$, $Var(A_2)$, $E(A_{50}$, and $Var(A_{50})$."
   ]
  },
  {
   "cell_type": "markdown",
   "id": "25173084",
   "metadata": {},
   "source": [
    "**(a)**\n",
    "\n",
    "When rolling dice, the dice are independent; therefore, for $T_2$,\n",
    "\n",
    "$$\n",
    "E(T_2) = E(X + Y) = E(X) + E(Y) = 3.5 + 3.5 = 7\n",
    "$$\n",
    "\n",
    "and \n",
    "\n",
    "$$\n",
    "Var(T_2) = Var(X + Y) = Var(X)+ Var(Y) = 2.91 + 2.91 = 5.83\n",
    "$$\n",
    "\n",
    "It holds that $E(T_n) = 3.5n$ and $Var(T_n) = 2.91n$; therefore,\n",
    "\n",
    "$$\n",
    "E(T_{50}) = 50*3.5 = 175\n",
    "$$\n",
    "\n",
    "and \n",
    "\n",
    "$$\n",
    "Var(T_{50}) = 50*2.91 = 145.5\n",
    "$$"
   ]
  },
  {
   "cell_type": "markdown",
   "id": "0cdc0fe8",
   "metadata": {},
   "source": [
    "**(b)**\n",
    "\n",
    "For $A_2$\n",
    "\n",
    "$$\n",
    "E(A_2) = E(\\frac{1}{2}T_2) = \\frac{1}{2}E(T_2) = \\frac{7}{2} = 3.5\n",
    "$$\n",
    "\n",
    "$$\n",
    "Var(A_2) = Var(\\frac{1}{2}T_2) = \\frac{1}{2}^2Var(T_2) = frac{5.83}{4} = 1.46\n",
    "$$\n",
    "\n",
    "Similarly, for $A_50$,\n",
    "\n",
    "$$\n",
    "E(A_{50}) = \\frac{3.5n}{50} = frac{175}{2} = 3.5.5\n",
    "$$\n",
    "\n",
    "and,\n",
    "\n",
    "$$\n",
    "Var(A_{50}) = (\\frac{1}{n})^2 2.91n = \\frac{145.5}{2500} = 0.058\n",
    "$$"
   ]
  },
  {
   "cell_type": "markdown",
   "id": "58751fa0",
   "metadata": {},
   "source": [
    "**Exercise 31**. Prove that any cumulative distribution function _F_ is nondecreasing."
   ]
  },
  {
   "cell_type": "markdown",
   "id": "9f244b8d",
   "metadata": {},
   "source": [
    "With help from [Stack Exchange](https://math.stackexchange.com/questions/2581901/why-does-the-cumulative-distribution-function-have-to-be-nondecreasing)\n",
    "\n",
    "Assuming $y \\ge x$, then\n",
    "\n",
    "$$ F(x) = \\mathbb{P}((-\\infty, x]) $$\n",
    "$$ F(y) = \\mathbb{P}((-\\infty, y]) $$\n",
    "Therefore, \n",
    "\n",
    "$$ (-\\infty, x] \\subset (-\\infty, y] $$\n",
    "\n",
    "It can be shown that if $ A \\subset B $ then $ P(A) \\le P(B) $; therefore\n",
    "\n",
    "$$\n",
    "F(x) \\le F(y)  \n",
    "$$\n",
    "and the cumulative distribution function F is nondecreasing."
   ]
  },
  {
   "cell_type": "code",
   "execution_count": null,
   "id": "5d085d65",
   "metadata": {},
   "outputs": [],
   "source": [
    "\n"
   ]
  }
 ],
 "metadata": {
  "kernelspec": {
   "display_name": "Python 3 (ipykernel)",
   "language": "python",
   "name": "python3"
  },
  "language_info": {
   "codemirror_mode": {
    "name": "ipython",
    "version": 3
   },
   "file_extension": ".py",
   "mimetype": "text/x-python",
   "name": "python",
   "nbconvert_exporter": "python",
   "pygments_lexer": "ipython3",
   "version": "3.8.16"
  }
 },
 "nbformat": 4,
 "nbformat_minor": 5
}

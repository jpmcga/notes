{
 "cells": [
  {
   "cell_type": "markdown",
   "id": "9b62f10b",
   "metadata": {},
   "source": [
    "# Sam's Teach Yourself UNIX"
   ]
  },
  {
   "cell_type": "markdown",
   "id": "bb18933b",
   "metadata": {},
   "source": [
    "## Hour 1: Intro"
   ]
  },
  {
   "cell_type": "markdown",
   "id": "0fefd889",
   "metadata": {},
   "source": [
    "Man page organization <br> \n",
    "1.  User commands  <br>\n",
    "2.  sys calls <br>\n",
    "3.  Lib routines <br>\n",
    "4.  Admin files <br>\n",
    "5.  Misc <br>\n",
    "6.  Games <br>\n",
    "7.  I/O <br>\n",
    "8.  Admin commands <br>"
   ]
  },
  {
   "cell_type": "code",
   "execution_count": 7,
   "id": "69e00fbb",
   "metadata": {},
   "outputs": [
    {
     "name": "stdout",
     "output_type": "stream",
     "text": [
      "libssh2_sftp_mkdir(3)    - convenience macro for libssh2_sftp_mkdir_ex(3) calls\n",
      "libssh2_sftp_mkdir_ex(3) - create a directory on the remote file system\n",
      "mkdir(1)                 - make directories\n",
      "mkdir(1)                 - make directories\n",
      "mkdir(2), mkdirat(2)     - make a directory file\n"
     ]
    }
   ],
   "source": [
    "# -k for keyword search of manuals\n",
    "! man -k mkdir"
   ]
  },
  {
   "cell_type": "code",
   "execution_count": 12,
   "id": "26423d17",
   "metadata": {},
   "outputs": [
    {
     "name": "stdout",
     "output_type": "stream",
     "text": [
      "libssh2_sftp_mkdir(3)    - convenience macro for libssh2_sftp_mkdir_ex(3) calls\n",
      "libssh2_sftp_mkdir_ex(3) - create a directory on the remote file system\n",
      "mkdir(1)                 - make directories\n",
      "mkdir(1)                 - make directories\n",
      "mkdir(2), mkdirat(2)     - make a directory file\n"
     ]
    }
   ],
   "source": [
    "# apropos achieves same\n",
    "! apropos mkdir"
   ]
  },
  {
   "cell_type": "markdown",
   "id": "bf22897a",
   "metadata": {},
   "source": [
    "For alias [name] \"command\", ie:\n",
    "\n",
    "`alias apropos \"man -k \\!* | uniq | grep 1\"`\n",
    "\n",
    "to search for user commands. uniq displays only unique lines.\n",
    "A"
   ]
  },
  {
   "cell_type": "code",
   "execution_count": 15,
   "id": "0465de30",
   "metadata": {},
   "outputs": [
    {
     "name": "stdout",
     "output_type": "stream",
     "text": [
      "blah\r\n"
     ]
    }
   ],
   "source": [
    "! echo \"blah\\nblah\\nblah\" > test_uniq.txt\n",
    "! uniq test_uniq.txt"
   ]
  },
  {
   "cell_type": "markdown",
   "id": "758f6e6d",
   "metadata": {},
   "source": [
    "## Hour 2: Getting onto..."
   ]
  },
  {
   "cell_type": "markdown",
   "id": "f0d8fe27",
   "metadata": {},
   "source": [
    "`exit` to logout; works in AWS EC2 instances <br>\n",
    "`passwd` to change password"
   ]
  },
  {
   "cell_type": "code",
   "execution_count": 25,
   "id": "92702a4c",
   "metadata": {},
   "outputs": [
    {
     "name": "stdout",
     "output_type": "stream",
     "text": [
      "jamesm\n",
      "jamesm   ttys003  Jan  4 16:46 \n",
      "uid=502(jamesm) gid=20(staff) groups=20(staff),12(everyone),61(localaccounts),79(_appserverusr),80(admin),81(_appserveradm),98(_lpadmin),701(com.apple.sharepoint.group.1),702(com.apple.sharepoint.group.2),33(_appstore),100(_lpoperator),204(_developer),250(_analyticsusers),395(com.apple.access_ftp),398(com.apple.access_screensharing),399(com.apple.access_ssh),400(com.apple.access_remote_ae)\n",
      "jamesm\n"
     ]
    }
   ],
   "source": [
    "!whoami\n",
    "# vs\n",
    "!who am i\n",
    "# vs\n",
    "!id\n",
    "# vs\n",
    "! users"
   ]
  },
  {
   "cell_type": "code",
   "execution_count": 30,
   "id": "f6e00552",
   "metadata": {},
   "outputs": [
    {
     "name": "stdout",
     "output_type": "stream",
     "text": [
      "jamesm   console  Dec  9 13:22 \n",
      "jamesm   ttys000  Dec 29 14:14 \n",
      "jamesm   ttys001  Dec 24 12:10 \n",
      "jamesm   ttys002  Dec  9 13:22 \n",
      "16:59  up 26 days,  3:41, 4 users, load averages: 0.88 1.05 1.15\n",
      "USER     TTY      FROM              LOGIN@  IDLE WHAT\n",
      "jamesm   console  -                09Dec22 26days -\n",
      "jamesm   s002     -                09Dec22    35 /Users/jamesm/opt/anaconda3/bi\n",
      "jamesm   s000     -                Thu14      50 -zsh con      ��    /bin/zsh  \n",
      "jamesm   s001     -                24Dec22 11days /Users/jamesm/opt/anaconda3/b\n"
     ]
    }
   ],
   "source": [
    "# what is everyone doing?\n",
    "!who\n",
    "# vs\n",
    "!w"
   ]
  },
  {
   "cell_type": "code",
   "execution_count": 27,
   "id": "38b16307",
   "metadata": {},
   "outputs": [
    {
     "name": "stdout",
     "output_type": "stream",
     "text": [
      "shell  0.01s user 0.01s system 432% cpu 0.006 total\r\n",
      "children  0.00s user 0.00s system 0% cpu 0.006 total\r\n"
     ]
    }
   ],
   "source": [
    "!time"
   ]
  },
  {
   "cell_type": "code",
   "execution_count": 28,
   "id": "05d04a93",
   "metadata": {},
   "outputs": [
    {
     "name": "stdout",
     "output_type": "stream",
     "text": [
      "Wed Jan  4 16:58:43 EST 2023\r\n"
     ]
    }
   ],
   "source": [
    "!date"
   ]
  },
  {
   "cell_type": "markdown",
   "id": "e5a63215",
   "metadata": {},
   "source": [
    "## Hour 3: Moving about"
   ]
  },
  {
   "cell_type": "code",
   "execution_count": 91,
   "id": "5d93891f",
   "metadata": {},
   "outputs": [
    {
     "name": "stdout",
     "output_type": "stream",
     "text": [
      "\u001b[35mX11\u001b[m\u001b[m        \u001b[34mbin\u001b[m\u001b[m        \u001b[34mlibexec\u001b[m\u001b[m    \u001b[34msbin\u001b[m\u001b[m       \u001b[34mstandalone\u001b[m\u001b[m\r\n",
      "\u001b[35mX11R6\u001b[m\u001b[m      \u001b[34mlib\u001b[m\u001b[m        \u001b[34mlocal\u001b[m\u001b[m      \u001b[34mshare\u001b[m\u001b[m\r\n"
     ]
    }
   ],
   "source": [
    "# usr orignally for user-related commands; should contain operating sys binaries\n",
    "!ls /usr/"
   ]
  },
  {
   "cell_type": "code",
   "execution_count": 36,
   "id": "b2383a10",
   "metadata": {},
   "outputs": [
    {
     "name": "stdout",
     "output_type": "stream",
     "text": [
      "\u001b[34m\u001b[43maes_0\u001b[m\u001b[m                       \u001b[34m\u001b[43mptyw6\u001b[m\u001b[m\r\n",
      "\u001b[34m\u001b[43mafsc_type5\u001b[m\u001b[m                  \u001b[34m\u001b[43mptyw7\u001b[m\u001b[m\r\n",
      "\u001b[34m\u001b[46mapfs-raw-device.2.0\u001b[m\u001b[m         \u001b[34m\u001b[43mptyw8\u001b[m\u001b[m\r\n",
      "\u001b[34m\u001b[43mauditpipe\u001b[m\u001b[m                   \u001b[34m\u001b[43mptyw9\u001b[m\u001b[m\r\n",
      "\u001b[34m\u001b[43mauditsessions\u001b[m\u001b[m               \u001b[34m\u001b[43mptywa\u001b[m\u001b[m\r\n",
      "\u001b[34m\u001b[43mautofs\u001b[m\u001b[m                      \u001b[34m\u001b[43mptywb\u001b[m\u001b[m\r\n",
      "\u001b[34m\u001b[43mautofs_control\u001b[m\u001b[m              \u001b[34m\u001b[43mptywc\u001b[m\u001b[m\r\n",
      "\u001b[34m\u001b[43mautofs_homedirmounter\u001b[m\u001b[m       \u001b[34m\u001b[43mptywd\u001b[m\u001b[m\r\n",
      "\u001b[34m\u001b[43mautofs_notrigger\u001b[m\u001b[m            \u001b[34m\u001b[43mptywe\u001b[m\u001b[m\r\n",
      "\u001b[34m\u001b[43mautofs_nowait\u001b[m\u001b[m               \u001b[34m\u001b[43mptywf\u001b[m\u001b[m\r\n",
      "\u001b[34m\u001b[43mbpf0\u001b[m\u001b[m                        \u001b[34m\u001b[43mrandom\u001b[m\u001b[m\r\n",
      "\u001b[34m\u001b[43mbpf1\u001b[m\u001b[m                        \u001b[34m\u001b[43mrdisk0\u001b[m\u001b[m\r\n",
      "\u001b[34m\u001b[43mbpf2\u001b[m\u001b[m                        \u001b[34m\u001b[43mrdisk0s1\u001b[m\u001b[m\r\n",
      "\u001b[34m\u001b[43mbpf3\u001b[m\u001b[m                        \u001b[34m\u001b[43mrdisk0s2\u001b[m\u001b[m\r\n",
      "\u001b[34m\u001b[43mconsole\u001b[m\u001b[m                     \u001b[34m\u001b[43mrdisk0s3\u001b[m\u001b[m\r\n",
      "\u001b[34m\u001b[43mcu.Bluetooth-Incoming-Port\u001b[m\u001b[m  \u001b[34m\u001b[43mrdisk1\u001b[m\u001b[m\r\n",
      "\u001b[34m\u001b[43mcu.BoseColorIISoundLink-SP\u001b[m\u001b[m  \u001b[34m\u001b[43mrdisk1s1\u001b[m\u001b[m\r\n",
      "\u001b[34m\u001b[43mcu.BoseRevolveSoundLink-SP\u001b[m\u001b[m  \u001b[34m\u001b[43mrdisk1s2\u001b[m\u001b[m\r\n",
      "\u001b[34m\u001b[43mcu.debug-console\u001b[m\u001b[m            \u001b[34m\u001b[43mrdisk1s3\u001b[m\u001b[m\r\n",
      "\u001b[34m\u001b[43mcu.wlan-debug\u001b[m\u001b[m               \u001b[34m\u001b[43mrdisk1s4\u001b[m\u001b[m\r\n",
      "\u001b[34m\u001b[46mdisk0\u001b[m\u001b[m                       \u001b[34m\u001b[43mrdisk2\u001b[m\u001b[m\r\n",
      "\u001b[34m\u001b[46mdisk0s1\u001b[m\u001b[m                     \u001b[34m\u001b[43mrdisk2s1\u001b[m\u001b[m\r\n",
      "\u001b[34m\u001b[46mdisk0s2\u001b[m\u001b[m                     \u001b[34m\u001b[43mrdisk2s2\u001b[m\u001b[m\r\n",
      "\u001b[34m\u001b[46mdisk0s3\u001b[m\u001b[m                     \u001b[34m\u001b[43mrdisk3\u001b[m\u001b[m\r\n",
      "\u001b[34m\u001b[46mdisk1\u001b[m\u001b[m                       \u001b[34m\u001b[43mrdisk3s1\u001b[m\u001b[m\r\n",
      "\u001b[34m\u001b[46mdisk1s1\u001b[m\u001b[m                     \u001b[34m\u001b[43mrdisk3s1s1\u001b[m\u001b[m\r\n",
      "\u001b[34m\u001b[46mdisk1s2\u001b[m\u001b[m                     \u001b[34m\u001b[43mrdisk3s2\u001b[m\u001b[m\r\n",
      "\u001b[34m\u001b[46mdisk1s3\u001b[m\u001b[m                     \u001b[34m\u001b[43mrdisk3s3\u001b[m\u001b[m\r\n",
      "\u001b[34m\u001b[46mdisk1s4\u001b[m\u001b[m                     \u001b[34m\u001b[43mrdisk3s4\u001b[m\u001b[m\r\n",
      "\u001b[34m\u001b[46mdisk2\u001b[m\u001b[m                       \u001b[34m\u001b[43mrdisk3s5\u001b[m\u001b[m\r\n",
      "\u001b[34m\u001b[46mdisk2s1\u001b[m\u001b[m                     \u001b[34m\u001b[43mrdisk3s6\u001b[m\u001b[m\r\n",
      "\u001b[34m\u001b[46mdisk2s2\u001b[m\u001b[m                     \u001b[34m\u001b[43mrdisk4\u001b[m\u001b[m\r\n",
      "\u001b[34m\u001b[46mdisk3\u001b[m\u001b[m                       \u001b[34m\u001b[43mrdisk4s1\u001b[m\u001b[m\r\n",
      "\u001b[34m\u001b[46mdisk3s1\u001b[m\u001b[m                     \u001b[35mstderr\u001b[m\u001b[m\r\n",
      "\u001b[34m\u001b[46mdisk3s1s1\u001b[m\u001b[m                   \u001b[35mstdin\u001b[m\u001b[m\r\n",
      "\u001b[34m\u001b[46mdisk3s2\u001b[m\u001b[m                     \u001b[35mstdout\u001b[m\u001b[m\r\n",
      "\u001b[34m\u001b[46mdisk3s3\u001b[m\u001b[m                     \u001b[34m\u001b[43mtty\u001b[m\u001b[m\r\n",
      "\u001b[34m\u001b[46mdisk3s4\u001b[m\u001b[m                     \u001b[34m\u001b[43mtty.Bluetooth-Incoming-Port\u001b[m\u001b[m\r\n",
      "\u001b[34m\u001b[46mdisk3s5\u001b[m\u001b[m                     \u001b[34m\u001b[43mtty.BoseColorIISoundLink-SP\u001b[m\u001b[m\r\n",
      "\u001b[34m\u001b[46mdisk3s6\u001b[m\u001b[m                     \u001b[34m\u001b[43mtty.BoseRevolveSoundLink-SP\u001b[m\u001b[m\r\n",
      "\u001b[34m\u001b[46mdisk4\u001b[m\u001b[m                       \u001b[34m\u001b[43mtty.debug-console\u001b[m\u001b[m\r\n",
      "\u001b[34m\u001b[46mdisk4s1\u001b[m\u001b[m                     \u001b[34m\u001b[43mtty.wlan-debug\u001b[m\u001b[m\r\n",
      "\u001b[34m\u001b[43mdtrace\u001b[m\u001b[m                      \u001b[34m\u001b[43mttyp0\u001b[m\u001b[m\r\n",
      "\u001b[34m\u001b[43mdtracehelper\u001b[m\u001b[m                \u001b[34m\u001b[43mttyp1\u001b[m\u001b[m\r\n",
      "\u001b[34m\u001b[43mfbt\u001b[m\u001b[m                         \u001b[34m\u001b[43mttyp2\u001b[m\u001b[m\r\n",
      "\u001b[34mfd\u001b[m\u001b[m                          \u001b[34m\u001b[43mttyp3\u001b[m\u001b[m\r\n",
      "\u001b[34m\u001b[43mfsevents\u001b[m\u001b[m                    \u001b[34m\u001b[43mttyp4\u001b[m\u001b[m\r\n",
      "\u001b[34m\u001b[43mio8log\u001b[m\u001b[m                      \u001b[34m\u001b[43mttyp5\u001b[m\u001b[m\r\n",
      "\u001b[34m\u001b[43mio8logmt\u001b[m\u001b[m                    \u001b[34m\u001b[43mttyp6\u001b[m\u001b[m\r\n",
      "\u001b[34m\u001b[43mio8logtemp\u001b[m\u001b[m                  \u001b[34m\u001b[43mttyp7\u001b[m\u001b[m\r\n",
      "\u001b[34m\u001b[43mklog\u001b[m\u001b[m                        \u001b[34m\u001b[43mttyp8\u001b[m\u001b[m\r\n",
      "\u001b[34m\u001b[43mlockstat\u001b[m\u001b[m                    \u001b[34m\u001b[43mttyp9\u001b[m\u001b[m\r\n",
      "\u001b[34mmonotonic\u001b[m\u001b[m                   \u001b[34m\u001b[43mttypa\u001b[m\u001b[m\r\n",
      "\u001b[34m\u001b[43mnsmb0\u001b[m\u001b[m                       \u001b[34m\u001b[43mttypb\u001b[m\u001b[m\r\n",
      "\u001b[34m\u001b[43mnull\u001b[m\u001b[m                        \u001b[34m\u001b[43mttypc\u001b[m\u001b[m\r\n",
      "\u001b[34m\u001b[43moslog\u001b[m\u001b[m                       \u001b[34m\u001b[43mttypd\u001b[m\u001b[m\r\n",
      "\u001b[34m\u001b[43moslog_stream\u001b[m\u001b[m                \u001b[34m\u001b[43mttype\u001b[m\u001b[m\r\n",
      "\u001b[34m\u001b[43mpf\u001b[m\u001b[m                          \u001b[34m\u001b[43mttypf\u001b[m\u001b[m\r\n",
      "\u001b[34m\u001b[43mpfm\u001b[m\u001b[m                         \u001b[34m\u001b[43mttyq0\u001b[m\u001b[m\r\n",
      "\u001b[34m\u001b[43mprofile\u001b[m\u001b[m                     \u001b[34m\u001b[43mttyq1\u001b[m\u001b[m\r\n",
      "\u001b[34m\u001b[43mptmx\u001b[m\u001b[m                        \u001b[34m\u001b[43mttyq2\u001b[m\u001b[m\r\n",
      "\u001b[34m\u001b[43mptyp0\u001b[m\u001b[m                       \u001b[34m\u001b[43mttyq3\u001b[m\u001b[m\r\n",
      "\u001b[34m\u001b[43mptyp1\u001b[m\u001b[m                       \u001b[34m\u001b[43mttyq4\u001b[m\u001b[m\r\n",
      "\u001b[34m\u001b[43mptyp2\u001b[m\u001b[m                       \u001b[34m\u001b[43mttyq5\u001b[m\u001b[m\r\n",
      "\u001b[34m\u001b[43mptyp3\u001b[m\u001b[m                       \u001b[34m\u001b[43mttyq6\u001b[m\u001b[m\r\n",
      "\u001b[34m\u001b[43mptyp4\u001b[m\u001b[m                       \u001b[34m\u001b[43mttyq7\u001b[m\u001b[m\r\n",
      "\u001b[34m\u001b[43mptyp5\u001b[m\u001b[m                       \u001b[34m\u001b[43mttyq8\u001b[m\u001b[m\r\n",
      "\u001b[34m\u001b[43mptyp6\u001b[m\u001b[m                       \u001b[34m\u001b[43mttyq9\u001b[m\u001b[m\r\n",
      "\u001b[34m\u001b[43mptyp7\u001b[m\u001b[m                       \u001b[34m\u001b[43mttyqa\u001b[m\u001b[m\r\n",
      "\u001b[34m\u001b[43mptyp8\u001b[m\u001b[m                       \u001b[34m\u001b[43mttyqb\u001b[m\u001b[m\r\n",
      "\u001b[34m\u001b[43mptyp9\u001b[m\u001b[m                       \u001b[34m\u001b[43mttyqc\u001b[m\u001b[m\r\n",
      "\u001b[34m\u001b[43mptypa\u001b[m\u001b[m                       \u001b[34m\u001b[43mttyqd\u001b[m\u001b[m\r\n",
      "\u001b[34m\u001b[43mptypb\u001b[m\u001b[m                       \u001b[34m\u001b[43mttyqe\u001b[m\u001b[m\r\n",
      "\u001b[34m\u001b[43mptypc\u001b[m\u001b[m                       \u001b[34m\u001b[43mttyqf\u001b[m\u001b[m\r\n",
      "\u001b[34m\u001b[43mptypd\u001b[m\u001b[m                       \u001b[34m\u001b[43mttyr0\u001b[m\u001b[m\r\n",
      "\u001b[34m\u001b[43mptype\u001b[m\u001b[m                       \u001b[34m\u001b[43mttyr1\u001b[m\u001b[m\r\n",
      "\u001b[34m\u001b[43mptypf\u001b[m\u001b[m                       \u001b[34m\u001b[43mttyr2\u001b[m\u001b[m\r\n",
      "\u001b[34m\u001b[43mptyq0\u001b[m\u001b[m                       \u001b[34m\u001b[43mttyr3\u001b[m\u001b[m\r\n",
      "\u001b[34m\u001b[43mptyq1\u001b[m\u001b[m                       \u001b[34m\u001b[43mttyr4\u001b[m\u001b[m\r\n",
      "\u001b[34m\u001b[43mptyq2\u001b[m\u001b[m                       \u001b[34m\u001b[43mttyr5\u001b[m\u001b[m\r\n",
      "\u001b[34m\u001b[43mptyq3\u001b[m\u001b[m                       \u001b[34m\u001b[43mttyr6\u001b[m\u001b[m\r\n",
      "\u001b[34m\u001b[43mptyq4\u001b[m\u001b[m                       \u001b[34m\u001b[43mttyr7\u001b[m\u001b[m\r\n",
      "\u001b[34m\u001b[43mptyq5\u001b[m\u001b[m                       \u001b[34m\u001b[43mttyr8\u001b[m\u001b[m\r\n",
      "\u001b[34m\u001b[43mptyq6\u001b[m\u001b[m                       \u001b[34m\u001b[43mttyr9\u001b[m\u001b[m\r\n",
      "\u001b[34m\u001b[43mptyq7\u001b[m\u001b[m                       \u001b[34m\u001b[43mttyra\u001b[m\u001b[m\r\n",
      "\u001b[34m\u001b[43mptyq8\u001b[m\u001b[m                       \u001b[34m\u001b[43mttyrb\u001b[m\u001b[m\r\n",
      "\u001b[34m\u001b[43mptyq9\u001b[m\u001b[m                       \u001b[34m\u001b[43mttyrc\u001b[m\u001b[m\r\n",
      "\u001b[34m\u001b[43mptyqa\u001b[m\u001b[m                       \u001b[34m\u001b[43mttyrd\u001b[m\u001b[m\r\n",
      "\u001b[34m\u001b[43mptyqb\u001b[m\u001b[m                       \u001b[34m\u001b[43mttyre\u001b[m\u001b[m\r\n",
      "\u001b[34m\u001b[43mptyqc\u001b[m\u001b[m                       \u001b[34m\u001b[43mttyrf\u001b[m\u001b[m\r\n",
      "\u001b[34m\u001b[43mptyqd\u001b[m\u001b[m                       \u001b[34m\u001b[43mttys0\u001b[m\u001b[m\r\n",
      "\u001b[34m\u001b[43mptyqe\u001b[m\u001b[m                       \u001b[34m\u001b[43mttys000\u001b[m\u001b[m\r\n",
      "\u001b[34m\u001b[43mptyqf\u001b[m\u001b[m                       \u001b[34m\u001b[43mttys001\u001b[m\u001b[m\r\n",
      "\u001b[34m\u001b[43mptyr0\u001b[m\u001b[m                       \u001b[34m\u001b[43mttys002\u001b[m\u001b[m\r\n",
      "\u001b[34m\u001b[43mptyr1\u001b[m\u001b[m                       \u001b[34m\u001b[43mttys003\u001b[m\u001b[m\r\n",
      "\u001b[34m\u001b[43mptyr2\u001b[m\u001b[m                       \u001b[34m\u001b[43mttys1\u001b[m\u001b[m\r\n",
      "\u001b[34m\u001b[43mptyr3\u001b[m\u001b[m                       \u001b[34m\u001b[43mttys2\u001b[m\u001b[m\r\n",
      "\u001b[34m\u001b[43mptyr4\u001b[m\u001b[m                       \u001b[34m\u001b[43mttys3\u001b[m\u001b[m\r\n",
      "\u001b[34m\u001b[43mptyr5\u001b[m\u001b[m                       \u001b[34m\u001b[43mttys4\u001b[m\u001b[m\r\n",
      "\u001b[34m\u001b[43mptyr6\u001b[m\u001b[m                       \u001b[34m\u001b[43mttys5\u001b[m\u001b[m\r\n",
      "\u001b[34m\u001b[43mptyr7\u001b[m\u001b[m                       \u001b[34m\u001b[43mttys6\u001b[m\u001b[m\r\n",
      "\u001b[34m\u001b[43mptyr8\u001b[m\u001b[m                       \u001b[34m\u001b[43mttys7\u001b[m\u001b[m\r\n",
      "\u001b[34m\u001b[43mptyr9\u001b[m\u001b[m                       \u001b[34m\u001b[43mttys8\u001b[m\u001b[m\r\n",
      "\u001b[34m\u001b[43mptyra\u001b[m\u001b[m                       \u001b[34m\u001b[43mttys9\u001b[m\u001b[m\r\n",
      "\u001b[34m\u001b[43mptyrb\u001b[m\u001b[m                       \u001b[34m\u001b[43mttysa\u001b[m\u001b[m\r\n",
      "\u001b[34m\u001b[43mptyrc\u001b[m\u001b[m                       \u001b[34m\u001b[43mttysb\u001b[m\u001b[m\r\n",
      "\u001b[34m\u001b[43mptyrd\u001b[m\u001b[m                       \u001b[34m\u001b[43mttysc\u001b[m\u001b[m\r\n",
      "\u001b[34m\u001b[43mptyre\u001b[m\u001b[m                       \u001b[34m\u001b[43mttysd\u001b[m\u001b[m\r\n",
      "\u001b[34m\u001b[43mptyrf\u001b[m\u001b[m                       \u001b[34m\u001b[43mttyse\u001b[m\u001b[m\r\n",
      "\u001b[34m\u001b[43mptys0\u001b[m\u001b[m                       \u001b[34m\u001b[43mttysf\u001b[m\u001b[m\r\n",
      "\u001b[34m\u001b[43mptys1\u001b[m\u001b[m                       \u001b[34m\u001b[43mttyt0\u001b[m\u001b[m\r\n",
      "\u001b[34m\u001b[43mptys2\u001b[m\u001b[m                       \u001b[34m\u001b[43mttyt1\u001b[m\u001b[m\r\n",
      "\u001b[34m\u001b[43mptys3\u001b[m\u001b[m                       \u001b[34m\u001b[43mttyt2\u001b[m\u001b[m\r\n",
      "\u001b[34m\u001b[43mptys4\u001b[m\u001b[m                       \u001b[34m\u001b[43mttyt3\u001b[m\u001b[m\r\n",
      "\u001b[34m\u001b[43mptys5\u001b[m\u001b[m                       \u001b[34m\u001b[43mttyt4\u001b[m\u001b[m\r\n",
      "\u001b[34m\u001b[43mptys6\u001b[m\u001b[m                       \u001b[34m\u001b[43mttyt5\u001b[m\u001b[m\r\n",
      "\u001b[34m\u001b[43mptys7\u001b[m\u001b[m                       \u001b[34m\u001b[43mttyt6\u001b[m\u001b[m\r\n",
      "\u001b[34m\u001b[43mptys8\u001b[m\u001b[m                       \u001b[34m\u001b[43mttyt7\u001b[m\u001b[m\r\n",
      "\u001b[34m\u001b[43mptys9\u001b[m\u001b[m                       \u001b[34m\u001b[43mttyt8\u001b[m\u001b[m\r\n",
      "\u001b[34m\u001b[43mptysa\u001b[m\u001b[m                       \u001b[34m\u001b[43mttyt9\u001b[m\u001b[m\r\n",
      "\u001b[34m\u001b[43mptysb\u001b[m\u001b[m                       \u001b[34m\u001b[43mttyta\u001b[m\u001b[m\r\n",
      "\u001b[34m\u001b[43mptysc\u001b[m\u001b[m                       \u001b[34m\u001b[43mttytb\u001b[m\u001b[m\r\n",
      "\u001b[34m\u001b[43mptysd\u001b[m\u001b[m                       \u001b[34m\u001b[43mttytc\u001b[m\u001b[m\r\n",
      "\u001b[34m\u001b[43mptyse\u001b[m\u001b[m                       \u001b[34m\u001b[43mttytd\u001b[m\u001b[m\r\n",
      "\u001b[34m\u001b[43mptysf\u001b[m\u001b[m                       \u001b[34m\u001b[43mttyte\u001b[m\u001b[m\r\n",
      "\u001b[34m\u001b[43mptyt0\u001b[m\u001b[m                       \u001b[34m\u001b[43mttytf\u001b[m\u001b[m\r\n",
      "\u001b[34m\u001b[43mptyt1\u001b[m\u001b[m                       \u001b[34m\u001b[43mttyu0\u001b[m\u001b[m\r\n",
      "\u001b[34m\u001b[43mptyt2\u001b[m\u001b[m                       \u001b[34m\u001b[43mttyu1\u001b[m\u001b[m\r\n",
      "\u001b[34m\u001b[43mptyt3\u001b[m\u001b[m                       \u001b[34m\u001b[43mttyu2\u001b[m\u001b[m\r\n",
      "\u001b[34m\u001b[43mptyt4\u001b[m\u001b[m                       \u001b[34m\u001b[43mttyu3\u001b[m\u001b[m\r\n",
      "\u001b[34m\u001b[43mptyt5\u001b[m\u001b[m                       \u001b[34m\u001b[43mttyu4\u001b[m\u001b[m\r\n",
      "\u001b[34m\u001b[43mptyt6\u001b[m\u001b[m                       \u001b[34m\u001b[43mttyu5\u001b[m\u001b[m\r\n",
      "\u001b[34m\u001b[43mptyt7\u001b[m\u001b[m                       \u001b[34m\u001b[43mttyu6\u001b[m\u001b[m\r\n",
      "\u001b[34m\u001b[43mptyt8\u001b[m\u001b[m                       \u001b[34m\u001b[43mttyu7\u001b[m\u001b[m\r\n",
      "\u001b[34m\u001b[43mptyt9\u001b[m\u001b[m                       \u001b[34m\u001b[43mttyu8\u001b[m\u001b[m\r\n",
      "\u001b[34m\u001b[43mptyta\u001b[m\u001b[m                       \u001b[34m\u001b[43mttyu9\u001b[m\u001b[m\r\n",
      "\u001b[34m\u001b[43mptytb\u001b[m\u001b[m                       \u001b[34m\u001b[43mttyua\u001b[m\u001b[m\r\n",
      "\u001b[34m\u001b[43mptytc\u001b[m\u001b[m                       \u001b[34m\u001b[43mttyub\u001b[m\u001b[m\r\n",
      "\u001b[34m\u001b[43mptytd\u001b[m\u001b[m                       \u001b[34m\u001b[43mttyuc\u001b[m\u001b[m\r\n",
      "\u001b[34m\u001b[43mptyte\u001b[m\u001b[m                       \u001b[34m\u001b[43mttyud\u001b[m\u001b[m\r\n",
      "\u001b[34m\u001b[43mptytf\u001b[m\u001b[m                       \u001b[34m\u001b[43mttyue\u001b[m\u001b[m\r\n",
      "\u001b[34m\u001b[43mptyu0\u001b[m\u001b[m                       \u001b[34m\u001b[43mttyuf\u001b[m\u001b[m\r\n",
      "\u001b[34m\u001b[43mptyu1\u001b[m\u001b[m                       \u001b[34m\u001b[43mttyv0\u001b[m\u001b[m\r\n",
      "\u001b[34m\u001b[43mptyu2\u001b[m\u001b[m                       \u001b[34m\u001b[43mttyv1\u001b[m\u001b[m\r\n",
      "\u001b[34m\u001b[43mptyu3\u001b[m\u001b[m                       \u001b[34m\u001b[43mttyv2\u001b[m\u001b[m\r\n",
      "\u001b[34m\u001b[43mptyu4\u001b[m\u001b[m                       \u001b[34m\u001b[43mttyv3\u001b[m\u001b[m\r\n",
      "\u001b[34m\u001b[43mptyu5\u001b[m\u001b[m                       \u001b[34m\u001b[43mttyv4\u001b[m\u001b[m\r\n",
      "\u001b[34m\u001b[43mptyu6\u001b[m\u001b[m                       \u001b[34m\u001b[43mttyv5\u001b[m\u001b[m\r\n",
      "\u001b[34m\u001b[43mptyu7\u001b[m\u001b[m                       \u001b[34m\u001b[43mttyv6\u001b[m\u001b[m\r\n",
      "\u001b[34m\u001b[43mptyu8\u001b[m\u001b[m                       \u001b[34m\u001b[43mttyv7\u001b[m\u001b[m\r\n",
      "\u001b[34m\u001b[43mptyu9\u001b[m\u001b[m                       \u001b[34m\u001b[43mttyv8\u001b[m\u001b[m\r\n",
      "\u001b[34m\u001b[43mptyua\u001b[m\u001b[m                       \u001b[34m\u001b[43mttyv9\u001b[m\u001b[m\r\n",
      "\u001b[34m\u001b[43mptyub\u001b[m\u001b[m                       \u001b[34m\u001b[43mttyva\u001b[m\u001b[m\r\n",
      "\u001b[34m\u001b[43mptyuc\u001b[m\u001b[m                       \u001b[34m\u001b[43mttyvb\u001b[m\u001b[m\r\n",
      "\u001b[34m\u001b[43mptyud\u001b[m\u001b[m                       \u001b[34m\u001b[43mttyvc\u001b[m\u001b[m\r\n",
      "\u001b[34m\u001b[43mptyue\u001b[m\u001b[m                       \u001b[34m\u001b[43mttyvd\u001b[m\u001b[m\r\n",
      "\u001b[34m\u001b[43mptyuf\u001b[m\u001b[m                       \u001b[34m\u001b[43mttyve\u001b[m\u001b[m\r\n",
      "\u001b[34m\u001b[43mptyv0\u001b[m\u001b[m                       \u001b[34m\u001b[43mttyvf\u001b[m\u001b[m\r\n",
      "\u001b[34m\u001b[43mptyv1\u001b[m\u001b[m                       \u001b[34m\u001b[43mttyw0\u001b[m\u001b[m\r\n",
      "\u001b[34m\u001b[43mptyv2\u001b[m\u001b[m                       \u001b[34m\u001b[43mttyw1\u001b[m\u001b[m\r\n",
      "\u001b[34m\u001b[43mptyv3\u001b[m\u001b[m                       \u001b[34m\u001b[43mttyw2\u001b[m\u001b[m\r\n",
      "\u001b[34m\u001b[43mptyv4\u001b[m\u001b[m                       \u001b[34m\u001b[43mttyw3\u001b[m\u001b[m\r\n",
      "\u001b[34m\u001b[43mptyv5\u001b[m\u001b[m                       \u001b[34m\u001b[43mttyw4\u001b[m\u001b[m\r\n",
      "\u001b[34m\u001b[43mptyv6\u001b[m\u001b[m                       \u001b[34m\u001b[43mttyw5\u001b[m\u001b[m\r\n",
      "\u001b[34m\u001b[43mptyv7\u001b[m\u001b[m                       \u001b[34m\u001b[43mttyw6\u001b[m\u001b[m\r\n",
      "\u001b[34m\u001b[43mptyv8\u001b[m\u001b[m                       \u001b[34m\u001b[43mttyw7\u001b[m\u001b[m\r\n",
      "\u001b[34m\u001b[43mptyv9\u001b[m\u001b[m                       \u001b[34m\u001b[43mttyw8\u001b[m\u001b[m\r\n",
      "\u001b[34m\u001b[43mptyva\u001b[m\u001b[m                       \u001b[34m\u001b[43mttyw9\u001b[m\u001b[m\r\n",
      "\u001b[34m\u001b[43mptyvb\u001b[m\u001b[m                       \u001b[34m\u001b[43mttywa\u001b[m\u001b[m\r\n",
      "\u001b[34m\u001b[43mptyvc\u001b[m\u001b[m                       \u001b[34m\u001b[43mttywb\u001b[m\u001b[m\r\n",
      "\u001b[34m\u001b[43mptyvd\u001b[m\u001b[m                       \u001b[34m\u001b[43mttywc\u001b[m\u001b[m\r\n",
      "\u001b[34m\u001b[43mptyve\u001b[m\u001b[m                       \u001b[34m\u001b[43mttywd\u001b[m\u001b[m\r\n",
      "\u001b[34m\u001b[43mptyvf\u001b[m\u001b[m                       \u001b[34m\u001b[43mttywe\u001b[m\u001b[m\r\n",
      "\u001b[34m\u001b[43mptyw0\u001b[m\u001b[m                       \u001b[34m\u001b[43mttywf\u001b[m\u001b[m\r\n",
      "\u001b[34m\u001b[43mptyw1\u001b[m\u001b[m                       \u001b[34m\u001b[43muart.debug-console\u001b[m\u001b[m\r\n",
      "\u001b[34m\u001b[43mptyw2\u001b[m\u001b[m                       \u001b[34m\u001b[43muart.wlan-debug\u001b[m\u001b[m\r\n",
      "\u001b[34m\u001b[43mptyw3\u001b[m\u001b[m                       \u001b[34m\u001b[43murandom\u001b[m\u001b[m\r\n",
      "\u001b[34m\u001b[43mptyw4\u001b[m\u001b[m                       \u001b[34m\u001b[43mzero\u001b[m\u001b[m\r\n",
      "\u001b[34m\u001b[43mptyw5\u001b[m\u001b[m\r\n"
     ]
    }
   ],
   "source": [
    "# dev for device drivers; tty stands for teletypewrite, historical used as terminals\n",
    "!ls /dev"
   ]
  },
  {
   "cell_type": "code",
   "execution_count": 42,
   "id": "f9bd6fdb",
   "metadata": {},
   "outputs": [
    {
     "name": "stdout",
     "output_type": "stream",
     "text": [
      "\u001b[31m[\u001b[m\u001b[m         \u001b[31mcsh\u001b[m\u001b[m       \u001b[31mecho\u001b[m\u001b[m      \u001b[31mksh\u001b[m\u001b[m       \u001b[31mmkdir\u001b[m\u001b[m     \u001b[31mrm\u001b[m\u001b[m        \u001b[31msync\u001b[m\u001b[m      \u001b[31mzsh\u001b[m\u001b[m\r\n",
      "\u001b[31mbash\u001b[m\u001b[m      \u001b[31mdash\u001b[m\u001b[m      \u001b[31med\u001b[m\u001b[m        \u001b[31mlaunchctl\u001b[m\u001b[m \u001b[31mmv\u001b[m\u001b[m        \u001b[31mrmdir\u001b[m\u001b[m     \u001b[31mtcsh\u001b[m\u001b[m\r\n",
      "\u001b[31mcat\u001b[m\u001b[m       \u001b[31mdate\u001b[m\u001b[m      \u001b[31mexpr\u001b[m\u001b[m      \u001b[31mlink\u001b[m\u001b[m      \u001b[31mpax\u001b[m\u001b[m       \u001b[31msh\u001b[m\u001b[m        \u001b[31mtest\u001b[m\u001b[m\r\n",
      "\u001b[31mchmod\u001b[m\u001b[m     \u001b[31mdd\u001b[m\u001b[m        \u001b[31mhostname\u001b[m\u001b[m  \u001b[31mln\u001b[m\u001b[m        \u001b[30m\u001b[41mps\u001b[m\u001b[m        \u001b[31msleep\u001b[m\u001b[m     \u001b[31munlink\u001b[m\u001b[m\r\n",
      "\u001b[31mcp\u001b[m\u001b[m        \u001b[31mdf\u001b[m\u001b[m        \u001b[31mkill\u001b[m\u001b[m      \u001b[31mls\u001b[m\u001b[m        \u001b[31mpwd\u001b[m\u001b[m       \u001b[31mstty\u001b[m\u001b[m      \u001b[31mwait4path\u001b[m\u001b[m\r\n"
     ]
    }
   ],
   "source": [
    "# bin for binary executables\n",
    "!ls /bin/"
   ]
  },
  {
   "cell_type": "code",
   "execution_count": 49,
   "id": "5e3e37c4",
   "metadata": {},
   "outputs": [
    {
     "name": "stdout",
     "output_type": "stream",
     "text": [
      "afpovertcp.cfg                        \u001b[34mopenldap\u001b[m\u001b[m\r\n",
      "\u001b[35maliases\u001b[m\u001b[m                               \u001b[34mpam.d\u001b[m\u001b[m\r\n",
      "aliases.db                            passwd\r\n",
      "\u001b[34mapache2\u001b[m\u001b[m                               paths\r\n",
      "\u001b[34masl\u001b[m\u001b[m                                   \u001b[34mpaths.d\u001b[m\u001b[m\r\n",
      "asl.conf                              \u001b[34mperiodic\u001b[m\u001b[m\r\n",
      "auto_home                             \u001b[34mpf.anchors\u001b[m\u001b[m\r\n",
      "auto_master                           pf.conf\r\n",
      "autofs.conf                           pf.os\r\n",
      "bashrc                                php-NOTICE-PLANNED-REMOVAL.txt\r\n",
      "bashrc_Apple_Terminal                 php-fpm.conf.default\r\n",
      "com.apple.screensharing.agent.launchd \u001b[34mphp-fpm.d\u001b[m\u001b[m\r\n",
      "csh.cshrc                             php.ini.default\r\n",
      "csh.login                             \u001b[34mpostfix\u001b[m\u001b[m\r\n",
      "csh.logout                            \u001b[34mppp\u001b[m\u001b[m\r\n",
      "\u001b[34mcups\u001b[m\u001b[m                                  profile\r\n",
      "\u001b[34mdefaults\u001b[m\u001b[m                              protocols\r\n",
      "\u001b[34memond.d\u001b[m\u001b[m                               \u001b[34mracoon\u001b[m\u001b[m\r\n",
      "find.codes                            rc.common\r\n",
      "ftpusers                              rc.netboot\r\n",
      "gettytab                              \u001b[35mresolv.conf\u001b[m\u001b[m\r\n",
      "group                                 rmtab\r\n",
      "hosts                                 rpc\r\n",
      "hosts.equiv                           rtadvd.conf\r\n",
      "irbrc                                 \u001b[34msecurity\u001b[m\u001b[m\r\n",
      "kern_loader.conf                      services\r\n",
      "krb5.keytab                           shells\r\n",
      "\u001b[35mlocaltime\u001b[m\u001b[m                             \u001b[34msnmp\u001b[m\u001b[m\r\n",
      "locate.rc                             \u001b[34mssh\u001b[m\u001b[m\r\n",
      "mail.rc                               \u001b[34mssl\u001b[m\u001b[m\r\n",
      "man.conf                              sudo_lecture\r\n",
      "manpaths                              sudoers\r\n",
      "\u001b[34mmanpaths.d\u001b[m\u001b[m                            \u001b[34msudoers.d\u001b[m\u001b[m\r\n",
      "master.passwd                         syslog.conf\r\n",
      "nanorc                                ttys\r\n",
      "networks                              \u001b[34muucp\u001b[m\u001b[m\r\n",
      "newsyslog.conf                        \u001b[34mwfs\u001b[m\u001b[m\r\n",
      "\u001b[34mnewsyslog.d\u001b[m\u001b[m                           xtab\r\n",
      "nfs.conf                              zprofile\r\n",
      "notify.conf                           zshrc\r\n",
      "ntp.conf                              zshrc_Apple_Terminal\r\n",
      "ntp_opendirectory.conf\r\n"
     ]
    }
   ],
   "source": [
    "# etc for admin files and information\n",
    "!ls /etc/"
   ]
  },
  {
   "cell_type": "code",
   "execution_count": 64,
   "id": "c0bf93c8",
   "metadata": {},
   "outputs": [
    {
     "name": "stdout",
     "output_type": "stream",
     "text": [
      "\u001b[34mApple\u001b[m\u001b[m                  \u001b[34mGraphics\u001b[m\u001b[m               \u001b[34mQuickLook\u001b[m\u001b[m\r\n",
      "\u001b[34mApplication Support\u001b[m\u001b[m    \u001b[34mImage Capture\u001b[m\u001b[m          \u001b[34mReceipts\u001b[m\u001b[m\r\n",
      "\u001b[34mAudio\u001b[m\u001b[m                  \u001b[34mInput Methods\u001b[m\u001b[m          \u001b[34mRuby\u001b[m\u001b[m\r\n",
      "\u001b[34mBundles\u001b[m\u001b[m                \u001b[34mInstallerSandboxes\u001b[m\u001b[m     \u001b[34mSandbox\u001b[m\u001b[m\r\n",
      "\u001b[30m\u001b[42mCaches\u001b[m\u001b[m                 \u001b[34mInternet Plug-Ins\u001b[m\u001b[m      \u001b[34mScreen Savers\u001b[m\u001b[m\r\n",
      "\u001b[34mColorPickers\u001b[m\u001b[m           \u001b[34mJava\u001b[m\u001b[m                   \u001b[34mScriptingAdditions\u001b[m\u001b[m\r\n",
      "\u001b[34mColorSync\u001b[m\u001b[m              \u001b[34mKernelCollections\u001b[m\u001b[m      \u001b[34mScripts\u001b[m\u001b[m\r\n",
      "\u001b[34mComponents\u001b[m\u001b[m             \u001b[34mKeyboard Layouts\u001b[m\u001b[m       \u001b[34mSecurity\u001b[m\u001b[m\r\n",
      "\u001b[34mCompositions\u001b[m\u001b[m           \u001b[34mKeychains\u001b[m\u001b[m              \u001b[34mSentinel\u001b[m\u001b[m\r\n",
      "\u001b[34mContextual Menu Items\u001b[m\u001b[m  \u001b[34mLaunchAgents\u001b[m\u001b[m           \u001b[34mSpeech\u001b[m\u001b[m\r\n",
      "\u001b[34mCoreAnalytics\u001b[m\u001b[m          \u001b[34mLaunchDaemons\u001b[m\u001b[m          \u001b[34mSpotlight\u001b[m\u001b[m\r\n",
      "\u001b[34mCoreMediaIO\u001b[m\u001b[m            \u001b[34mLogs\u001b[m\u001b[m                   \u001b[34mStagedDriverExtensions\u001b[m\u001b[m\r\n",
      "\u001b[34mDeveloper\u001b[m\u001b[m              \u001b[34mModem Scripts\u001b[m\u001b[m          \u001b[34mStagedExtensions\u001b[m\u001b[m\r\n",
      "\u001b[34mDirectoryServices\u001b[m\u001b[m      \u001b[34mODBC\u001b[m\u001b[m                   \u001b[34mStartupItems\u001b[m\u001b[m\r\n",
      "\u001b[34mDocumentation\u001b[m\u001b[m          \u001b[34mOSAnalytics\u001b[m\u001b[m            \u001b[34mSystemExtensions\u001b[m\u001b[m\r\n",
      "\u001b[34mDriverExtensions\u001b[m\u001b[m       \u001b[34mOpenDirectory\u001b[m\u001b[m          \u001b[34mSystemMigration\u001b[m\u001b[m\r\n",
      "\u001b[34mExtensions\u001b[m\u001b[m             \u001b[34mPerl\u001b[m\u001b[m                   \u001b[34mSystemProfiler\u001b[m\u001b[m\r\n",
      "\u001b[34mFilesystems\u001b[m\u001b[m            \u001b[34mPreferencePanes\u001b[m\u001b[m        \u001b[34mUpdates\u001b[m\u001b[m\r\n",
      "\u001b[34mFonts\u001b[m\u001b[m                  \u001b[34mPreferences\u001b[m\u001b[m            \u001b[34mUser Pictures\u001b[m\u001b[m\r\n",
      "\u001b[34mFrameworks\u001b[m\u001b[m             \u001b[34mPrinters\u001b[m\u001b[m               \u001b[34mUser Template\u001b[m\u001b[m\r\n",
      "\u001b[34mGPUBundles\u001b[m\u001b[m             \u001b[34mPrivilegedHelperTools\u001b[m\u001b[m  \u001b[34mVideo\u001b[m\u001b[m\r\n",
      "\u001b[34mGoogle\u001b[m\u001b[m                 \u001b[34mPython\u001b[m\u001b[m                 \u001b[34mWebServer\u001b[m\u001b[m\r\n"
     ]
    }
   ],
   "source": [
    "# lib for shared utility binaries; not on mac, perhaps Library?\n",
    "!ls /Library/"
   ]
  },
  {
   "cell_type": "code",
   "execution_count": 88,
   "id": "4b98acf9",
   "metadata": {},
   "outputs": [
    {
     "name": "stdout",
     "output_type": "stream",
     "text": [
      "\u001b[34mApplications\u001b[m\u001b[m \u001b[34mUsers\u001b[m\u001b[m        \u001b[34mcores\u001b[m\u001b[m        \u001b[35mhome\u001b[m\u001b[m         \u001b[34msbin\u001b[m\u001b[m         \u001b[35mvar\u001b[m\u001b[m\r\n",
      "\u001b[34mLibrary\u001b[m\u001b[m      \u001b[34mVolumes\u001b[m\u001b[m      \u001b[34mdev\u001b[m\u001b[m          \u001b[34mopt\u001b[m\u001b[m          \u001b[35mtmp\u001b[m\u001b[m\r\n",
      "\u001b[34mSystem\u001b[m\u001b[m       \u001b[34mbin\u001b[m\u001b[m          \u001b[35metc\u001b[m\u001b[m          \u001b[34mprivate\u001b[m\u001b[m      \u001b[34musr\u001b[m\u001b[m\r\n"
     ]
    }
   ],
   "source": [
    "# tmp for temporary files\n",
    "!ls /"
   ]
  },
  {
   "cell_type": "code",
   "execution_count": 98,
   "id": "ab5f7d70",
   "metadata": {},
   "outputs": [
    {
     "name": "stdout",
     "output_type": "stream",
     "text": [
      "\u001b[34mApplications\u001b[m\u001b[m/ \u001b[34mVolumes\u001b[m\u001b[m/      \u001b[35metc\u001b[m\u001b[m@          \u001b[34msbin\u001b[m\u001b[m/\r\n",
      "\u001b[34mLibrary\u001b[m\u001b[m/      \u001b[34mbin\u001b[m\u001b[m/          \u001b[35mhome\u001b[m\u001b[m@         \u001b[35mtmp\u001b[m\u001b[m@\r\n",
      "\u001b[34mSystem\u001b[m\u001b[m/       \u001b[34mcores\u001b[m\u001b[m/        \u001b[34mopt\u001b[m\u001b[m/          \u001b[34musr\u001b[m\u001b[m/\r\n",
      "\u001b[34mUsers\u001b[m\u001b[m/        \u001b[34mdev\u001b[m\u001b[m/          \u001b[34mprivate\u001b[m\u001b[m/      \u001b[35mvar\u001b[m\u001b[m@\r\n"
     ]
    }
   ],
   "source": [
    "!ls -F /"
   ]
  },
  {
   "cell_type": "markdown",
   "id": "f33a4666",
   "metadata": {},
   "source": [
    "`ls -F`  classifies\n",
    "* @ means symbolic link (or that the file has extended attributes).\n",
    "* '* means executable.\n",
    "* = means socket.\n",
    "* | means named pipe.\n",
    "* '> means door.\n",
    "* / means directory.`"
   ]
  },
  {
   "cell_type": "markdown",
   "id": "b2fb4e74",
   "metadata": {},
   "source": [
    "### 3.4-5 env command"
   ]
  },
  {
   "cell_type": "code",
   "execution_count": 2,
   "id": "f4f0b8b8",
   "metadata": {},
   "outputs": [
    {
     "name": "stdout",
     "output_type": "stream",
     "text": [
      "TERM_PROGRAM=Apple_Terminal\r\n",
      "SHELL=/bin/zsh\r\n",
      "TERM=xterm-color\r\n",
      "TMPDIR=/var/folders/45/g_ffn67j36s8v1p4sn767zww0000gp/T/\r\n",
      "TERM_PROGRAM_VERSION=440\r\n",
      "TERM_SESSION_ID=115C282D-DAEF-4BA2-B50A-6E9D2AD34A1A\r\n",
      "USER=jamesm\r\n",
      "SSH_AUTH_SOCK=/private/tmp/com.apple.launchd.0OQp0FsgGh/Listeners\r\n",
      "PATH=/Users/jamesm/latch/env/bin:/Users/jamesm/opt/anaconda3/bin:/Users/jamesm/opt/anaconda3/condabin:/opt/homebrew/bin:/opt/homebrew/sbin:/usr/local/bin:/usr/bin:/bin:/usr/sbin:/sbin:/Users/jamesm/.cargo/bin\r\n",
      "LaunchInstanceID=59252D32-AD57-4483-95E4-BD35DE570986\r\n",
      "__CFBundleIdentifier=com.apple.Terminal\r\n",
      "PWD=/Users/jamesm/jpmcga/notes/tyu\r\n",
      "XPC_FLAGS=0x0\r\n",
      "XPC_SERVICE_NAME=0\r\n",
      "SHLVL=1\r\n",
      "HOME=/Users/jamesm\r\n",
      "LOGNAME=jamesm\r\n",
      "SECURITYSESSIONID=186a5\r\n",
      "OLDPWD=/Users/jamesm/jpmcga/notes/tyu\r\n",
      "HOMEBREW_PREFIX=/opt/homebrew\r\n",
      "HOMEBREW_CELLAR=/opt/homebrew/Cellar\r\n",
      "HOMEBREW_REPOSITORY=/opt/homebrew\r\n",
      "MANPATH=/opt/homebrew/share/man::\r\n",
      "INFOPATH=/opt/homebrew/share/info:\r\n",
      "CONDA_EXE=/Users/jamesm/opt/anaconda3/bin/conda\r\n",
      "_CE_M=\r\n",
      "_CE_CONDA=\r\n",
      "CONDA_PYTHON_EXE=/Users/jamesm/opt/anaconda3/bin/python\r\n",
      "CONDA_SHLVL=1\r\n",
      "CONDA_PREFIX=/Users/jamesm/opt/anaconda3\r\n",
      "CONDA_DEFAULT_ENV=base\r\n",
      "CONDA_PROMPT_MODIFIER=(base) \r\n",
      "PS1=(env) (base) %n@%m %1~ %# \r\n",
      "VIRTUAL_ENV=/Users/jamesm/latch/env\r\n",
      "LANG=en_US.UTF-8\r\n",
      "JPY_PARENT_PID=39301\r\n",
      "__CF_USER_TEXT_ENCODING=0x1F6:0x0:0x0\r\n",
      "CLICOLOR=1\r\n",
      "PAGER=cat\r\n",
      "GIT_PAGER=cat\r\n",
      "MPLBACKEND=module://ipykernel.pylab.backend_inline\r\n",
      "_=/usr/bin/env\r\n"
     ]
    }
   ],
   "source": [
    "# env to view enviroment variables\n",
    "!env"
   ]
  },
  {
   "cell_type": "code",
   "execution_count": 4,
   "id": "41915292",
   "metadata": {},
   "outputs": [
    {
     "name": "stdout",
     "output_type": "stream",
     "text": [
      "/Users/jamesm\n",
      "/Users/jamesm/latch/env/bin:/Users/jamesm/opt/anaconda3/bin:/Users/jamesm/opt/anaconda3/condabin:/opt/homebrew/bin:/opt/homebrew/sbin:/usr/local/bin:/usr/bin:/bin:/usr/sbin:/sbin:/Users/jamesm/.cargo/bin\n"
     ]
    }
   ],
   "source": [
    "# Use echo to display specific variables\n",
    "!echo $HOME\n",
    "!echo $PATH # Path searches left to right"
   ]
  },
  {
   "cell_type": "markdown",
   "id": "42d00c11",
   "metadata": {},
   "source": [
    "### 3.7 cd"
   ]
  },
  {
   "cell_type": "code",
   "execution_count": null,
   "id": "39ad3cbe",
   "metadata": {},
   "outputs": [],
   "source": [
    "# Typing cd without specifying a directory brings you home8"
   ]
  }
 ],
 "metadata": {
  "kernelspec": {
   "display_name": "Python 3 (ipykernel)",
   "language": "python",
   "name": "python3"
  },
  "language_info": {
   "codemirror_mode": {
    "name": "ipython",
    "version": 3
   },
   "file_extension": ".py",
   "mimetype": "text/x-python",
   "name": "python",
   "nbconvert_exporter": "python",
   "pygments_lexer": "ipython3",
   "version": "3.8.16"
  }
 },
 "nbformat": 4,
 "nbformat_minor": 5
}

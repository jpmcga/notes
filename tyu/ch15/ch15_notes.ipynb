{
 "cells": [
  {
   "cell_type": "markdown",
   "id": "1579982d",
   "metadata": {},
   "source": [
    "# Sam's Teach Yourself Unix"
   ]
  },
  {
   "cell_type": "markdown",
   "id": "19154379",
   "metadata": {},
   "source": [
    "## Chapter 15: Basic Shell Programming"
   ]
  },
  {
   "cell_type": "markdown",
   "id": "f83f334c",
   "metadata": {},
   "source": [
    "### Shell Variables"
   ]
  },
  {
   "cell_type": "code",
   "execution_count": 5,
   "id": "e6f77632",
   "metadata": {},
   "outputs": [
    {
     "name": "stdout",
     "output_type": "stream",
     "text": [
      "\r\n"
     ]
    }
   ],
   "source": [
    "! color=blue\n",
    "! echo $color # Jupyter doesn't have access to env variables"
   ]
  },
  {
   "cell_type": "code",
   "execution_count": 7,
   "id": "f9ba15f1",
   "metadata": {},
   "outputs": [
    {
     "name": "stdout",
     "output_type": "stream",
     "text": [
      "{jamesm}-mcgann\r\n"
     ]
    }
   ],
   "source": [
    "# Use brackets to seperate env variables\n",
    "! echo {$LOGNAME}-mcgann"
   ]
  },
  {
   "cell_type": "code",
   "execution_count": 14,
   "id": "7f64a5a5",
   "metadata": {},
   "outputs": [
    {
     "name": "stdout",
     "output_type": "stream",
     "text": [
      "yum-yum\r\n"
     ]
    }
   ],
   "source": [
    "# Can set a default is variable is undefined\n",
    "! echo ${ham:-yum}-yum"
   ]
  },
  {
   "cell_type": "code",
   "execution_count": 18,
   "id": "2ebe5f6e",
   "metadata": {},
   "outputs": [
    {
     "name": "stdout",
     "output_type": "stream",
     "text": [
      "cool\r\n"
     ]
    }
   ],
   "source": [
    "! echo ${james=cool} ${cool} # doesn't work the way they say..."
   ]
  },
  {
   "cell_type": "code",
   "execution_count": 22,
   "id": "988daee4",
   "metadata": {},
   "outputs": [
    {
     "name": "stdout",
     "output_type": "stream",
     "text": [
      "big old yada yada\r\n"
     ]
    }
   ],
   "source": [
    "# Can assign multiple variables with the read command\\\n",
    "! echo big old yada yada | read color1 color2 other ; echo $color1 $color2 $other"
   ]
  },
  {
   "cell_type": "code",
   "execution_count": 33,
   "id": "ce52d03b",
   "metadata": {},
   "outputs": [
    {
     "name": "stdout",
     "output_type": "stream",
     "text": [
      "one value\r\n"
     ]
    }
   ],
   "source": [
    "# Use escape charater to ignore spaces\n",
    "! echo \"one\\ value two\" | read one two; echo $one"
   ]
  },
  {
   "cell_type": "code",
   "execution_count": 42,
   "id": "9ed6ef04",
   "metadata": {},
   "outputs": [
    {
     "name": "stdout",
     "output_type": "stream",
     "text": [
      "threetwoone\r\n"
     ]
    }
   ],
   "source": [
    "# Variables can be accessed like this within a script\n",
    "! echo one two three | awk '{ print $3 $2 $1}' "
   ]
  },
  {
   "cell_type": "markdown",
   "id": "610e3368",
   "metadata": {},
   "source": [
    "### Shell Arithmetic"
   ]
  },
  {
   "cell_type": "code",
   "execution_count": 45,
   "id": "4e00349f",
   "metadata": {},
   "outputs": [
    {
     "name": "stdout",
     "output_type": "stream",
     "text": [
      "2\r\n"
     ]
    }
   ],
   "source": [
    "! expr 1 + 1 # Need spaces"
   ]
  },
  {
   "cell_type": "code",
   "execution_count": 46,
   "id": "a47d8d14",
   "metadata": {},
   "outputs": [
    {
     "name": "stdout",
     "output_type": "stream",
     "text": [
      "1\r\n"
     ]
    }
   ],
   "source": [
    "! expr ${undef:-0} + 1"
   ]
  },
  {
   "cell_type": "code",
   "execution_count": 47,
   "id": "43dd95b1",
   "metadata": {},
   "outputs": [
    {
     "name": "stdout",
     "output_type": "stream",
     "text": [
      "55\r\n"
     ]
    }
   ],
   "source": [
    "# * needs to be surronded by '' or else it lists files\n",
    "! expr 11 '*' 5"
   ]
  },
  {
   "cell_type": "code",
   "execution_count": 49,
   "id": "feb28586",
   "metadata": {},
   "outputs": [
    {
     "name": "stdout",
     "output_type": "stream",
     "text": [
      "1\r\n"
     ]
    }
   ],
   "source": [
    "# module\n",
    "! expr 11 % 5"
   ]
  },
  {
   "cell_type": "code",
   "execution_count": 58,
   "id": "c3b4d6dd",
   "metadata": {},
   "outputs": [
    {
     "name": "stdout",
     "output_type": "stream",
     "text": [
      "1\r\n"
     ]
    }
   ],
   "source": [
    "# assigning variable with expr\n",
    "! newvalue=`expr ${oldvalue:-0} + 1`; echo $newvalue"
   ]
  },
  {
   "cell_type": "code",
   "execution_count": 62,
   "id": "739e42e3",
   "metadata": {},
   "outputs": [
    {
     "name": "stdout",
     "output_type": "stream",
     "text": [
      "96\r\n"
     ]
    }
   ],
   "source": [
    "# Need escape char to perform order of operation\n",
    "! expr \\( 11 + 5 \\) '*' 6"
   ]
  },
  {
   "cell_type": "markdown",
   "id": "5dd60304",
   "metadata": {},
   "source": [
    "### Comparison Functions"
   ]
  },
  {
   "cell_type": "markdown",
   "id": "7ff4228e",
   "metadata": {},
   "source": [
    "**'test' returns 1 if false, 0 if true!**"
   ]
  },
  {
   "cell_type": "code",
   "execution_count": 72,
   "id": "07cd4d5b",
   "metadata": {},
   "outputs": [
    {
     "name": "stdout",
     "output_type": "stream",
     "text": [
      "1\n",
      "0\n"
     ]
    }
   ],
   "source": [
    "! test 3 -eq 4 ; echo $?\n",
    "! test 3 -eq 3 ; echo $?"
   ]
  },
  {
   "cell_type": "code",
   "execution_count": 92,
   "id": "f461a0d1",
   "metadata": {},
   "outputs": [
    {
     "name": "stdout",
     "output_type": "stream",
     "text": [
      "0\r\n"
     ]
    }
   ],
   "source": [
    "# use #string to get length of string\n",
    "! value=3; string=abc; test $value -eq  $#string ; echo $?"
   ]
  },
  {
   "cell_type": "code",
   "execution_count": 99,
   "id": "9a16aa3f",
   "metadata": {},
   "outputs": [
    {
     "name": "stdout",
     "output_type": "stream",
     "text": [
      "1\n",
      "0\n",
      "0\n",
      "0\n",
      "\n"
     ]
    }
   ],
   "source": [
    "# Can also do unary testing; -z true is var zero length; -n true if string has content\n",
    "! string=abc; test -z $string; echo $?\n",
    "! string=''; test -z $string; echo $?\n",
    "! string=abc; test -n $string; echo $?\n",
    "! test -n $string; echo $? # hm didn't rly work"
   ]
  },
  {
   "cell_type": "code",
   "execution_count": 103,
   "id": "3c34a270",
   "metadata": {},
   "outputs": [
    {
     "name": "stdout",
     "output_type": "stream",
     "text": [
      "1\n",
      "0\n"
     ]
    }
   ],
   "source": [
    "# = used to test strings\n",
    "! test abc = Abc ; echo $?\n",
    "! test abc != Abc; echo $?"
   ]
  },
  {
   "cell_type": "code",
   "execution_count": 110,
   "id": "75e3eee8",
   "metadata": {},
   "outputs": [
    {
     "name": "stdout",
     "output_type": "stream",
     "text": [
      "0\n",
      "1\n",
      "1\n",
      "0\n"
     ]
    }
   ],
   "source": [
    "# Can also test the file system\n",
    "! test -d $HOME/jpmcga; echo $? # -d for directory\n",
    "! test -d $HOME/jpmcgt; echo $?\n",
    "! test -f ./file; echo $?\n",
    "! test -f ./ch15_notes*; echo $?"
   ]
  },
  {
   "cell_type": "code",
   "execution_count": 119,
   "id": "8aed555e",
   "metadata": {},
   "outputs": [
    {
     "name": "stdout",
     "output_type": "stream",
     "text": [
      "1\n",
      "0\n",
      "1\n"
     ]
    }
   ],
   "source": [
    "# Can make binary comparison of files; [] notation used inplace of 'test'\n",
    "! touch file1 file2\n",
    "! [ file1 -ef file2 ]; echo $? # only works if files are links to each other\n",
    "! [ file1 -ot file2 ]; echo $?\n",
    "! [ file1 -nt file2 ]; echo $?"
   ]
  },
  {
   "cell_type": "code",
   "execution_count": 133,
   "id": "100bfebe",
   "metadata": {},
   "outputs": [
    {
     "name": "stdout",
     "output_type": "stream",
     "text": [
      "0\r\n"
     ]
    }
   ],
   "source": [
    "# Can chain tests together; ! to negate clause; -a and, -o or\n",
    "! [ 3 -eq 3 -a ! 4 -gt 5 -o -f file1 ]; echo $?"
   ]
  },
  {
   "cell_type": "markdown",
   "id": "dd939010",
   "metadata": {},
   "source": [
    "### Conditional Expressions"
   ]
  },
  {
   "cell_type": "code",
   "execution_count": 134,
   "id": "7e35064c",
   "metadata": {},
   "outputs": [
    {
     "name": "stdout",
     "output_type": "stream",
     "text": [
      "if\r\n",
      "\t[ -f $1 ]\r\n",
      "then\r\n",
      "\techo $1 exists\r\n",
      "else\r\n",
      "\techo $1 does not exist\r\n",
      "fi\r\n"
     ]
    }
   ],
   "source": [
    "! cat test_files.sh"
   ]
  },
  {
   "cell_type": "code",
   "execution_count": 136,
   "id": "258037fa",
   "metadata": {},
   "outputs": [
    {
     "name": "stdout",
     "output_type": "stream",
     "text": [
      "file1 exists\n",
      "file9 does not exist\n"
     ]
    }
   ],
   "source": [
    "! bash test_files.sh file1 \n",
    "! bash test_files.sh file9"
   ]
  },
  {
   "cell_type": "code",
   "execution_count": 137,
   "id": "ceae853a",
   "metadata": {},
   "outputs": [
    {
     "name": "stdout",
     "output_type": "stream",
     "text": [
      "[ -f $1 ] && echo $1 exists\r\n",
      "[ -f $1 ] || echo $1 does not exist\r\n"
     ]
    }
   ],
   "source": [
    "# Can also do quicker\n",
    "! cat test_quick.sh"
   ]
  },
  {
   "cell_type": "code",
   "execution_count": 138,
   "id": "69d4855f",
   "metadata": {},
   "outputs": [
    {
     "name": "stdout",
     "output_type": "stream",
     "text": [
      "file1 exists\r\n"
     ]
    }
   ],
   "source": [
    "! bash test_quick.sh file1"
   ]
  },
  {
   "cell_type": "code",
   "execution_count": 139,
   "id": "88a659df",
   "metadata": {},
   "outputs": [
    {
     "name": "stdout",
     "output_type": "stream",
     "text": [
      "#!/bin/sh\r\n",
      "\r\n",
      "if\r\n",
      "\t[ -f $1 ]\r\n",
      "then \r\n",
      "\techo $1 is a file\r\n",
      "elif\r\n",
      "\t[ -d $1 ]\r\n",
      "then \r\n",
      "\techo $1 is a directory\r\n",
      "else\r\n",
      "\techo $1 does not exist\r\n",
      "fi\r\n"
     ]
    }
   ],
   "source": [
    "# Can be more complicated\n",
    "! cat test_files2.sh"
   ]
  },
  {
   "cell_type": "code",
   "execution_count": 142,
   "id": "c89d6a97",
   "metadata": {},
   "outputs": [
    {
     "name": "stdout",
     "output_type": "stream",
     "text": [
      "file1 is a file\n",
      ".. is a directory\n"
     ]
    }
   ],
   "source": [
    "! ./test_files2.sh file1\n",
    "! ./test_files2.sh .."
   ]
  },
  {
   "cell_type": "code",
   "execution_count": 147,
   "id": "8cc68453",
   "metadata": {},
   "outputs": [
    {
     "name": "stdout",
     "output_type": "stream",
     "text": [
      "#!/bin/bash\r\n",
      "\r\n",
      "echo What do you want:\r\n",
      "read var\r\n",
      "case $var in\r\n",
      "house) echo expensive;;\r\n",
      "car) echo medium;;\r\n",
      "popsicle) echo cheap;;\r\n",
      "*) echo idk;;\r\n",
      "esac\r\n"
     ]
    }
   ],
   "source": [
    "# Can also write with 'case'\n",
    "! cat case.sh "
   ]
  },
  {
   "cell_type": "code",
   "execution_count": 149,
   "id": "79a3c36f",
   "metadata": {},
   "outputs": [
    {
     "name": "stdout",
     "output_type": "stream",
     "text": [
      "What do you want:\n",
      "expensive\n",
      "What do you want:\n",
      "medium\n",
      "What do you want:\n",
      "cheap\n"
     ]
    }
   ],
   "source": [
    "! echo house | ./case.sh\n",
    "! echo car | ./case.sh\n",
    "! echo popsicle | ./case.sh"
   ]
  },
  {
   "cell_type": "markdown",
   "id": "a7691390",
   "metadata": {},
   "source": [
    "### Looping Expressions"
   ]
  },
  {
   "cell_type": "markdown",
   "id": "d87ce9c6",
   "metadata": {},
   "source": [
    "Two type of loops:\n",
    "- determinate: use 'for'\n",
    "- indeterminate: use 'while"
   ]
  },
  {
   "cell_type": "code",
   "execution_count": 151,
   "id": "83e04c2f",
   "metadata": {},
   "outputs": [
    {
     "name": "stdout",
     "output_type": "stream",
     "text": [
      "#!/bin/bash\r\n",
      "\r\n",
      "for var in `ls`\r\n",
      "do\r\n",
      "\tif\r\n",
      "\t\t[ -f $var ]\r\n",
      "\tthen\r\n",
      "\t\techo $var is a regular file\r\n",
      "\tfi\r\n",
      "done\r\n"
     ]
    }
   ],
   "source": [
    "! cat list.sh"
   ]
  },
  {
   "cell_type": "code",
   "execution_count": 152,
   "id": "e500f320",
   "metadata": {},
   "outputs": [
    {
     "name": "stdout",
     "output_type": "stream",
     "text": [
      "ch15_notes.ipynb is a regular file\r\n",
      "file1 is a regular file\r\n",
      "file2 is a regular file\r\n",
      "test_files.sh is a regular file\r\n",
      "test_quick.sh is a regular file\r\n"
     ]
    }
   ],
   "source": [
    "! ./list.sh"
   ]
  },
  {
   "cell_type": "code",
   "execution_count": 153,
   "id": "d67f467c",
   "metadata": {},
   "outputs": [
    {
     "name": "stdout",
     "output_type": "stream",
     "text": [
      "#!/bin/bash\r\n",
      "\r\n",
      "j=0\r\n",
      "for i\r\n",
      "do\r\n",
      "\tj=`expr $j + 1`\r\n",
      "\techo $i is the argument $j\r\n",
      "done\r\n"
     ]
    }
   ],
   "source": [
    "# if you call for x without a list it runs through the command line args\n",
    "! cat args.sh"
   ]
  },
  {
   "cell_type": "code",
   "execution_count": 154,
   "id": "4bae925d",
   "metadata": {},
   "outputs": [
    {
     "name": "stdout",
     "output_type": "stream",
     "text": [
      "a is the argument 1\n",
      "b is the argument 2\n",
      "c is the argument 3\n",
      "d is the argument 4\n",
      "e is the argument 5\n"
     ]
    }
   ],
   "source": [
    "! ./args.sh a b c d e"
   ]
  },
  {
   "cell_type": "code",
   "execution_count": 159,
   "id": "0c289b86",
   "metadata": {},
   "outputs": [
    {
     "name": "stdout",
     "output_type": "stream",
     "text": [
      "#!/bin/bash\r\n",
      "\r\n",
      "while\r\n",
      "\t[ test1 -nt test2 ]\r\n",
      "do\r\n",
      "\techo sleeping ...\r\n",
      "\tsleep 10\r\n",
      "\techo ...\r\n",
      "\tsleep 10\r\n",
      "\techo ...\r\n",
      "done\r\n",
      "\r\n",
      "echo Done!\r\n"
     ]
    }
   ],
   "source": [
    "# Use while to test files\n",
    "! cat sleep.sh"
   ]
  },
  {
   "cell_type": "code",
   "execution_count": 158,
   "id": "17afcd06",
   "metadata": {},
   "outputs": [],
   "source": [
    "! touch test2"
   ]
  },
  {
   "cell_type": "code",
   "execution_count": 160,
   "id": "f1147ebf",
   "metadata": {},
   "outputs": [
    {
     "name": "stdout",
     "output_type": "stream",
     "text": [
      "#!/bin/bash\r\n",
      "\r\n",
      "i=0\r\n",
      "while\r\n",
      "\t[ $i -lt 20 ]\r\n",
      "do\r\n",
      "\ti=`expr $i + 1`\r\n",
      "\techo $i\r\n",
      "done\r\n"
     ]
    }
   ],
   "source": [
    "# using a while loop in a determinate manner\n",
    "! cat counter.sh"
   ]
  },
  {
   "cell_type": "code",
   "execution_count": 162,
   "id": "3a6aa5bb",
   "metadata": {},
   "outputs": [
    {
     "name": "stdout",
     "output_type": "stream",
     "text": [
      "1\n",
      "2\n",
      "3\n",
      "4\n",
      "5\n",
      "6\n",
      "7\n",
      "8\n",
      "9\n",
      "10\n",
      "11\n",
      "12\n",
      "13\n",
      "14\n",
      "15\n",
      "16\n",
      "17\n",
      "18\n",
      "19\n",
      "20\n"
     ]
    }
   ],
   "source": [
    "! ./counter.sh"
   ]
  },
  {
   "cell_type": "markdown",
   "id": "1dae0c8b",
   "metadata": {},
   "source": [
    "### Exercises"
   ]
  },
  {
   "cell_type": "markdown",
   "id": "46c4f2f5",
   "metadata": {},
   "source": [
    "1. Write a script to read in address, name."
   ]
  },
  {
   "cell_type": "code",
   "execution_count": 163,
   "id": "7f3b6ae3",
   "metadata": {},
   "outputs": [
    {
     "name": "stdout",
     "output_type": "stream",
     "text": [
      "#!/bin/bash\r\n",
      "\r\n",
      "echo \"What is your address (street, town, state, zip)?\"\r\n",
      "read street town state zip\r\n",
      "echo you live on $street in $state $town at zip $zip\r\n",
      "\r\n",
      "echo what is your name?\r\n",
      "read first last\r\n",
      "echo first $first and last $last \r\n"
     ]
    }
   ],
   "source": [
    "! cat get_info.sh"
   ]
  },
  {
   "cell_type": "markdown",
   "id": "0cf0b58b",
   "metadata": {},
   "source": [
    "2. Write a script to calculate the ratio of readers to subscribers"
   ]
  },
  {
   "cell_type": "code",
   "execution_count": 164,
   "id": "b782a788",
   "metadata": {},
   "outputs": [
    {
     "name": "stdout",
     "output_type": "stream",
     "text": [
      "#!/bin/zsh\r\n",
      "\r\n",
      "echo \"Number of readers: \"\r\n",
      "read readers\r\n",
      "\r\n",
      "echo \"Number of subscribers: \"\r\n",
      "read subs\r\n",
      "\r\n",
      "awk \"BEGIN { print  $readers/$subs}\"\r\n"
     ]
    }
   ],
   "source": [
    "! cat ratio.sh"
   ]
  },
  {
   "cell_type": "markdown",
   "id": "e50e5ad1",
   "metadata": {},
   "source": [
    "3. How do you if a file has data?"
   ]
  },
  {
   "cell_type": "code",
   "execution_count": 167,
   "id": "60207634",
   "metadata": {},
   "outputs": [
    {
     "name": "stdout",
     "output_type": "stream",
     "text": [
      "1\n",
      "0\n"
     ]
    }
   ],
   "source": [
    "! [ -s file1 ]; echo $?\n",
    "! [ -s ratio.sh ]; echo $?"
   ]
  },
  {
   "cell_type": "markdown",
   "id": "236e66db",
   "metadata": {},
   "source": [
    "4. Write a script that waits until a file has data"
   ]
  },
  {
   "cell_type": "code",
   "execution_count": 169,
   "id": "9feac327",
   "metadata": {},
   "outputs": [
    {
     "name": "stdout",
     "output_type": "stream",
     "text": [
      "#!/bin/bash\r\n",
      "\r\n",
      "while\r\n",
      "\t[ ! -s $1 ]\r\n",
      "do\r\n",
      "\techo waiting ...\r\n",
      "\tsleep 10\r\n",
      "\techo ...\r\n",
      "\tsleep 10\r\n",
      "\techo ...\r\n",
      "done\r\n",
      "\r\n",
      "echo Data added!\r\n"
     ]
    }
   ],
   "source": [
    "! cat wait.sh"
   ]
  },
  {
   "cell_type": "code",
   "execution_count": null,
   "id": "84702204",
   "metadata": {},
   "outputs": [],
   "source": []
  }
 ],
 "metadata": {
  "kernelspec": {
   "display_name": "Python 3 (ipykernel)",
   "language": "python",
   "name": "python3"
  },
  "language_info": {
   "codemirror_mode": {
    "name": "ipython",
    "version": 3
   },
   "file_extension": ".py",
   "mimetype": "text/x-python",
   "name": "python",
   "nbconvert_exporter": "python",
   "pygments_lexer": "ipython3",
   "version": "3.8.16"
  }
 },
 "nbformat": 4,
 "nbformat_minor": 5
}

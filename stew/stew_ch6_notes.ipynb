{
 "cells": [
  {
   "cell_type": "markdown",
   "id": "1a45e8dc",
   "metadata": {},
   "source": [
    "# Chapter 6: Counting Outcomes"
   ]
  },
  {
   "cell_type": "code",
   "execution_count": 182,
   "id": "074791cc",
   "metadata": {},
   "outputs": [],
   "source": [
    "import itertools\n",
    "import math\n",
    "import numpy as np\n",
    "\n",
    "from scipy.special import binom, factorial"
   ]
  },
  {
   "cell_type": "markdown",
   "id": "daa41017",
   "metadata": {},
   "source": [
    "### Sampleing with Replacement\n",
    "Number of outcomes is $o^n$ where o is number of size of popultion and n is number of experiments\n",
    "\n",
    "### Sampleing without Replacement\n",
    "Number of outcomes is $o!$\n",
    "\n",
    "### Permutations\n",
    "\n",
    "$$\n",
    "\\frac {n!} {(n-j)!} \n",
    "$$\n",
    "where n is size of population and j is number of selected objects\n",
    "\n",
    "### Combinations\n",
    "Number of diffent combinations, regaurdless of ordering; must divide out for ordering\n",
    "$$\n",
    "\\frac {n!} {(n-j)!j!}\n",
    "$$\n",
    "also call bionomial coefficient\n",
    "$$\n",
    "\\frac {n!} {(n-j)!j!} = \\binom{n}{j}\n",
    "$$\n"
   ]
  },
  {
   "cell_type": "markdown",
   "id": "f65937df",
   "metadata": {},
   "source": [
    "**Example**\n",
    "Given group N, subgroup n, what is the probability that j people will be grouped together?\n",
    "- total number of outcomes: $\\binom {N} {n}$\n",
    "- subtract j from N and n for outcomes including j\n",
    "- divide desired outcomes from total outcomes\n",
    "- Example: Population of 20 with groups of 5, you and another person:\n",
    "$$\n",
    "\\binom {20} {5} = \\frac {20!} {(20-5)!5!} = \\frac {20*19*18*17*16} {120} = 15504\n",
    "$$\n",
    "\n",
    "$$\n",
    "\\binom {18} {3} = \\frac {18!} {15!3!} = {18*17*16} {6} = 816\n",
    "$$\n",
    "\n",
    "$$\n",
    "\\frac {816} {15504} = 0.053\n",
    "$$"
   ]
  },
  {
   "cell_type": "markdown",
   "id": "5bb65297",
   "metadata": {},
   "source": [
    "**Example** Distribute group n into subgroups of (2 where N is even):\n",
    "$$\n",
    "\\frac {n!} {2^\\frac {n}{2} (\\frac {n} {2})!}\n",
    "$$\n",
    "\n",
    "For group n=6 where everyone is with their best friend \n",
    "$$\n",
    "Pr(x) = \\frac {1} {\\frac {6!} {2^3 3!}} = \\frac {1} {\\frac {720} {48}} = \\frac {1} {15}\n",
    "$$"
   ]
  },
  {
   "cell_type": "markdown",
   "id": "dde338c3",
   "metadata": {},
   "source": [
    "### Multinomial Formula\n",
    "Above example example of the more general _multinomial formula_ for n objects put into boxes with each box having k objects and $\\frac {n} {k}$ boxes:\n",
    "\n",
    "$$\n",
    "\\frac {n!} {k!^\\frac {n} {k}}\n",
    "$$\n",
    "\n",
    "or, if you're going to put $n$ objects into $m$ groups of size $k_m$, where  $k_1+k_2+k_3...+k_m=n$\n",
    "\n",
    "$$\n",
    "\\frac {n!} {k_1!k_2!k_3!...k_m!}\n",
    "$$\n",
    "\n",
    "If m = 2, Multinomial simplifies to binomial $\\binom {n} {j}$."
   ]
  },
  {
   "cell_type": "markdown",
   "id": "610499fa",
   "metadata": {},
   "source": [
    "**Exercise 1**. If 24 pieces of sausage are randomly put onto a pizza that is slides into 8 pieces (with onoe of the sausages getting cut), what is the probability that your slice will have 3 pieces of sausage? 4 pieces?"
   ]
  },
  {
   "cell_type": "code",
   "execution_count": 174,
   "id": "0d8e6da1",
   "metadata": {},
   "outputs": [
    {
     "data": {
      "text/plain": [
       "0.23939201521216893"
      ]
     },
     "execution_count": 174,
     "metadata": {},
     "output_type": "execute_result"
    }
   ],
   "source": [
    "total_possibilities = binom(24, 3)\n",
    "prb_success = pow(1/8, 3)\n",
    "prb_fail = pow(7/8, (24 - 3)) \n",
    "\n",
    "total_possibilities * prb_success * prb_fail "
   ]
  },
  {
   "cell_type": "markdown",
   "id": "bc6149d4",
   "metadata": {},
   "source": [
    "23% percent change of getting a slice with 3 pieces?  This seems wrong...but it's the answer from the book"
   ]
  },
  {
   "cell_type": "markdown",
   "id": "b3a9cb33",
   "metadata": {},
   "source": [
    "**Exercise 2**. A hostess hass so many guests coming that she needs to use more than one set of plates. She has 22 guests coming, and she has 10 plates in one set and 12 plates in the other set.  All of the people will sit at a round table. How many different ways cane the lates be sa at the table?\n",
    "- Table is round so you have to use 'circular permutations': (n-1)!\n",
    "$$\n",
    "\\frac {(n-1)!} {k_1!k_2!} = \\frac {21!}{10!12!}\n",
    "$$\n",
    "\n",
    "- book answer:\n",
    "\n",
    "$$\n",
    "\\binom {1}{22} \\binom {22}{10}\n",
    "$$"
   ]
  },
  {
   "cell_type": "code",
   "execution_count": 179,
   "id": "92065eaa",
   "metadata": {},
   "outputs": [
    {
     "name": "stdout",
     "output_type": "stream",
     "text": [
      "wft, book answer = 0.0\n"
     ]
    }
   ],
   "source": [
    "# from book\n",
    "book_ans = binom(1,22) * binom(22, 10)\n",
    "print(f\"wft, book answer = {book_ans}\")"
   ]
  },
  {
   "cell_type": "code",
   "execution_count": 180,
   "id": "5144d186",
   "metadata": {},
   "outputs": [
    {
     "data": {
      "text/plain": [
       "29393.0"
      ]
     },
     "execution_count": 180,
     "metadata": {},
     "output_type": "execute_result"
    }
   ],
   "source": [
    "# my answer\n",
    "factorial(21) / (factorial(10) * factorial(12))"
   ]
  },
  {
   "cell_type": "markdown",
   "id": "62e18e9d",
   "metadata": {},
   "source": [
    "**Exercise 3**. How many different ways can you arrange the 32 pieces of a chess board? For each color: 8 pawns, 2 rooks, 2 castles, 2 bishops, 1 king, 1 queen.\n",
    "\n",
    "$$\n",
    "\\frac {n!} {k_1!k_2!...k_m!}\n",
    "$$"
   ]
  },
  {
   "cell_type": "markdown",
   "id": "1f4c6a48",
   "metadata": {},
   "source": [
    "$$\n",
    "\\frac {32!} {8!8!2!2!2!2!2!2!1!1!}\n",
    "$$"
   ]
  },
  {
   "cell_type": "code",
   "execution_count": 30,
   "id": "fdaece54",
   "metadata": {},
   "outputs": [
    {
     "data": {
      "text/plain": [
       "2.5290110459878524e+24"
      ]
     },
     "execution_count": 30,
     "metadata": {},
     "output_type": "execute_result"
    }
   ],
   "source": [
    "factorial(32) / np.product(factorial([8, 8, 2, 2, 2, 2, 2, 2, 1, 1]))"
   ]
  },
  {
   "cell_type": "markdown",
   "id": "d919a761",
   "metadata": {},
   "source": [
    "**Exercise 4**. How many different orders can you cook 4 beef dinners, 2 chicken dinners, 1 turkey dinner?\n",
    "$$\n",
    "\\frac {n!} {k_1!k_2!...k_m!}\n",
    "$$\n",
    "\n",
    "$$\n",
    "\\frac {7!} {4!2!1!}\n",
    "$$"
   ]
  },
  {
   "cell_type": "code",
   "execution_count": 33,
   "id": "be5d1411",
   "metadata": {},
   "outputs": [
    {
     "data": {
      "text/plain": [
       "105.0"
      ]
     },
     "execution_count": 33,
     "metadata": {},
     "output_type": "execute_result"
    }
   ],
   "source": [
    "n = factorial(7)\n",
    "ks = np.product(factorial([4, 2, 1]))\n",
    "n / ks"
   ]
  },
  {
   "cell_type": "markdown",
   "id": "40f13f01",
   "metadata": {},
   "source": [
    "**Exercise 5**. How many different way can you arrange 4 star dancers and 8 chorus line members?\n",
    "$$\n",
    "\\frac {n!} {k_1!k_2!} = \\binom {n} {k}\n",
    "$$\n",
    "\n",
    "$$\n",
    "\\frac {12!} {8!4!} = \\frac {12!} {(12-4)!4!} = \\binom {12} {4}\n",
    "$$"
   ]
  },
  {
   "cell_type": "code",
   "execution_count": 35,
   "id": "53dea9c1",
   "metadata": {},
   "outputs": [
    {
     "data": {
      "text/plain": [
       "495.0"
      ]
     },
     "execution_count": 35,
     "metadata": {},
     "output_type": "execute_result"
    }
   ],
   "source": [
    "binom(12, 4)"
   ]
  },
  {
   "cell_type": "markdown",
   "id": "24467ce6",
   "metadata": {},
   "source": [
    "**Exercise 6**. How many ways can aces be located in a deck of 52 cards?"
   ]
  },
  {
   "cell_type": "markdown",
   "id": "1e59809a",
   "metadata": {},
   "source": [
    "$$\n",
    "P(n, j) = \\frac {n!}{(n - j)!}\n",
    "$$"
   ]
  },
  {
   "cell_type": "code",
   "execution_count": 87,
   "id": "88505565",
   "metadata": {},
   "outputs": [],
   "source": [
    "locs_ace1 = 52\n",
    "locs_ace2 = 51\n",
    "locs_ace3 = 50\n",
    "locs_ace4 = 49\n",
    "\n",
    "assert math.prod([locs_ace1, locs_ace2, locs_ace3, locs_ace4]) == factorial(52) / factorial(48), \"Wrong\""
   ]
  },
  {
   "cell_type": "markdown",
   "id": "f5ad302c",
   "metadata": {},
   "source": [
    "**Exercise 7**. If a sock drawer contains four red socks, three blue socks, and two brown socks, what is the probability of selecting two matching socks at random?\n",
    "\n",
    "$$\n",
    "Pr(2red \\cup 2blue \\cup 2brown) = Pr(2red) + Pr(2blue) + Pr(2brown) = \\frac {\\binom {4}{2} + \\binom {3}{2} + \\binom {2}{2}} {\\binom {9}{2}}\n",
    "$$"
   ]
  },
  {
   "cell_type": "code",
   "execution_count": 59,
   "id": "37064605",
   "metadata": {},
   "outputs": [
    {
     "name": "stdout",
     "output_type": "stream",
     "text": [
      "27.8% chance of a matching pair\n"
     ]
    }
   ],
   "source": [
    "red   = binom(4, 2)\n",
    "blue  = binom(3, 2)\n",
    "brown = binom(2, 2)\n",
    "total = binom(9, 2)\n",
    "print(f\"{(red + blue + brown) / total*100:.3}% chance of a matching pair\")"
   ]
  },
  {
   "cell_type": "markdown",
   "id": "cb1f9d00",
   "metadata": {},
   "source": [
    "**Exercise 8**. If you have five pennies and four dimes in your pocket, what is the probability you will randomly pick 20 cents?\n",
    "$$\n",
    "Pr(2dimes) = \\frac {\\binom {4}{2}} {\\binom {9}{2}}\n",
    "$$"
   ]
  },
  {
   "cell_type": "code",
   "execution_count": 62,
   "id": "6dc0680e",
   "metadata": {},
   "outputs": [
    {
     "data": {
      "text/plain": [
       "0.167"
      ]
     },
     "execution_count": 62,
     "metadata": {},
     "output_type": "execute_result"
    }
   ],
   "source": [
    "round(binom(4, 2) / binom(9, 2), 3) # 1 /6"
   ]
  },
  {
   "cell_type": "code",
   "execution_count": 66,
   "id": "f94386d7",
   "metadata": {},
   "outputs": [
    {
     "data": {
      "text/plain": [
       "0.167"
      ]
     },
     "execution_count": 66,
     "metadata": {},
     "output_type": "execute_result"
    }
   ],
   "source": [
    "# but you could also caluclate it like this\n",
    "round((4 / 9) * (3 / 8), 3)"
   ]
  },
  {
   "cell_type": "markdown",
   "id": "87c007a2",
   "metadata": {},
   "source": [
    "**Exercise 9**. Three people go to a garage sale where there are 9 horns for sale; how many different possible purchases are there?\n",
    "$$\n",
    "\\frac {n!}{(n-j)!}\n",
    "$$"
   ]
  },
  {
   "cell_type": "code",
   "execution_count": 68,
   "id": "8eeb2d1a",
   "metadata": {},
   "outputs": [
    {
     "data": {
      "text/plain": [
       "504.0"
      ]
     },
     "execution_count": 68,
     "metadata": {},
     "output_type": "execute_result"
    }
   ],
   "source": [
    "factorial(9) / factorial(9-3)"
   ]
  },
  {
   "cell_type": "markdown",
   "id": "5ea614d0",
   "metadata": {},
   "source": [
    "**Exercise 10**. At a meeting, name tags are made for four people named John, two people named Julie, and two people named Jane.  How many different ways can the name tags be distributed?"
   ]
  },
  {
   "cell_type": "code",
   "execution_count": 191,
   "id": "6ba30453",
   "metadata": {},
   "outputs": [],
   "source": [
    "# The key is only john's can get John etc; therefore, it's not 8! but the product factorial for each group\n",
    "\n",
    "johns = ['john' + str(i) for i in range(4)]\n",
    "julies = ['julie' + str(i) for i in range(2)]\n",
    "janes = ['jane' + str(i) for i in range(2)]\n",
    "names = johns + julies + janes\n",
    "\n",
    "john_perms = list(itertools.permutations(johns, 4)) # or 4!\n",
    "julie_perms = list(itertools.permutations(julies, 2)) # or 2!\n",
    "jane_perms = list(itertools.permutations(janes, 2)) # or 2!\n",
    "\n",
    "# 96\n",
    "assert len(john_perms) * len(julie_perms) * len(jane_perms) == factorial(4) * factorial(2) * factorial(2)"
   ]
  },
  {
   "cell_type": "markdown",
   "id": "2cb22174",
   "metadata": {},
   "source": [
    "**Exercise 11**. At a party five pople have blue jackets, four people have brown jackets, and two people have red jackets.  If, at the end of the party, they each randomly select a jacket of the correct color, in how many different ways can the jackets be mixed up?"
   ]
  },
  {
   "cell_type": "code",
   "execution_count": 126,
   "id": "5298770e",
   "metadata": {},
   "outputs": [
    {
     "data": {
      "text/plain": [
       "5760.0"
      ]
     },
     "execution_count": 126,
     "metadata": {},
     "output_type": "execute_result"
    }
   ],
   "source": [
    "# Like Exercise 10\n",
    "factorial(5) * factorial(4) * factorial(2)"
   ]
  },
  {
   "cell_type": "markdown",
   "id": "7728e0ea",
   "metadata": {},
   "source": [
    "**Exercise 12**. If you have 10 large chairs and 5 small chairs to be arranged at a round table, how many different ways are there to arrange them?\n",
    "$$\n",
    "C(n, r) = \\frac {n!}{k_1!k_2!} = \\frac {15!}{5!10!} = \\frac {15!}{(15-10)!10!} = \\binom {15}{10}\n",
    "$$"
   ]
  },
  {
   "cell_type": "code",
   "execution_count": 127,
   "id": "fa285083",
   "metadata": {},
   "outputs": [
    {
     "data": {
      "text/plain": [
       "3003.0"
      ]
     },
     "execution_count": 127,
     "metadata": {},
     "output_type": "execute_result"
    }
   ],
   "source": [
    "binom(15, 10)"
   ]
  },
  {
   "cell_type": "markdown",
   "id": "0b156a81",
   "metadata": {},
   "source": [
    "**Exercise 13**. If you are picking four cards from a standard deck, what is the probability that you will pick an ace, 2, 3, 4?\n",
    "$$\n",
    "\\frac {4^4}{\\binom {52}{4}}\n",
    "$$"
   ]
  },
  {
   "cell_type": "code",
   "execution_count": 77,
   "id": "749dc02b",
   "metadata": {},
   "outputs": [
    {
     "name": "stdout",
     "output_type": "stream",
     "text": [
      "0.09456090128359036\n"
     ]
    }
   ],
   "source": [
    "aces = 4\n",
    "twos = 4\n",
    "threes = 4\n",
    "fours = 4\n",
    "total = binom(52, 4)\n",
    "\n",
    "print((aces * twos * threes * fours) / total * 100)"
   ]
  },
  {
   "cell_type": "code",
   "execution_count": 80,
   "id": "c67a2bd5",
   "metadata": {},
   "outputs": [
    {
     "data": {
      "text/plain": [
       "3.501277966457758e-05"
      ]
     },
     "execution_count": 80,
     "metadata": {},
     "output_type": "execute_result"
    }
   ],
   "source": [
    "# Can you also solve this way?\n",
    "\n",
    "pow((4/52), 4) # No...."
   ]
  },
  {
   "cell_type": "markdown",
   "id": "b0771a59",
   "metadata": {},
   "source": [
    "**Exercise 14**. At a picnic the three indistinguishable Smith children and the two indistinguishable Jones childern are sitting on a bench. In how many distinuishable ways can they be arrange on the bench?\n",
    "$$\n",
    "\\frac {5!}{2!3!} = \\binom {5}{3} = 10\n",
    "$$"
   ]
  },
  {
   "cell_type": "code",
   "execution_count": 129,
   "id": "e31e16c6",
   "metadata": {},
   "outputs": [
    {
     "data": {
      "text/plain": [
       "10.0"
      ]
     },
     "execution_count": 129,
     "metadata": {},
     "output_type": "execute_result"
    }
   ],
   "source": [
    "binom(5,3)"
   ]
  },
  {
   "cell_type": "markdown",
   "id": "8ab07013",
   "metadata": {},
   "source": [
    "**Exercise 15**. If you are going to buy something from a vending machine that costs 5 cents, and you have five nickels and three dimes in your pocket., in how many different ways can you put change in the machine?\n",
    "$$\n",
    "C(n, r) = \\frac {n!}{k_1!k_2!} = \\frac {8!}{3!5!} = \\frac{8!}{(8-5)!5!} = \\binom {8}{5}\n",
    "$$"
   ]
  },
  {
   "cell_type": "code",
   "execution_count": 144,
   "id": "68f14d98",
   "metadata": {},
   "outputs": [
    {
     "data": {
      "text/plain": [
       "56.0"
      ]
     },
     "execution_count": 144,
     "metadata": {},
     "output_type": "execute_result"
    }
   ],
   "source": [
    "binom(8, 5)"
   ]
  },
  {
   "cell_type": "markdown",
   "id": "2c55b084",
   "metadata": {},
   "source": [
    "**Exercise 16**. If you have 20 blue balls and 30 red balls in a box, and you randomly pull out 20 balls, what is the probability that they will all be blue?\n",
    "$$\n",
    "Pr(AllBlue) = \\frac {N(A)}{s}\n",
    "$$\n",
    "\n",
    "$$\n",
    "N(A) = 1; s = \\binom {50}{20}\n",
    "$$\n",
    "\n",
    "$$\n",
    "P(AllBlue) = \\frac {1}{\\binom {50}{20}}\n",
    "$$"
   ]
  },
  {
   "cell_type": "code",
   "execution_count": 161,
   "id": "20d2c2cf",
   "metadata": {},
   "outputs": [
    {
     "data": {
      "text/plain": [
       "2.1218262567674437e-14"
      ]
     },
     "execution_count": 161,
     "metadata": {},
     "output_type": "execute_result"
    }
   ],
   "source": [
    "1 / binom(50, 20)"
   ]
  },
  {
   "cell_type": "markdown",
   "id": "e1292371",
   "metadata": {},
   "source": [
    "**Exercise 17**. What is $\\binom {n}{0}$? Explain intuitively.\n",
    "\n",
    "$$\n",
    "\\binom {n}{0} = \\frac {n!}{(n-0)!0!} = \\frac {n!}{n!} = 1\n",
    "$$\n",
    "\n",
    "There is only one way to chose nothing."
   ]
  },
  {
   "cell_type": "markdown",
   "id": "9c4cd4e4",
   "metadata": {},
   "source": [
    "**Exercise 18**. What is $\\binom {n}{1}$? Explain intuitively.\n",
    "\n",
    "$$\n",
    "\\binom {n}{1} = \\frac {n!}{(n-1)!1!} = \\frac {n!}{(n-1)!} = n\n",
    "$$\n",
    "\n",
    "example:\n",
    "$$\n",
    "\\binom {5}{1} = \\frac {5!}{(5-1)!1!} = \\frac {5!}{4!} = 5\n",
    "$$\n",
    "\n",
    "There are n ways to make one selection"
   ]
  },
  {
   "cell_type": "markdown",
   "id": "f62b85dd",
   "metadata": {},
   "source": [
    "**Exercise 19**. What is $\\binom {n}{n}$? Explain intuitively.\n",
    "\n",
    "$$\n",
    "\\binom {n}{n} = \\frac {n!}{(n-n)!n!} = \\frac {n!}{n!} = 1\n",
    "$$\n",
    "\n",
    "There is only one way to choose all the objects."
   ]
  },
  {
   "cell_type": "markdown",
   "id": "b331f07b",
   "metadata": {},
   "source": [
    "**Exercise 20**. What is $\\binom {n}{n-1}$? Explain intuitively.\n",
    "\n",
    "$$\n",
    "\\binom {n}{n-1} = \\frac {n!}{(n-(n-1))!n-1!} = \\frac {n!}{1!n-1!} = \\frac {n!}{n-1!} = n\n",
    "$$\n",
    "\n",
    "example:\n",
    "$$\n",
    "\\binom {5}{4} = \\frac {5!}{(5-4)!4!} = \\frac {5!}{4!} = 5\n",
    "$$"
   ]
  },
  {
   "cell_type": "markdown",
   "id": "ca939703",
   "metadata": {},
   "source": [
    "There are n ways to choose n-1 objects."
   ]
  },
  {
   "cell_type": "markdown",
   "id": "e8f0af90",
   "metadata": {},
   "source": [
    "**Exercise 21**. How many different possible five-letter words are there?\n",
    "\n",
    "Sampling with replacement\n",
    "$$\n",
    "m^n\n",
    "$$"
   ]
  },
  {
   "cell_type": "code",
   "execution_count": 184,
   "id": "0e102449",
   "metadata": {},
   "outputs": [
    {
     "data": {
      "text/plain": [
       "11881376"
      ]
     },
     "execution_count": 184,
     "metadata": {},
     "output_type": "execute_result"
    }
   ],
   "source": [
    "pow(26, 5)"
   ]
  },
  {
   "cell_type": "markdown",
   "id": "f2c0d924",
   "metadata": {},
   "source": [
    "**Exercise 22**. How many different possible five-letter words are there?\n",
    "\n",
    "Sampling with replacement\n",
    "$$\n",
    "m^n\n",
    "$$"
   ]
  },
  {
   "cell_type": "markdown",
   "id": "b5e050ab",
   "metadata": {},
   "source": [
    "**Exercise 23**. A combination for a combination lock consists of three numbers from 1 to 30. What is the probability that you could randomly guess the combination?\n",
    "\n",
    "$$\n",
    "Pr(A) = \\frac {N(A)}{s}\n",
    "$$"
   ]
  },
  {
   "cell_type": "code",
   "execution_count": 186,
   "id": "e5f8e992",
   "metadata": {},
   "outputs": [
    {
     "data": {
      "text/plain": [
       "3.7037037037037037e-05"
      ]
     },
     "execution_count": 186,
     "metadata": {},
     "output_type": "execute_result"
    }
   ],
   "source": [
    "possbile_combos = 30*30*30\n",
    "correct_combo = 1\n",
    "correct_combo / possbile_combos"
   ]
  },
  {
   "cell_type": "markdown",
   "id": "3fafe9c9",
   "metadata": {},
   "source": [
    "**Exercise 24**. Suppose a monkey spends a long time at a typewriter.  What is the probability that it will type the _Encyclopaedia Britannica_?\n",
    "\n",
    "Excluding not alphebet characters:\n",
    "$$\n",
    "Pr(EB) = \\frac {1}{26^{length(Encyclopaedia Britannica)}}\n",
    "$$"
   ]
  },
  {
   "cell_type": "code",
   "execution_count": null,
   "id": "38fc51c2",
   "metadata": {},
   "outputs": [],
   "source": [
    "length_encyc = 97920000 \n",
    "\n",
    "pr_eb = 1 / pow(26, length_encyc)\n",
    "pr_eb # can't compute :|"
   ]
  },
  {
   "cell_type": "markdown",
   "id": "283a14bf",
   "metadata": {},
   "source": [
    "**Exercise 25**. At a burger joint, they have the following options: cheese/no cheese, onion/no onion, pickle/no pickle, well done/medium, ketchup/no ketchup, and six sizes.  How many burgers will the place have to keep on hand in order to have every single possiblity available?"
   ]
  },
  {
   "cell_type": "code",
   "execution_count": 190,
   "id": "d9ca7e47",
   "metadata": {},
   "outputs": [
    {
     "data": {
      "text/plain": [
       "192"
      ]
     },
     "execution_count": 190,
     "metadata": {},
     "output_type": "execute_result"
    }
   ],
   "source": [
    "cheese = 2\n",
    "onion = 2\n",
    "pickle = 2\n",
    "done = 2\n",
    "ketchup = 2\n",
    "sizes = 6\n",
    "\n",
    "cheese * onion * pickle * done * ketchup * sizes"
   ]
  },
  {
   "cell_type": "code",
   "execution_count": null,
   "id": "081477f8",
   "metadata": {},
   "outputs": [],
   "source": []
  }
 ],
 "metadata": {
  "kernelspec": {
   "display_name": "Python 3 (ipykernel)",
   "language": "python",
   "name": "python3"
  },
  "language_info": {
   "codemirror_mode": {
    "name": "ipython",
    "version": 3
   },
   "file_extension": ".py",
   "mimetype": "text/x-python",
   "name": "python",
   "nbconvert_exporter": "python",
   "pygments_lexer": "ipython3",
   "version": "3.8.16"
  }
 },
 "nbformat": 4,
 "nbformat_minor": 5
}

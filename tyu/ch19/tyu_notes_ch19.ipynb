{
 "cells": [
  {
   "cell_type": "markdown",
   "id": "0164fae4",
   "metadata": {},
   "source": [
    "# Sam's Teach Yourself Unix"
   ]
  },
  {
   "cell_type": "markdown",
   "id": "47ca8044",
   "metadata": {},
   "source": [
    "## Hour 19: Communicating"
   ]
  },
  {
   "cell_type": "markdown",
   "id": "8651aea4",
   "metadata": {},
   "source": [
    "Enabling messages"
   ]
  },
  {
   "cell_type": "code",
   "execution_count": 1,
   "id": "ad589789",
   "metadata": {},
   "outputs": [
    {
     "name": "stdout",
     "output_type": "stream",
     "text": [
      "/dev/ttys003\r\n"
     ]
    }
   ],
   "source": [
    "# what device am I connected through?\n",
    "! tty"
   ]
  },
  {
   "cell_type": "code",
   "execution_count": 17,
   "id": "7129251b",
   "metadata": {},
   "outputs": [
    {
     "name": "stdout",
     "output_type": "stream",
     "text": [
      "crw--w----  1 jamesm  tty  0x10000003 May  9 16:44 \u001b[34m\u001b[43m/dev/ttys003\u001b[m\u001b[m\r\n"
     ]
    }
   ],
   "source": [
    "# look at file\n",
    "! ls -l /dev/ttys003"
   ]
  },
  {
   "cell_type": "code",
   "execution_count": 8,
   "id": "42d0ebd7",
   "metadata": {},
   "outputs": [
    {
     "name": "stdout",
     "output_type": "stream",
     "text": [
      "crw--w----  1 jamesm  tty  0x10000003 May  9 16:42 \u001b[34m\u001b[43m/dev/ttys003\u001b[m\u001b[m\r\n"
     ]
    }
   ],
   "source": [
    "# need to give 'other' write permissions\n",
    "! mesg y\n",
    "! ls -l /dev/ttys003  # didn't work..."
   ]
  },
  {
   "cell_type": "code",
   "execution_count": 14,
   "id": "546e6674",
   "metadata": {},
   "outputs": [
    {
     "name": "stdout",
     "output_type": "stream",
     "text": [
      "crw--w----  1 jamesm  tty  0x10000003 May  9 16:43 \u001b[34m\u001b[43m/dev/ttys003\u001b[m\u001b[m\r\n"
     ]
    }
   ],
   "source": [
    "! chmod +x /dev/ttys003\n",
    "! ls -l /dev/ttys003  # that didn't either..."
   ]
  },
  {
   "cell_type": "code",
   "execution_count": 15,
   "id": "0b9caf4b",
   "metadata": {},
   "outputs": [
    {
     "name": "stdout",
     "output_type": "stream",
     "text": [
      "Login    Name                 TTY  Idle  Login  Time   Office  Phone\r\n",
      "jamesm   James McGann        *con   56d  Mar 14 11:36\r\n",
      "jamesm   James McGann         s00    1d  Mar 27 16:51\r\n",
      "jamesm   James McGann         s00    20  Mar 27 16:51\r\n",
      "jamesm   James McGann         s00    11  Mar 27 16:51\r\n",
      "jamesm   James McGann         s00    1d  Mar 27 16:51\r\n",
      "jamesm   James McGann         s00     6  Apr  3 13:29\r\n",
      "jamesm   James McGann         s00    1d  Apr  6 13:36\r\n"
     ]
    }
   ],
   "source": [
    "# who's logged in\n",
    "! finger"
   ]
  },
  {
   "cell_type": "code",
   "execution_count": 18,
   "id": "6c331970",
   "metadata": {},
   "outputs": [
    {
     "name": "stdout",
     "output_type": "stream",
     "text": [
      "Login: jamesm         \t\t\tName: James McGann\r\n",
      "Directory: /Users/jamesm            \tShell: /bin/zsh\r\n",
      "On since Tue Mar 14 11:36 (EDT) on console, idle 56 days 5:09 (messages off)\r\n",
      "On since Mon Mar 27 16:51 (EDT) on ttys001, idle 1 day 0:29\r\n",
      "On since Mon Mar 27 16:51 (EDT) on ttys000, idle 0:21\r\n",
      "On since Mon Mar 27 16:51 (EDT) on ttys002, idle 0:12\r\n",
      "On since Mon Apr 17 17:22 (EDT) on ttys003\r\n",
      "On since Mon Mar 27 16:51 (EDT) on ttys004, idle 1 day 0:30\r\n",
      "On since Mon Apr  3 13:29 (EDT) on ttys005, idle 0:07\r\n",
      "On since Mon Apr 17 17:52 (EDT) on ttys006, idle 5 days 5:06\r\n",
      "On since Thu Apr  6 13:36 (EDT) on ttys007, idle 1 day 0:29\r\n",
      "On since Mon Mar 27 17:05 (EDT) on ttys008 (messages off)\r\n",
      "No Mail.\r\n",
      "No Plan.\r\n"
     ]
    }
   ],
   "source": [
    "# learn more\n",
    "! finger jamesm"
   ]
  },
  {
   "cell_type": "code",
   "execution_count": 19,
   "id": "5ac1076f",
   "metadata": {},
   "outputs": [
    {
     "name": "stdout",
     "output_type": "stream",
     "text": [
      "[usenix.org]\n",
      "Trying 2620:12a:8001::4...\n",
      "^C\n"
     ]
    }
   ],
   "source": [
    "# who's logged in at a given domain\n",
    "! finger @usenix.org"
   ]
  },
  {
   "cell_type": "code",
   "execution_count": 20,
   "id": "0af9b0dd",
   "metadata": {},
   "outputs": [
    {
     "name": "stdout",
     "output_type": "stream",
     "text": [
      "\u001b[12B\u000eqqqqqqqqqqqqqqqqqqqqqqqqqqqqqqqqqqqqqqqqqqqqqqqqqqqqqqqqqqqqqqqqqqqqqqqqqqqqqqqq\u000f\u001b[2;1H\u000e\u000f[Checking for invitation on caller's machine]onnection yet]\n",
      "[Checking for invitation on caller's machine]\n",
      "[Checking for invitation on caller's machine]\n",
      "[Checking for invitation on caller's machine]\n",
      "[Connection closing. Exiting]\n",
      "\u001b[H\u001b[2J[No connection yet]\n",
      "[Checking for invitation on caller's machine]\n",
      "[Checking for invitation on caller's machine]\n",
      "[Checking for invitation on caller's machine]\n",
      "[Checking for invitation on caller's machine]\n",
      "\u001b[?1l\u001b>qqqqqqqqqqqqqqqqqqqqqqqqqqqqqqqqqqqqqqqqqqqqqqqqqqqqqqqqqqqqqqqqqqqqqqqqqqqqqq\u000f\u001b[24;1H\u000e\u000f\u001b[24;1H\u001b[2J\u001b[?47l\u001b8"
     ]
    }
   ],
   "source": [
    "# this doesn't work but interesting\n",
    "! talk jamesm"
   ]
  },
  {
   "cell_type": "code",
   "execution_count": 21,
   "id": "a82685de",
   "metadata": {},
   "outputs": [
    {
     "name": "stdout",
     "output_type": "stream",
     "text": [
      "No mail for jamesm\r\n"
     ]
    }
   ],
   "source": [
    "# aw no mail\n",
    "! mailx"
   ]
  },
  {
   "cell_type": "code",
   "execution_count": 23,
   "id": "754961d0",
   "metadata": {},
   "outputs": [
    {
     "name": "stdout",
     "output_type": "stream",
     "text": [
      "Mail version 8.1 6/6/93.  Type ? for help.\n",
      "\"/var/mail/jamesm\": 1 message 1 new\n",
      ">N  1 jamesm@ATX-MBP-RQ05P  Tue May  9 16:53  17/495   \"how are you\"\n",
      "? ^C\n",
      "Interrupt\n",
      "? At EOF\n",
      "? "
     ]
    }
   ],
   "source": [
    "# after entering mail jamesm...\n",
    "! mail"
   ]
  },
  {
   "cell_type": "code",
   "execution_count": null,
   "id": "2e186e87",
   "metadata": {},
   "outputs": [],
   "source": [
    "# this doesn't work either...\n",
    "! mail jpaulmcgann@gmail.com "
   ]
  }
 ],
 "metadata": {
  "kernelspec": {
   "display_name": "Python 3 (ipykernel)",
   "language": "python",
   "name": "python3"
  },
  "language_info": {
   "codemirror_mode": {
    "name": "ipython",
    "version": 3
   },
   "file_extension": ".py",
   "mimetype": "text/x-python",
   "name": "python",
   "nbconvert_exporter": "python",
   "pygments_lexer": "ipython3",
   "version": "3.8.16"
  }
 },
 "nbformat": 4,
 "nbformat_minor": 5
}

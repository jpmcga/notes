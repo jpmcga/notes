{
 "cells": [
  {
   "cell_type": "code",
   "execution_count": null,
   "id": "18c0aa8d",
   "metadata": {},
   "outputs": [],
   "source": [
    "def count_down(x):\n",
    "    \n",
    "    x -= 1\n",
    "    if x < 1:\n",
    "        return x\n",
    "    else:\n",
    "        return count_down(x)\n",
    "\n",
    "        \n",
    "count_down(100)\n",
    "\n"
   ]
  },
  {
   "cell_type": "code",
   "execution_count": null,
   "id": "66d1767b",
   "metadata": {},
   "outputs": [],
   "source": [
    "%pdb\n",
    "def highest_divisable(numerator, demoninator):\n",
    "    \n",
    "    if numerator % demoninator == 0:\n",
    "        return numerator\n",
    "    else:\n",
    "        return highest_divisable(numerator-1, demoninator)\n",
    "\n",
    "\n",
    "denominator = 9\n",
    "highest_divisable(999, denominator)\n",
    "\n",
    "\n"
   ]
  },
  {
   "cell_type": "code",
   "execution_count": 18,
   "id": "814a61a2",
   "metadata": {},
   "outputs": [
    {
     "name": "stdout",
     "output_type": "stream",
     "text": [
      "5\n",
      "4\n",
      "3\n",
      "2\n",
      "1\n",
      "0\n"
     ]
    },
    {
     "data": {
      "text/plain": [
       "120"
      ]
     },
     "execution_count": 18,
     "metadata": {},
     "output_type": "execute_result"
    }
   ],
   "source": [
    "\n",
    "def fac(x):\n",
    "    \n",
    "    print(x)\n",
    "    if x == 0:\n",
    "        return 1\n",
    "    else:\n",
    "        return x * fac(x - 1)\n",
    "             # 5 * fac(4) -> 120\n",
    "            #  4 * fac(3) -> 24\n",
    "            #  3 * fac(2) -> 6\n",
    "            #  2 * fac(1) -> 2\n",
    "            #  1 * fac(0) -> 1\n",
    "\n",
    "fac(5)"
   ]
  },
  {
   "cell_type": "code",
   "execution_count": null,
   "id": "6926f9d0",
   "metadata": {},
   "outputs": [],
   "source": [
    "\n",
    "def fib(n):\n",
    "    \n",
    "    if n == 0:\n",
    "        return 0\n",
    "    else:\n",
    "        return fib(n-1) + fib(n-2)\n",
    "\n",
    "print(fib(3))"
   ]
  },
  {
   "cell_type": "code",
   "execution_count": null,
   "id": "4dc989e6",
   "metadata": {},
   "outputs": [],
   "source": []
  }
 ],
 "metadata": {
  "kernelspec": {
   "display_name": "Python 3 (ipykernel)",
   "language": "python",
   "name": "python3"
  },
  "language_info": {
   "codemirror_mode": {
    "name": "ipython",
    "version": 3
   },
   "file_extension": ".py",
   "mimetype": "text/x-python",
   "name": "python",
   "nbconvert_exporter": "python",
   "pygments_lexer": "ipython3",
   "version": "3.8.5"
  }
 },
 "nbformat": 4,
 "nbformat_minor": 5
}

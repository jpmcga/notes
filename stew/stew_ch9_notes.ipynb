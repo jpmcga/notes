{
 "cells": [
  {
   "cell_type": "markdown",
   "id": "84762888",
   "metadata": {},
   "source": [
    "# Chapter 9: The Binomial Distribution"
   ]
  },
  {
   "cell_type": "code",
   "execution_count": 4,
   "id": "6cc0a24f",
   "metadata": {},
   "outputs": [],
   "source": [
    "import math"
   ]
  },
  {
   "cell_type": "markdown",
   "id": "5106ef45",
   "metadata": {},
   "source": [
    "The formula:\n",
    "$$\n",
    "P(X = k) = \\binom nk p^k (1 - p)^{(n - k)}\n",
    "$$\n",
    "\n",
    "For cumulative (at least/at most), sum more or less than.\n",
    "\n",
    "For binomical to apply, there must be,\n",
    "- each trial can be a success or failure\n",
    "- a defined number of trials\n",
    "- independent trials\n",
    "- contant probablity of success/failure in each trial\n",
    "\n",
    "The '10% rule' states, if a sample is 10% or less than the total population, then you can assume approxamate independence.\n",
    "\n",
    "The Expected value of a binomial distribution has a value that an individual trial cannot take on.\n",
    "\n",
    "### Bernoulli distrbution\n",
    "\n",
    "Simplest case of binomical distribution.\n",
    "$$\n",
    "\\mu = (1 - p)*0 + p*1 = p\n",
    "$$\n",
    "\n",
    "$$\\sigma = (1-p)(0-p)^2 + p(1-p)^2 = $$\n",
    "\n",
    "$$(1-p)p^2 + p(1 - 2p + p^2) =$$\n",
    "\n",
    "$$p^2 - p^3 + p - 2p^2 + p^3 =$$\n",
    "\n",
    "$$ p - p^2 = p(1 - p)$$\n",
    "\n",
    "### Expectation and Variance of Binomial\n",
    "\n",
    "For a binomial random variable $X$, where $X$ is the number of success of $n$ trials with each trial having $P(success) = p$,\n",
    "$$\n",
    "E(X) = np\n",
    "$$\n",
    "\n",
    "#### Proof\n",
    "\n",
    "Given $E(X + Y) = E(X) + E(Y)$,\n",
    "$$\n",
    "E(X) = E(Y)_1 + E(Y)_2 +....E(Y)_n\n",
    "$$\n",
    "Because each $Y$ is a Bernoulli trial,\n",
    "$$\n",
    "E(Y) = 1*p - (1-p)*0 = p\n",
    "$$\n",
    "So\n",
    "$$\n",
    "E(X) = nE(Y) = np\n",
    "$$\n",
    "\n",
    "The variance of X is $\\sigma^2 = np(1-p)$.\n",
    "\n",
    "#### Proof\n",
    "Similar to Proof for Expectation,\n",
    "\n",
    "$$\n",
    "X = Y_1 + Y_2 + ... Y_n\n",
    "$$\n",
    "where each Y is a Bernoulli trial.\n",
    "\n",
    "Therefore,\n",
    "$$\n",
    "Var(X) = nVar(Y)\n",
    "$$\n",
    "\n",
    "For a Bernoulli trial,\n",
    "$$\n",
    "Var(Y) = p(1-p)\n",
    "$$\n",
    "\n",
    "so \n",
    "$$\n",
    "Var(X) = np(1-p)\n",
    "$$"
   ]
  },
  {
   "cell_type": "markdown",
   "id": "4a2c3fe5",
   "metadata": {},
   "source": [
    "## Exercises"
   ]
  },
  {
   "cell_type": "markdown",
   "id": "c014c2a2",
   "metadata": {},
   "source": [
    "**Exercise 1.** Suppose that 1000 meteorites hit the earch each yaer.  What is the probabillity that the town of \n",
    "Wethersfield, Connecticut will be struck by two meteorites in 11 years?"
   ]
  },
  {
   "cell_type": "code",
   "execution_count": 15,
   "id": "b0a52573",
   "metadata": {},
   "outputs": [
    {
     "data": {
      "text/plain": [
       "7e-08"
      ]
     },
     "execution_count": 15,
     "metadata": {},
     "output_type": "execute_result"
    }
   ],
   "source": [
    "wethersfield = 14 # square miles\n",
    "earth =  2e8 # sequare miles\n",
    "pr_hit = wethersfield / earth\n",
    "\n",
    "pr_hit"
   ]
  },
  {
   "cell_type": "markdown",
   "id": "f326d52b",
   "metadata": {},
   "source": [
    "$$\n",
    "Pr(X=k) = \\binom n k p^k (1 - p)^{n-k}\n",
    "$$"
   ]
  },
  {
   "cell_type": "code",
   "execution_count": 16,
   "id": "7a4bc9f8",
   "metadata": {},
   "outputs": [
    {
     "data": {
      "text/plain": [
       "2.961949335628091e-07"
      ]
     },
     "execution_count": 16,
     "metadata": {},
     "output_type": "execute_result"
    }
   ],
   "source": [
    "p_1 = pr_hit\n",
    "n_1 = 11 * 1000\n",
    "k_1 = 2\n",
    "\n",
    "binom_1 = math.factorial(n_1) / (math.factorial(k_1) * math.factorial(n_1 - k_1))\n",
    "\n",
    "binom_1 * pow(p_1, 2) * pow(1 - p_1, n_1 - k_1)"
   ]
  },
  {
   "cell_type": "code",
   "execution_count": null,
   "id": "432679d3",
   "metadata": {},
   "outputs": [],
   "source": []
  }
 ],
 "metadata": {
  "kernelspec": {
   "display_name": "Python 3 (ipykernel)",
   "language": "python",
   "name": "python3"
  },
  "language_info": {
   "codemirror_mode": {
    "name": "ipython",
    "version": 3
   },
   "file_extension": ".py",
   "mimetype": "text/x-python",
   "name": "python",
   "nbconvert_exporter": "python",
   "pygments_lexer": "ipython3",
   "version": "3.9.16"
  }
 },
 "nbformat": 4,
 "nbformat_minor": 5
}

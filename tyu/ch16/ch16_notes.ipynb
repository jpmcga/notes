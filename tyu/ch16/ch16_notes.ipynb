{
 "cells": [
  {
   "cell_type": "markdown",
   "id": "1579982d",
   "metadata": {},
   "source": [
    "# Sam's Teach Yourself Unix"
   ]
  },
  {
   "cell_type": "markdown",
   "id": "19154379",
   "metadata": {},
   "source": [
    "## Chapter 16: Job Control"
   ]
  },
  {
   "cell_type": "markdown",
   "id": "f83f334c",
   "metadata": {},
   "source": [
    "### foreground (fg) and background (bg)"
   ]
  },
  {
   "cell_type": "markdown",
   "id": "f131cc8e",
   "metadata": {},
   "source": [
    "- piped commands (ie ls | sort | more) contain a process/job for each part of the command\n",
    "- use ```^z``` to pause a job, then ```fg``` to start again; ```bg``` to start again but in background\n",
    "    - did this with this notebook, and ```man sort```\n",
    "    - jupyter continued printed to the screen; use ```stty tostop``` to stop output to screen\n",
    "- see jobs running in background with ```jobs```; this will show\n",
    "```\n",
    "[1] job1\n",
    "[2] job2\n",
    "```\n",
    "can then use ```kill %1``` to kill job1 \n",
    "- adding ```&``` to the end of a command will automatically run the program in the background"
   ]
  },
  {
   "cell_type": "markdown",
   "id": "8fb6d419",
   "metadata": {},
   "source": [
    "### ps"
   ]
  },
  {
   "cell_type": "markdown",
   "id": "f0a01b53",
   "metadata": {},
   "source": [
    "- processor status, has a ton of flags"
   ]
  },
  {
   "cell_type": "code",
   "execution_count": 10,
   "id": "d921d9b2",
   "metadata": {},
   "outputs": [
    {
     "name": "stdout",
     "output_type": "stream",
     "text": [
      "  UID   PID  PPID        F CPU PRI NI       SZ    RSS WCHAN     S             ADDR TTY           TIME CMD\r\n",
      "    0 11947 11939     4106   0  31  0 408789264    240 -      Ss                  0 ttys000    0:00.01 login -pfl james\r\n",
      "  502 11952 11947     4006   0  31  0 408825584   3296 -      S                   0 ttys000    0:00.72 -zsh\r\n",
      "  502 67249 11952    34086   0  31  0 35976940  27244 -      S+                  0 ttys000    0:04.62 /Users/jamesm/op\r\n",
      "    0 11949 11939     4106   0  31  0 408779024    240 -      Ss                  0 ttys001    0:00.01 login -pfl james\r\n",
      "  502 11951 11949     4006   0  31  0 408825568    416 -      S+                  0 ttys001    0:00.42 -zsh\r\n",
      "  502  8637 11956     4006   0  31  0 408694496    240 -      S                   0 ttys002    0:00.09 zsh\r\n",
      "  502  9630  8637     4006   0  31  0 408673728    240 -      S                   0 ttys002    0:00.04 zsh\r\n",
      "  502  9648  9630     4006   0  31  0 408694496   1056 -      S+                  0 ttys002    0:02.82 zsh\r\n",
      "    0 11953 11939     4106   0  31  0 408683792    240 -      Ss                  0 ttys002    0:00.02 login -pfl james\r\n",
      "  502 11956 11953     4006   0  31  0 408825568    240 -      S                   0 ttys002    0:00.28 -zsh\r\n",
      "    0 70220 67271    34106   0  31  0 34391372   2744 -      Rs+                 0 ttys003    0:00.02 ps -al\r\n",
      "    0 11976 11939     4106   0  31  0 408815888    240 -      Ss                  0 ttys004    0:00.01 login -pfl james\r\n",
      "  502 11991 11976     4006   0  31  0 408825296    320 -      S+                  0 ttys004    0:00.13 -zsh\r\n",
      "    0  5669 11939     4106   0  31  0 408647952    240 -      Ss                  0 ttys005    0:00.03 login -pfl james\r\n",
      "  502  5671  5669     4006   0  31  0 408825568    416 -      S+                  0 ttys005    0:00.80 -zsh\r\n",
      "    0 68480 11939     4106   0  31  0 408815888    240 -      Ss                  0 ttys007    0:00.02 login -pfl james\r\n",
      "  502 68484 68480     4006   0  31  0 408825568   1408 -      S+                  0 ttys007    0:00.22 -zsh\r\n"
     ]
    }
   ],
   "source": [
    "!ps -al # a for 'all'; l for long"
   ]
  },
  {
   "cell_type": "code",
   "execution_count": 21,
   "id": "f5e65847",
   "metadata": {},
   "outputs": [
    {
     "name": "stdout",
     "output_type": "stream",
     "text": [
      "  PID TTY           TIME CMD\r\n",
      "68480 ttys007    0:00.02 login -pfl jamesm /bin/bash -c exec -la zsh /bin/zsh\r\n",
      "68484 ttys007    0:00.22 -zsh\r\n"
     ]
    }
   ],
   "source": [
    "# can show for spceific login teminal\n",
    "!ps -t ttys007"
   ]
  },
  {
   "cell_type": "code",
   "execution_count": 23,
   "id": "617a4fd6",
   "metadata": {},
   "outputs": [
    {
     "name": "stdout",
     "output_type": "stream",
     "text": [
      "ps: option requires an argument -- u\r\n",
      "usage: ps [-AaCcEefhjlMmrSTvwXx] [-O fmt | -o fmt] [-G gid[,gid...]]\r\n",
      "          [-g grp[,grp...]] [-u [uid,uid...]]\r\n",
      "          [-p pid[,pid...]] [-t tty[,tty...]] [-U user[,user...]]\r\n",
      "       ps [-L]\r\n"
     ]
    }
   ],
   "source": [
    "!ps -u # some stuff doesn't work in zsh"
   ]
  },
  {
   "cell_type": "code",
   "execution_count": 36,
   "id": "f952703e",
   "metadata": {},
   "outputs": [
    {
     "name": "stdout",
     "output_type": "stream",
     "text": [
      "  PID TTY           TIME CMD\n",
      "  441 ??        13:24.75 /usr/sbin/distnoted agent\n",
      "  445 ??         9:30.04 /usr/libexec/UserEventAgent (Aqua)\n",
      "  451 ??         2:06.60 /usr/libexec/lsd\n",
      "  455 ??         4:27.14 /System/Library/CoreServices/lockoutagent\n",
      "  456 ??         3:02.88 /usr/libexec/nsurlsessiond\n",
      "  458 ??         4:13.26 /System/Library/PrivateFrameworks/CalendarAgent.framework/Executables/CalendarAgent\n",
      "  459 ??         5:58.83 /System/Library/CoreServices/ControlStrip.app/Contents/MacOS/ControlStrip\n",
      "  460 ??         0:40.27 /usr/sbin/usernoted\n",
      "  461 ??         0:50.31 /usr/libexec/rapportd\n",
      "  464 ??         7:46.38 /System/Library/CoreServices/WiFiAgent.app/Contents/MacOS/WiFiAgent\n",
      "  466 ??         0:10.02 /System/Library/PrivateFrameworks/CloudDocsDaemon.framework/Versions/A/Support/bird\n",
      "  468 ??        69:36.29 /System/Library/PrivateFrameworks/UniversalAccess.framework/Versions/A/Resources/AXVisualSupportAgent.app/Contents/MacOS/AXVisualSupportAgent launchd -s\n",
      "  471 ??         7:22.29 /System/Library/Frameworks/CoreServices.framework/Frameworks/Metadata.framework/Versions/A/Support/corespotlightd\n",
      "  473 ??         0:41.82 /System/Library/PrivateFrameworks/iTunesCloud.framework/Support/itunescloudd\n",
      "  477 ??         0:01.88 /System/Library/CoreServices/backgroundtaskmanagementagent\n",
      "  478 ??         0:10.49 /usr/libexec/pboard\n",
      "  485 ??         0:10.82 /System/Library/CoreServices/sharedfilelistd\n",
      "  487 ??         6:31.89 /System/Library/Frameworks/ApplicationServices.framework/Frameworks/ATS.framework/Support/fontd\n",
      "  490 ??         0:49.54 /System/Library/PrivateFrameworks/TelephonyUtilities.framework/callservicesd\n",
      "     199\n"
     ]
    }
   ],
   "source": [
    "# all processes in the system\n",
    "!ps -x | head -20\n",
    "!ps -x | wc -l"
   ]
  },
  {
   "cell_type": "code",
   "execution_count": 33,
   "id": "14ac4710",
   "metadata": {},
   "outputs": [
    {
     "name": "stdout",
     "output_type": "stream",
     "text": [
      "  PID TTY           TIME CMD\r\n",
      "11952 ttys000    0:00.72 -zsh\r\n",
      "67249 ttys000    0:05.18 /Users/jamesm/opt/anaconda3/bin/python /Users/jamesm/o\r\n",
      "11951 ttys001    0:00.42 -zsh\r\n",
      " 8637 ttys002    0:00.09 zsh\r\n",
      " 9630 ttys002    0:00.04 zsh\r\n",
      " 9648 ttys002    0:02.82 zsh\r\n",
      "11956 ttys002    0:00.28 -zsh\r\n",
      "11991 ttys004    0:00.13 -zsh\r\n",
      " 5671 ttys005    0:00.80 -zsh\r\n",
      "68484 ttys007    0:00.22 -zsh\r\n"
     ]
    }
   ],
   "source": [
    "!ps"
   ]
  },
  {
   "cell_type": "markdown",
   "id": "076a1d27",
   "metadata": {},
   "source": [
    "- TIME = CPU processing time so far\n",
    "- Shell processes shown with a leading dash"
   ]
  },
  {
   "cell_type": "code",
   "execution_count": 45,
   "id": "67d517fd",
   "metadata": {},
   "outputs": [
    {
     "name": "stdout",
     "output_type": "stream",
     "text": [
      "  UID   PID  PPID        F CPU PRI NI       SZ    RSS WCHAN     S             ADDR TTY           TIME CMD\r\n",
      "  502 11952 11947     4006   0  31  0 408825584   1376 -      S                   0 ttys000    0:00.72 -zsh\r\n",
      "  502 67249 11952    34086   0  31  0 35976940  24520 -      S+                  0 ttys000    0:05.62 /Users/jamesm/op\r\n",
      "  502 11951 11949     4006   0  31  0 408825568    416 -      S+                  0 ttys001    0:00.42 -zsh\r\n",
      "  502  8637 11956     4006   0  31  0 408694496    240 -      S                   0 ttys002    0:00.09 zsh\r\n",
      "  502  9630  8637     4006   0  31  0 408673728    240 -      S                   0 ttys002    0:00.04 zsh\r\n",
      "  502  9648  9630     4006   0  31  0 408694496   1056 -      S+                  0 ttys002    0:02.82 zsh\r\n",
      "  502 11956 11953     4006   0  31  0 408825568    240 -      S                   0 ttys002    0:00.28 -zsh\r\n",
      "  502 11991 11976     4006   0  31  0 408825296    320 -      S+                  0 ttys004    0:00.13 -zsh\r\n",
      "  502  5671  5669     4006   0  31  0 408825568    416 -      S+                  0 ttys005    0:00.80 -zsh\r\n",
      "  502 68484 68480     4006   0  31  0 408825568   1408 -      S+                  0 ttys007    0:00.22 -zsh\r\n"
     ]
    }
   ],
   "source": [
    "!ps -l"
   ]
  },
  {
   "cell_type": "markdown",
   "id": "64f1b4d2",
   "metadata": {},
   "source": [
    "- ppid = parent process ID\n",
    "- f = process flags in hexadex\n",
    "- CPU = amount CPU used\n",
    "- PRI = scheduling priority\n",
    "- NI = nice values\n",
    "- RSS = resident set size\n",
    "- wchan = wait channel (as a symbolic name)\n",
    "- S =\n",
    "- TTY = full control terminal name\n"
   ]
  },
  {
   "cell_type": "markdown",
   "id": "e751dd6e",
   "metadata": {},
   "source": [
    "### kill"
   ]
  },
  {
   "cell_type": "markdown",
   "id": "a82abd5d",
   "metadata": {},
   "source": [
    "Various signals can be passed to kill\n",
    "- SIGHUP(1) : Hangup, same as when logout\n",
    "- SIGINT(2) : same as ^c\n",
    "- SIGKILL(9) : kill immedidiatly w.o cleanup (last resort)\n",
    "- SIGTERM(15) : kill immediately by with cleanup\n",
    "\n",
    "i.e ```kill -HUP %3``` or ```kill -2 %3```\n",
    "- can't kill jobs that arn't yours"
   ]
  },
  {
   "cell_type": "code",
   "execution_count": null,
   "id": "86d1722f",
   "metadata": {},
   "outputs": [],
   "source": []
  }
 ],
 "metadata": {
  "kernelspec": {
   "display_name": "Python 3 (ipykernel)",
   "language": "python",
   "name": "python3"
  },
  "language_info": {
   "codemirror_mode": {
    "name": "ipython",
    "version": 3
   },
   "file_extension": ".py",
   "mimetype": "text/x-python",
   "name": "python",
   "nbconvert_exporter": "python",
   "pygments_lexer": "ipython3",
   "version": "3.8.16"
  }
 },
 "nbformat": 4,
 "nbformat_minor": 5
}

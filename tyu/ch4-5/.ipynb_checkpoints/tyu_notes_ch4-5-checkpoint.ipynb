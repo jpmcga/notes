{
 "cells": [
  {
   "cell_type": "markdown",
   "id": "1901abf1",
   "metadata": {},
   "source": [
    "# Sam's Teach Yourself Unix"
   ]
  },
  {
   "cell_type": "markdown",
   "id": "e7188124",
   "metadata": {},
   "source": [
    "## Hour 4: Listing Files Managing Disk Space"
   ]
  },
  {
   "cell_type": "markdown",
   "id": "a7548f18",
   "metadata": {},
   "source": [
    "### Many ls flags:"
   ]
  },
  {
   "cell_type": "code",
   "execution_count": null,
   "id": "76668108",
   "metadata": {},
   "outputs": [],
   "source": [
    "# -s for file size in blocks\n",
    "! ls -s ~"
   ]
  },
  {
   "cell_type": "code",
   "execution_count": null,
   "id": "4fb7b19c",
   "metadata": {},
   "outputs": [],
   "source": [
    "# -F for type suffix; @=symbolic link, /=dir *exe\n",
    "! ls -sF /bin"
   ]
  },
  {
   "cell_type": "code",
   "execution_count": null,
   "id": "59dbd9ad",
   "metadata": {},
   "outputs": [],
   "source": [
    "# -m for comma seperated list, -1 for single column\n",
    "! ls -sF1 /bin \n",
    "! ls -sFm /bin "
   ]
  },
  {
   "cell_type": "code",
   "execution_count": null,
   "id": "45c6cb76",
   "metadata": {},
   "outputs": [],
   "source": [
    "# Can list two directories\n",
    "!ls -Fam / /usr/"
   ]
  },
  {
   "cell_type": "code",
   "execution_count": null,
   "id": "a5a80eca",
   "metadata": {},
   "outputs": [],
   "source": [
    "# -d for dir info; for dirs, second column denotes # objects in dir\n",
    "!ls -adl /bin /usr"
   ]
  },
  {
   "cell_type": "code",
   "execution_count": null,
   "id": "23fee3eb",
   "metadata": {},
   "outputs": [],
   "source": [
    "# -x lists row major, -r reverses the sort, t sorts by last accessed\n",
    "!ls -xrt /"
   ]
  },
  {
   "cell_type": "code",
   "execution_count": null,
   "id": "f7885299",
   "metadata": {},
   "outputs": [],
   "source": [
    "# -R lists recursive but be carefile\n",
    "!ls -taRrF /Users/jamesm/jpmcga/rosalind"
   ]
  },
  {
   "cell_type": "code",
   "execution_count": null,
   "id": "3bd77d28",
   "metadata": {},
   "outputs": [],
   "source": [
    "# Dir need to be at least 500 to be useable\n",
    "!ls -Fl /"
   ]
  },
  {
   "cell_type": "code",
   "execution_count": null,
   "id": "acb06a2b",
   "metadata": {},
   "outputs": [],
   "source": [
    "# touch can be used to update the accessed data of. a file\n",
    "! touch /Users/jamesm/jpmcga/rosalind/stronghold/Error\\ Correction\\ in\\ Reads.ipynb\n",
    "! ls -t /Users/jamesm/jpmcga/rosalind/stronghold/"
   ]
  },
  {
   "cell_type": "markdown",
   "id": "1201c26d",
   "metadata": {},
   "source": [
    "### Disk usage"
   ]
  },
  {
   "cell_type": "code",
   "execution_count": null,
   "id": "29c44382",
   "metadata": {},
   "outputs": [],
   "source": [
    "# use du be careful its recursive; displays in kilobytes\n",
    "! du .."
   ]
  },
  {
   "cell_type": "code",
   "execution_count": null,
   "id": "708fb641",
   "metadata": {},
   "outputs": [],
   "source": [
    "# -s for summary\n",
    "! du -s .."
   ]
  },
  {
   "cell_type": "code",
   "execution_count": null,
   "id": "f64b90d2",
   "metadata": {},
   "outputs": [],
   "source": [
    "# ! du / # dont do this"
   ]
  },
  {
   "cell_type": "code",
   "execution_count": null,
   "id": "2604d9d7",
   "metadata": {},
   "outputs": [],
   "source": [
    "# -a shows size of files\n",
    "! du -a  .."
   ]
  },
  {
   "cell_type": "markdown",
   "id": "925e01a5",
   "metadata": {},
   "source": [
    "### Display free disk space"
   ]
  },
  {
   "cell_type": "code",
   "execution_count": null,
   "id": "95a1e876",
   "metadata": {},
   "outputs": [],
   "source": [
    "! df"
   ]
  },
  {
   "cell_type": "markdown",
   "id": "03b75ad5",
   "metadata": {},
   "source": [
    "### Compressing files"
   ]
  },
  {
   "cell_type": "code",
   "execution_count": null,
   "id": "9a8ffa3c",
   "metadata": {},
   "outputs": [],
   "source": [
    "! ls -l test_uniq.txt"
   ]
  },
  {
   "cell_type": "code",
   "execution_count": null,
   "id": "ee66366f",
   "metadata": {},
   "outputs": [],
   "source": [
    "! compress test_uniq.txt"
   ]
  },
  {
   "cell_type": "code",
   "execution_count": null,
   "id": "872b2acb",
   "metadata": {},
   "outputs": [],
   "source": [
    "# Huh doesnt seem to work.  Inverse is uncompress\n",
    "! ls -l test_uniq.txt"
   ]
  },
  {
   "cell_type": "code",
   "execution_count": null,
   "id": "d8c08d21",
   "metadata": {},
   "outputs": [],
   "source": [
    "# uncompress should free up ~%60\n",
    "! uncompress --yes test_uniq.txt"
   ]
  },
  {
   "cell_type": "code",
   "execution_count": null,
   "id": "19c7457c",
   "metadata": {},
   "outputs": [],
   "source": [
    "# random: bc used to do arithmatic\n",
    "! echo 1-2 | bc"
   ]
  },
  {
   "cell_type": "markdown",
   "id": "3ecebbe7",
   "metadata": {},
   "source": [
    "## Hour 5: Ownership and Permissions"
   ]
  },
  {
   "attachments": {},
   "cell_type": "markdown",
   "id": "e9a947ef",
   "metadata": {},
   "source": [
    "### 5.1 File permissions\n",
    "- owner | group | everyone\n",
    "- rwe | rwe | rwe\n",
    "\n",
    "\n",
    "\n",
    "<div align=\"center\"> Fig 1. This is how to add images notebook"
   ]
  },
  {
   "cell_type": "code",
   "execution_count": null,
   "id": "9c06b4d2",
   "metadata": {},
   "outputs": [],
   "source": [
    "!ls -l /etc/"
   ]
  },
  {
   "cell_type": "code",
   "execution_count": null,
   "id": "e1fdb6d8",
   "metadata": {},
   "outputs": [],
   "source": [
    "# Add any file with executable permissions to env PATH and it 'executes'\n",
    "!pwd\n",
    "!echo $PATH\n",
    "!export PATH=$PATH:. # Add pwd to path "
   ]
  },
  {
   "cell_type": "code",
   "execution_count": null,
   "id": "de402d44",
   "metadata": {},
   "outputs": [],
   "source": [
    "!touch /Users/jamesm/.cargo/bin/say.hi"
   ]
  },
  {
   "cell_type": "code",
   "execution_count": null,
   "id": "b4c6a1a9",
   "metadata": {},
   "outputs": [],
   "source": [
    "!ls -l /Users/jamesm/.cargo/bin/say.hi\n",
    "!chmod u+x /Users/jamesm/.cargo/bin/say.hi\n",
    "!ls -l /Users/jamesm/.cargo/bin/say.hi\n",
    "!/Users/jamesm/.cargo/bin/say.hi # It worked!"
   ]
  },
  {
   "cell_type": "markdown",
   "id": "143f4428",
   "metadata": {},
   "source": [
    "- Shell scripts require read and write permissions\n",
    "\n",
    "| Permission      | Meaning |\n",
    "| :-----| :---------- |\n",
    "| ---   | no access   |\n",
    "| r--   | read only   |\n",
    "| r-x   | read and exe, for programs and shell         |\n",
    "| rw-   | read and write for files        |\n",
    "| rwx   | full access           |\n"
   ]
  },
  {
   "cell_type": "markdown",
   "id": "8f6a4ede",
   "metadata": {},
   "source": [
    "### 5.2 Directory permissions"
   ]
  },
  {
   "cell_type": "markdown",
   "id": "798e5eae",
   "metadata": {},
   "source": [
    "- directories need r-x to view contents\n",
    "- w to add and remove files\n",
    "- -w- equivelent to no permission"
   ]
  },
  {
   "cell_type": "code",
   "execution_count": null,
   "id": "05eb6210",
   "metadata": {},
   "outputs": [],
   "source": [
    "!mkdir test_dir; touch test_dir/test"
   ]
  },
  {
   "cell_type": "code",
   "execution_count": null,
   "id": "cdb82f59",
   "metadata": {},
   "outputs": [],
   "source": [
    "!ls -ld test_dir/ # Default dir permissions 755\n",
    "!ls -l test_dir/ # Default file permissions 644"
   ]
  },
  {
   "cell_type": "code",
   "execution_count": null,
   "id": "bf4315d6",
   "metadata": {},
   "outputs": [],
   "source": [
    "!chmod -x test_dir/ \n",
    "!ls test_dir/\n",
    "!chmod 355 test_dir/ # -wx\n",
    "!ls test_dir/\n",
    "!chmod 755 test_dir/\n",
    "!ls test_dir/"
   ]
  },
  {
   "cell_type": "markdown",
   "id": "4a76d310",
   "metadata": {},
   "source": [
    "### 5.3 Modifying permissions\n",
    "\n",
    "<div align=\"center\"> symbolic values\n",
    "    \n",
    "| pick many | pick one | pick many |\n",
    "| :-------: | :------: | :-------: |\n",
    "| u         | +        | r         | \n",
    "| g         | -        | w         |\n",
    "| o         | =        | x         |\n",
    "| a         |          |           |"
   ]
  },
  {
   "cell_type": "code",
   "execution_count": null,
   "id": "d31d1d94",
   "metadata": {},
   "outputs": [],
   "source": [
    "!chmod go=wx test_dir/test\n",
    "!ls -l test_dir/"
   ]
  },
  {
   "cell_type": "markdown",
   "id": "50c0658b",
   "metadata": {},
   "source": [
    "### 5.6 Default permissions with umask"
   ]
  },
  {
   "cell_type": "markdown",
   "id": "f0b0b227",
   "metadata": {},
   "source": [
    "- umask stands for _file creation mask_\n",
    "- drops leading 0\n",
    "- computed as reverse of file permission with xor\n",
    "- for files, assumes no x permission\n",
    "- when setting umask, best to include x permissions"
   ]
  },
  {
   "cell_type": "code",
   "execution_count": null,
   "id": "b0f13102",
   "metadata": {},
   "outputs": [],
   "source": [
    "! umask"
   ]
  },
  {
   "cell_type": "markdown",
   "id": "11da5c03",
   "metadata": {},
   "source": [
    "022 = `000010010`\n",
    "xor operation with mask 777 <br>\n",
    "`000010010` <br>\n",
    "`111111111` <br>\n",
    "`111101101` = rwxr-xr-x = 755"
   ]
  },
  {
   "cell_type": "code",
   "execution_count": null,
   "id": "1ef9ee6e",
   "metadata": {},
   "outputs": [],
   "source": [
    "!touch ch5_test_dir/utest.txt\n",
    "!ls -l ch5_test_dir/utest.txt"
   ]
  },
  {
   "cell_type": "code",
   "execution_count": null,
   "id": "4df6b954",
   "metadata": {},
   "outputs": [],
   "source": [
    "!umask 046 # g+w,-x, o-r"
   ]
  },
  {
   "cell_type": "code",
   "execution_count": null,
   "id": "67e63ad3",
   "metadata": {},
   "outputs": [],
   "source": [
    "!touch ch5_test_dir/utest2.txt\n",
    "!ls -l ch5_test_dir/utest2.txt # looks like umask needs to be run as root"
   ]
  },
  {
   "cell_type": "markdown",
   "id": "c7865c6f",
   "metadata": {},
   "source": [
    "### 5.7 Identifying owner and group of files/dirs\n",
    "- dirs in home owned by you except '..'\n",
    "- ls -g shows groups; displayed by default in this shell."
   ]
  },
  {
   "cell_type": "code",
   "execution_count": null,
   "id": "d6123210",
   "metadata": {},
   "outputs": [],
   "source": [
    "!id"
   ]
  },
  {
   "cell_type": "code",
   "execution_count": null,
   "id": "82558c29",
   "metadata": {},
   "outputs": [],
   "source": [
    "! ls -lg # removes owner column"
   ]
  },
  {
   "cell_type": "code",
   "execution_count": null,
   "id": "03ed05f4",
   "metadata": {},
   "outputs": [],
   "source": [
    "! ls -g /tmp/ # all owned by wheel\n",
    "'''\n",
    "The wheel group is a special user group used on some Unix systems,\n",
    "mostly BSD systems, to control access to the su or sudo command,\n",
    "which allows a user to masquerade as another user (usually the super user).\n",
    "'''"
   ]
  },
  {
   "cell_type": "code",
   "execution_count": null,
   "id": "1f513ece",
   "metadata": {},
   "outputs": [],
   "source": []
  }
 ],
 "metadata": {
  "kernelspec": {
   "display_name": "Python 3 (ipykernel)",
   "language": "python",
   "name": "python3"
  },
  "language_info": {
   "codemirror_mode": {
    "name": "ipython",
    "version": 3
   },
   "file_extension": ".py",
   "mimetype": "text/x-python",
   "name": "python",
   "nbconvert_exporter": "python",
   "pygments_lexer": "ipython3",
   "version": "3.8.16"
  }
 },
 "nbformat": 4,
 "nbformat_minor": 5
}

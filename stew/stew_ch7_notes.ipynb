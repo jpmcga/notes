{
 "cells": [
  {
   "cell_type": "markdown",
   "id": "1633622f",
   "metadata": {},
   "source": [
    "# Chapter 7: Conditional Probability"
   ]
  },
  {
   "cell_type": "code",
   "execution_count": 36,
   "id": "3cf11285",
   "metadata": {},
   "outputs": [],
   "source": [
    "from scipy.special import binom"
   ]
  },
  {
   "cell_type": "markdown",
   "id": "68c62070",
   "metadata": {},
   "source": [
    "Example:  Probability of drawing a royal flush if you've already drawn a ace and king of hearts? There are $\\binom {50}{3}$ ways to draw the remaing three cards, one of which will complete the flush; so, the probablity has improved from $\\frac {4}{2598960}$ to $\\frac {1}{19600}$\n",
    "\n",
    "Conditional Probability written as:\n",
    "\n",
    "$$\n",
    "Pr(A | B)\n",
    "$$\n",
    "and read 'A given that B occured'."
   ]
  },
  {
   "cell_type": "markdown",
   "id": "8acb6f1e",
   "metadata": {},
   "source": [
    "When calculating conditional probabilities, you need only to consider outcomes that are in _B_; ie. How many of the remaining possibilities also have envent _A_ occuring?  The number of possible outcomes for both A and B is given as $A \\cap B$ (_A_ intersect _B_).  The probability of A given B can be calculated as:\n",
    "\n",
    "$$\n",
    "Pr(A|B) = \\frac {N(A \\cap B)}{N(B)} = \\frac {N(A \\cap B)/s}{N(B)/s} = \\frac {Pr(A \\cap B)}{Pr(B)} \n",
    "$$"
   ]
  },
  {
   "cell_type": "markdown",
   "id": "428558a7",
   "metadata": {},
   "source": [
    "A special situation occurs if _A_ is a subset of _B_.  For example is event _A_ is 'roll a 1' and event B is 'roll an odd'.  The $A \\cap B = A$ so $Pr(A|B) = \\frac {Pr(A)}{Pr(B)}$.  If _A_ is a subset of _B_, then:\n",
    "\n",
    "$$\n",
    "Pr(A|B) = \\frac {Pr(A)}{Pr(B)}\n",
    "$$"
   ]
  },
  {
   "cell_type": "markdown",
   "id": "67845c7a",
   "metadata": {},
   "source": [
    "Two events are independent if the probability of B occuring does not affect the probability that A will occcur.  Formally:\n",
    "\n",
    "$$\n",
    "Pr(A|B) = Pr(A)\n",
    "$$\n",
    "\n",
    "Interestingly, for independent events _A_ and _B_:\n",
    "\n",
    "$$\n",
    "Pr(A|B) = \\frac {Pr(A \\cap B)}{Pr(B)} = Pr(A)\n",
    "$$\n",
    "and\n",
    "$$\n",
    "Pr(A \\cap B) = Pr(A)Pr(B)\n",
    "$$"
   ]
  },
  {
   "cell_type": "markdown",
   "id": "f7694704",
   "metadata": {},
   "source": [
    "To solve for $Pr(B|A)$ given $Pr(A|B)$ use Bayes's Rule:\n",
    "\n",
    "$$\n",
    "Pr(B|A) = \\frac {Pr(A|B)(Pr(B)}{Pr(A|B)(Pr(B) + Pr(A|B^c)Pr(B^c)}\n",
    "$$"
   ]
  },
  {
   "cell_type": "markdown",
   "id": "c1aec5d4",
   "metadata": {},
   "source": [
    "## Exercises"
   ]
  },
  {
   "cell_type": "markdown",
   "id": "8d605c87",
   "metadata": {},
   "source": [
    "**Exercise 1**. Suppose you have two nickels in your pocket. You know that one is fair and one is to-headed.  If you take one out, toss it, and get a head, what is the probability that it was the fair coin?"
   ]
  },
  {
   "cell_type": "markdown",
   "id": "39d3bced",
   "metadata": {},
   "source": [
    "$$\n",
    "Pr(B|A) = \\frac {Pr(A|B)Pr(B)}{Pr(A|B)Pr(B) + Pr(A|B^c)Pr(B^c)}\n",
    "$$\n",
    "\n",
    "- $Pr(A|B) = 1/2$, Pr(head), given that it was a fair coin\n",
    "- $Pr(B) = 1/2$, probability that a fair coin is selected\n",
    "- $Pr(B^c) = 1/2$, probability that a unfair coin is selected\n",
    "- $Pr(A|B^c) = 1$, Pr(head), given an unfair coin was selected"
   ]
  },
  {
   "cell_type": "code",
   "execution_count": 6,
   "id": "2113425f",
   "metadata": {},
   "outputs": [
    {
     "name": "stdout",
     "output_type": "stream",
     "text": [
      "0.333\n"
     ]
    }
   ],
   "source": [
    "print(round((0.5 * 0.5) / ((0.5 * 0.5) + (1 * 0.5)), 3)) # 1/3"
   ]
  },
  {
   "cell_type": "markdown",
   "id": "c1b0d3ee",
   "metadata": {},
   "source": [
    "**Exercise 2**. In blackjack, if you get a 4 and a 9, and those are the only cards dealt, what is the probability that if you take another card, you wont go over 21?"
   ]
  },
  {
   "cell_type": "code",
   "execution_count": 10,
   "id": "5726e7ce",
   "metadata": {},
   "outputs": [
    {
     "name": "stdout",
     "output_type": "stream",
     "text": [
      "0.62\n"
     ]
    }
   ],
   "source": [
    "good_c = [1, 2, 3, 4, 5, 6 , 7, 8]\n",
    "counts = [4, 4, 4, 3, 4, 4,  4, 4]\n",
    "remaining = 50\n",
    "\n",
    "res = sum(counts) / remaining # 31/50\n",
    "print(res)"
   ]
  },
  {
   "cell_type": "markdown",
   "id": "498a5265",
   "metadata": {},
   "source": [
    "**Exercise 3**. In some version of blackjack, one of the two cards dealth each player is turned up. Suppose you can see that your fellow players have been dealth two aces, a 5, and a king.  You again have a 4 and a 9.  Should you draw another card?"
   ]
  },
  {
   "cell_type": "code",
   "execution_count": 16,
   "id": "e3e367ac",
   "metadata": {},
   "outputs": [
    {
     "name": "stdout",
     "output_type": "stream",
     "text": [
      "28 over 46\n"
     ]
    }
   ],
   "source": [
    "good_c = [1, 2, 3, 4, 5, 6 , 7, 8]\n",
    "counts = [2, 4, 4, 3, 3, 4,  4, 4]\n",
    "your_cards = 2\n",
    "# other_cards = 4 * 2 # wrong, only other cards that you know matter\n",
    "other_cards = 4\n",
    "remaing = 52 - (your_cards + other_cards) # 42\n",
    "\n",
    "print(sum(counts), \"over\", remaing)"
   ]
  },
  {
   "cell_type": "markdown",
   "id": "5e5dd7f2",
   "metadata": {},
   "source": [
    "**Exercise 4**. \n",
    "- What is the probability that you will get a royal flush in your next four cards if your first card is the ace of hearts? \n",
    "- What is the probability if the next two cards you draw are the king of hearts and queen of hearts?\n",
    "- What is the probability if the fourth card you draw is the jack of hearts?"
   ]
  },
  {
   "cell_type": "markdown",
   "id": "e334c914",
   "metadata": {},
   "source": [
    "$$\n",
    "Pr(A) = \\frac {N(A)}{s}\n",
    "$$"
   ]
  },
  {
   "cell_type": "code",
   "execution_count": 27,
   "id": "9b31905c",
   "metadata": {},
   "outputs": [],
   "source": [
    "# 4.1\n",
    "N_A = 1\n",
    "s = binom(51, 4)\n",
    "\n",
    "assert N_A / s == 1 / 249900 # Book answer"
   ]
  },
  {
   "cell_type": "code",
   "execution_count": 28,
   "id": "16cd5288",
   "metadata": {},
   "outputs": [],
   "source": [
    "# 4.2\n",
    "N_A = 1\n",
    "s = binom(49, 2)\n",
    "\n",
    "assert N_A / s == 1 / 1176 # Book answer"
   ]
  },
  {
   "cell_type": "code",
   "execution_count": 30,
   "id": "6c3d94c2",
   "metadata": {},
   "outputs": [],
   "source": [
    "# 4.3\n",
    "N_A = 1\n",
    "s = binom(48, 1)\n",
    "\n",
    "assert N_A / s == 1 / 48 # Book answer"
   ]
  },
  {
   "cell_type": "markdown",
   "id": "67423812",
   "metadata": {},
   "source": [
    "**Exercise 5**. What is the probability that you will draw a straight if you have already drawn a 2 and a 3?"
   ]
  },
  {
   "cell_type": "markdown",
   "id": "c8c9f69e",
   "metadata": {},
   "source": [
    "$$\n",
    "Pr(A|B) = \\frac {Pr(A \\cap B)}{Pr(B)}\n",
    "$$"
   ]
  },
  {
   "cell_type": "code",
   "execution_count": 33,
   "id": "000f1e10",
   "metadata": {},
   "outputs": [
    {
     "data": {
      "text/plain": [
       "2.00237080703553e-07"
      ]
     },
     "execution_count": 33,
     "metadata": {},
     "output_type": "execute_result"
    }
   ],
   "source": [
    "Pr_AnB = 10200 / 2598960\n",
    "Pr_B = binom(50, 3)\n",
    "\n",
    "Pr_AnB / Pr_B # wrong, need to solve for this specific straight"
   ]
  },
  {
   "cell_type": "code",
   "execution_count": 35,
   "id": "e21ff92a",
   "metadata": {},
   "outputs": [],
   "source": [
    "straights = 2 # {A 2 3 4 5} {2 3 4 5 6}\n",
    "possibles = binom(50, 3)\n",
    "correct = 4 * 4 * 4 # ie 4 possible on 3rd, 4th, 5th selections\n",
    "\n",
    "solution = straights * (correct / possibles)\n",
    "assert solution == 8 / 1225"
   ]
  },
  {
   "cell_type": "markdown",
   "id": "c09801a4",
   "metadata": {},
   "source": [
    "**Exercise 6**. Suppose the probability _p_ that your team will beat its opponent in any particular World Series game. What is the probability that your team will win the World Series?  (The teams in teh World Series keep playing until one of the teams has won four games)."
   ]
  },
  {
   "cell_type": "markdown",
   "id": "31013508",
   "metadata": {},
   "source": [
    "- There is a max of 7 games, so the probability of your team winning is $Pr(4/4\\cup4/5\\cup4/6\\cup4/7)$; because the probabilities are disjoint (ie. you can't win 4/5 and 4/6):\n",
    "\n",
    "$$\n",
    "Pr(4/4\\cup4/5\\cup4/6\\cup4/7) = Pr(4/4) + Pr(4/5) + Pr(4/6) + Pr(4/7)\n",
    "$$\n",
    "- $Pr(4/4) = p^4$\n",
    "- $Pr(4/5) = p^4(p-1)\\binom{4}{1}$\n",
    "- $Pr(4/6) = p^4(p-1)^2\\binom{5}{2}$\n",
    "- $Pr(4/7) = p^4(p-1)^3\\binom{6}{3}$\n",
    "\n",
    "$$\n",
    "Pr(4/4\\cup4/5\\cup4/6\\cup4/7) = p^4 + p^4(p-1)\\binom{4}{1} + p^4(p-1)^2\\binom{5}{2} + p^4(p-1)^3\\binom{6}{3}\n",
    "$$"
   ]
  },
  {
   "cell_type": "markdown",
   "id": "95030727",
   "metadata": {},
   "source": [
    "**Exercise 7**. If you filp a fair coin twice, and know that at least one head came up, what is the probability of there being two heads?"
   ]
  },
  {
   "cell_type": "markdown",
   "id": "0c174a62",
   "metadata": {},
   "source": [
    "$$\n",
    "Pr(A|B) = \\frac {Pr(A \\cap B)}{Pr(B)}\n",
    "$$"
   ]
  },
  {
   "cell_type": "code",
   "execution_count": 37,
   "id": "08efe5e6",
   "metadata": {},
   "outputs": [
    {
     "name": "stdout",
     "output_type": "stream",
     "text": [
      "Answer = 1/2\n"
     ]
    }
   ],
   "source": [
    "Pr_B = 1/2\n",
    "Pr_AnB = 1/4\n",
    "print(\"Answer = 1/2\") # wrong!"
   ]
  },
  {
   "cell_type": "markdown",
   "id": "d747d10a",
   "metadata": {},
   "source": [
    "$$\n",
    "Pr(B|A) = \\frac {Pr(B \\cap A)}{Pr(A)}\n",
    "$$\n",
    "where A is the probability of getting one head and B is the probability of getting two heads.  Remember, the samples space is {HH, HT, TH, TT}."
   ]
  },
  {
   "cell_type": "code",
   "execution_count": null,
   "id": "74a94a5f",
   "metadata": {},
   "outputs": [],
   "source": [
    "Pr_A = 3/4\n",
    "Pr_BnA = 1/4\n",
    "answer = 1/3 # 1/4 * 4/3 = 1/3"
   ]
  },
  {
   "cell_type": "markdown",
   "id": "a61391f8",
   "metadata": {},
   "source": [
    "**Exercise 8**. Suppose you remove all the diamonds from a 52-card deck, put the ace of diamonds back in, shuffle the remaining 40 cards, and pick a card at random.  Given that the card you pick is an ace, what is the probability that is is the ace of diamonds?"
   ]
  },
  {
   "cell_type": "markdown",
   "id": "deea7848",
   "metadata": {},
   "source": [
    "$$\n",
    "Pr(A|B) = \\frac {Pr(A \\cap B)}{Pr(B)}\n",
    "$$\n",
    "where event _B_ is probability of an ace and event _A_ is probability of the ace of dimonds"
   ]
  },
  {
   "cell_type": "code",
   "execution_count": 39,
   "id": "95882890",
   "metadata": {},
   "outputs": [
    {
     "data": {
      "text/plain": [
       "39.0"
      ]
     },
     "execution_count": 39,
     "metadata": {},
     "output_type": "execute_result"
    }
   ],
   "source": [
    "Pr_B = 4 / 40\n",
    "Pr_AnB = 1 / 4 # wrong, this is the probability that youll get the ace of dimonds out of 4 diamonds"
   ]
  },
  {
   "cell_type": "markdown",
   "id": "ca6caa8e",
   "metadata": {},
   "source": [
    "- $Pr(B) = 4/40$\n",
    "- $Pr(A \\cap B) = 1/40$ \n",
    "\n",
    "$$\n",
    "Pr(A|B) = \\frac{1/40}{4/40}  = 10/40 = 1/4\n",
    "$$"
   ]
  },
  {
   "cell_type": "markdown",
   "id": "d14ac4ad",
   "metadata": {},
   "source": [
    "**Exercise 9**. Suppose you roll two dice and pick a card at random from a 52 card deck. Suppose further that the number rolled on the dice is the same as the number of the card.  What is the probability that the number is 6?"
   ]
  },
  {
   "cell_type": "markdown",
   "id": "8ea96582",
   "metadata": {},
   "source": [
    "$$\n",
    "Pr(B|A) = \\frac {Pr(A|B)Pr(B)}{Pr(A|B)Pr(B) + Pr(A|B^c)Pr(B^c)}\n",
    "$$"
   ]
  },
  {
   "cell_type": "markdown",
   "id": "aa86044b",
   "metadata": {},
   "source": [
    "###### For disjoint events _A_ and _B_,\n",
    "\n",
    "$$\n",
    "Pr(A \\cap B) = Pr(A)Pr(B)\n",
    "$$\n",
    "\n",
    "- Probability die match: 1/36\n",
    "- Probability good cards: 4 (suits) * 6 (overlap w die, w Ace=1) = 24/52\n",
    "- possible matches: 6 {1,2,3,4,5,6}\n",
    "\n",
    "total probability\n",
    "$$\n",
    "Pr(AnyMatch) = \\frac{1}{36} \\frac{24}{52} = \\frac{24}{1872} = \\frac{1}{78}\n",
    "$$\n",
    "\n",
    "$$\n",
    "Pr(Match6) = \\frac{1}{78} * \\frac{1}{6} = \\frac{1}{468}\n",
    "$$\n",
    "\n",
    "This is probably wrong but there is no book answer..."
   ]
  },
  {
   "cell_type": "markdown",
   "id": "cba69468",
   "metadata": {},
   "source": [
    "**Exercise 10**. What is the probability that you win a lottery with a three-digit number, given that you have two digits of the winning number?"
   ]
  },
  {
   "cell_type": "markdown",
   "id": "391c131b",
   "metadata": {},
   "source": [
    "$$\n",
    "Pr(A|B) = \\frac {1}{10}\n",
    "$$"
   ]
  },
  {
   "cell_type": "markdown",
   "id": "d0e91e1e",
   "metadata": {},
   "source": [
    "**Exercise 11**. What is the probaility of getting four aces in a poker hand given that two of the cards in your hand are the ace and king of spaces?"
   ]
  },
  {
   "cell_type": "markdown",
   "id": "21cdf369",
   "metadata": {},
   "source": [
    "My answer:\n",
    "\n",
    "$$\n",
    "Pr(A|B) = \\frac {Pr(A \\cap B)}{Pr(B)}\n",
    "$$\n",
    "\n",
    "$$\n",
    "Pr(B) = \\frac {\\binom{50}{3}}{\\binom{52}{5}} = \\frac {19600}{2598960}\n",
    "$$\n",
    "\n",
    "$$\n",
    "Pr(A \\cap B) = \\frac {1}{2598960}\n",
    "$$\n",
    "\n",
    "$$\n",
    "Pr(A|B) = \\frac {1}{19600}\n",
    "$$"
   ]
  },
  {
   "cell_type": "markdown",
   "id": "62e7ed13",
   "metadata": {},
   "source": [
    "Book answer:\n",
    "\n",
    "$$\n",
    "Pr(A|B) = 3!(1/50 * 1/49 * 1/48) = 3/50 * 2/49 * 1/48 = \\frac{1}{19600}\n",
    "$$"
   ]
  },
  {
   "cell_type": "markdown",
   "id": "3b60d3ec",
   "metadata": {},
   "source": [
    "**Exercise 12**. What is the probability of drawing a jack from a 52-card deck, given that you've drawn a face card?"
   ]
  },
  {
   "cell_type": "markdown",
   "id": "4580cc07",
   "metadata": {},
   "source": [
    "$$\n",
    "Pr(A|B) = \\frac {Pr(A \\cap B)}{Pr(B)}\n",
    "$$\n",
    "\n",
    "$$\n",
    "Pr(B) = \\frac {12}{52} = \\frac {3}{13}\n",
    "$$\n",
    "\n",
    "$$\n",
    "Pr(A \\cap B) = \\frac {4}{52} = \\frac {1}{13}\n",
    "$$\n",
    "\n",
    "$$\n",
    "Pr(A|B) = \\frac {1}{13} \\frac {13}{3} = \\frac {1}{3}\n",
    "$$"
   ]
  },
  {
   "cell_type": "markdown",
   "id": "aa2b75fb",
   "metadata": {},
   "source": [
    "**Exercise 13**. Suppose you roll three dice.  Given that one of the dice shows a 5, what is the probability of rolling a 14?"
   ]
  },
  {
   "cell_type": "code",
   "execution_count": 66,
   "id": "5d2b1072",
   "metadata": {},
   "outputs": [
    {
     "name": "stdout",
     "output_type": "stream",
     "text": [
      "2 / 25\n"
     ]
    }
   ],
   "source": [
    "# Assume that only one shows a 5\n",
    "# Need 9 from two die\n",
    "nines = [(3,6), (6,3)]\n",
    "total_rolls = 5 * 5\n",
    "\n",
    "print(len(nines), \"/\", total_rolls)"
   ]
  },
  {
   "cell_type": "markdown",
   "id": "2f78fec0",
   "metadata": {},
   "source": [
    "**Exercise 14**. Consider the experiment of tossing two coins. Let _A_ be the event of getting a head on the first toss."
   ]
  },
  {
   "cell_type": "markdown",
   "id": "2f99bf7a",
   "metadata": {},
   "source": [
    "- Can you name an event that is disjoint from but not independent of _A_?\n",
    "    - Disjoint events cannot occur similtaniously, ie their intersection (and) is an empty set; their union \n",
    "        (either/or) is the sum of the individual probabilities \n",
    "    - For independent events, knowing the probability of _A_ does not effect the probability of event be; the opposite: knowing _A_ determines _B_\n",
    "    - Therefore, the answer is **getting a tail** of the first filp\n"
   ]
  },
  {
   "cell_type": "markdown",
   "id": "a80bfc93",
   "metadata": {},
   "source": [
    "- Can you name an event that is independent but not disjoint of _A_?\n",
    "    - Getting a head on the second filp"
   ]
  },
  {
   "cell_type": "markdown",
   "id": "c5cb24d1",
   "metadata": {},
   "source": [
    "- Can you name an event that that is both disjoint from and independent of _A_?\n",
    "    - Not tossing a coin?  \n",
    "    - From the book \"Two events can't be disjoint and independent if they are not in _the null set_\" (emphasis mine)"
   ]
  },
  {
   "cell_type": "markdown",
   "id": "f1e4506b",
   "metadata": {},
   "source": [
    "- Can you name an event that is neither disjoint nor independent from A?\n",
    "    - Getting two heads"
   ]
  },
  {
   "cell_type": "markdown",
   "id": "7768f00a",
   "metadata": {},
   "source": [
    "**Exercise 15**. Suppose that an election is being conducted with two candidates Smith and Jones.  Of the people in the city 2/3 support Jones but 5/9 of the people from the country support smith.  Half the people live in the country and half live in the city.  If you randomly start talking with a voter who turns out to be a Jones supporter, what is the probability that that  voter lives in the country?"
   ]
  },
  {
   "cell_type": "markdown",
   "id": "c25fc71a",
   "metadata": {},
   "source": [
    "$$\n",
    "Pr(B|A) = \\frac {Pr(A|B)Pr(B)}{Pr(A|B)Pr(B) + Pr(A|B^c)Pr(B^c)}\n",
    "$$\n",
    "\n",
    "Probability that he's a Jones, given he lives in the country:\n",
    "$$\n",
    "Pr(A|B) = \\frac{4}{9}\n",
    "$$\n",
    "\n",
    "Probability that he lives in the country:\n",
    "$$\n",
    "Pr(B) = \\frac{1}{2}\n",
    "$$\n",
    "\n",
    "Probability that he lives in the city:\n",
    "$$\n",
    "Pr(B^c) = \\frac{1}{2}\n",
    "$$\n",
    "\n",
    "Probability that he's a Jones, given he lives in the city:\n",
    "$$\n",
    "Pr(A|B^c) = \\frac{B^c \\cap A}{Pr(B^c)} = \\frac {2}{3}\n",
    "$$\n",
    "\n",
    "Probability he lives in the country if he's a Jones:\n",
    "$$\n",
    "Pr(B|A) = \\frac {\\frac{4}{9}\\frac{1}{2}}{\\frac{4}{9}\\frac{1}{2} + \\frac{2}{3}\\frac{1}{2}} = \\frac {2}{5}\n",
    "$$"
   ]
  },
  {
   "cell_type": "markdown",
   "id": "117475fa",
   "metadata": {},
   "source": [
    "**Exercise 16**. Derive Bayes's rule"
   ]
  },
  {
   "cell_type": "markdown",
   "id": "a836cdde",
   "metadata": {},
   "source": [
    "We must solve for,\n",
    "$$\n",
    "Pr(B|A) = \\frac {Pr(A \\cap B)}{Pr(A)}\n",
    "$$\n",
    "First, solving for $Pr(A \\cap B)$,\n",
    "$$\n",
    "Pr(A|B) = \\frac {Pr(A \\cap B)}{Pr(B)}; Pr(A \\cap B) = Pr(B)Pr(A|B)\n",
    "$$\n",
    "Next, solving for $Pr(A)$, using the definition of complements:\n",
    "$$\n",
    "Pr(A) = Pr(A \\cap B) + Pr(A \\cap B^c)\n",
    "$$\n",
    "We already have $Pr(A \\cap B)$ from above; by the same logic,\n",
    "$$\n",
    "Pr(A \\cap B^c) = Pr(B^c)Pr(A|B^c)\n",
    "$$\n",
    "\n",
    "Substituting back into the first equation, we get,\n",
    "$$\n",
    "Pr(B|A) = \\frac {Pr(B)Pr(A|B)}{Pr(B)Pr(A|B) + Pr(B^c)Pr(A|B^c)}\n",
    "$$"
   ]
  },
  {
   "cell_type": "markdown",
   "id": "f677d83d",
   "metadata": {},
   "source": [
    "**Exercise 17**. Suppose that 5 percent of the people with blood type O are left-hande, 10 percent of those with other blood types are left-handed, and 40 percent of the people have blood type O. If you randomly select a left-\n",
    "handed person, what is the probability that that person will have blood type O?\n"
   ]
  },
  {
   "cell_type": "code",
   "execution_count": 65,
   "id": "b3b14ea3",
   "metadata": {},
   "outputs": [
    {
     "data": {
      "text/plain": [
       "0.25000000000000006"
      ]
     },
     "execution_count": 65,
     "metadata": {},
     "output_type": "execute_result"
    }
   ],
   "source": [
    "(0.05*.4) / ((.05*.4) + (.1*.6))"
   ]
  },
  {
   "cell_type": "markdown",
   "id": "d9c90ecb",
   "metadata": {},
   "source": [
    "**Exercise 18**. Suppose that 70 percent of the people with brown eyes have brown hair, 20 percent of the people wit green eyes have brown hair, and 5 percent of the people with blue eyes have brown hair.  Also suppose that 75 percent of the people have brown eyes, 20 percent have blue eyes and 5 percent have green eyes.  What is the probability that a randomly seleced person with brown have will also have green eyes?"
   ]
  },
  {
   "cell_type": "markdown",
   "id": "ee6135a6",
   "metadata": {},
   "source": [
    "$$\n",
    "Pr(GE|BrH) = \\frac {Pr(BrH|GE)Pr(GE)}{Pr(BrH|GE)Pr(GE) + Pr(BrH|BE)Pr(BE) + Pr(BrH|BrE)Pr(BrE)}\n",
    "$$"
   ]
  },
  {
   "cell_type": "code",
   "execution_count": 69,
   "id": "c24ea083",
   "metadata": {},
   "outputs": [
    {
     "data": {
      "text/plain": [
       "'0.018'"
      ]
     },
     "execution_count": 69,
     "metadata": {},
     "output_type": "execute_result"
    }
   ],
   "source": [
    "GE = 0.05\n",
    "BrHGE = 0.2\n",
    "BE = 0.2\n",
    "BEBrH = 0.05\n",
    "BrE = 0.75\n",
    "BrEBrH = 0.7\n",
    "\n",
    "f\"{(GE*BrHGE) / (GE*BrHGE + BE*BEBrH + BrE * BrEBrH):.3f}\""
   ]
  },
  {
   "cell_type": "code",
   "execution_count": null,
   "id": "99516ea4",
   "metadata": {},
   "outputs": [],
   "source": []
  }
 ],
 "metadata": {
  "kernelspec": {
   "display_name": "Python 3 (ipykernel)",
   "language": "python",
   "name": "python3"
  },
  "language_info": {
   "codemirror_mode": {
    "name": "ipython",
    "version": 3
   },
   "file_extension": ".py",
   "mimetype": "text/x-python",
   "name": "python",
   "nbconvert_exporter": "python",
   "pygments_lexer": "ipython3",
   "version": "3.8.16"
  }
 },
 "nbformat": 4,
 "nbformat_minor": 5
}

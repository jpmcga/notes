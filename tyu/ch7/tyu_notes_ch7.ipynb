{
 "cells": [
  {
   "cell_type": "markdown",
   "id": "b7136c20",
   "metadata": {},
   "source": [
    "# Sam's Teach Yourself Unix"
   ]
  },
  {
   "cell_type": "markdown",
   "id": "a66c70f9",
   "metadata": {},
   "source": [
    "## Hour 7: Looking into Files"
   ]
  },
  {
   "cell_type": "markdown",
   "id": "a96c6344",
   "metadata": {},
   "source": [
    "### file"
   ]
  },
  {
   "cell_type": "markdown",
   "id": "03e27a59",
   "metadata": {},
   "source": [
    "file estimate type of file based on contents"
   ]
  },
  {
   "cell_type": "code",
   "execution_count": 5,
   "id": "42e023f6",
   "metadata": {},
   "outputs": [
    {
     "name": "stdout",
     "output_type": "stream",
     "text": [
      "\u001b[34mApplications\u001b[m\u001b[m/ \u001b[34mVolumes\u001b[m\u001b[m/      \u001b[35metc\u001b[m\u001b[m@          \u001b[34msbin\u001b[m\u001b[m/\n",
      "\u001b[34mLibrary\u001b[m\u001b[m/      \u001b[34mbin\u001b[m\u001b[m/          \u001b[35mhome\u001b[m\u001b[m@         \u001b[35mtmp\u001b[m\u001b[m@\n",
      "\u001b[34mSystem\u001b[m\u001b[m/       \u001b[34mcores\u001b[m\u001b[m/        \u001b[34mopt\u001b[m\u001b[m/          \u001b[34musr\u001b[m\u001b[m/\n",
      "\u001b[34mUsers\u001b[m\u001b[m/        \u001b[34mdev\u001b[m\u001b[m/          \u001b[34mprivate\u001b[m\u001b[m/      \u001b[35mvar\u001b[m\u001b[m@\n",
      "/etc: directory\n"
     ]
    }
   ],
   "source": [
    "!ls -F /\n",
    "!file /etc\n",
    "# cores/ are snapshots of memory when a program files, aka 'core dump'"
   ]
  },
  {
   "cell_type": "code",
   "execution_count": 19,
   "id": "fdb433a0",
   "metadata": {},
   "outputs": [
    {
     "name": "stdout",
     "output_type": "stream",
     "text": [
      "/Library/Apple/usr/lib/libRosettaAot.dylib: Mach-O 64-bit dynamically linked shared library arm64\n",
      "say.hi:    empty\n",
      "oates.gif: GIF image data, version 89a, 480 x 360\n"
     ]
    }
   ],
   "source": [
    "!file /Library/Apple/usr/lib/libRosettaAot.dylib\n",
    "!file say.hi oates.gif"
   ]
  },
  {
   "cell_type": "code",
   "execution_count": 28,
   "id": "98a630e6",
   "metadata": {},
   "outputs": [
    {
     "name": "stdout",
     "output_type": "stream",
     "text": [
      "/etc/afpovertcp.cfg:                        ASCII text\n",
      "/etc/aliases:                               ASCII text\n",
      "/etc/aliases.db:                            cannot open: Permission denied\n",
      "/etc/apache2:                               directory\n",
      "/etc/asl:                                   directory\n",
      "/etc/asl.conf:                              ASCII text\n",
      "/etc/auto_home:                             ASCII text\n",
      "/etc/auto_master:                           ASCII text\n",
      "/etc/autofs.conf:                           ASCII text\n",
      "/etc/bashrc:                                ASCII text\n",
      "/etc/bashrc_Apple_Terminal:                 ASCII text\n",
      "/etc/com.apple.screensharing.agent.launchd: ASCII text, with no line terminators\n",
      "/etc/csh.cshrc:                             ASCII text\n",
      "/etc/csh.login:                             ASCII text\n",
      "/etc/csh.logout:                            ASCII text\n",
      "/etc/cups:                                  directory\n",
      "/etc/defaults:                              directory\n",
      "/etc/emond.d:                               directory\n",
      "/etc/find.codes:                            empty\n",
      "/etc/ftpusers:                              ASCII text\n",
      "/etc/gettytab:                              ASCII text\n",
      "/etc/group:                                 ASCII text\n",
      "/etc/hosts:                                 ASCII text\n",
      "/etc/hosts.equiv:                           empty\n",
      "/etc/irbrc:                                 Ruby script text, ASCII text\n",
      "/etc/kern_loader.conf:                      empty\n",
      "/etc/krb5.keytab:                           cannot open: Permission denied\n",
      "/etc/localtime:                             timezone data (fat), version 2, 5 gmt time flags, 5 std time flags, no leap seconds, 235 transition times, 5 local time types, 16 abbreviation chars\n",
      "/etc/locate.rc:                             ASCII text\n",
      "/etc/mail.rc:                               ASCII text\n",
      "/etc/man.conf:                              ASCII text\n",
      "/etc/manpaths:                              ASCII text\n",
      "/etc/manpaths.d:                            directory\n",
      "/etc/master.passwd:                         cannot open: Permission denied\n",
      "/etc/networks:                              ASCII text\n",
      "/etc/newsyslog.conf:                        ASCII text\n",
      "/etc/newsyslog.d:                           directory\n",
      "/etc/nfs.conf:                              ASCII text\n",
      "/etc/notify.conf:                           ASCII text\n",
      "/etc/ntp.conf:                              ASCII text\n",
      "/etc/ntp_opendirectory.conf:                ASCII text\n",
      "/etc/openldap:                              directory\n",
      "/etc/pam.d:                                 directory\n",
      "/etc/passwd:                                ASCII text\n",
      "/etc/paths:                                 ASCII text\n",
      "/etc/paths.d:                               directory\n",
      "/etc/periodic:                              directory\n",
      "/etc/pf.anchors:                            directory\n",
      "/etc/pf.conf:                               ASCII text\n",
      "/etc/pf.os:                                 ASCII text\n",
      "/etc/postfix:                               directory\n",
      "/etc/ppp:                                   directory\n",
      "/etc/profile:                               ASCII text\n",
      "/etc/protocols:                             ASCII text\n",
      "/etc/racoon:                                directory\n",
      "/etc/rc.common:                             ASCII text\n",
      "/etc/rc.netboot:                            POSIX shell script text executable, ASCII text\n",
      "/etc/resolv.conf:                           ASCII text\n",
      "/etc/rmtab:                                 empty\n",
      "/etc/rpc:                                   ASCII text\n",
      "/etc/rtadvd.conf:                           ASCII text\n",
      "/etc/security:                              directory\n",
      "/etc/services:                              ASCII text\n",
      "/etc/shells:                                ASCII text\n",
      "/etc/snmp:                                  directory\n",
      "/etc/ssh:                                   directory\n",
      "/etc/ssl:                                   directory\n",
      "/etc/sudo_lecture:                          cannot open: Permission denied\n",
      "/etc/sudoers:                               cannot open: Permission denied\n",
      "/etc/sudoers.d:                             directory\n",
      "/etc/syslog.conf:                           ASCII text\n",
      "/etc/ttys:                                  ASCII text\n",
      "/etc/uucp:                                  directory\n",
      "/etc/wfs:                                   directory\n",
      "/etc/xtab:                                  empty\n",
      "/etc/zprofile:                              ASCII text\n",
      "/etc/zshrc:                                 ASCII text\n",
      "/etc/zshrc_Apple_Terminal:                  ASCII text\n"
     ]
    }
   ],
   "source": [
    "!file /etc/*\n",
    "# executable denotes file is output of compiler program"
   ]
  },
  {
   "cell_type": "code",
   "execution_count": 97,
   "id": "b61abf3a",
   "metadata": {},
   "outputs": [
    {
     "name": "stdout",
     "output_type": "stream",
     "text": [
      "/Users/jamesm/.zshrc: ASCII text\n",
      "ch7_test.txt: ASCII text\n",
      "-rwxr-xr-x  1 jamesm  staff  534 Feb 15 16:17 \u001b[31mch7_test.txt\u001b[m\u001b[m\n",
      "ch7_test.txt: ASCII text\n"
     ]
    }
   ],
   "source": [
    "# Permissions can change file interpritation\n",
    "! file ~/.zshrc\n",
    "! cp /Users/jamesm/.zshrc ./ch7_test.txt\n",
    "! file ch7_test.txt\n",
    "! ls -l ch7_test.txt\n",
    "! chmod +x ch7_test.txt\n",
    "! file ch7_test.txt # ahh doesn't work in zsh"
   ]
  },
  {
   "cell_type": "code",
   "execution_count": 55,
   "id": "44fb05ef",
   "metadata": {},
   "outputs": [
    {
     "name": "stdout",
     "output_type": "stream",
     "text": [
      "/usr/lib/charset.alias:                ASCII text\n",
      "/usr/lib/cron:                         directory\n",
      "/usr/lib/dsc_extractor.bundle:         Mach-O universal binary with 2 architectures: [x86_64:Mach-O 64-bit bundle x86_64\n",
      "- Mach-O 64-bit bundle x86_64] [arm64e:Mach-O 64-bit bundle arm64e\n",
      "- Mach-O 64-bit bundle arm64e]\n",
      "/usr/lib/dsc_extractor.bundle (for architecture x86_64):\tMach-O 64-bit bundle x86_64\n",
      "/usr/lib/dsc_extractor.bundle (for architecture arm64e):\tMach-O 64-bit bundle arm64e\n",
      "/usr/lib/dtrace:                       directory\n",
      "/usr/lib/dyld:                         Mach-O universal binary with 3 architectures: [i386:Mach-O dynamic linker i386\n",
      "- Mach-O dynamic linker i386] [x86_64:Mach-O 64-bit dynamic linker x86_64\n",
      "- Mach-O 64-bit dynamic linker x86_64] [arm64e]\n",
      "/usr/lib/dyld (for architecture i386):\tMach-O dynamic linker i386\n",
      "/usr/lib/dyld (for architecture x86_64):\tMach-O 64-bit dynamic linker x86_64\n",
      "/usr/lib/dyld (for architecture arm64e):\tMach-O 64-bit dynamic linker arm64e\n",
      "/usr/lib/groff:                        directory\n",
      "/usr/lib/libLeaksAtExit.dylib:         Mach-O universal binary with 2 architectures: [x86_64:Mach-O 64-bit dynamically linked shared library x86_64\n",
      "- Mach-O 64-bit dynamically linked shared library x86_64] [arm64e:Mach-O 64-bit dynamically linked shared library arm64e\n",
      "- Mach-O 64-bit dynamically linked shared library arm64e]\n",
      "/usr/lib/libLeaksAtExit.dylib (for architecture x86_64):\tMach-O 64-bit dynamically linked shared library x86_64\n",
      "/usr/lib/libLeaksAtExit.dylib (for architecture arm64e):\tMach-O 64-bit dynamically linked shared library arm64e\n",
      "/usr/lib/libMTLCapture.dylib:          Mach-O universal binary with 2 architectures: [x86_64:Mach-O 64-bit dynamically linked shared library x86_64\n",
      "- Mach-O 64-bit dynamically linked shared library x86_64] [arm64e]\n",
      "/usr/lib/libMTLCapture.dylib (for architecture x86_64):\tMach-O 64-bit dynamically linked shared library x86_64\n",
      "/usr/lib/libMTLCapture.dylib (for architecture arm64e):\tMach-O 64-bit dynamically linked shared library arm64e\n",
      "/usr/lib/libMTLToolsDiagnostics.dylib: Mach-O universal binary with 2 architectures: [x86_64:Mach-O 64-bit dynamically linked shared library x86_64\n",
      "- Mach-O 64-bit dynamically linked shared library x86_64] [arm64e:Mach-O 64-bit dynamically linked shared library arm64e\n",
      "- Mach-O 64-bit dynamically linked shared library arm64e]\n",
      "/usr/lib/libMTLToolsDiagnostics.dylib (for architecture x86_64):\tMach-O 64-bit dynamically linked shared library x86_64\n",
      "/usr/lib/libMTLToolsDiagnostics.dylib (for architecture arm64e):\tMach-O 64-bit dynamically linked shared library arm64e\n",
      "/usr/lib/libffi-trampolines.dylib:     Mach-O universal binary with 2 architectures: [x86_64:Mach-O 64-bit dynamically linked shared library x86_64\n",
      "- Mach-O 64-bit dynamically linked shared library x86_64] [arm64e:Mach-O 64-bit dynamically linked shared library arm64e\n",
      "- Mach-O 64-bit dynamically linked shared library arm64e]\n",
      "/usr/lib/libffi-trampolines.dylib (for architecture x86_64):\tMach-O 64-bit dynamically linked shared library x86_64\n",
      "/usr/lib/libffi-trampolines.dylib (for architecture arm64e):\tMach-O 64-bit dynamically linked shared library arm64e\n",
      "/usr/lib/libgmalloc.dylib:             Mach-O universal binary with 2 architectures: [x86_64:Mach-O 64-bit dynamically linked shared library x86_64\n",
      "- Mach-O 64-bit dynamically linked shared library x86_64] [arm64e:Mach-O 64-bit dynamically linked shared library arm64e\n",
      "- Mach-O 64-bit dynamically linked shared library arm64e]\n",
      "/usr/lib/libgmalloc.dylib (for architecture x86_64):\tMach-O 64-bit dynamically linked shared library x86_64\n",
      "/usr/lib/libgmalloc.dylib (for architecture arm64e):\tMach-O 64-bit dynamically linked shared library arm64e\n",
      "/usr/lib/libhunspell-1.2.0.dylib:      broken symbolic link to libhunspell-1.2.0.0.0.dylib\n",
      "/usr/lib/libiodbc.2.dylib:             broken symbolic link to libiodbc.2.1.18.dylib\n",
      "/usr/lib/libiodbcinst.2.dylib:         broken symbolic link to libiodbcinst.2.1.18.dylib\n",
      "/usr/lib/libobjc-trampolines.dylib:    Mach-O universal binary with 3 architectures: [x86_64:Mach-O 64-bit dynamically linked shared library x86_64\n",
      "- Mach-O 64-bit dynamically linked shared library x86_64] [x86_64h:Mach-O 64-bit dynamically linked shared library x86_64h\n",
      "- Mach-O 64-bit dynamically linked shared library x86_64h] [arm64e:Mach-O 64-bit dynamically linked shared library arm64e\n",
      "- Mach-O 64-bit dynamically linked shared library arm64e]\n",
      "/usr/lib/libobjc-trampolines.dylib (for architecture x86_64):\tMach-O 64-bit dynamically linked shared library x86_64\n",
      "/usr/lib/libobjc-trampolines.dylib (for architecture x86_64h):\tMach-O 64-bit dynamically linked shared library x86_64h\n",
      "/usr/lib/libobjc-trampolines.dylib (for architecture arm64e):\tMach-O 64-bit dynamically linked shared library arm64e\n",
      "/usr/lib/libstdc++.6.dylib:            broken symbolic link to libstdc++.6.0.9.dylib\n",
      "/usr/lib/log:                          directory\n",
      "/usr/lib/pam:                          directory\n",
      "/usr/lib/pkgconfig:                    directory\n",
      "/usr/lib/rpcsvc:                       directory\n",
      "/usr/lib/ruby:                         directory\n",
      "/usr/lib/sasl2:                        directory\n",
      "/usr/lib/sqlite3:                      directory\n",
      "/usr/lib/ssh-keychain.dylib:           Mach-O universal binary with 2 architectures: [x86_64:Mach-O 64-bit dynamically linked shared library x86_64\n",
      "- Mach-O 64-bit dynamically linked shared library x86_64] [arm64e:Mach-O 64-bit dynamically linked shared library arm64e\n",
      "- Mach-O 64-bit dynamically linked shared library arm64e]\n",
      "/usr/lib/ssh-keychain.dylib (for architecture x86_64):\tMach-O 64-bit dynamically linked shared library x86_64\n",
      "/usr/lib/ssh-keychain.dylib (for architecture arm64e):\tMach-O 64-bit dynamically linked shared library arm64e\n",
      "/usr/lib/swift:                        directory\n",
      "/usr/lib/system:                       directory\n",
      "/usr/lib/updaters:                     directory\n",
      "/usr/lib/xpc:                          directory\n",
      "/usr/lib/zsh:                          directory\n"
     ]
    }
   ],
   "source": [
    "!file /usr/lib/*"
   ]
  },
  {
   "cell_type": "markdown",
   "id": "45541660",
   "metadata": {},
   "source": [
    "### head & tail"
   ]
  },
  {
   "cell_type": "code",
   "execution_count": 59,
   "id": "e66ee994",
   "metadata": {},
   "outputs": [
    {
     "name": "stdout",
     "output_type": "stream",
     "text": [
      "==> tyu_notes_ch1-3.ipynb <==\r\n",
      "{\r\n",
      " \"cells\": [\r\n",
      "  {\r\n",
      "\r\n",
      "==> oates.gif <==\r\n",
      "GIF89a�\u0001h\u0001�\u0000\u0000\u0000�\u0000\r\n",
      "\u0007\r\n",
      "\f",
      "\t\u000f\r",
      "\r\n"
     ]
    }
   ],
   "source": [
    "# specify multiple files and # lines displayed\n",
    "! head -3 tyu_notes_ch1-3.ipynb oates.gif"
   ]
  },
  {
   "cell_type": "code",
   "execution_count": 62,
   "id": "1c0380e3",
   "metadata": {},
   "outputs": [
    {
     "name": "stdout",
     "output_type": "stream",
     "text": [
      "jamesm   console  Jan 29 15:31 \r\n"
     ]
    }
   ],
   "source": [
    "# Part of a pipe\n",
    "! who | head -1"
   ]
  },
  {
   "cell_type": "code",
   "execution_count": 64,
   "id": "54d59236",
   "metadata": {},
   "outputs": [
    {
     "name": "stdout",
     "output_type": "stream",
     "text": [
      "alias ls=\"ls -F\"\r\n",
      "alias rmr=\"rm -ri\"\r\n"
     ]
    }
   ],
   "source": [
    "! tail -2 ~/.zshrc"
   ]
  },
  {
   "cell_type": "code",
   "execution_count": 71,
   "id": "608db544",
   "metadata": {},
   "outputs": [
    {
     "name": "stdout",
     "output_type": "stream",
     "text": [
      "        export PATH=\"/Users/jamesm/opt/anaconda3/bin:$PATH\"\r\n",
      "    fi\r\n",
      "fi\r\n",
      "unset __conda_setup\r\n",
      "# <<< conda initialize <<<\r\n"
     ]
    }
   ],
   "source": [
    "# combined for lines 10-15\n",
    "! head -15 ~/.zshrc | tail -5"
   ]
  },
  {
   "cell_type": "markdown",
   "id": "34c3428c",
   "metadata": {},
   "source": [
    "### cat"
   ]
  },
  {
   "cell_type": "code",
   "execution_count": 78,
   "id": "1d334a6a",
   "metadata": {},
   "outputs": [
    {
     "name": "stdout",
     "output_type": "stream",
     "text": [
      "GIF89a�\u0001h\u0001�\u0000\u0000\u0000�\u0000\n",
      "\u0007\n",
      "cat: stdout: Broken pipe\n",
      "\n",
      "GIF89a�^Ah^A�^@^@^@�^@\n",
      "^G\n",
      "cat: stdout: Broken pipe\n",
      "\n",
      "GIF89a�\u0001h\u0001�\u0000\u0000\u0000�\u0000\n",
      "\u0007\n",
      "cat: stdout: Broken pipe\n"
     ]
    }
   ],
   "source": [
    "# -v flag for 'control key notation'; -s to compress multiple blank lines\n",
    "! cat oates.gif | head -2\n",
    "! echo\n",
    "! cat -v oates.gif | head -2\n",
    "! echo \n",
    "! cat -s oates.gif | head -2\n",
    "# 'Broken pipe' bc lines are defined as no more than 512 characters"
   ]
  },
  {
   "cell_type": "markdown",
   "id": "02410491",
   "metadata": {},
   "source": [
    "### more"
   ]
  },
  {
   "cell_type": "code",
   "execution_count": 101,
   "id": "02508c6c",
   "metadata": {},
   "outputs": [],
   "source": [
    "# make a long file\n",
    "!cat ch7_test.txt ch7_test.txt ch7_test.txt ch7_test.txt >> long.txt"
   ]
  },
  {
   "cell_type": "code",
   "execution_count": 105,
   "id": "4ad98379",
   "metadata": {},
   "outputs": [
    {
     "name": "stdout",
     "output_type": "stream",
     "text": [
      "\u001b[?1h\u001b=\n",
      "# >>> conda initialize >>>\n",
      "# !! Contents within this block are managed by 'conda init' !!\n",
      "__conda_setup=\"$('/Users/jamesm/opt/anaconda3/bin/conda' 'shell.zsh' 'hook' 2> /dev/null)\"\n",
      "if [ $? -eq 0 ]; then\n",
      "    eval \"$__conda_setup\"\n",
      "else\n",
      "    if [ -f \"/Users/jamesm/opt/anaconda3/etc/profile.d/conda.sh\" ]; then\n",
      "        . \"/Users/jamesm/opt/anaconda3/etc/profile.d/conda.sh\"\n",
      "    else\n",
      "        export PATH=\"/Users/jamesm/opt/anaconda3/bin:$PATH\"\n",
      "    fi\n",
      "fi\n",
      "unset __conda_setup\n",
      "# <<< conda initialize <<<\n",
      "\n",
      "alias ls=\"ls -F\"\n",
      "alias rmr=\"rm -ri\"\n",
      "\n",
      "# >>> conda initialize >>>\n",
      "# !! Contents within this block are managed by 'conda init' !!\n",
      "\u001b[K\u001b[?1l\u001b>tup=\"$('/Users/jamesm/opt/anaconda3/bin/conda' 'shell.zsh' 'hook' 2> /\u001b[7mlong.txt\u001b[m\u001b[K\u0007"
     ]
    }
   ],
   "source": [
    "# -s supress blank lines,\n",
    "!more long.txt # Ahh can't really do in jupyter"
   ]
  },
  {
   "cell_type": "code",
   "execution_count": 111,
   "id": "86adfe67",
   "metadata": {},
   "outputs": [
    {
     "name": "stdout",
     "output_type": "stream",
     "text": [
      "\u001b[K7,2.597778239411704,1.3388541970030965,4.625398176978819,1.7896430858288772,1.2446783258847656,2.167076950919967,1.7124262772176317,1.3217349872489337,1.3238550614528708,1.2423982815319332,0.3921990688688005,0.9736124309685736,1.0501226536307178,2.1709334275054513,2.4475832715064123,1.3361093158657789,1.3192905844790854,1.3005857530291047,1.8944907727198386,0.8234452248349637,0.9772780983415564,1.7772821825957825,2.2073270331305537,1.5824482548720307,1.9152143319227612,0.9725598630880865,1.4736941820835818,1.8094076660564586,0.4566583948831306,1.5086180826498794,1.473629000493279,0.8626017224036258,0.5847495623950053,0.9620711420311349,0.8850972664779436,0.3660848886539277,0.23759390851781623,1.910234699098388,1.0147396097038492,0.5209184019184908,2.417609912687791,2.2201122102920814,3.1290756131243262,2.3356463360180197,1.9294472518797543,1.6722237740761179,2.0675631844240168,3.5864994162077264\n",
      "\u001b[K\u001b[?1l\u001b>4183139982,0.8451495897550105,2.5686861079464616,0.8915198081517124,0.3373397118206934,2.346677376901816,4.272518960552028,1.890435659080774,1.7002603445130315,1.5754215258245319,0.44249247355292165,3.568926979133951,1.4527780536283554,2.4319523575165496,2.6199264751113556,1.5774081826563473,1.2571021515029097,1.5610629210263987,1.877553097999277,1.7153364156177717,1.6651735106787455,1.9535759890629187,2.39371053240227,1.9110885248404157,2.3702028768755476,1.395986116689869,3.2810900727426553,3.6377145781997204,0.674191901076356,1.1119499216512696,1.8538096184654893,1.251777719101525,1.0612676987415164,1.297996164112325,1.1764709482448912,0.7003317062478711,3.073185221746495,1.826125572775339,1.563916707190768,0.335451105498178,2.133165144264035,2.037180962887266,3.241241713545071,1.901904143029539,1.9067955758568733,1.8385070145355227,1.6466599206308763,3.2\u001b[7m/Users/jamesm/normalized_column_counts2.csv\u001b[m\u001b[K\u0007"
     ]
    }
   ],
   "source": [
    "!more +12 /Users/jamesm/normalized_column_counts2.csv # start at line 12"
   ]
  },
  {
   "cell_type": "code",
   "execution_count": 115,
   "id": "eb800a1a",
   "metadata": {},
   "outputs": [
    {
     "name": "stdout",
     "output_type": "stream",
     "text": [
      "\u001b[K4,1.9369833443405915,2.019149550553977,7.179285262177185,2.2889542281145476,1.2994272243358513,1.9806145106113666,1.5053977279220434,1.5178803885492247,1.3931575986776967,1.014436467245738,0.3244088217636999,0.8679722878202151,1.0938663347426523,2.026948602525303,2.255492174959651,0.9085089164553974,1.1895147471842573,1.34386327503857,2.0425520165446165,1.2841263296762033,1.1162800869544227,1.7106565642222054,2.824597135211209,1.7271902945282251,1.8159572845126561,0.5373559568624534,4.398360644606438,1.2664146454258218,0.046841377591780656,2.770276566184515,2.2794962721126346,1.4263386409492649,0.9237206247437408,0.8773073233243522,0.4251087183232286,0.5262707674450897,0.22639136890751735,2.586425378440638,1.6757615006594049,1.339590034997298,1.9120904442382964,2.4606055754677842,3.351032556438032,1.848818290031462,2.136719964673427,1.6940356963701115,1.9749142967032647,2.3712453890743017\n",
      "\u001b[K\u001b[?1l\u001b>39610408713,1.039727160806498,3.8613342316604107,1.5422379508178503,1.117911300414402,2.375420010331609,1.6572015028858844,2.013610243590015,1.6827132294772063,1.5707504916140198,0.40056549794704605,0.93554486621047,1.3037324295613169,2.697178274480434,2.7501899813303963,1.2793846625302678,1.6432668792599938,1.8612662480219568,2.2005324506621147,1.513308293699573,2.086383746713928,2.2232045422550963,3.022499425219986,1.8115583651987246,2.076904427550753,0.6812760553695838,5.321026630278502,2.3758826218259466,0.20184110426033808,2.258238643764206,2.3886253119232705,1.5676411766737577,0.9623255340305094,1.0080133725588838,0.6873934103460178,0.626579683288095,0.08212584192097513,2.2324820544378365,1.4451668485288212,1.32198002858631,2.5177735659428513,3.0102534993380408,3.7092009008498716,1.8559313893371732,2.7780486286913417,2.1019262387551065,2.01908282432089\u001b[7m/Users/jamesm/normalized_column_counts2.csv\u001b[m\u001b[K\u0007"
     ]
    }
   ],
   "source": [
    "!more +/1.936983344 /Users/jamesm/normalized_column_counts2.csv # return line starting with pattern\n",
    "# :f or = to display filename and current line\n",
    "# v to start vi \n",
    "# /pattern to find pattern"
   ]
  },
  {
   "cell_type": "code",
   "execution_count": 116,
   "id": "8c099b1c",
   "metadata": {},
   "outputs": [
    {
     "name": "stdout",
     "output_type": "stream",
     "text": [
      "\u001b[?1h\u001b=\n",
      "# >>> conda initialize >>>\n",
      "# !! Contents within this block are managed by 'conda init' !!\n",
      "__conda_setup=\"$('/Users/jamesm/opt/anaconda3/bin/conda' 'shell.zsh' 'hook' 2> /dev/null)\"\n",
      "if [ $? -eq 0 ]; then\n",
      "    eval \"$__conda_setup\"\n",
      "else\n",
      "    if [ -f \"/Users/jamesm/opt/anaconda3/etc/profile.d/conda.sh\" ]; then\n",
      "        . \"/Users/jamesm/opt/anaconda3/etc/profile.d/conda.sh\"\n",
      "    else\n",
      "        export PATH=\"/Users/jamesm/opt/anaconda3/bin:$PATH\"\n",
      "    fi\n",
      "fi\n",
      "unset __conda_setup\n",
      "# <<< conda initialize <<<\n",
      "\n",
      "alias ls=\"ls -F\"\n",
      "alias rmr=\"rm -ri\"\n",
      "\n",
      "# >>> conda initialize >>>\n",
      "# !! Contents within this block are managed by 'conda init' !!\n",
      "\u001b[K\u001b[?1l\u001b>tup=\"$('/Users/jamesm/opt/anaconda3/bin/conda' 'shell.zsh' 'hook' 2> /:\u001b[K\u0007"
     ]
    }
   ],
   "source": [
    "# Passing cat to more disables vi\n",
    "!cat long.txt | more"
   ]
  },
  {
   "cell_type": "code",
   "execution_count": null,
   "id": "a773c048",
   "metadata": {},
   "outputs": [],
   "source": []
  }
 ],
 "metadata": {
  "kernelspec": {
   "display_name": "Python 3 (ipykernel)",
   "language": "python",
   "name": "python3"
  },
  "language_info": {
   "codemirror_mode": {
    "name": "ipython",
    "version": 3
   },
   "file_extension": ".py",
   "mimetype": "text/x-python",
   "name": "python",
   "nbconvert_exporter": "python",
   "pygments_lexer": "ipython3",
   "version": "3.8.16"
  }
 },
 "nbformat": 4,
 "nbformat_minor": 5
}

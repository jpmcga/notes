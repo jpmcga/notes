{
 "cells": [
  {
   "cell_type": "markdown",
   "id": "2531c199",
   "metadata": {},
   "source": [
    "## Notes for Python for Data Analysis 2nd Edition\n",
    "## Chapter 4 NumPy Basics: Arrays and Vectorized Computation"
   ]
  },
  {
   "cell_type": "markdown",
   "id": "40c6857a",
   "metadata": {},
   "source": [
    "Arrays"
   ]
  },
  {
   "cell_type": "code",
   "execution_count": 1,
   "id": "a429166c",
   "metadata": {},
   "outputs": [],
   "source": [
    "import numpy as np"
   ]
  },
  {
   "cell_type": "code",
   "execution_count": 8,
   "id": "80a3194a",
   "metadata": {},
   "outputs": [
    {
     "name": "stdout",
     "output_type": "stream",
     "text": [
      "CPU times: user 187 ms, sys: 24.8 ms, total: 212 ms\n",
      "Wall time: 212 ms\n"
     ]
    }
   ],
   "source": [
    "# Np arrays much faster than list\n",
    "array = np.arange(1000000)\n",
    "lst = list(range(1000000))\n",
    "\n",
    "%time for _ in range(10): array2 = array * 2\n",
    "\n",
    "%time for _ in range(10): lst2 = lst * 2"
   ]
  },
  {
   "cell_type": "code",
   "execution_count": null,
   "id": "aa3db4fb",
   "metadata": {},
   "outputs": [],
   "source": []
  },
  {
   "cell_type": "code",
   "execution_count": null,
   "id": "0a74393f",
   "metadata": {},
   "outputs": [],
   "source": []
  }
 ],
 "metadata": {
  "kernelspec": {
   "display_name": "Python 3 (ipykernel)",
   "language": "python",
   "name": "python3"
  },
  "language_info": {
   "codemirror_mode": {
    "name": "ipython",
    "version": 3
   },
   "file_extension": ".py",
   "mimetype": "text/x-python",
   "name": "python",
   "nbconvert_exporter": "python",
   "pygments_lexer": "ipython3",
   "version": "3.8.5"
  }
 },
 "nbformat": 4,
 "nbformat_minor": 5
}

{
 "cells": [
  {
   "cell_type": "markdown",
   "id": "62a2cf1f",
   "metadata": {},
   "source": [
    "# Chapter 10: Other Discrete Random Variables"
   ]
  },
  {
   "cell_type": "markdown",
   "id": "02ba1bfc",
   "metadata": {},
   "source": [
    "## The Poisson Distribution"
   ]
  },
  {
   "cell_type": "markdown",
   "id": "597d5a71",
   "metadata": {},
   "source": [
    "## The Geometric and Negative Binomial Distributions"
   ]
  },
  {
   "cell_type": "code",
   "execution_count": null,
   "id": "b87e71d6",
   "metadata": {},
   "outputs": [],
   "source": []
  }
 ],
 "metadata": {
  "kernelspec": {
   "display_name": "Python 3 (ipykernel)",
   "language": "python",
   "name": "python3"
  },
  "language_info": {
   "codemirror_mode": {
    "name": "ipython",
    "version": 3
   },
   "file_extension": ".py",
   "mimetype": "text/x-python",
   "name": "python",
   "nbconvert_exporter": "python",
   "pygments_lexer": "ipython3",
   "version": "3.9.16"
  }
 },
 "nbformat": 4,
 "nbformat_minor": 5
}

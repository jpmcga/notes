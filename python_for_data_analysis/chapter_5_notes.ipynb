{
 "cells": [
  {
   "cell_type": "markdown",
   "id": "d77d54e3",
   "metadata": {},
   "source": [
    "# Python for Data Analysis\n",
    "# Chapter 5: Getting started with pandas"
   ]
  },
  {
   "cell_type": "markdown",
   "id": "509d6ef6",
   "metadata": {},
   "source": [
    "Series"
   ]
  },
  {
   "cell_type": "code",
   "execution_count": 1,
   "id": "c372cc2e",
   "metadata": {},
   "outputs": [],
   "source": [
    "# !pip3 install pandas\n",
    "import numpy as np\n",
    "import pandas as pd\n",
    "import string\n",
    "# Two primary data types: Series, Dataframe\n",
    "from pandas import Series, DataFrame"
   ]
  },
  {
   "cell_type": "code",
   "execution_count": 2,
   "id": "53d7f550",
   "metadata": {},
   "outputs": [
    {
     "name": "stdout",
     "output_type": "stream",
     "text": [
      "0     1\n",
      "1     2\n",
      "2     3\n",
      "3     4\n",
      "4    -6\n",
      "5   -10\n",
      "dtype: int64\n",
      "[  1   2   3   4  -6 -10]\n",
      "RangeIndex(start=0, stop=6, step=1)\n",
      "\n",
      "a    -3\n",
      "b     4\n",
      "c    52\n",
      "d    -3\n",
      "dtype: int64\n",
      "d   -3\n",
      "b    4\n",
      "dtype: int64\n"
     ]
    }
   ],
   "source": [
    "# Series like a dict\n",
    "obj = pd.Series([1, 2, 3, 4, -6, -10])\n",
    "print(obj)\n",
    "print(obj.values)\n",
    "print(obj.index)\n",
    "print()\n",
    "ob2 = pd.Series([-3, 4, 52, -3], index = ['a', 'b', 'c', 'd'])\n",
    "print(ob2)\n",
    "print(ob2[['d', 'b']])\n"
   ]
  },
  {
   "cell_type": "code",
   "execution_count": 3,
   "id": "68141c3f",
   "metadata": {},
   "outputs": [
    {
     "name": "stdout",
     "output_type": "stream",
     "text": [
      "1     2\n",
      "3     4\n",
      "4    -6\n",
      "5   -10\n",
      "dtype: int64\n",
      "0     2\n",
      "1     4\n",
      "2     6\n",
      "3     8\n",
      "4   -12\n",
      "5   -20\n",
      "dtype: int64\n",
      "0     1.0\n",
      "1     2.0\n",
      "2     3.0\n",
      "3     4.0\n",
      "4    -6.0\n",
      "5   -10.0\n",
      "dtype: float64\n",
      "0    0.540302\n",
      "1   -0.416147\n",
      "2   -0.989992\n",
      "3   -0.653644\n",
      "4    0.960170\n",
      "5   -0.839072\n",
      "dtype: float64\n",
      "0      1\n",
      "1      4\n",
      "2      9\n",
      "3     16\n",
      "4     36\n",
      "5    100\n",
      "dtype: int64\n",
      "0    False\n",
      "1    False\n",
      "2    False\n",
      "3    False\n",
      "4    False\n",
      "5    False\n",
      "dtype: bool\n"
     ]
    }
   ],
   "source": [
    "# Can perform operations on Series\n",
    "\n",
    "print(obj[obj % 2 == 0])\n",
    "new_obj = obj * 2\n",
    "print(new_obj)\n",
    "\n",
    "# Can use numpy to treat Series as arrays\n",
    "print(np.ceil(obj))\n",
    "print(np.cos(obj))\n",
    "print(np.square(obj))\n",
    "print(np.logical_not(obj))"
   ]
  },
  {
   "cell_type": "code",
   "execution_count": 4,
   "id": "9ea33ee9",
   "metadata": {},
   "outputs": [
    {
     "name": "stdout",
     "output_type": "stream",
     "text": [
      "dog    2.0\n",
      "cat    1.0\n",
      "alf    NaN\n",
      "dtype: float64\n",
      "True\n",
      "False\n",
      "dog    False\n",
      "cat    False\n",
      "alf     True\n",
      "dtype: bool\n",
      "\n",
      "index\n",
      "dog    2.0\n",
      "cat    1.0\n",
      "alf    NaN\n",
      "Name: test, dtype: float64\n"
     ]
    }
   ],
   "source": [
    "# Can make Series out of dict, can pass in list as index to filter\n",
    "\n",
    "data = {'cat' : 1,\n",
    "        'dog' : 2,\n",
    "        'moon' : -5,\n",
    "        'bar' : 5\n",
    "       }\n",
    "\n",
    "series = pd.Series(data, index = ['dog', 'cat', 'alf'])\n",
    "print(series)\n",
    "print('dog' in series)\n",
    "print('moon' in series)\n",
    "print(series.isnull())\n",
    "print()\n",
    "\n",
    "# Can name values and index\n",
    "series.name = 'test'\n",
    "series.index.name = 'index'\n",
    "print(series)"
   ]
  },
  {
   "cell_type": "markdown",
   "id": "0b2da432",
   "metadata": {},
   "source": [
    "DataFrame"
   ]
  },
  {
   "cell_type": "code",
   "execution_count": 5,
   "id": "d6b43aa1",
   "metadata": {},
   "outputs": [
    {
     "name": "stdout",
     "output_type": "stream",
     "text": [
      "     Name  Age         Town\n",
      "10    Bob   35  Brattleboro\n",
      "11   Tess   28    West Ches\n",
      "12    Zoe   34  Brattleboro\n",
      "34  James   30           BF\n",
      "\n",
      "     Town  Name          Age\n",
      "10    Bob    35  Brattleboro\n",
      "11   Tess    28    West Ches\n",
      "12    Zoe    34  Brattleboro\n",
      "34  James    30           BF\n",
      "10      Bob\n",
      "11     Tess\n",
      "12      Zoe\n",
      "34    James\n",
      "Name: Town, dtype: object\n"
     ]
    }
   ],
   "source": [
    "# Can make a DataFrame out of dict of list\n",
    "data = {'Name' : ['Bob', 'Tess', 'Zoe', 'James'],\n",
    "        'Age' : [35, 28, 34, 30],\n",
    "       'Town' : ['Brattleboro', 'West Ches', 'Brattleboro', 'BF']}\n",
    "df = pd.DataFrame(data, index = [10, 11, 12, 34])\n",
    "print(df)\n",
    "print()\n",
    "# Can change the order of the columns NAMES\n",
    "df.columns ='Town','Name','Age'\n",
    "print(df)\n",
    "# Can return columns as Series with dict-like reference\n",
    "towns = df['Town']\n",
    "print(towns)\n"
   ]
  },
  {
   "cell_type": "code",
   "execution_count": 6,
   "id": "fa35442e",
   "metadata": {},
   "outputs": [],
   "source": [
    "# Adding columns\n",
    "df['None'] = None\n",
    "df['gt_30'] = df['Name'] > 30\n",
    "df['random'] = np.random.randint(0, 10, len(df))\n"
   ]
  },
  {
   "cell_type": "code",
   "execution_count": 7,
   "id": "abd6b65f",
   "metadata": {},
   "outputs": [
    {
     "name": "stdout",
     "output_type": "stream",
     "text": [
      "Int64Index([10, 11, 12, 34], dtype='int64')\n",
      "Index(['Town', 'Name', 'Age', 'None', 'gt_30', 'random'], dtype='object')\n"
     ]
    },
    {
     "data": {
      "text/plain": [
       "False"
      ]
     },
     "execution_count": 7,
     "metadata": {},
     "output_type": "execute_result"
    }
   ],
   "source": [
    "# Index a set-like array on rows\n",
    "print(df.index)\n",
    "print(df.T.index)\n",
    "'Names' in df.T.index"
   ]
  },
  {
   "cell_type": "code",
   "execution_count": 8,
   "id": "e58afc00",
   "metadata": {},
   "outputs": [
    {
     "data": {
      "text/html": [
       "<div>\n",
       "<style scoped>\n",
       "    .dataframe tbody tr th:only-of-type {\n",
       "        vertical-align: middle;\n",
       "    }\n",
       "\n",
       "    .dataframe tbody tr th {\n",
       "        vertical-align: top;\n",
       "    }\n",
       "\n",
       "    .dataframe thead th {\n",
       "        text-align: right;\n",
       "    }\n",
       "</style>\n",
       "<table border=\"1\" class=\"dataframe\">\n",
       "  <thead>\n",
       "    <tr style=\"text-align: right;\">\n",
       "      <th></th>\n",
       "      <th>this</th>\n",
       "      <th>is</th>\n",
       "      <th>a</th>\n",
       "      <th>thing</th>\n",
       "    </tr>\n",
       "  </thead>\n",
       "  <tbody>\n",
       "    <tr>\n",
       "      <th>a</th>\n",
       "      <td>0.834525</td>\n",
       "      <td>-0.294727</td>\n",
       "      <td>0.535929</td>\n",
       "      <td>-0.873831</td>\n",
       "    </tr>\n",
       "    <tr>\n",
       "      <th>b</th>\n",
       "      <td>0.966441</td>\n",
       "      <td>-0.107338</td>\n",
       "      <td>-1.026345</td>\n",
       "      <td>-0.438825</td>\n",
       "    </tr>\n",
       "    <tr>\n",
       "      <th>c</th>\n",
       "      <td>-0.392954</td>\n",
       "      <td>0.671513</td>\n",
       "      <td>0.652234</td>\n",
       "      <td>-0.183253</td>\n",
       "    </tr>\n",
       "    <tr>\n",
       "      <th>d</th>\n",
       "      <td>-0.050676</td>\n",
       "      <td>1.105939</td>\n",
       "      <td>0.999473</td>\n",
       "      <td>0.591251</td>\n",
       "    </tr>\n",
       "    <tr>\n",
       "      <th>e</th>\n",
       "      <td>NaN</td>\n",
       "      <td>NaN</td>\n",
       "      <td>NaN</td>\n",
       "      <td>NaN</td>\n",
       "    </tr>\n",
       "  </tbody>\n",
       "</table>\n",
       "</div>"
      ],
      "text/plain": [
       "       this        is         a     thing\n",
       "a  0.834525 -0.294727  0.535929 -0.873831\n",
       "b  0.966441 -0.107338 -1.026345 -0.438825\n",
       "c -0.392954  0.671513  0.652234 -0.183253\n",
       "d -0.050676  1.105939  0.999473  0.591251\n",
       "e       NaN       NaN       NaN       NaN"
      ]
     },
     "execution_count": 8,
     "metadata": {},
     "output_type": "execute_result"
    }
   ],
   "source": [
    "array = np.random.randn(4,4)\n",
    "\n",
    "dataf = pd.DataFrame(array, index = ['b', 'c', 'a', 'd'], columns=['this',\n",
    "                                                                  'is',\n",
    "                                                                  'a',\n",
    "                                                                  'thing'])\n",
    "dataf = dataf.reindex(['a', 'b', 'c', 'd', 'e'])\n",
    "dataf"
   ]
  },
  {
   "cell_type": "code",
   "execution_count": 9,
   "id": "8ff01936",
   "metadata": {},
   "outputs": [
    {
     "data": {
      "text/html": [
       "<div>\n",
       "<style scoped>\n",
       "    .dataframe tbody tr th:only-of-type {\n",
       "        vertical-align: middle;\n",
       "    }\n",
       "\n",
       "    .dataframe tbody tr th {\n",
       "        vertical-align: top;\n",
       "    }\n",
       "\n",
       "    .dataframe thead th {\n",
       "        text-align: right;\n",
       "    }\n",
       "</style>\n",
       "<table border=\"1\" class=\"dataframe\">\n",
       "  <thead>\n",
       "    <tr style=\"text-align: right;\">\n",
       "      <th></th>\n",
       "      <th>this</th>\n",
       "      <th>is</th>\n",
       "      <th>thing</th>\n",
       "    </tr>\n",
       "  </thead>\n",
       "  <tbody>\n",
       "    <tr>\n",
       "      <th>a</th>\n",
       "      <td>0.834525</td>\n",
       "      <td>-0.294727</td>\n",
       "      <td>-0.873831</td>\n",
       "    </tr>\n",
       "    <tr>\n",
       "      <th>b</th>\n",
       "      <td>0.966441</td>\n",
       "      <td>-0.107338</td>\n",
       "      <td>-0.438825</td>\n",
       "    </tr>\n",
       "    <tr>\n",
       "      <th>c</th>\n",
       "      <td>-0.392954</td>\n",
       "      <td>0.671513</td>\n",
       "      <td>-0.183253</td>\n",
       "    </tr>\n",
       "    <tr>\n",
       "      <th>d</th>\n",
       "      <td>-0.050676</td>\n",
       "      <td>1.105939</td>\n",
       "      <td>0.591251</td>\n",
       "    </tr>\n",
       "    <tr>\n",
       "      <th>e</th>\n",
       "      <td>NaN</td>\n",
       "      <td>NaN</td>\n",
       "      <td>NaN</td>\n",
       "    </tr>\n",
       "  </tbody>\n",
       "</table>\n",
       "</div>"
      ],
      "text/plain": [
       "       this        is     thing\n",
       "a  0.834525 -0.294727 -0.873831\n",
       "b  0.966441 -0.107338 -0.438825\n",
       "c -0.392954  0.671513 -0.183253\n",
       "d -0.050676  1.105939  0.591251\n",
       "e       NaN       NaN       NaN"
      ]
     },
     "execution_count": 9,
     "metadata": {},
     "output_type": "execute_result"
    }
   ],
   "source": [
    "# dataf.drop('e', inplace=True)\n",
    "dataf.drop('a', axis=1)"
   ]
  },
  {
   "cell_type": "code",
   "execution_count": 10,
   "id": "0a0c3159",
   "metadata": {},
   "outputs": [
    {
     "name": "stdout",
     "output_type": "stream",
     "text": [
      "   I  like  to  do\n",
      "2  0   NaN   2 NaN\n",
      "3  4   NaN   6 NaN\n",
      "   I  like  to  do\n",
      "2  0     1   2   3\n",
      "3  4     5   6   7\n",
      "2    1\n",
      "3    5\n",
      "Name: like, dtype: int64\n",
      "   I  to\n",
      "2  0   2\n",
      "3  4   6\n",
      "\n",
      "      I   like     to     do\n",
      "2  True  False   True   True\n",
      "3  True  False  False  False\n",
      "        I  like      to      do\n",
      "2  booger     5  booger  booger\n",
      "3  booger     5       6       7\n"
     ]
    }
   ],
   "source": [
    "# Easy filtering on value with indexing\n",
    "d1 = pd.DataFrame(np.arange(8).reshape(2,4),\n",
    "                 columns=['I', 'like', 'to', 'do'],\n",
    "                 index=[2, 3])\n",
    "\n",
    "print(d1[d1 % 2 == 0])\n",
    "print(d1)\n",
    "# Slice access columns\n",
    "print(d1['like'])\n",
    "# Can set constant value like this\n",
    "d1['like'] = 5\n",
    "# Access two columns with a list\n",
    "print(d1[['I', 'to']])\n",
    "print()\n",
    "\n",
    "# Can make bool, can update based on coditionals\n",
    "print(d1 < 5)\n",
    "d1[d1 < 5] = 'booger'\n",
    "print(d1)"
   ]
  },
  {
   "cell_type": "markdown",
   "id": "4df26719",
   "metadata": {},
   "source": [
    "Loc and iloc"
   ]
  },
  {
   "cell_type": "code",
   "execution_count": 22,
   "id": "627295a4",
   "metadata": {},
   "outputs": [
    {
     "name": "stdout",
     "output_type": "stream",
     "text": [
      "   n  B   p   ?\n",
      "Q  0  1   2   3\n",
      "#  4  5   6   7\n",
      ".  8  9  10  11\n",
      "\n",
      "   n  B   p   ?\n",
      "#  4  5   6   7\n",
      ".  8  9  10  11\n",
      "\n",
      "   n  B   p   ?\n",
      "Q  0  1   2   3\n",
      "#  4  5   6   7\n",
      ".  8  9  10  11\n",
      "\n"
     ]
    }
   ],
   "source": [
    "# messing abt\n",
    "# col = np.random.choice(list(string.printable), 4)\n",
    "# row = np.random.choice(list(string.printable), 3)\n",
    "col, row = col, row\n",
    "\n",
    "df2 = pd.DataFrame(np.arange(12).reshape(3,4),\n",
    "                   columns=col,\n",
    "                  index=row)\n",
    "print(df2)\n",
    "print()\n",
    "# Filter all by one column\n",
    "print(df2[df2['p'] > 2], end='\\n\\n')\n",
    "print(df2, end='\\n\\n')\n",
    "\n"
   ]
  },
  {
   "cell_type": "code",
   "execution_count": 40,
   "id": "4926978c",
   "metadata": {},
   "outputs": [
    {
     "name": "stdout",
     "output_type": "stream",
     "text": [
      "Q    0\n",
      "#    4\n",
      ".    8\n",
      "Name: n, dtype: int64\n",
      "n    0\n",
      "B    1\n",
      "p    2\n",
      "?    3\n",
      "Name: Q, dtype: int64\n",
      "   n  B  p  ?\n",
      "Q  0  1  2  3\n",
      "#  4  5  6  7\n",
      "\n",
      "2\n",
      "   n  B   p   ?\n",
      "Q  0  1   2   3\n",
      "#  4  5   6   7\n",
      ".  8  9  10  11\n"
     ]
    }
   ],
   "source": [
    "# loc = reference with axis labels, iloc with integers\n",
    "print(df2['n']) # column\n",
    "print(df2.loc['Q']) # row\n",
    "print(df2.loc['Q':'#']) # row slice\n",
    "print()\n",
    "print(df2.loc['Q', 'p']) # single value\n",
    "\n",
    "print(df2)\n"
   ]
  },
  {
   "cell_type": "code",
   "execution_count": 52,
   "id": "6bb1b8f8",
   "metadata": {},
   "outputs": [
    {
     "name": "stdout",
     "output_type": "stream",
     "text": [
      "n    4\n",
      "B    5\n",
      "p    6\n",
      "?    7\n",
      "Name: #, dtype: int64\n",
      "Q    1\n",
      "#    5\n",
      ".    9\n",
      "Name: B, dtype: int64\n",
      "9\n",
      "6\n"
     ]
    },
    {
     "ename": "AttributeError",
     "evalue": "'_iLocIndexer' object has no attribute 'getter'",
     "output_type": "error",
     "traceback": [
      "\u001b[0;31m---------------------------------------------------------------------------\u001b[0m",
      "\u001b[0;31mAttributeError\u001b[0m                            Traceback (most recent call last)",
      "Input \u001b[0;32mIn [52]\u001b[0m, in \u001b[0;36m<cell line: 8>\u001b[0;34m()\u001b[0m\n\u001b[1;32m      5\u001b[0m \u001b[38;5;28mprint\u001b[39m(df2\u001b[38;5;241m.\u001b[39mat[\u001b[38;5;124m'\u001b[39m\u001b[38;5;124m.\u001b[39m\u001b[38;5;124m'\u001b[39m, \u001b[38;5;124m'\u001b[39m\u001b[38;5;124mB\u001b[39m\u001b[38;5;124m'\u001b[39m]) \u001b[38;5;66;03m# like loc\u001b[39;00m\n\u001b[1;32m      6\u001b[0m \u001b[38;5;28mprint\u001b[39m(df2\u001b[38;5;241m.\u001b[39miat[\u001b[38;5;241m1\u001b[39m, \u001b[38;5;241m2\u001b[39m]) \u001b[38;5;66;03m# like iloc\u001b[39;00m\n\u001b[0;32m----> 8\u001b[0m \u001b[38;5;28mprint\u001b[39m(\u001b[43mdf2\u001b[49m\u001b[38;5;241;43m.\u001b[39;49m\u001b[43miloc\u001b[49m\u001b[38;5;241;43m.\u001b[39;49m\u001b[43mgetter\u001b[49m[\u001b[38;5;241m1\u001b[39m,\u001b[38;5;241m2\u001b[39m])\n",
      "\u001b[0;31mAttributeError\u001b[0m: '_iLocIndexer' object has no attribute 'getter'"
     ]
    }
   ],
   "source": [
    "# iloc\n",
    "print(df2.iloc[1]) # row\n",
    "print(df2.iloc[:, 1]) # column\n",
    "\n",
    "print(df2.at['.', 'B']) # like loc\n",
    "print(df2.iat[1, 2]) # like iloc\n"
   ]
  },
  {
   "cell_type": "code",
   "execution_count": null,
   "id": "f068376b",
   "metadata": {},
   "outputs": [],
   "source": []
  }
 ],
 "metadata": {
  "kernelspec": {
   "display_name": "Python 3 (ipykernel)",
   "language": "python",
   "name": "python3"
  },
  "language_info": {
   "codemirror_mode": {
    "name": "ipython",
    "version": 3
   },
   "file_extension": ".py",
   "mimetype": "text/x-python",
   "name": "python",
   "nbconvert_exporter": "python",
   "pygments_lexer": "ipython3",
   "version": "3.8.5"
  }
 },
 "nbformat": 4,
 "nbformat_minor": 5
}

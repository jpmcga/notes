{
 "cells": [
  {
   "cell_type": "markdown",
   "id": "9b62f10b",
   "metadata": {},
   "source": [
    "# Sam's Teach Yourself UNIX"
   ]
  },
  {
   "cell_type": "markdown",
   "id": "bb18933b",
   "metadata": {},
   "source": [
    "## Hour 1: Intro"
   ]
  },
  {
   "cell_type": "markdown",
   "id": "0fefd889",
   "metadata": {},
   "source": [
    "Man page organization <br> \n",
    "1.  User commands  <br>\n",
    "2.  sys calls <br>\n",
    "3.  Lib routines <br>\n",
    "4.  Admin files <br>\n",
    "5.  Misc <br>\n",
    "6.  Games <br>\n",
    "7.  I/O <br>\n",
    "8.  Admin commands <br>"
   ]
  },
  {
   "cell_type": "code",
   "execution_count": null,
   "id": "69e00fbb",
   "metadata": {},
   "outputs": [],
   "source": [
    "# -k for keyword search of manuals\n",
    "! man -k mkdir"
   ]
  },
  {
   "cell_type": "code",
   "execution_count": null,
   "id": "26423d17",
   "metadata": {},
   "outputs": [],
   "source": [
    "# apropos achieves same\n",
    "! apropos mkdir"
   ]
  },
  {
   "cell_type": "markdown",
   "id": "bf22897a",
   "metadata": {},
   "source": [
    "For alias [name] \"command\", ie:\n",
    "\n",
    "`alias apropos \"man -k \\!* | uniq | grep 1\"`\n",
    "\n",
    "to search for user commands. uniq displays only unique lines.\n",
    "A"
   ]
  },
  {
   "cell_type": "code",
   "execution_count": null,
   "id": "0465de30",
   "metadata": {},
   "outputs": [],
   "source": [
    "! echo \"blah\\nblah\\nblah\" > test_uniq.txt\n",
    "! uniq test_uniq.txt"
   ]
  },
  {
   "cell_type": "markdown",
   "id": "758f6e6d",
   "metadata": {},
   "source": [
    "## Hour 2: Getting onto..."
   ]
  },
  {
   "cell_type": "markdown",
   "id": "f0d8fe27",
   "metadata": {},
   "source": [
    "`exit` to logout; works in AWS EC2 instances <br>\n",
    "`passwd` to change password"
   ]
  },
  {
   "cell_type": "code",
   "execution_count": null,
   "id": "92702a4c",
   "metadata": {},
   "outputs": [],
   "source": [
    "!whoami\n",
    "# vs\n",
    "!who am i\n",
    "# vs\n",
    "!id\n",
    "# vs\n",
    "! users"
   ]
  },
  {
   "cell_type": "code",
   "execution_count": null,
   "id": "f6e00552",
   "metadata": {},
   "outputs": [],
   "source": [
    "# what is everyone doing?\n",
    "!who\n",
    "# vs\n",
    "!w"
   ]
  },
  {
   "cell_type": "code",
   "execution_count": null,
   "id": "38b16307",
   "metadata": {},
   "outputs": [],
   "source": [
    "!time"
   ]
  },
  {
   "cell_type": "code",
   "execution_count": null,
   "id": "05d04a93",
   "metadata": {},
   "outputs": [],
   "source": [
    "!date"
   ]
  },
  {
   "cell_type": "markdown",
   "id": "e5a63215",
   "metadata": {},
   "source": [
    "## Hour 3: Moving about"
   ]
  },
  {
   "cell_type": "code",
   "execution_count": null,
   "id": "5d93891f",
   "metadata": {},
   "outputs": [],
   "source": [
    "# usr orignally for user-related commands; should contain operating sys binaries\n",
    "!ls /usr/"
   ]
  },
  {
   "cell_type": "code",
   "execution_count": null,
   "id": "b2383a10",
   "metadata": {},
   "outputs": [],
   "source": [
    "# dev for device drivers; tty stands for teletypewrite, historical used as terminals\n",
    "!ls /dev"
   ]
  },
  {
   "cell_type": "code",
   "execution_count": null,
   "id": "f9bd6fdb",
   "metadata": {},
   "outputs": [],
   "source": [
    "# bin for binary executables\n",
    "!ls /bin/"
   ]
  },
  {
   "cell_type": "code",
   "execution_count": null,
   "id": "5e3e37c4",
   "metadata": {},
   "outputs": [],
   "source": [
    "# etc for admin files and information\n",
    "!ls /etc/"
   ]
  },
  {
   "cell_type": "code",
   "execution_count": null,
   "id": "c0bf93c8",
   "metadata": {},
   "outputs": [],
   "source": [
    "# lib for shared utility binaries; not on mac, perhaps Library?\n",
    "!ls /Library/"
   ]
  },
  {
   "cell_type": "code",
   "execution_count": null,
   "id": "4b98acf9",
   "metadata": {},
   "outputs": [],
   "source": [
    "# tmp for temporary files\n",
    "!ls /"
   ]
  },
  {
   "cell_type": "code",
   "execution_count": null,
   "id": "ab5f7d70",
   "metadata": {},
   "outputs": [],
   "source": [
    "!ls -F /"
   ]
  },
  {
   "cell_type": "markdown",
   "id": "f33a4666",
   "metadata": {},
   "source": [
    "`ls -F`  classifies\n",
    "* @ means symbolic link (or that the file has extended attributes).\n",
    "* '* means executable.\n",
    "* = means socket.\n",
    "* | means named pipe.\n",
    "* '> means door.\n",
    "* / means directory.`"
   ]
  },
  {
   "cell_type": "markdown",
   "id": "b2fb4e74",
   "metadata": {},
   "source": [
    "### 3.4-5 env command"
   ]
  },
  {
   "cell_type": "code",
   "execution_count": null,
   "id": "f4f0b8b8",
   "metadata": {},
   "outputs": [],
   "source": [
    "# env to view enviroment variables\n",
    "!env"
   ]
  },
  {
   "cell_type": "code",
   "execution_count": null,
   "id": "41915292",
   "metadata": {},
   "outputs": [],
   "source": [
    "# Use echo to display specific variables\n",
    "!echo $HOME\n",
    "!echo $PATH # Path searches left to right"
   ]
  },
  {
   "cell_type": "markdown",
   "id": "42d00c11",
   "metadata": {},
   "source": [
    "### 3.7 cd"
   ]
  },
  {
   "cell_type": "code",
   "execution_count": null,
   "id": "39ad3cbe",
   "metadata": {},
   "outputs": [],
   "source": [
    "# Typing cd without specifying a directory brings you home8"
   ]
  }
 ],
 "metadata": {
  "kernelspec": {
   "display_name": "Python 3 (ipykernel)",
   "language": "python",
   "name": "python3"
  },
  "language_info": {
   "codemirror_mode": {
    "name": "ipython",
    "version": 3
   },
   "file_extension": ".py",
   "mimetype": "text/x-python",
   "name": "python",
   "nbconvert_exporter": "python",
   "pygments_lexer": "ipython3",
   "version": "3.8.16"
  }
 },
 "nbformat": 4,
 "nbformat_minor": 5
}

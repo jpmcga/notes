{
 "cells": [
  {
   "cell_type": "markdown",
   "id": "576834ef",
   "metadata": {},
   "source": [
    "# Sam's Teach Yourself Unix"
   ]
  },
  {
   "cell_type": "markdown",
   "id": "5efc0c76",
   "metadata": {},
   "source": [
    "## Hour 6: Manipulating files"
   ]
  },
  {
   "cell_type": "markdown",
   "id": "3f696174",
   "metadata": {},
   "source": [
    "### mkdir"
   ]
  },
  {
   "cell_type": "markdown",
   "id": "c747f2ac",
   "metadata": {},
   "source": [
    "mkdir default permissions 755; both r,x needed to read contents <br>\n",
    "To use mkdir, you need write permissions for current directory"
   ]
  },
  {
   "cell_type": "code",
   "execution_count": null,
   "id": "864f93a3",
   "metadata": {},
   "outputs": [],
   "source": [
    "# Get 'file already exists error if run twice\n",
    "!mkdir ch6"
   ]
  },
  {
   "cell_type": "code",
   "execution_count": null,
   "id": "d515d70b",
   "metadata": {},
   "outputs": [],
   "source": [
    "!ls -ld ch6"
   ]
  },
  {
   "cell_type": "markdown",
   "id": "a2740140",
   "metadata": {},
   "source": [
    "### cp"
   ]
  },
  {
   "cell_type": "markdown",
   "id": "84feb421",
   "metadata": {},
   "source": [
    "When using cp, filenames must both be absolute or both be relative"
   ]
  },
  {
   "cell_type": "code",
   "execution_count": null,
   "id": "39e5d23c",
   "metadata": {},
   "outputs": [],
   "source": [
    "# Use -r to copy directories\n",
    "!cp -r ch6/ ch6-cp"
   ]
  },
  {
   "cell_type": "code",
   "execution_count": null,
   "id": "403d63c4",
   "metadata": {},
   "outputs": [],
   "source": [
    "# Multple files can be copied to one directory\n",
    "!cp test_uniq.txt test_cp.txt\n",
    "!cp test_uniq.txt test_cp.txt ch6/"
   ]
  },
  {
   "cell_type": "code",
   "execution_count": null,
   "id": "bfaf2719",
   "metadata": {},
   "outputs": [],
   "source": [
    "!ls ch6/"
   ]
  },
  {
   "cell_type": "markdown",
   "id": "6f9b1307",
   "metadata": {},
   "source": [
    "### mv"
   ]
  },
  {
   "cell_type": "markdown",
   "id": "933ceacf",
   "metadata": {},
   "source": [
    "mv pretty much the same as cp; can be used to rename"
   ]
  },
  {
   "cell_type": "code",
   "execution_count": null,
   "id": "90e52f0b",
   "metadata": {},
   "outputs": [],
   "source": [
    "# Can't move . files\n",
    "!mv . copy."
   ]
  },
  {
   "cell_type": "code",
   "execution_count": null,
   "id": "4c12fe38",
   "metadata": {},
   "outputs": [],
   "source": [
    "# Be careful not to overright files\n",
    "!touch test_cp.txt\n",
    "!ls -l ch6/test_cp.txt\n",
    "!mv test_cp.txt ch6/\n",
    "!ls -l ch6/test_cp.txt # more recent creation date for second file\n",
    "!ls ch6/"
   ]
  },
  {
   "cell_type": "code",
   "execution_count": null,
   "id": "ac1aadff",
   "metadata": {},
   "outputs": [],
   "source": [
    "# Use -i to prevent accidents\n",
    "!mv -i test_uniq.txt ch6/ "
   ]
  },
  {
   "cell_type": "code",
   "execution_count": null,
   "id": "86258d0d",
   "metadata": {},
   "outputs": [],
   "source": [
    "# Can't rename a dir to existing file name\n",
    "!ls\n",
    "!mv ch6-cp/ say.hi"
   ]
  },
  {
   "cell_type": "markdown",
   "id": "81550ca4",
   "metadata": {},
   "source": [
    "### rmdir"
   ]
  },
  {
   "cell_type": "code",
   "execution_count": null,
   "id": "daf6b74d",
   "metadata": {},
   "outputs": [],
   "source": [
    "# Can't rmdir dirs with contents\n",
    "!rmdir ch6/"
   ]
  },
  {
   "cell_type": "markdown",
   "id": "4f092f0b",
   "metadata": {},
   "source": [
    "### rm"
   ]
  },
  {
   "cell_type": "code",
   "execution_count": null,
   "id": "57f0b812",
   "metadata": {},
   "outputs": [],
   "source": [
    "# rm more than 1 files\n",
    "!rm ch6/test_cp.txt ch6/test_uniq.txt"
   ]
  },
  {
   "cell_type": "code",
   "execution_count": null,
   "id": "6cc529d1",
   "metadata": {},
   "outputs": [],
   "source": [
    "# multiple commands seperated with ;\n",
    "!ls -dl ch6-cp/ ;rm -r ch6-cp/; ls"
   ]
  },
  {
   "cell_type": "code",
   "execution_count": null,
   "id": "5d02a549",
   "metadata": {},
   "outputs": [],
   "source": [
    "# pass file contents directly to grep; see what shell\n",
    "! grep root /etc/passwd\n",
    "! echo $SHELL"
   ]
  },
  {
   "cell_type": "code",
   "execution_count": null,
   "id": "2dac4c07",
   "metadata": {},
   "outputs": [],
   "source": [
    "# rm -f removes files, ignoring permission: BE CAREFUL"
   ]
  },
  {
   "cell_type": "markdown",
   "id": "a4b03bb0",
   "metadata": {},
   "source": [
    "### Setting alias's in zsh "
   ]
  },
  {
   "cell_type": "markdown",
   "id": "e9a511e7",
   "metadata": {},
   "source": [
    "alias flag alias_name=”command” <br>\n",
    "Add alias's to .zshrc in ~<br>\n",
    "Have to initialize with 'source ~.zshrc"
   ]
  },
  {
   "cell_type": "code",
   "execution_count": null,
   "id": "c59a643f",
   "metadata": {},
   "outputs": [],
   "source": [
    "!echo 'alias rmr=\"rm -ri\"' >> ~/.zshrc; source ~/.zshrc"
   ]
  },
  {
   "cell_type": "markdown",
   "id": "c8c9d8d9",
   "metadata": {},
   "source": [
    "sh (Bourne shell) lacks alias feature"
   ]
  },
  {
   "cell_type": "code",
   "execution_count": null,
   "id": "4a7e445f",
   "metadata": {},
   "outputs": [],
   "source": [
    "# available shells\n",
    "!ls -l /bin | grep sh"
   ]
  },
  {
   "cell_type": "code",
   "execution_count": null,
   "id": "e97b454a",
   "metadata": {},
   "outputs": [],
   "source": [
    "# change shells by typing any of ^\n",
    "!sh"
   ]
  },
  {
   "cell_type": "code",
   "execution_count": null,
   "id": "668d5d71",
   "metadata": {},
   "outputs": [],
   "source": []
  }
 ],
 "metadata": {
  "kernelspec": {
   "display_name": "Python 3 (ipykernel)",
   "language": "python",
   "name": "python3"
  },
  "language_info": {
   "codemirror_mode": {
    "name": "ipython",
    "version": 3
   },
   "file_extension": ".py",
   "mimetype": "text/x-python",
   "name": "python",
   "nbconvert_exporter": "python",
   "pygments_lexer": "ipython3",
   "version": "3.8.16"
  }
 },
 "nbformat": 4,
 "nbformat_minor": 5
}

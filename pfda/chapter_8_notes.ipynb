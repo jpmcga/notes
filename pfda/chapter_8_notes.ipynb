{
 "cells": [
  {
   "cell_type": "markdown",
   "id": "9bfc383b",
   "metadata": {},
   "source": [
    "# Notes for Python for Data Analysis 2nd Edition\n",
    "## Chapter 8: Data Wrangling: Join, Combine, and Reshape"
   ]
  },
  {
   "cell_type": "code",
   "execution_count": 6,
   "id": "0214d01d",
   "metadata": {},
   "outputs": [],
   "source": [
    "import pandas as pd\n",
    "import numpy as np"
   ]
  },
  {
   "cell_type": "code",
   "execution_count": 3,
   "id": "9cf9f8ec",
   "metadata": {},
   "outputs": [
    {
     "name": "stdout",
     "output_type": "stream",
     "text": [
      "   0  1  2  3  4\n",
      "0  0  1  2  3  4\n",
      "1  5  6  7  8  9\n",
      "    A   B   C   D   E\n",
      "0 NaN NaN NaN NaN NaN\n",
      "1 NaN NaN NaN NaN NaN\n",
      "   0  1  2  3  4\n",
      "0  0  1  2  3  4\n",
      "1  5  6  7  8  9\n",
      "   0  1  2  4\n",
      "3            \n",
      "3  0  1  2  4\n",
      "8  5  6  7  9\n"
     ]
    }
   ],
   "source": [
    "test = pd.DataFrame(np.arange(10).reshape(2, 5))\n",
    "print(test)\n",
    "# Columns have to map to original columns\n",
    "test2 = pd.DataFrame(test, columns=list('ABCDE')) \n",
    "print(test2)\n",
    "test3 = pd.DataFrame(test, columns=[0,1,2,3,4])\n",
    "print(test3)\n",
    "print(test3.set_index(3)) # set index"
   ]
  },
  {
   "cell_type": "code",
   "execution_count": 4,
   "id": "326716a2",
   "metadata": {},
   "outputs": [
    {
     "name": "stdout",
     "output_type": "stream",
     "text": [
      "    I               J\n",
      "    G       F       H\n",
      "    A   B   C   D   E\n",
      "0   0   1   2   3   4\n",
      "1   5   6   7   8   9\n",
      "2  10  11  12  13  14\n",
      "3  15  16  17  18  19\n",
      "MultiIndex([('I', 'G', 'A'),\n",
      "            ('I', 'G', 'B'),\n",
      "            ('I', 'F', 'C'),\n",
      "            ('I', 'F', 'D'),\n",
      "            ('J', 'H', 'E')],\n",
      "           )\n"
     ]
    },
    {
     "data": {
      "text/html": [
       "<div>\n",
       "<style scoped>\n",
       "    .dataframe tbody tr th:only-of-type {\n",
       "        vertical-align: middle;\n",
       "    }\n",
       "\n",
       "    .dataframe tbody tr th {\n",
       "        vertical-align: top;\n",
       "    }\n",
       "\n",
       "    .dataframe thead tr th {\n",
       "        text-align: left;\n",
       "    }\n",
       "</style>\n",
       "<table border=\"1\" class=\"dataframe\">\n",
       "  <thead>\n",
       "    <tr>\n",
       "      <th></th>\n",
       "      <th colspan=\"4\" halign=\"left\">I</th>\n",
       "      <th>J</th>\n",
       "    </tr>\n",
       "    <tr>\n",
       "      <th></th>\n",
       "      <th colspan=\"2\" halign=\"left\">G</th>\n",
       "      <th colspan=\"2\" halign=\"left\">F</th>\n",
       "      <th>H</th>\n",
       "    </tr>\n",
       "    <tr>\n",
       "      <th></th>\n",
       "      <th>A</th>\n",
       "      <th>B</th>\n",
       "      <th>C</th>\n",
       "      <th>D</th>\n",
       "      <th>E</th>\n",
       "    </tr>\n",
       "  </thead>\n",
       "  <tbody>\n",
       "    <tr>\n",
       "      <th>0</th>\n",
       "      <td>0</td>\n",
       "      <td>1</td>\n",
       "      <td>2</td>\n",
       "      <td>3</td>\n",
       "      <td>4</td>\n",
       "    </tr>\n",
       "    <tr>\n",
       "      <th>1</th>\n",
       "      <td>5</td>\n",
       "      <td>6</td>\n",
       "      <td>7</td>\n",
       "      <td>8</td>\n",
       "      <td>9</td>\n",
       "    </tr>\n",
       "    <tr>\n",
       "      <th>2</th>\n",
       "      <td>10</td>\n",
       "      <td>11</td>\n",
       "      <td>12</td>\n",
       "      <td>13</td>\n",
       "      <td>14</td>\n",
       "    </tr>\n",
       "    <tr>\n",
       "      <th>3</th>\n",
       "      <td>15</td>\n",
       "      <td>16</td>\n",
       "      <td>17</td>\n",
       "      <td>18</td>\n",
       "      <td>19</td>\n",
       "    </tr>\n",
       "  </tbody>\n",
       "</table>\n",
       "</div>"
      ],
      "text/plain": [
       "    I               J\n",
       "    G       F       H\n",
       "    A   B   C   D   E\n",
       "0   0   1   2   3   4\n",
       "1   5   6   7   8   9\n",
       "2  10  11  12  13  14\n",
       "3  15  16  17  18  19"
      ]
     },
     "execution_count": 4,
     "metadata": {},
     "output_type": "execute_result"
    }
   ],
   "source": [
    "test4 = pd.DataFrame(np.arange(20).reshape(4,5), columns=[\n",
    "                                                        ['I', 'I', 'I', 'I', 'J'],\n",
    "                                                        ['G', 'G', 'F', 'F', 'H'], \n",
    "                                                        list('ABCDE') #Inner-most\n",
    "                                                         ])\n",
    "print(test4)\n",
    "print(test4.columns)\n",
    "# You can reuse columsn\n",
    "pd.DataFrame(np.arange(20).reshape(4,5),\n",
    "             columns=test4.columns)"
   ]
  },
  {
   "cell_type": "code",
   "execution_count": 5,
   "id": "7bd88c5e",
   "metadata": {},
   "outputs": [
    {
     "data": {
      "text/plain": [
       "[('a', '2'), ('s', '2'), ('f', '2'), ('g', '2'), ('h', '2'), ('h', '2')]"
      ]
     },
     "execution_count": 5,
     "metadata": {},
     "output_type": "execute_result"
    }
   ],
   "source": [
    "l = list('asfghh')\n",
    "list(zip(l, '2'*len(l)))"
   ]
  },
  {
   "cell_type": "code",
   "execution_count": null,
   "id": "8400e650",
   "metadata": {},
   "outputs": [],
   "source": []
  }
 ],
 "metadata": {
  "kernelspec": {
   "display_name": "Python 3",
   "language": "python",
   "name": "python3"
  },
  "language_info": {
   "codemirror_mode": {
    "name": "ipython",
    "version": 3
   },
   "file_extension": ".py",
   "mimetype": "text/x-python",
   "name": "python",
   "nbconvert_exporter": "python",
   "pygments_lexer": "ipython3",
   "version": "3.8.8"
  }
 },
 "nbformat": 4,
 "nbformat_minor": 5
}

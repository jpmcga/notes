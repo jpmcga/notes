{
 "cells": [
  {
   "cell_type": "markdown",
   "id": "c457ff15",
   "metadata": {},
   "source": [
    "# Chapter 3: Intro to Hypothesis Testing"
   ]
  },
  {
   "cell_type": "code",
   "execution_count": 180,
   "id": "d830dc9d",
   "metadata": {},
   "outputs": [],
   "source": [
    "from typing import Tuple\n",
    "from utils import utils\n",
    "\n",
    "import math\n",
    "import random"
   ]
  },
  {
   "cell_type": "code",
   "execution_count": 168,
   "id": "14fc9401",
   "metadata": {},
   "outputs": [
    {
     "name": "stdout",
     "output_type": "stream",
     "text": [
      "    coutn_heads (n=20)   probability\n",
      "0                    0  9.536743e-07\n",
      "1                    1  1.907349e-05\n",
      "2                    2  1.811981e-04\n",
      "3                    3  1.087189e-03\n",
      "4                    4  4.620552e-03\n",
      "5                    5  1.478577e-02\n",
      "6                    6  3.696442e-02\n",
      "7                    7  7.392883e-02\n",
      "8                    8  1.201344e-01\n",
      "9                    9  1.601791e-01\n",
      "10                  10  1.761971e-01\n",
      "11                  11  1.601791e-01\n",
      "12                  12  1.201344e-01\n",
      "13                  13  7.392883e-02\n",
      "14                  14  3.696442e-02\n",
      "15                  15  1.478577e-02\n",
      "16                  16  4.620552e-03\n",
      "17                  17  1.087189e-03\n",
      "18                  18  1.811981e-04\n",
      "19                  19  1.907349e-05\n",
      "20                  20  9.536743e-07\n"
     ]
    },
    {
     "data": {
      "text/plain": [
       "0.12"
      ]
     },
     "execution_count": 168,
     "metadata": {},
     "output_type": "execute_result"
    }
   ],
   "source": [
    "# To set chance of wrongly rejecting 'coin is fair' to ~12, select 7-14 exclusive as bounds at n=20\n",
    "table = utils.get_probability_table(20)\n",
    "print(table)\n",
    "round(1 - sum(table[(table['coutn_heads (n=20)'] > 6) & (table['coutn_heads (n=20)'] < 14)].probability), 2)"
   ]
  },
  {
   "cell_type": "markdown",
   "id": "a8ae9fd6",
   "metadata": {},
   "source": [
    "**Exercise 1**: 44 heads in 100 tosses"
   ]
  },
  {
   "cell_type": "code",
   "execution_count": 169,
   "id": "667cdec1",
   "metadata": {},
   "outputs": [
    {
     "data": {
      "text/plain": [
       "0.039"
      ]
     },
     "execution_count": 169,
     "metadata": {},
     "output_type": "execute_result"
    }
   ],
   "source": [
    "round(utils.get_binary_probability(100, 44), 3) \n",
    "# 4% chace"
   ]
  },
  {
   "cell_type": "markdown",
   "id": "cc57def4",
   "metadata": {},
   "source": [
    "**Exercise 2**: 10 heads in 100 tosses"
   ]
  },
  {
   "cell_type": "code",
   "execution_count": 170,
   "id": "e923978b",
   "metadata": {},
   "outputs": [
    {
     "data": {
      "text/plain": [
       "1.3655426387463099e-17"
      ]
     },
     "execution_count": 170,
     "metadata": {},
     "output_type": "execute_result"
    }
   ],
   "source": [
    "utils.get_binary_probability(100, 10)"
   ]
  },
  {
   "cell_type": "markdown",
   "id": "f9da5bd6",
   "metadata": {},
   "source": [
    "**Exercise 3**: If you flip a coin 100 times, what should the zone of acceptance be for 5% type 1 error?"
   ]
  },
  {
   "cell_type": "code",
   "execution_count": 213,
   "id": "e99a6736",
   "metadata": {},
   "outputs": [
    {
     "data": {
      "text/plain": [
       "(40, 60)"
      ]
     },
     "execution_count": 213,
     "metadata": {},
     "output_type": "execute_result"
    }
   ],
   "source": [
    "def get_acceptance_zone(n: int, tolerance: float=5) -> Tuple[int, int]:\n",
    "    '''Returns upper and lower bounds, inclusive.'''\n",
    "\n",
    "    probs = utils.get_probability_table(n)['probability']\n",
    "    n = len(probs)\n",
    "    if n % 2 != 0:\n",
    "        midpoint = len(probs)//2\n",
    "        lower, upper = midpoint - 1, midpoint + 1\n",
    "        total = probs[midpoint]\n",
    "    elif n % 2 == 0:\n",
    "        lower, upper = n/2, n/2 + 1\n",
    "        total = probs[lower] + probs[upper]\n",
    "        lower, upper = lower - 1, upper + 1\n",
    "\n",
    "    while total < (1 - tolerance/100):\n",
    "        try:\n",
    "            total += probs[lower] + probs[upper]\n",
    "            lower -= 1\n",
    "            upper += 1\n",
    "        except KeyError:\n",
    "            return 0, n\n",
    "\n",
    "    return lower + 1, upper - 1\n",
    "\n",
    "get_acceptance_zone(100, 5)"
   ]
  },
  {
   "cell_type": "markdown",
   "id": "589a0d7f",
   "metadata": {},
   "source": [
    "If you flip 5 times?"
   ]
  },
  {
   "cell_type": "code",
   "execution_count": 214,
   "id": "5d4fd935",
   "metadata": {},
   "outputs": [
    {
     "data": {
      "text/plain": [
       "(0, 6)"
      ]
     },
     "execution_count": 214,
     "metadata": {},
     "output_type": "execute_result"
    }
   ],
   "source": [
    "get_acceptance_zone(5) # Can't reject null hypothsis, acceptance zone > range"
   ]
  },
  {
   "cell_type": "markdown",
   "id": "64f2d93c",
   "metadata": {},
   "source": [
    "If you flip 10 times?"
   ]
  },
  {
   "cell_type": "code",
   "execution_count": 215,
   "id": "f4ed8810",
   "metadata": {},
   "outputs": [
    {
     "name": "stdout",
     "output_type": "stream",
     "text": [
      "    coutn_heads (n=10)  probability\n",
      "0                    0     0.000977\n",
      "1                    1     0.009766\n",
      "2                    2     0.043945\n",
      "3                    3     0.117188\n",
      "4                    4     0.205078\n",
      "5                    5     0.246094\n",
      "6                    6     0.205078\n",
      "7                    7     0.117188\n",
      "8                    8     0.043945\n",
      "9                    9     0.009766\n",
      "10                  10     0.000977\n"
     ]
    },
    {
     "data": {
      "text/plain": [
       "(2, 8)"
      ]
     },
     "execution_count": 215,
     "metadata": {},
     "output_type": "execute_result"
    }
   ],
   "source": [
    "print(utils.get_probability_table(10))\n",
    "get_acceptance_zone(10)"
   ]
  },
  {
   "cell_type": "markdown",
   "id": "464fb434",
   "metadata": {},
   "source": [
    "**Exercise 5**: Flip a coin 20x100 times, reject or accept hypothesis that that the coin is fair in each."
   ]
  },
  {
   "cell_type": "code",
   "execution_count": 275,
   "id": "55c8c882",
   "metadata": {},
   "outputs": [
    {
     "name": "stdout",
     "output_type": "stream",
     "text": [
      "[8, 9, 11, 12, 8, 12, 9, 11, 7, 10, 11, 12, 10, 13, 12, 13, 10, 13, 10, 8, 10, 9, 11, 9, 8, 9, 10, 11, 12, 10, 7, 5, 8, 7, 7, 10, 12, 13, 12, 11, 7, 13, 11, 8, 13, 13, 11, 11, 13, 8, 8, 12, 12, 7, 12, 9, 15, 12, 5, 6, 8, 10, 10, 13, 16, 6, 10, 11, 7, 9, 10, 10, 6, 12, 14, 14, 11, 8, 11, 12, 10, 12, 10, 8, 15, 11, 13, 9, 12, 9, 6, 7, 11, 7, 13, 8, 9, 6, 8, 9]\n"
     ]
    }
   ],
   "source": [
    "results = [[random.choice(['H','T']) for i in range(20)].count('H') for j in range(100)]\n",
    "print(results)"
   ]
  },
  {
   "cell_type": "code",
   "execution_count": 276,
   "id": "9e1ef1fe",
   "metadata": {},
   "outputs": [
    {
     "name": "stdout",
     "output_type": "stream",
     "text": [
      "6 14\n"
     ]
    }
   ],
   "source": [
    "lower, upper = get_acceptance_zone(n=20, tolerance=5)\n",
    "print(lower, upper)"
   ]
  },
  {
   "cell_type": "code",
   "execution_count": 277,
   "id": "c67da5d4",
   "metadata": {},
   "outputs": [
    {
     "name": "stdout",
     "output_type": "stream",
     "text": [
      "coin accepted as fair 95 times\n"
     ]
    }
   ],
   "source": [
    "fairs = sum([1 if lower <= result <= upper else 0 for result in results])\n",
    "print(f'coin accepted as fair {fairs} times')"
   ]
  }
 ],
 "metadata": {
  "kernelspec": {
   "display_name": "Python 3 (ipykernel)",
   "language": "python",
   "name": "python3"
  },
  "language_info": {
   "codemirror_mode": {
    "name": "ipython",
    "version": 3
   },
   "file_extension": ".py",
   "mimetype": "text/x-python",
   "name": "python",
   "nbconvert_exporter": "python",
   "pygments_lexer": "ipython3",
   "version": "3.9.16"
  }
 },
 "nbformat": 4,
 "nbformat_minor": 5
}

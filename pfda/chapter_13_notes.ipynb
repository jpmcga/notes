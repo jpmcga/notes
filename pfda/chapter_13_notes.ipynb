{
 "cells": [
  {
   "cell_type": "markdown",
   "id": "4b93418e",
   "metadata": {},
   "source": [
    "# Chapter 13: Introduction to Modeling Libraries in Python"
   ]
  },
  {
   "cell_type": "code",
   "execution_count": 137,
   "id": "be4993c3",
   "metadata": {},
   "outputs": [],
   "source": [
    "import matplotlib.pyplot as plt\n",
    "import numpy as np\n",
    "import pandas as pd\n",
    "import patsy\n",
    "from sklearn.linear_model import LogisticRegression, LogisticRegressionCV\n",
    "from sklearn.model_selection import cross_val_score"
   ]
  },
  {
   "cell_type": "code",
   "execution_count": 53,
   "id": "cbdb5013",
   "metadata": {},
   "outputs": [],
   "source": [
    "# !pip3 install patsy\n",
    "# !pip3 install statsmodels # This install scipy as well\n",
    "# !pip3 install sklearn"
   ]
  },
  {
   "cell_type": "markdown",
   "id": "784ce8dd",
   "metadata": {},
   "source": [
    "## 13.1 Interfacing Between pandas and Model Code"
   ]
  },
  {
   "cell_type": "code",
   "execution_count": 54,
   "id": "ec2be781",
   "metadata": {},
   "outputs": [
    {
     "name": "stdout",
     "output_type": "stream",
     "text": [
      "          x         y         z\n",
      "0 -0.676378 -1.060422  1.052266\n",
      "1 -1.008403 -0.507090  0.884576\n",
      "2  0.371285  0.247642 -0.236017\n",
      "\n",
      "[[-0.67637811 -1.06042178  1.05226641]\n",
      " [-1.00840329 -0.50709034  0.88457587]\n",
      " [ 0.37128546  0.24764216 -0.23601696]]\n",
      "\n",
      "          x         y         z cat\n",
      "0 -0.676378 -1.060422  1.052266   c\n",
      "1 -1.008403 -0.507090  0.884576   a\n",
      "2  0.371285  0.247642 -0.236017   t\n",
      "\n",
      "[[-0.6763781063165866 -1.0604217791063804 1.0522664130081765 'c']\n",
      " [-1.0084032909085718 -0.5070903429512751 0.8845758699720678 'a']\n",
      " [0.37128545818383824 0.24764215946110685 -0.23601696290219076 't']]\n",
      "\n",
      "[[-0.67637811 -1.06042178]\n",
      " [-1.00840329 -0.50709034]\n",
      " [ 0.37128546  0.24764216]]\n"
     ]
    }
   ],
   "source": [
    "# numpy array main entry point into modeling code\n",
    "# use pd. values to get array from df\n",
    "df = pd.DataFrame(np.random.randn(3,3),\n",
    "                 columns=list('xyz'))\n",
    "print(df)\n",
    "print()\n",
    "print(df.values)\n",
    "print()\n",
    "\n",
    "# if df contains non-numeric column, then returns python object instead of array\n",
    "# ^actually I think this is wrong in the book?\n",
    "df2 = df.assign(cat = list('cat'))\n",
    "print(df2)\n",
    "print()\n",
    "print(df2.values)\n",
    "print()\n",
    "# Can work after calling .loc()/.iloc() for subset of columns\n",
    "print(df2.loc[:, ['x', 'y']].values)"
   ]
  },
  {
   "cell_type": "code",
   "execution_count": 55,
   "id": "6c5fc066",
   "metadata": {},
   "outputs": [
    {
     "name": "stdout",
     "output_type": "stream",
     "text": [
      "   index         x         y         z cat\n",
      "0      0 -0.676378 -1.060422  1.052266   c\n",
      "1      1 -1.008403 -0.507090  0.884576   a\n",
      "2      2  0.371285  0.247642 -0.236017   t\n",
      "3      0 -0.676378 -1.060422  1.052266   c\n",
      "4      1 -1.008403 -0.507090  0.884576   a\n",
      "5      2  0.371285  0.247642 -0.236017   t\n",
      "   category_a  category_c  category_t\n",
      "0           0           1           0\n",
      "1           1           0           0\n",
      "2           0           0           1\n",
      "3           0           1           0\n",
      "4           1           0           0\n",
      "5           0           0           1\n"
     ]
    }
   ],
   "source": [
    "# More crap about dummies\n",
    "df3 = pd.concat([df2,df2]).reset_index()\n",
    "df3['cat'] = df3['cat'].astype('category')\n",
    "print(df3)\n",
    "print(pd.get_dummies(df3.cat, prefix='category'))"
   ]
  },
  {
   "cell_type": "markdown",
   "id": "f2ac436b",
   "metadata": {},
   "source": [
    "## 13.2 Create Model Descriptions with Patsy"
   ]
  },
  {
   "cell_type": "code",
   "execution_count": 81,
   "id": "73ceb1c9",
   "metadata": {},
   "outputs": [
    {
     "name": "stdout",
     "output_type": "stream",
     "text": [
      "   index        x0        x1         y\n",
      "0      0 -0.676378 -1.060422  1.052266\n",
      "1      1 -1.008403 -0.507090  0.884576\n",
      "2      2  0.371285  0.247642 -0.236017\n",
      "3      0 -0.676378 -1.060422  1.052266\n",
      "4      1 -1.008403 -0.507090  0.884576\n",
      "5      2  0.371285  0.247642 -0.236017\n"
     ]
    },
    {
     "name": "stderr",
     "output_type": "stream",
     "text": [
      "<ipython-input-81-6b14491a58e5>:6: FutureWarning: `rcond` parameter will change to the default of machine precision times ``max(M, N)`` where M and N are the input matrix dimensions.\n",
      "To use the future default and silence this warning we advise to pass `rcond=None`, to keep using the old, explicitly pass `rcond=-1`.\n",
      "  m, c, _ = np.linalg.lstsq(X, y)[0]\n"
     ]
    },
    {
     "data": {
      "text/plain": [
       "['Intercept', 'x0', 'x1']"
      ]
     },
     "execution_count": 81,
     "metadata": {},
     "output_type": "execute_result"
    }
   ],
   "source": [
    "# Creates a design matrix for a linear model; this is how you calculate best fit, look more at later\n",
    "df4 = df3.rename({'x' : 'x0', 'y' : 'x1', 'z' : 'y'}, axis=1).drop('cat', axis=1)\n",
    "print(df4)\n",
    "y, X = patsy.dmatrices('y ~ x0 + x1', df4)\n",
    "# y and X can be passed to modeling algorithms\n",
    "m, c, _ = np.linalg.lstsq(X, y)[0]\n",
    "X.design_info.column_names"
   ]
  },
  {
   "cell_type": "markdown",
   "id": "5ea72388",
   "metadata": {},
   "source": [
    "## 13.3 Introduction to statsmodels"
   ]
  },
  {
   "cell_type": "code",
   "execution_count": 87,
   "id": "bdf44b33",
   "metadata": {},
   "outputs": [
    {
     "data": {
      "text/plain": [
       "array([-0.87495658,  0.31120191,  1.24030454, -1.12004342, -0.3884077 ,\n",
       "        0.93814285, -0.38924335, -0.03901993, -0.58522164, -0.78158158,\n",
       "        0.78160203,  0.10224077, -0.18817524,  0.32067118,  0.67286008,\n",
       "        0.97329704,  0.46005419,  0.47053133, -0.38710177,  0.61971866,\n",
       "        0.29706809,  0.66270252, -0.99231237,  1.6971995 , -0.31356914,\n",
       "       -1.09448183,  0.98947728, -0.24269465,  0.53419278, -0.41234328,\n",
       "        0.06684822, -1.11210295, -0.91731703, -0.94097966,  0.0942037 ,\n",
       "       -1.90721074, -0.22879527, -0.90579541,  0.12145763,  0.70936227,\n",
       "        0.80570331, -1.34562689, -0.88520595,  0.72661909, -2.08314237,\n",
       "        1.66335156,  1.71551676, -0.40011703,  2.11626804,  0.65059548,\n",
       "       -0.34345205, -0.32895591,  0.38350458,  0.3993298 ,  0.08543497,\n",
       "        0.17092936,  0.08289908, -0.79115884, -0.26846622, -0.09880826,\n",
       "        0.46880687, -0.9679511 ,  0.89040802, -0.17127164,  0.3465699 ,\n",
       "       -0.34897462, -1.37184923,  0.96717264, -0.72159782,  1.7337086 ,\n",
       "       -0.10560011, -1.57980359, -0.41308156,  0.94854478, -0.9231617 ,\n",
       "        1.36430677,  0.95538125, -0.3940664 , -0.12490673,  0.20207679,\n",
       "       -0.60037027, -1.48135429,  0.02358454, -1.04903153,  0.88592444,\n",
       "       -1.45965099,  1.13971897, -0.92697823, -0.20684801, -0.58745936,\n",
       "        1.92557168,  0.88786263, -0.34526202, -0.78311873,  0.74967177,\n",
       "        0.37365692,  0.95838529, -0.77000495,  0.67363624,  0.60290162])"
      ]
     },
     "execution_count": 87,
     "metadata": {},
     "output_type": "execute_result"
    }
   ],
   "source": [
    "# Can generate basic linear models, ANOVA, not Bayesian or ML technique\n",
    "# Generally need to know more before useful"
   ]
  },
  {
   "cell_type": "markdown",
   "id": "831565ac",
   "metadata": {},
   "source": [
    "## 13.4  Introduction to scikit-learn"
   ]
  },
  {
   "cell_type": "code",
   "execution_count": null,
   "id": "185eb569",
   "metadata": {},
   "outputs": [],
   "source": [
    "# Can be used for predictive models, unsupervised, supervised etc"
   ]
  },
  {
   "cell_type": "code",
   "execution_count": 103,
   "id": "8bbffa7f",
   "metadata": {},
   "outputs": [],
   "source": [
    "# Download model (train) and test data; use train to make a model\n",
    "\n",
    "train = (pd\n",
    "         .read_html('https://github.com/wesm/pydata-book/blob/3rd-edition/datasets/titanic/train.csv')[0]\n",
    "         .drop('Unnamed: 0', axis=1)\n",
    "        )\n",
    "\n",
    "test = (pd\n",
    "         .read_html('https://github.com/wesm/pydata-book/blob/3rd-edition/datasets/titanic/test.csv')[0]\n",
    "         .drop('Unnamed: 0', axis=1)\n",
    "        )"
   ]
  },
  {
   "cell_type": "code",
   "execution_count": 132,
   "id": "b8bc3690",
   "metadata": {},
   "outputs": [],
   "source": [
    "# Fill in Na, create numeric column 'IsFemale'\n",
    "\n",
    "train['Age'] = train.Age.fillna(train.Age.median())\n",
    "test['Age'] = test.Age.fillna(train.Age.median())\n",
    "\n",
    "for df in [train, test]:\n",
    "    df['IsFemale'] = (df.Sex == 'female').astype(int)"
   ]
  },
  {
   "cell_type": "code",
   "execution_count": 150,
   "id": "677cb841",
   "metadata": {},
   "outputs": [
    {
     "data": {
      "text/plain": [
       "array([0, 0, 0, 0, 1, 0, 1, 0, 1, 0])"
      ]
     },
     "execution_count": 150,
     "metadata": {},
     "output_type": "execute_result"
    }
   ],
   "source": [
    "# Convert to numpy arrays x for train and test and y for test\n",
    "\n",
    "predictors = ['Pclass', 'IsFemale', 'Age']\n",
    "X_train = train[predictors].values\n",
    "X_test = test[predictors].values\n",
    "y_train = train['Survived'].values\n",
    "\n",
    "# Initiate model\n",
    "model = LogisticRegression()\n",
    "model.fit(X_train, y_train)\n",
    "\n",
    "y_predict = model.predict(X_test) # Predict test values based on the model\n",
    "y_predict[:10]"
   ]
  },
  {
   "cell_type": "code",
   "execution_count": 157,
   "id": "e127c5bb",
   "metadata": {},
   "outputs": [
    {
     "name": "stderr",
     "output_type": "stream",
     "text": [
      "/Users/jamesm/opt/anaconda3/lib/python3.8/site-packages/sklearn/utils/validation.py:70: FutureWarning: Pass Cs=10 as keyword args. From version 1.0 (renaming of 0.25) passing these as positional arguments will result in an error\n",
      "  warnings.warn(f\"Pass {args_msg} as keyword args. From version \"\n",
      "/Users/jamesm/opt/anaconda3/lib/python3.8/site-packages/sklearn/model_selection/_validation.py:610: FitFailedWarning: Estimator fit failed. The score on this train-test partition for these parameters will be set to nan. Details: \n",
      "Traceback (most recent call last):\n",
      "  File \"/Users/jamesm/opt/anaconda3/lib/python3.8/site-packages/sklearn/model_selection/_validation.py\", line 593, in _fit_and_score\n",
      "    estimator.fit(X_train, y_train, **fit_params)\n",
      "  File \"/Users/jamesm/opt/anaconda3/lib/python3.8/site-packages/sklearn/linear_model/_logistic.py\", line 1306, in fit\n",
      "    solver = _check_solver(self.solver, self.penalty, self.dual)\n",
      "  File \"/Users/jamesm/opt/anaconda3/lib/python3.8/site-packages/sklearn/linear_model/_logistic.py\", line 439, in _check_solver\n",
      "    raise ValueError(\"Logistic Regression supports only penalties in %s,\"\n",
      "ValueError: Logistic Regression supports only penalties in ['l1', 'l2', 'elasticnet', 'none'], got 10.\n",
      "\n",
      "  warnings.warn(\"Estimator fit failed. The score on this train-test\"\n",
      "/Users/jamesm/opt/anaconda3/lib/python3.8/site-packages/sklearn/model_selection/_validation.py:610: FitFailedWarning: Estimator fit failed. The score on this train-test partition for these parameters will be set to nan. Details: \n",
      "Traceback (most recent call last):\n",
      "  File \"/Users/jamesm/opt/anaconda3/lib/python3.8/site-packages/sklearn/model_selection/_validation.py\", line 593, in _fit_and_score\n",
      "    estimator.fit(X_train, y_train, **fit_params)\n",
      "  File \"/Users/jamesm/opt/anaconda3/lib/python3.8/site-packages/sklearn/linear_model/_logistic.py\", line 1306, in fit\n",
      "    solver = _check_solver(self.solver, self.penalty, self.dual)\n",
      "  File \"/Users/jamesm/opt/anaconda3/lib/python3.8/site-packages/sklearn/linear_model/_logistic.py\", line 439, in _check_solver\n",
      "    raise ValueError(\"Logistic Regression supports only penalties in %s,\"\n",
      "ValueError: Logistic Regression supports only penalties in ['l1', 'l2', 'elasticnet', 'none'], got 10.\n",
      "\n",
      "  warnings.warn(\"Estimator fit failed. The score on this train-test\"\n",
      "/Users/jamesm/opt/anaconda3/lib/python3.8/site-packages/sklearn/model_selection/_validation.py:610: FitFailedWarning: Estimator fit failed. The score on this train-test partition for these parameters will be set to nan. Details: \n",
      "Traceback (most recent call last):\n",
      "  File \"/Users/jamesm/opt/anaconda3/lib/python3.8/site-packages/sklearn/model_selection/_validation.py\", line 593, in _fit_and_score\n",
      "    estimator.fit(X_train, y_train, **fit_params)\n",
      "  File \"/Users/jamesm/opt/anaconda3/lib/python3.8/site-packages/sklearn/linear_model/_logistic.py\", line 1306, in fit\n",
      "    solver = _check_solver(self.solver, self.penalty, self.dual)\n",
      "  File \"/Users/jamesm/opt/anaconda3/lib/python3.8/site-packages/sklearn/linear_model/_logistic.py\", line 439, in _check_solver\n",
      "    raise ValueError(\"Logistic Regression supports only penalties in %s,\"\n",
      "ValueError: Logistic Regression supports only penalties in ['l1', 'l2', 'elasticnet', 'none'], got 10.\n",
      "\n",
      "  warnings.warn(\"Estimator fit failed. The score on this train-test\"\n",
      "/Users/jamesm/opt/anaconda3/lib/python3.8/site-packages/sklearn/model_selection/_validation.py:610: FitFailedWarning: Estimator fit failed. The score on this train-test partition for these parameters will be set to nan. Details: \n",
      "Traceback (most recent call last):\n",
      "  File \"/Users/jamesm/opt/anaconda3/lib/python3.8/site-packages/sklearn/model_selection/_validation.py\", line 593, in _fit_and_score\n",
      "    estimator.fit(X_train, y_train, **fit_params)\n",
      "  File \"/Users/jamesm/opt/anaconda3/lib/python3.8/site-packages/sklearn/linear_model/_logistic.py\", line 1306, in fit\n",
      "    solver = _check_solver(self.solver, self.penalty, self.dual)\n",
      "  File \"/Users/jamesm/opt/anaconda3/lib/python3.8/site-packages/sklearn/linear_model/_logistic.py\", line 439, in _check_solver\n",
      "    raise ValueError(\"Logistic Regression supports only penalties in %s,\"\n",
      "ValueError: Logistic Regression supports only penalties in ['l1', 'l2', 'elasticnet', 'none'], got 10.\n",
      "\n",
      "  warnings.warn(\"Estimator fit failed. The score on this train-test\"\n"
     ]
    },
    {
     "data": {
      "text/plain": [
       "array([nan, nan, nan, nan])"
      ]
     },
     "execution_count": 157,
     "metadata": {},
     "output_type": "execute_result"
    }
   ],
   "source": [
    "# Cross validation used a subsection of the training data to confirm the model\n",
    "# LogisticRegressionCV class has built in Cross-validation (CV)\n",
    "model_cv = LogisticRegressionCV(10)  # 10 built in regularization parameter 'C\"\n",
    "model_cv.fit(X_train, y_train)\n",
    "model_cv.get_params() # Cs=10 w.e that means\n",
    "\n",
    "# Using cross_val_score\n",
    "model2 = LogisticRegression(10)\n",
    "scores = cross_val_score(model2, X_train, y_train, cv=4) # Perform 4 seperate cross-validations\n",
    "scores"
   ]
  },
  {
   "cell_type": "code",
   "execution_count": null,
   "id": "fe02619d",
   "metadata": {},
   "outputs": [],
   "source": []
  }
 ],
 "metadata": {
  "kernelspec": {
   "display_name": "Python 3",
   "language": "python",
   "name": "python3"
  },
  "language_info": {
   "codemirror_mode": {
    "name": "ipython",
    "version": 3
   },
   "file_extension": ".py",
   "mimetype": "text/x-python",
   "name": "python",
   "nbconvert_exporter": "python",
   "pygments_lexer": "ipython3",
   "version": "3.8.8"
  }
 },
 "nbformat": 4,
 "nbformat_minor": 5
}

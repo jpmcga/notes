{
 "cells": [
  {
   "cell_type": "markdown",
   "metadata": {},
   "source": [
    "# Sam's Teach Yourself Unix"
   ]
  },
  {
   "cell_type": "markdown",
   "metadata": {},
   "source": [
    "## Chapter 13 Introduction to Command Shells"
   ]
  },
  {
   "cell_type": "markdown",
   "metadata": {},
   "source": [
    "### Command Shells"
   ]
  },
  {
   "cell_type": "code",
   "execution_count": null,
   "metadata": {},
   "outputs": [],
   "source": [
    "# default login shells\n",
    "! awk -F: '{print $7}' /etc/passwd | sort | uniq -c | grep sh\n",
    "# how many 'logins' are there\n",
    "! wc -l /etc/passwd"
   ]
  },
  {
   "cell_type": "code",
   "execution_count": null,
   "metadata": {},
   "outputs": [],
   "source": [
    "# All shells\n",
    "! ls /bin/ | grep sh"
   ]
  },
  {
   "cell_type": "markdown",
   "metadata": {},
   "source": [
    "- bash is a GNU replacement for Bourne shell (sh) from AT&T\n",
    "- zsh login shell for macOS since 2019"
   ]
  },
  {
   "cell_type": "code",
   "execution_count": null,
   "metadata": {},
   "outputs": [],
   "source": [
    "# indentify my shell\n",
    "! echo $SHELL\n",
    "# or with ps\n",
    "! echo $$ # Process ID of shell...but looks more like pid of current call??\n",
    "! ps -ef | grep $$"
   ]
  },
  {
   "cell_type": "markdown",
   "metadata": {},
   "source": [
    "- Current shell zsh"
   ]
  },
  {
   "cell_type": "code",
   "execution_count": null,
   "metadata": {},
   "outputs": [],
   "source": [
    "# Passwords in macOS must be different than UNIX; set $1 to random thing\n",
    "! awk -F: '{ if ($1 == \"_tokend\") print \"will this work: \"$7}' < /etc/passwd"
   ]
  },
  {
   "cell_type": "markdown",
   "metadata": {},
   "source": [
    "### Choosing new shell"
   ]
  },
  {
   "cell_type": "code",
   "execution_count": null,
   "metadata": {},
   "outputs": [],
   "source": [
    "# more shells in /usr/local/bin\n",
    "! ls -1F /bin/*sh* /usr/local/bin/*sh* | uniq -c"
   ]
  },
  {
   "cell_type": "markdown",
   "metadata": {},
   "source": [
    "- Use 'chsh' to change shell, doesn't work in jupyter\n",
    "- in macOS 'chsh' opens a config file in vi where I can change my default login.\n",
    "- can change shell by just call the shell"
   ]
  },
  {
   "cell_type": "code",
   "execution_count": null,
   "metadata": {},
   "outputs": [],
   "source": [
    "! /bin/bash\n",
    "# ^ opens up an interactive shell"
   ]
  },
  {
   "cell_type": "markdown",
   "metadata": {},
   "source": [
    "- Using !cmd in the cli will bring up all command using the cmd pattern! Doesn't work in jupyter"
   ]
  },
  {
   "cell_type": "markdown",
   "metadata": {},
   "source": [
    "### Enviroment variables"
   ]
  },
  {
   "cell_type": "code",
   "execution_count": null,
   "metadata": {},
   "outputs": [],
   "source": [
    "# view enviroment variables\n",
    "! env | cat -n"
   ]
  },
  {
   "cell_type": "code",
   "execution_count": null,
   "metadata": {},
   "outputs": [],
   "source": [
    "# set also tells you a ton of stuff\n",
    "! set"
   ]
  },
  {
   "cell_type": "code",
   "execution_count": null,
   "metadata": {},
   "outputs": [],
   "source": [
    "# Use echo to seem env variables\n",
    "! echo $HOME"
   ]
  },
  {
   "cell_type": "markdown",
   "metadata": {},
   "source": [
    "### Config files"
   ]
  },
  {
   "cell_type": "code",
   "execution_count": null,
   "metadata": {},
   "outputs": [],
   "source": [
    "# Cat files in ~; so much useful stuff in here\n",
    "! ls -a ~/.*"
   ]
  },
  {
   "cell_type": "code",
   "execution_count": null,
   "metadata": {},
   "outputs": [],
   "source": [
    "# all my conda enviroment\n",
    "! cat /Users/jamesm/.conda/environments.txt"
   ]
  },
  {
   "cell_type": "code",
   "execution_count": null,
   "metadata": {},
   "outputs": [],
   "source": [
    "# aws stuff\n",
    "! cat /Users/jamesm/.aws/config"
   ]
  },
  {
   "cell_type": "code",
   "execution_count": null,
   "metadata": {},
   "outputs": [],
   "source": [
    "# bash history\n",
    "! cat /Users/jamesm/.bash_history"
   ]
  },
  {
   "cell_type": "markdown",
   "metadata": {},
   "source": [
    "- config info for zsh in ~/.zshrc\n",
    "- Looks like it was created by conda"
   ]
  },
  {
   "cell_type": "code",
   "execution_count": null,
   "metadata": {},
   "outputs": [],
   "source": [
    "! cat /Users/jamesm/.zshrc"
   ]
  },
  {
   "cell_type": "code",
   "execution_count": null,
   "metadata": {},
   "outputs": [],
   "source": [
    "! set test=test\n",
    "! set | grep test "
   ]
  },
  {
   "cell_type": "markdown",
   "metadata": {},
   "source": [
    "To initialize zsh, call zsh, then the alias's in .zshrc will be available"
   ]
  },
  {
   "cell_type": "code",
   "execution_count": null,
   "metadata": {},
   "outputs": [],
   "source": [
    "! rmr egrep\n",
    "# doesn't work in jupyter"
   ]
  },
  {
   "cell_type": "code",
   "execution_count": null,
   "metadata": {},
   "outputs": [],
   "source": [
    "# Global config file in /etc/zshrc\n",
    "! ls /etc/*zsh*"
   ]
  },
  {
   "cell_type": "markdown",
   "metadata": {},
   "source": [
    "### csh"
   ]
  },
  {
   "cell_type": "markdown",
   "metadata": {},
   "source": [
    "- in csh, .login is a config initiated on login, .cshrc is initiated every time the shell starts.\n",
    "-  Not created by default\n",
    "- (switching to cli to mess with csh)\n",
    "    - setenv TEST test\n",
    "- 'set' sets configs for csh\n",
    "- I made ~/.login, but doesn't seem to work when log into zsh from cli\n",
    "- https://www.oreilly.com/library/view/learning-unix-for/0596004702/ch04s02.html\n",
    "- **macOS uses .tcshrc not cshrc!!!!**"
   ]
  },
  {
   "cell_type": "code",
   "execution_count": null,
   "metadata": {},
   "outputs": [],
   "source": [
    "# Global config file in /etc/csh.login csh.cshrc\n",
    "! ls /etc/*csh*\n",
    "! cat /etc/csh.cshrc"
   ]
  },
  {
   "cell_type": "markdown",
   "metadata": {},
   "source": [
    "### Exercises"
   ]
  },
  {
   "cell_type": "markdown",
   "metadata": {},
   "source": [
    "What does chsh do? What about chfn?\n",
    "- In Unix chsh changes shell, chfn changes 'fingerprint' (info in etc/passwd)\n",
    "- In MacOS they do the same: vim into a text doc with user info."
   ]
  },
  {
   "cell_type": "markdown",
   "metadata": {},
   "source": [
    "Where are .login and rc files for other shells?"
   ]
  },
  {
   "cell_type": "code",
   "execution_count": null,
   "metadata": {},
   "outputs": [],
   "source": [
    "! ls /etc/*sh*"
   ]
  }
 ],
 "metadata": {
  "kernelspec": {
   "display_name": "Python 3 (ipykernel)",
   "language": "python",
   "name": "python3"
  },
  "language_info": {
   "codemirror_mode": {
    "name": "ipython",
    "version": 3
   },
   "file_extension": ".py",
   "mimetype": "text/x-python",
   "name": "python",
   "nbconvert_exporter": "python",
   "pygments_lexer": "ipython3",
   "version": "3.8.16"
  }
 },
 "nbformat": 4,
 "nbformat_minor": 2
}

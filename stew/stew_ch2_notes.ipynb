{
 "cells": [
  {
   "cell_type": "markdown",
   "id": "2d1ca0a5",
   "metadata": {},
   "source": [
    "# Chapter 2: Intoduction to Probability"
   ]
  },
  {
   "cell_type": "code",
   "execution_count": 8,
   "id": "48f699d3",
   "metadata": {},
   "outputs": [],
   "source": [
    "import itertools\n",
    "import matplotlib.pyplot as plt\n",
    "import pandas as pd\n",
    "import random\n",
    "\n",
    "from collections import Counter"
   ]
  },
  {
   "cell_type": "markdown",
   "id": "a569349b",
   "metadata": {},
   "source": [
    "**Exercise 1**: Toss coin 50 times, how does # heads compare to perdicted"
   ]
  },
  {
   "cell_type": "code",
   "execution_count": 9,
   "id": "3cd2ee2e",
   "metadata": {},
   "outputs": [],
   "source": [
    "experiment1 = [random.choice(['H', 'T']) for _ in range(50)]"
   ]
  },
  {
   "cell_type": "code",
   "execution_count": 10,
   "id": "646f69a2",
   "metadata": {},
   "outputs": [
    {
     "data": {
      "text/plain": [
       "Counter({'H': 26, 'T': 24})"
      ]
     },
     "execution_count": 10,
     "metadata": {},
     "output_type": "execute_result"
    }
   ],
   "source": [
    "res = Counter(experiment1)\n",
    "res # expected 25, observed 27"
   ]
  },
  {
   "cell_type": "markdown",
   "id": "77a68e4d",
   "metadata": {},
   "source": [
    "**Exercise 2**: Toss 5 coins and count heads, repeat 50 times, compare to predicted"
   ]
  },
  {
   "cell_type": "code",
   "execution_count": 11,
   "id": "d5d59b28",
   "metadata": {},
   "outputs": [
    {
     "name": "stdout",
     "output_type": "stream",
     "text": [
      "[['H', 'H', 'H', 'H', 'H'], ['T', 'T', 'H', 'H', 'T'], ['T', 'T', 'H', 'T', 'T'], ['H', 'H', 'T', 'H', 'T'], ['T', 'T', 'H', 'T', 'H'], ['H', 'H', 'T', 'T', 'T'], ['T', 'H', 'T', 'T', 'H'], ['H', 'H', 'H', 'T', 'T'], ['H', 'H', 'H', 'H', 'H'], ['H', 'H', 'T', 'H', 'H'], ['T', 'H', 'T', 'T', 'H'], ['H', 'T', 'H', 'T', 'T'], ['H', 'T', 'T', 'H', 'T'], ['T', 'H', 'T', 'T', 'H'], ['H', 'T', 'H', 'T', 'H'], ['H', 'T', 'T', 'T', 'T'], ['T', 'H', 'H', 'T', 'H'], ['H', 'H', 'T', 'H', 'T'], ['T', 'T', 'H', 'H', 'H'], ['T', 'T', 'H', 'T', 'H'], ['H', 'H', 'H', 'T', 'T'], ['T', 'H', 'T', 'T', 'H'], ['H', 'H', 'H', 'H', 'T'], ['T', 'T', 'H', 'T', 'T'], ['H', 'H', 'H', 'H', 'H'], ['H', 'T', 'T', 'H', 'H'], ['T', 'H', 'H', 'T', 'T'], ['T', 'H', 'T', 'H', 'H'], ['T', 'T', 'T', 'T', 'H'], ['H', 'H', 'H', 'T', 'H'], ['T', 'T', 'T', 'H', 'T'], ['H', 'T', 'H', 'H', 'H'], ['H', 'H', 'H', 'T', 'H'], ['H', 'T', 'H', 'T', 'T'], ['T', 'H', 'T', 'H', 'H'], ['H', 'H', 'H', 'T', 'T'], ['T', 'T', 'H', 'H', 'H'], ['T', 'H', 'T', 'T', 'H'], ['H', 'T', 'T', 'T', 'T'], ['H', 'H', 'T', 'T', 'H'], ['T', 'T', 'T', 'T', 'H'], ['T', 'T', 'T', 'T', 'T'], ['H', 'T', 'H', 'H', 'H'], ['T', 'H', 'H', 'H', 'H'], ['H', 'H', 'H', 'H', 'T'], ['H', 'H', 'T', 'T', 'T'], ['H', 'T', 'H', 'T', 'H'], ['H', 'H', 'T', 'H', 'H'], ['T', 'T', 'H', 'T', 'H'], ['H', 'H', 'T', 'H', 'H']]\n"
     ]
    }
   ],
   "source": [
    "experiment2 = [[random.choice(['H', 'T']) for _ in range(5)]\n",
    "               for _ in range(50)]\n",
    "print(experiment2)"
   ]
  },
  {
   "cell_type": "code",
   "execution_count": 12,
   "id": "0a9299a6",
   "metadata": {},
   "outputs": [
    {
     "name": "stdout",
     "output_type": "stream",
     "text": [
      "[5, 2, 1, 3, 2, 2, 2, 3, 5, 4, 2, 2, 2, 2, 3, 1, 3, 3, 3, 2, 3, 2, 4, 1, 5, 3, 2, 3, 1, 4, 1, 4, 4, 2, 3, 3, 3, 2, 1, 3, 1, 0, 4, 4, 4, 2, 3, 4, 2, 4]\n"
     ]
    }
   ],
   "source": [
    "heads = [sum([1 for flip in trial if flip == 'H']) for trial in experiment2]\n",
    "print(heads)"
   ]
  },
  {
   "cell_type": "code",
   "execution_count": 13,
   "id": "ed489009",
   "metadata": {},
   "outputs": [
    {
     "data": {
      "text/plain": [
       "Text(0.5, 1.0, 'Distribution of heads')"
      ]
     },
     "execution_count": 13,
     "metadata": {},
     "output_type": "execute_result"
    },
    {
     "data": {
      "image/png": "[encoded data removed]",
      "text/plain": [
       "<Figure size 640x480 with 1 Axes>"
      ]
     },
     "metadata": {},
     "output_type": "display_data"
    }
   ],
   "source": [
    "counts = Counter(heads)\n",
    "plt.bar(\n",
    "    counts.keys(),\n",
    "    counts.values(),\n",
    "    1, # width\n",
    "    edgecolor=(0, 0, 0)\n",
    ")\n",
    "plt.xlabel(\"Number heads\")\n",
    "plt.ylabel(\"Occurences\")\n",
    "plt.title(\"Distribution of heads\")\n"
   ]
  },
  {
   "cell_type": "markdown",
   "id": "9d0f23c1",
   "metadata": {},
   "source": [
    "**Exercise 3**: Suppose you toss two coins, what is the probablity they will match?"
   ]
  },
  {
   "cell_type": "code",
   "execution_count": 17,
   "id": "ea71dcc6",
   "metadata": {},
   "outputs": [
    {
     "data": {
      "text/plain": [
       "0.5"
      ]
     },
     "execution_count": 17,
     "metadata": {},
     "output_type": "execute_result"
    }
   ],
   "source": [
    "total_outs = get_coin_outcomes(2) # 4\n",
    "desired_outs = sum([1 for out in total_outs if out[0] == out[1]])\n",
    "desired_outs / len(total_outs)"
   ]
  },
  {
   "cell_type": "markdown",
   "id": "ec537af7",
   "metadata": {},
   "source": [
    "**Exercise 5**: Write a function that returns all possible combinations of tossing a coin n times"
   ]
  },
  {
   "cell_type": "code",
   "execution_count": 18,
   "id": "780fe9ea",
   "metadata": {},
   "outputs": [],
   "source": [
    "def get_coin_outcomes(n: int) -> int:\n",
    "    return list(itertools.product(['H', 'T'], repeat=n))\n",
    "\n",
    "assert len(get_coin_outcomes(6)) == 64"
   ]
  },
  {
   "cell_type": "markdown",
   "id": "39392331",
   "metadata": {},
   "source": [
    "**Exercise 6**: write a function for factorial"
   ]
  },
  {
   "cell_type": "code",
   "execution_count": 19,
   "id": "ecc3a722",
   "metadata": {},
   "outputs": [],
   "source": [
    "def fac(n: int) -> int:\n",
    "    if n == 0:\n",
    "        return 1\n",
    "    else:\n",
    "        return n * fac(n-1)\n",
    "     \n",
    "assert fac(6) == 720"
   ]
  },
  {
   "cell_type": "markdown",
   "id": "885ea4fc",
   "metadata": {},
   "source": [
    "**Exercise 7**: Write a program the reads number of coin tosses and prints a table shoing the probabily of heads from h=0 to h=1"
   ]
  },
  {
   "cell_type": "code",
   "execution_count": 20,
   "id": "66cdf102",
   "metadata": {},
   "outputs": [],
   "source": [
    "def get_probability_table(n: int, method: str='fac') -> pd.DataFrame:\n",
    "    \n",
    "    assert method in ['count', 'fac'], 'method must be \"count\" or \"fac\"'\n",
    "    \n",
    "    count_heads = [i for i in range(n+1)]\n",
    "    \n",
    "    if method=='count':\n",
    "        outcomes = get_coin_outcomes(n)\n",
    "        total_outcomes = len(outcomes)\n",
    "\n",
    "        probabilities = []\n",
    "        for count in count_heads:\n",
    "            successes = 0\n",
    "            for outcome in outcomes:\n",
    "                if outcome.count('H') == count:\n",
    "                    successes += 1\n",
    "            probabilities.append(successes/total_outcomes)\n",
    "    \n",
    "    elif method=='fac':\n",
    "\n",
    "        \n",
    "        modifier = pow(2, -n)\n",
    "        fac_n = fac(n)\n",
    "        \n",
    "        probabilities = [(fac_n/(fac(count)*fac(n-count))*modifier)\n",
    "                        for count in count_heads]\n",
    "            \n",
    "    return pd.DataFrame(\n",
    "            {f'coutn_heads (n={n})' : count_heads,\n",
    "             'probability' : probabilities}\n",
    "        )\n",
    "                "
   ]
  },
  {
   "cell_type": "code",
   "execution_count": 21,
   "id": "4a474e76",
   "metadata": {},
   "outputs": [
    {
     "data": {
      "text/html": [
       "<div>\n",
       "<style scoped>\n",
       "    .dataframe tbody tr th:only-of-type {\n",
       "        vertical-align: middle;\n",
       "    }\n",
       "\n",
       "    .dataframe tbody tr th {\n",
       "        vertical-align: top;\n",
       "    }\n",
       "\n",
       "    .dataframe thead th {\n",
       "        text-align: right;\n",
       "    }\n",
       "</style>\n",
       "<table border=\"1\" class=\"dataframe\">\n",
       "  <thead>\n",
       "    <tr style=\"text-align: right;\">\n",
       "      <th></th>\n",
       "      <th>coutn_heads (n=10)</th>\n",
       "      <th>probability</th>\n",
       "    </tr>\n",
       "  </thead>\n",
       "  <tbody>\n",
       "    <tr>\n",
       "      <th>0</th>\n",
       "      <td>0</td>\n",
       "      <td>0.000977</td>\n",
       "    </tr>\n",
       "    <tr>\n",
       "      <th>1</th>\n",
       "      <td>1</td>\n",
       "      <td>0.009766</td>\n",
       "    </tr>\n",
       "    <tr>\n",
       "      <th>2</th>\n",
       "      <td>2</td>\n",
       "      <td>0.043945</td>\n",
       "    </tr>\n",
       "    <tr>\n",
       "      <th>3</th>\n",
       "      <td>3</td>\n",
       "      <td>0.117188</td>\n",
       "    </tr>\n",
       "    <tr>\n",
       "      <th>4</th>\n",
       "      <td>4</td>\n",
       "      <td>0.205078</td>\n",
       "    </tr>\n",
       "    <tr>\n",
       "      <th>5</th>\n",
       "      <td>5</td>\n",
       "      <td>0.246094</td>\n",
       "    </tr>\n",
       "    <tr>\n",
       "      <th>6</th>\n",
       "      <td>6</td>\n",
       "      <td>0.205078</td>\n",
       "    </tr>\n",
       "    <tr>\n",
       "      <th>7</th>\n",
       "      <td>7</td>\n",
       "      <td>0.117188</td>\n",
       "    </tr>\n",
       "    <tr>\n",
       "      <th>8</th>\n",
       "      <td>8</td>\n",
       "      <td>0.043945</td>\n",
       "    </tr>\n",
       "    <tr>\n",
       "      <th>9</th>\n",
       "      <td>9</td>\n",
       "      <td>0.009766</td>\n",
       "    </tr>\n",
       "    <tr>\n",
       "      <th>10</th>\n",
       "      <td>10</td>\n",
       "      <td>0.000977</td>\n",
       "    </tr>\n",
       "  </tbody>\n",
       "</table>\n",
       "</div>"
      ],
      "text/plain": [
       "    coutn_heads (n=10)  probability\n",
       "0                    0     0.000977\n",
       "1                    1     0.009766\n",
       "2                    2     0.043945\n",
       "3                    3     0.117188\n",
       "4                    4     0.205078\n",
       "5                    5     0.246094\n",
       "6                    6     0.205078\n",
       "7                    7     0.117188\n",
       "8                    8     0.043945\n",
       "9                    9     0.009766\n",
       "10                  10     0.000977"
      ]
     },
     "execution_count": 21,
     "metadata": {},
     "output_type": "execute_result"
    }
   ],
   "source": [
    "get_probability_table(10, method='count')"
   ]
  },
  {
   "cell_type": "code",
   "execution_count": 22,
   "id": "45b6bdfe",
   "metadata": {},
   "outputs": [
    {
     "data": {
      "text/html": [
       "<div>\n",
       "<style scoped>\n",
       "    .dataframe tbody tr th:only-of-type {\n",
       "        vertical-align: middle;\n",
       "    }\n",
       "\n",
       "    .dataframe tbody tr th {\n",
       "        vertical-align: top;\n",
       "    }\n",
       "\n",
       "    .dataframe thead th {\n",
       "        text-align: right;\n",
       "    }\n",
       "</style>\n",
       "<table border=\"1\" class=\"dataframe\">\n",
       "  <thead>\n",
       "    <tr style=\"text-align: right;\">\n",
       "      <th></th>\n",
       "      <th>coutn_heads (n=10)</th>\n",
       "      <th>probability</th>\n",
       "    </tr>\n",
       "  </thead>\n",
       "  <tbody>\n",
       "    <tr>\n",
       "      <th>0</th>\n",
       "      <td>0</td>\n",
       "      <td>0.000977</td>\n",
       "    </tr>\n",
       "    <tr>\n",
       "      <th>1</th>\n",
       "      <td>1</td>\n",
       "      <td>0.009766</td>\n",
       "    </tr>\n",
       "    <tr>\n",
       "      <th>2</th>\n",
       "      <td>2</td>\n",
       "      <td>0.043945</td>\n",
       "    </tr>\n",
       "    <tr>\n",
       "      <th>3</th>\n",
       "      <td>3</td>\n",
       "      <td>0.117188</td>\n",
       "    </tr>\n",
       "    <tr>\n",
       "      <th>4</th>\n",
       "      <td>4</td>\n",
       "      <td>0.205078</td>\n",
       "    </tr>\n",
       "    <tr>\n",
       "      <th>5</th>\n",
       "      <td>5</td>\n",
       "      <td>0.246094</td>\n",
       "    </tr>\n",
       "    <tr>\n",
       "      <th>6</th>\n",
       "      <td>6</td>\n",
       "      <td>0.205078</td>\n",
       "    </tr>\n",
       "    <tr>\n",
       "      <th>7</th>\n",
       "      <td>7</td>\n",
       "      <td>0.117188</td>\n",
       "    </tr>\n",
       "    <tr>\n",
       "      <th>8</th>\n",
       "      <td>8</td>\n",
       "      <td>0.043945</td>\n",
       "    </tr>\n",
       "    <tr>\n",
       "      <th>9</th>\n",
       "      <td>9</td>\n",
       "      <td>0.009766</td>\n",
       "    </tr>\n",
       "    <tr>\n",
       "      <th>10</th>\n",
       "      <td>10</td>\n",
       "      <td>0.000977</td>\n",
       "    </tr>\n",
       "  </tbody>\n",
       "</table>\n",
       "</div>"
      ],
      "text/plain": [
       "    coutn_heads (n=10)  probability\n",
       "0                    0     0.000977\n",
       "1                    1     0.009766\n",
       "2                    2     0.043945\n",
       "3                    3     0.117188\n",
       "4                    4     0.205078\n",
       "5                    5     0.246094\n",
       "6                    6     0.205078\n",
       "7                    7     0.117188\n",
       "8                    8     0.043945\n",
       "9                    9     0.009766\n",
       "10                  10     0.000977"
      ]
     },
     "execution_count": 22,
     "metadata": {},
     "output_type": "execute_result"
    }
   ],
   "source": [
    "get_probability_table(10, method='fac')"
   ]
  },
  {
   "cell_type": "code",
   "execution_count": 23,
   "id": "657ac293",
   "metadata": {},
   "outputs": [
    {
     "name": "stdout",
     "output_type": "stream",
     "text": [
      "1.21 ms ± 35.4 µs per loop (mean ± std. dev. of 7 runs, 1,000 loops each)\n",
      "56.9 µs ± 1.15 µs per loop (mean ± std. dev. of 7 runs, 10,000 loops each)\n"
     ]
    }
   ],
   "source": [
    "%timeit get_probability_table(10, method='count')\n",
    "%timeit get_probability_table(10, method='fac') # way faster"
   ]
  },
  {
   "cell_type": "markdown",
   "id": "55a898df",
   "metadata": {},
   "source": [
    "**Exercise 8**: If you flip a coin 50 times, what it the probability of getting 25 heads?  If 100, 50 heads?"
   ]
  },
  {
   "cell_type": "code",
   "execution_count": 87,
   "id": "06e3f08b",
   "metadata": {},
   "outputs": [
    {
     "data": {
      "text/plain": [
       "'0.112'"
      ]
     },
     "execution_count": 87,
     "metadata": {},
     "output_type": "execute_result"
    }
   ],
   "source": [
    "# 25 heads\n",
    "f'{fac(50)/(fac(25)*fac(50-25))*pow(2, -50):.3f}'"
   ]
  },
  {
   "cell_type": "code",
   "execution_count": 89,
   "id": "89cf27b3",
   "metadata": {},
   "outputs": [
    {
     "data": {
      "text/plain": [
       "'0.080'"
      ]
     },
     "execution_count": 89,
     "metadata": {},
     "output_type": "execute_result"
    }
   ],
   "source": [
    "# 50 heads\n",
    "f'{fac(100)/(fac(50)*fac(100-50))*pow(2, -100):.3f}'"
   ]
  },
  {
   "cell_type": "markdown",
   "id": "e2491575",
   "metadata": {},
   "source": [
    "### Added the functions to a utils.py"
   ]
  },
  {
   "cell_type": "code",
   "execution_count": 24,
   "id": "ebfbfb5d",
   "metadata": {},
   "outputs": [],
   "source": [
    "from utils import utils"
   ]
  },
  {
   "cell_type": "code",
   "execution_count": 25,
   "id": "9bc6602a",
   "metadata": {},
   "outputs": [
    {
     "data": {
      "text/html": [
       "<div>\n",
       "<style scoped>\n",
       "    .dataframe tbody tr th:only-of-type {\n",
       "        vertical-align: middle;\n",
       "    }\n",
       "\n",
       "    .dataframe tbody tr th {\n",
       "        vertical-align: top;\n",
       "    }\n",
       "\n",
       "    .dataframe thead th {\n",
       "        text-align: right;\n",
       "    }\n",
       "</style>\n",
       "<table border=\"1\" class=\"dataframe\">\n",
       "  <thead>\n",
       "    <tr style=\"text-align: right;\">\n",
       "      <th></th>\n",
       "      <th>coutn_heads (n=4)</th>\n",
       "      <th>probability</th>\n",
       "    </tr>\n",
       "  </thead>\n",
       "  <tbody>\n",
       "    <tr>\n",
       "      <th>0</th>\n",
       "      <td>0</td>\n",
       "      <td>0.0625</td>\n",
       "    </tr>\n",
       "    <tr>\n",
       "      <th>1</th>\n",
       "      <td>1</td>\n",
       "      <td>0.2500</td>\n",
       "    </tr>\n",
       "    <tr>\n",
       "      <th>2</th>\n",
       "      <td>2</td>\n",
       "      <td>0.3750</td>\n",
       "    </tr>\n",
       "    <tr>\n",
       "      <th>3</th>\n",
       "      <td>3</td>\n",
       "      <td>0.2500</td>\n",
       "    </tr>\n",
       "    <tr>\n",
       "      <th>4</th>\n",
       "      <td>4</td>\n",
       "      <td>0.0625</td>\n",
       "    </tr>\n",
       "  </tbody>\n",
       "</table>\n",
       "</div>"
      ],
      "text/plain": [
       "   coutn_heads (n=4)  probability\n",
       "0                  0       0.0625\n",
       "1                  1       0.2500\n",
       "2                  2       0.3750\n",
       "3                  3       0.2500\n",
       "4                  4       0.0625"
      ]
     },
     "execution_count": 25,
     "metadata": {},
     "output_type": "execute_result"
    }
   ],
   "source": [
    "utils.get_probability_table(4)"
   ]
  },
  {
   "cell_type": "code",
   "execution_count": 26,
   "id": "21b4e76d",
   "metadata": {},
   "outputs": [
    {
     "data": {
      "text/plain": [
       "[('H', 'H', 'H', 'H'),\n",
       " ('H', 'H', 'H', 'T'),\n",
       " ('H', 'H', 'T', 'H'),\n",
       " ('H', 'H', 'T', 'T'),\n",
       " ('H', 'T', 'H', 'H'),\n",
       " ('H', 'T', 'H', 'T'),\n",
       " ('H', 'T', 'T', 'H'),\n",
       " ('H', 'T', 'T', 'T'),\n",
       " ('T', 'H', 'H', 'H'),\n",
       " ('T', 'H', 'H', 'T'),\n",
       " ('T', 'H', 'T', 'H'),\n",
       " ('T', 'H', 'T', 'T'),\n",
       " ('T', 'T', 'H', 'H'),\n",
       " ('T', 'T', 'H', 'T'),\n",
       " ('T', 'T', 'T', 'H'),\n",
       " ('T', 'T', 'T', 'T')]"
      ]
     },
     "execution_count": 26,
     "metadata": {},
     "output_type": "execute_result"
    }
   ],
   "source": [
    "utils.get_coin_outcomes(4)"
   ]
  },
  {
   "cell_type": "code",
   "execution_count": 27,
   "id": "a670c6fb",
   "metadata": {},
   "outputs": [
    {
     "data": {
      "text/plain": [
       "720"
      ]
     },
     "execution_count": 27,
     "metadata": {},
     "output_type": "execute_result"
    }
   ],
   "source": [
    "utils.fac(6)"
   ]
  },
  {
   "cell_type": "code",
   "execution_count": 28,
   "id": "ae87d3fb",
   "metadata": {},
   "outputs": [
    {
     "data": {
      "text/plain": [
       "0.07958923738717877"
      ]
     },
     "execution_count": 28,
     "metadata": {},
     "output_type": "execute_result"
    }
   ],
   "source": [
    "utils.get_binary_probability(100,50)"
   ]
  }
 ],
 "metadata": {
  "kernelspec": {
   "display_name": "Python 3 (ipykernel)",
   "language": "python",
   "name": "python3"
  },
  "language_info": {
   "codemirror_mode": {
    "name": "ipython",
    "version": 3
   },
   "file_extension": ".py",
   "mimetype": "text/x-python",
   "name": "python",
   "nbconvert_exporter": "python",
   "pygments_lexer": "ipython3",
   "version": "3.9.16"
  }
 },
 "nbformat": 4,
 "nbformat_minor": 5
}

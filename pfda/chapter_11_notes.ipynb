{
 "cells": [
  {
   "cell_type": "markdown",
   "id": "55a1c550",
   "metadata": {},
   "source": [
    "# Chapter 11: Time Series"
   ]
  },
  {
   "cell_type": "markdown",
   "id": "86c8652d",
   "metadata": {},
   "source": [
    "# 11.1 Date and Time Data Types and Tools"
   ]
  },
  {
   "cell_type": "code",
   "execution_count": 71,
   "id": "8221f695",
   "metadata": {},
   "outputs": [],
   "source": [
    "from datetime import datetime, timedelta\n",
    "from dateutil.parser import parse\n",
    "import numpy as np\n",
    "import pandas as pd\n",
    "import pytz"
   ]
  },
  {
   "cell_type": "code",
   "execution_count": 22,
   "id": "f1601556",
   "metadata": {},
   "outputs": [
    {
     "name": "stdout",
     "output_type": "stream",
     "text": [
      "2022-12-06 16:15:15.399989\n",
      "1992-10-02 05:00:01.001234\n",
      "11022\n",
      "1992-10-26 05:00:01.001234\n"
     ]
    }
   ],
   "source": [
    "# Native python time/data tools\n",
    "print(datetime.now())\n",
    "b = datetime(1992, 10, 2, 5, 0, 1, 1234)\n",
    "print(b)\n",
    "print((datetime.now() - b).days)\n",
    "print(b + timedelta(12)*2)"
   ]
  },
  {
   "cell_type": "code",
   "execution_count": 28,
   "id": "62adf2f3",
   "metadata": {},
   "outputs": [
    {
     "name": "stdout",
     "output_type": "stream",
     "text": [
      "1992-10-02\n",
      "2002-09-02 00:00:00\n"
     ]
    },
    {
     "data": {
      "text/plain": [
       "datetime.datetime(2002, 9, 10, 0, 0)"
      ]
     },
     "execution_count": 28,
     "metadata": {},
     "output_type": "execute_result"
    }
   ],
   "source": [
    "# Can do ISO C89 compatible string conversions\n",
    "print(b.strftime('%Y-%m-%d'))\n",
    "# Can also be used for reading dates\n",
    "print(datetime.strptime('09 02 2002', '%m %d %Y'))\n",
    "# but dateutils.parser.parse is better\n",
    "print(parse('September 10 2002'))"
   ]
  },
  {
   "cell_type": "markdown",
   "id": "1be77c6b",
   "metadata": {},
   "source": [
    "## 10.2 Time Series Basics"
   ]
  },
  {
   "cell_type": "code",
   "execution_count": 45,
   "id": "92ed534d",
   "metadata": {},
   "outputs": [
    {
     "name": "stdout",
     "output_type": "stream",
     "text": [
      "1992-10-01   -0.155056\n",
      "1992-10-02   -0.061714\n",
      "1992-10-03   -0.511708\n",
      "1992-10-04    1.011177\n",
      "1992-10-05   -0.391044\n",
      "                ...   \n",
      "1995-06-23   -0.539008\n",
      "1995-06-24   -1.385562\n",
      "1995-06-25    1.041692\n",
      "1995-06-26   -0.522020\n",
      "1995-06-27    0.276458\n",
      "Freq: D, Length: 1000, dtype: float64\n",
      "\n",
      "1993-01-01   -0.602838\n",
      "1993-01-02   -0.135940\n",
      "1993-01-03    0.299766\n",
      "1993-01-04   -0.618960\n",
      "1993-01-05   -0.962574\n",
      "                ...   \n",
      "1993-12-27    0.506190\n",
      "1993-12-28    0.742606\n",
      "1993-12-29    0.420253\n",
      "1993-12-30   -0.130540\n",
      "1993-12-31    0.699325\n",
      "Freq: D, Length: 365, dtype: float64\n",
      "\n",
      "1994-03-01    0.329772\n",
      "1994-03-02   -1.377139\n",
      "1994-03-03    0.524515\n",
      "1994-03-04   -0.143101\n",
      "1994-03-05    1.056286\n",
      "1994-03-06   -1.241817\n",
      "1994-03-07   -1.463785\n",
      "1994-03-08    0.944879\n",
      "1994-03-09    0.755888\n",
      "1994-03-10    0.354757\n",
      "1994-03-11   -0.089176\n",
      "1994-03-12   -0.707863\n",
      "1994-03-13    1.097646\n",
      "1994-03-14   -0.770802\n",
      "1994-03-15   -0.288287\n",
      "1994-03-16    0.225187\n",
      "1994-03-17    0.788429\n",
      "1994-03-18    0.403639\n",
      "1994-03-19   -0.868283\n",
      "1994-03-20   -1.072495\n",
      "1994-03-21    2.034172\n",
      "1994-03-22    0.921513\n",
      "1994-03-23    0.608609\n",
      "1994-03-24   -0.579586\n",
      "1994-03-25    0.393204\n",
      "1994-03-26    0.101784\n",
      "1994-03-27    0.326224\n",
      "1994-03-28   -0.173327\n",
      "1994-03-29   -0.149882\n",
      "1994-03-30   -0.521147\n",
      "1994-03-31    0.184579\n",
      "Freq: D, dtype: float64\n",
      "\n",
      "1992-11-01   -0.873357\n",
      "1992-11-02   -0.770817\n",
      "1992-11-03    1.139677\n",
      "1992-11-04    0.090275\n",
      "1992-11-05   -1.382416\n",
      "                ...   \n",
      "1994-03-27    0.326224\n",
      "1994-03-28   -0.173327\n",
      "1994-03-29   -0.149882\n",
      "1994-03-30   -0.521147\n",
      "1994-03-31    0.184579\n",
      "Freq: D, Length: 516, dtype: float64\n"
     ]
    }
   ],
   "source": [
    "# Time series can be constructed by passing list of datetimes as index to series, or\n",
    "# more quickly as below\n",
    "s = pd.Series(np.random.randn(1000),\n",
    "             index=pd.date_range('10/1/1992',\n",
    "                                 periods=1000))\n",
    "print(s)\n",
    "print()\n",
    "# Can easily slide\n",
    "print(s['1993'])\n",
    "print()\n",
    "print(s['March 1994'])\n",
    "print()\n",
    "print(s[datetime(1992, 11, 1): 'March 1994'])\n"
   ]
  },
  {
   "cell_type": "code",
   "execution_count": 54,
   "id": "28b0f0d4",
   "metadata": {},
   "outputs": [
    {
     "data": {
      "text/html": [
       "<div>\n",
       "<style scoped>\n",
       "    .dataframe tbody tr th:only-of-type {\n",
       "        vertical-align: middle;\n",
       "    }\n",
       "\n",
       "    .dataframe tbody tr th {\n",
       "        vertical-align: top;\n",
       "    }\n",
       "\n",
       "    .dataframe thead th {\n",
       "        text-align: right;\n",
       "    }\n",
       "</style>\n",
       "<table border=\"1\" class=\"dataframe\">\n",
       "  <thead>\n",
       "    <tr style=\"text-align: right;\">\n",
       "      <th></th>\n",
       "      <th>a</th>\n",
       "      <th>b</th>\n",
       "      <th>c</th>\n",
       "      <th>d</th>\n",
       "    </tr>\n",
       "  </thead>\n",
       "  <tbody>\n",
       "    <tr>\n",
       "      <th>1992-10-02</th>\n",
       "      <td>0.772516</td>\n",
       "      <td>0.001946</td>\n",
       "      <td>1.060899</td>\n",
       "      <td>-1.495450</td>\n",
       "    </tr>\n",
       "    <tr>\n",
       "      <th>1992-10-09</th>\n",
       "      <td>-0.116284</td>\n",
       "      <td>0.924735</td>\n",
       "      <td>0.633157</td>\n",
       "      <td>0.311830</td>\n",
       "    </tr>\n",
       "    <tr>\n",
       "      <th>1992-10-16</th>\n",
       "      <td>0.851401</td>\n",
       "      <td>-1.722438</td>\n",
       "      <td>-0.419226</td>\n",
       "      <td>0.813189</td>\n",
       "    </tr>\n",
       "    <tr>\n",
       "      <th>1992-10-23</th>\n",
       "      <td>0.773459</td>\n",
       "      <td>0.553777</td>\n",
       "      <td>-0.779648</td>\n",
       "      <td>0.151540</td>\n",
       "    </tr>\n",
       "    <tr>\n",
       "      <th>1992-10-30</th>\n",
       "      <td>-0.037106</td>\n",
       "      <td>0.130496</td>\n",
       "      <td>1.192541</td>\n",
       "      <td>-0.733702</td>\n",
       "    </tr>\n",
       "    <tr>\n",
       "      <th>1992-11-06</th>\n",
       "      <td>1.524919</td>\n",
       "      <td>-1.309674</td>\n",
       "      <td>-0.172023</td>\n",
       "      <td>-0.418439</td>\n",
       "    </tr>\n",
       "    <tr>\n",
       "      <th>1992-11-13</th>\n",
       "      <td>-0.492225</td>\n",
       "      <td>-0.231217</td>\n",
       "      <td>-0.545799</td>\n",
       "      <td>0.262841</td>\n",
       "    </tr>\n",
       "    <tr>\n",
       "      <th>1992-11-20</th>\n",
       "      <td>-0.130564</td>\n",
       "      <td>1.330242</td>\n",
       "      <td>0.592939</td>\n",
       "      <td>1.098672</td>\n",
       "    </tr>\n",
       "    <tr>\n",
       "      <th>1992-11-27</th>\n",
       "      <td>0.573726</td>\n",
       "      <td>1.601932</td>\n",
       "      <td>0.554939</td>\n",
       "      <td>0.654082</td>\n",
       "    </tr>\n",
       "    <tr>\n",
       "      <th>1992-12-04</th>\n",
       "      <td>-0.807681</td>\n",
       "      <td>-0.226807</td>\n",
       "      <td>-0.485716</td>\n",
       "      <td>0.476956</td>\n",
       "    </tr>\n",
       "  </tbody>\n",
       "</table>\n",
       "</div>"
      ],
      "text/plain": [
       "                   a         b         c         d\n",
       "1992-10-02  0.772516  0.001946  1.060899 -1.495450\n",
       "1992-10-09 -0.116284  0.924735  0.633157  0.311830\n",
       "1992-10-16  0.851401 -1.722438 -0.419226  0.813189\n",
       "1992-10-23  0.773459  0.553777 -0.779648  0.151540\n",
       "1992-10-30 -0.037106  0.130496  1.192541 -0.733702\n",
       "1992-11-06  1.524919 -1.309674 -0.172023 -0.418439\n",
       "1992-11-13 -0.492225 -0.231217 -0.545799  0.262841\n",
       "1992-11-20 -0.130564  1.330242  0.592939  1.098672\n",
       "1992-11-27  0.573726  1.601932  0.554939  0.654082\n",
       "1992-12-04 -0.807681 -0.226807 -0.485716  0.476956"
      ]
     },
     "execution_count": 54,
     "metadata": {},
     "output_type": "execute_result"
    }
   ],
   "source": [
    "# Same for df\n",
    "dates = pd.date_range('10/02/1992', periods=10, freq='W-FRI')\n",
    "vals = np.random.randn(10, 4)\n",
    "pd.DataFrame(vals, index=dates, columns=list('abcd'))"
   ]
  },
  {
   "cell_type": "markdown",
   "id": "5feebd51",
   "metadata": {},
   "source": [
    "## 11.3 Date Ranges, Frequencies, Shifting "
   ]
  },
  {
   "cell_type": "code",
   "execution_count": 60,
   "id": "4d388906",
   "metadata": {},
   "outputs": [
    {
     "data": {
      "text/plain": [
       "DatetimeIndex(['2022-12-01 00:00:00', '2022-12-01 04:30:00',\n",
       "               '2022-12-01 09:00:00', '2022-12-01 13:30:00',\n",
       "               '2022-12-01 18:00:00', '2022-12-01 22:30:00',\n",
       "               '2022-12-02 03:00:00', '2022-12-02 07:30:00',\n",
       "               '2022-12-02 12:00:00', '2022-12-02 16:30:00',\n",
       "               '2022-12-02 21:00:00', '2022-12-03 01:30:00',\n",
       "               '2022-12-03 06:00:00', '2022-12-03 10:30:00',\n",
       "               '2022-12-03 15:00:00', '2022-12-03 19:30:00',\n",
       "               '2022-12-04 00:00:00', '2022-12-04 04:30:00',\n",
       "               '2022-12-04 09:00:00', '2022-12-04 13:30:00',\n",
       "               '2022-12-04 18:00:00', '2022-12-04 22:30:00',\n",
       "               '2022-12-05 03:00:00', '2022-12-05 07:30:00',\n",
       "               '2022-12-05 12:00:00', '2022-12-05 16:30:00',\n",
       "               '2022-12-05 21:00:00', '2022-12-06 01:30:00',\n",
       "               '2022-12-06 06:00:00', '2022-12-06 10:30:00',\n",
       "               '2022-12-06 15:00:00'],\n",
       "              dtype='datetime64[ns]', freq='270T')"
      ]
     },
     "execution_count": 60,
     "metadata": {},
     "output_type": "execute_result"
    }
   ],
   "source": [
    "# Wide variety of options for specifying frequency\n",
    "r = pd.date_range('12/01/2022',\n",
    "                  datetime.now(),\n",
    "                  freq='4h30min')\n",
    "r"
   ]
  },
  {
   "cell_type": "code",
   "execution_count": 69,
   "id": "900898e6",
   "metadata": {},
   "outputs": [
    {
     "name": "stdout",
     "output_type": "stream",
     "text": [
      "1992-10-02         NaN\n",
      "1992-10-05    1.611094\n",
      "1992-10-06    1.036899\n",
      "1992-10-07    0.915954\n",
      "1992-10-08   -0.767250\n",
      "1992-10-09    0.293552\n",
      "1992-10-12    0.489766\n",
      "1992-10-13   -0.171742\n",
      "1992-10-14    0.905699\n",
      "1992-10-15   -0.548888\n",
      "Freq: B, dtype: float64\n",
      "1992-10-02           NaN\n",
      "1992-10-05    -99.356401\n",
      "1992-10-06    -99.116641\n",
      "1992-10-07   -100.837651\n",
      "1992-10-08   -100.382603\n",
      "1992-10-09    -98.331586\n",
      "1992-10-12   -100.350661\n",
      "1992-10-13   -105.273614\n",
      "1992-10-14   -100.606037\n",
      "1992-10-15   -101.388863\n",
      "Freq: B, dtype: float64\n",
      "\n",
      "1992-10-05    1.611094\n",
      "1992-10-08    1.036899\n",
      "1992-10-09    0.915954\n",
      "1992-10-10   -0.767250\n",
      "1992-10-11    0.293552\n",
      "1992-10-12    0.489766\n",
      "1992-10-15   -0.171742\n",
      "1992-10-16    0.905699\n",
      "1992-10-17   -0.548888\n",
      "1992-10-18    0.762330\n",
      "dtype: float64\n"
     ]
    }
   ],
   "source": [
    "# Shift data with .shift()\n",
    "ts = pd.Series(np.random.randn(10),\n",
    "               index=pd.date_range('10/02/1992',\n",
    "                                  periods=10,\n",
    "                                  freq='B'))\n",
    "print(ts.shift(1))\n",
    "\n",
    "# Percent change\n",
    "print(ts / ts.shift(1) - 1 * 100)\n",
    "print()\n",
    "\n",
    "# Specify the shift frequency to avoid NaN\n",
    "print(ts.shift(3, freq='D'))"
   ]
  },
  {
   "cell_type": "markdown",
   "id": "6fab1924",
   "metadata": {},
   "source": [
    "## 11.4 Time Zone Handling"
   ]
  },
  {
   "cell_type": "code",
   "execution_count": 79,
   "id": "a1b0a037",
   "metadata": {},
   "outputs": [
    {
     "name": "stdout",
     "output_type": "stream",
     "text": [
      "['Africa/Abidjan', 'Africa/Mbabane', 'America/Belize', 'America/Guatemala', 'America/Mexico_City', 'America/Shiprock', 'Asia/Ashgabat', 'Asia/Katmandu', 'Asia/Tokyo', 'Australia/Perth', 'Etc/GMT+6', 'Europe/Gibraltar', 'Europe/Vaduz', 'Mexico/BajaSur', 'Pacific/Port_Moresby']\n",
      "\n",
      "Asia/Tokyo\n"
     ]
    }
   ],
   "source": [
    "# timezone handling done with the package pytz\n",
    "print(pytz.all_timezones[::40])\n",
    "print()\n",
    "print(pytz.timezone('Asia/Tokyo'))\n",
    "# Can localize, convert, etc\n",
    "# Series by default have no tz but you can assign with .tz_localize('utc')\n",
    "\n",
    "# Adding two time series with differnt "
   ]
  },
  {
   "cell_type": "markdown",
   "id": "1d1ae512",
   "metadata": {},
   "source": [
    "## 11.5 Periods and Period Arithmetic"
   ]
  },
  {
   "cell_type": "code",
   "execution_count": 135,
   "id": "7de7612b",
   "metadata": {},
   "outputs": [
    {
     "name": "stdout",
     "output_type": "stream",
     "text": [
      "2011-08\n",
      "2013\n"
     ]
    },
    {
     "data": {
      "text/plain": [
       "<3 * YearEnds: month=11>"
      ]
     },
     "execution_count": 135,
     "metadata": {},
     "output_type": "execute_result"
    }
   ],
   "source": [
    "# Period represents a unit of time\n",
    "p = pd.Period('April 2011', freq='M')\n",
    "print(p+4)\n",
    "# or can represent a year with freq\n",
    "y = pd.Period('2008', freq='A-NOV') # ending in november\n",
    "print(y+5)\n",
    "\n",
    "pd.Period(2011, freq='A-NOV') - y"
   ]
  },
  {
   "cell_type": "code",
   "execution_count": 143,
   "id": "a1ff6f31",
   "metadata": {},
   "outputs": [
    {
     "name": "stdout",
     "output_type": "stream",
     "text": [
      "1992-10-02   -0.339088\n",
      "1992-10-03    0.262802\n",
      "1992-10-04   -2.499147\n",
      "1992-10-05    0.446933\n",
      "1992-10-06    0.523183\n",
      "1992-10-07    0.860770\n",
      "Freq: D, dtype: float64 1992-10   -0.339088\n",
      "1992-10    0.262802\n",
      "1992-10   -2.499147\n",
      "1992-10    0.446933\n",
      "1992-10    0.523183\n",
      "1992-10    0.860770\n",
      "Freq: M, dtype: float64\n",
      "1992-10-31 23:59:59.999999999   -0.339088\n",
      "1992-10-31 23:59:59.999999999    0.262802\n",
      "1992-10-31 23:59:59.999999999   -2.499147\n",
      "1992-10-31 23:59:59.999999999    0.446933\n",
      "1992-10-31 23:59:59.999999999    0.523183\n",
      "1992-10-31 23:59:59.999999999    0.860770\n",
      "dtype: float64\n"
     ]
    }
   ],
   "source": [
    "# Can convert timestamps to periods\n",
    "\n",
    "rng = pd.date_range('10/02/1992', periods=6, freq='D')\n",
    "tms = pd.Series(np.random.randn(len(rng)), index=rng)\n",
    "pts = tms.to_period('M')\n",
    "print(tms, pts)\n",
    "# And back\n",
    "print(pts.to_timestamp(how='end'))"
   ]
  },
  {
   "cell_type": "code",
   "execution_count": 151,
   "id": "7b7e13ed",
   "metadata": {},
   "outputs": [],
   "source": [
    "# Can concate multiple date columns into PeriodIndex\n",
    "macro = pd.read_html('https://github.com/wesm/pydata-book/blob/3rd-edition/examples/macrodata.csv')[0]\n"
   ]
  },
  {
   "cell_type": "code",
   "execution_count": 152,
   "id": "160e74d5",
   "metadata": {},
   "outputs": [],
   "source": [
    "macro = macro.iloc[:,1:] # Get rid of first column\n",
    "index = pd.PeriodIndex(year=macro.year, quarter=macro.quarter,\n",
    "                      freq='Q-DEC')"
   ]
  },
  {
   "cell_type": "code",
   "execution_count": 155,
   "id": "df6eae03",
   "metadata": {},
   "outputs": [
    {
     "data": {
      "text/html": [
       "<div>\n",
       "<style scoped>\n",
       "    .dataframe tbody tr th:only-of-type {\n",
       "        vertical-align: middle;\n",
       "    }\n",
       "\n",
       "    .dataframe tbody tr th {\n",
       "        vertical-align: top;\n",
       "    }\n",
       "\n",
       "    .dataframe thead th {\n",
       "        text-align: right;\n",
       "    }\n",
       "</style>\n",
       "<table border=\"1\" class=\"dataframe\">\n",
       "  <thead>\n",
       "    <tr style=\"text-align: right;\">\n",
       "      <th></th>\n",
       "      <th>year</th>\n",
       "      <th>quarter</th>\n",
       "      <th>realgdp</th>\n",
       "      <th>realcons</th>\n",
       "      <th>realinv</th>\n",
       "      <th>realgovt</th>\n",
       "      <th>realdpi</th>\n",
       "      <th>cpi</th>\n",
       "      <th>m1</th>\n",
       "      <th>tbilrate</th>\n",
       "      <th>unemp</th>\n",
       "      <th>pop</th>\n",
       "      <th>infl</th>\n",
       "      <th>realint</th>\n",
       "    </tr>\n",
       "  </thead>\n",
       "  <tbody>\n",
       "    <tr>\n",
       "      <th>1959Q1</th>\n",
       "      <td>1959</td>\n",
       "      <td>1</td>\n",
       "      <td>2710.349</td>\n",
       "      <td>1707.4</td>\n",
       "      <td>286.898</td>\n",
       "      <td>470.045</td>\n",
       "      <td>1886.9</td>\n",
       "      <td>28.980</td>\n",
       "      <td>139.7</td>\n",
       "      <td>2.82</td>\n",
       "      <td>5.8</td>\n",
       "      <td>177.146</td>\n",
       "      <td>0.00</td>\n",
       "      <td>0.00</td>\n",
       "    </tr>\n",
       "    <tr>\n",
       "      <th>1959Q2</th>\n",
       "      <td>1959</td>\n",
       "      <td>2</td>\n",
       "      <td>2778.801</td>\n",
       "      <td>1733.7</td>\n",
       "      <td>310.859</td>\n",
       "      <td>481.301</td>\n",
       "      <td>1919.7</td>\n",
       "      <td>29.150</td>\n",
       "      <td>141.7</td>\n",
       "      <td>3.08</td>\n",
       "      <td>5.1</td>\n",
       "      <td>177.830</td>\n",
       "      <td>2.34</td>\n",
       "      <td>0.74</td>\n",
       "    </tr>\n",
       "    <tr>\n",
       "      <th>1959Q3</th>\n",
       "      <td>1959</td>\n",
       "      <td>3</td>\n",
       "      <td>2775.488</td>\n",
       "      <td>1751.8</td>\n",
       "      <td>289.226</td>\n",
       "      <td>491.260</td>\n",
       "      <td>1916.4</td>\n",
       "      <td>29.350</td>\n",
       "      <td>140.5</td>\n",
       "      <td>3.82</td>\n",
       "      <td>5.3</td>\n",
       "      <td>178.657</td>\n",
       "      <td>2.74</td>\n",
       "      <td>1.09</td>\n",
       "    </tr>\n",
       "    <tr>\n",
       "      <th>1959Q4</th>\n",
       "      <td>1959</td>\n",
       "      <td>4</td>\n",
       "      <td>2785.204</td>\n",
       "      <td>1753.7</td>\n",
       "      <td>299.356</td>\n",
       "      <td>484.052</td>\n",
       "      <td>1931.3</td>\n",
       "      <td>29.370</td>\n",
       "      <td>140.0</td>\n",
       "      <td>4.33</td>\n",
       "      <td>5.6</td>\n",
       "      <td>179.386</td>\n",
       "      <td>0.27</td>\n",
       "      <td>4.06</td>\n",
       "    </tr>\n",
       "    <tr>\n",
       "      <th>1960Q1</th>\n",
       "      <td>1960</td>\n",
       "      <td>1</td>\n",
       "      <td>2847.699</td>\n",
       "      <td>1770.5</td>\n",
       "      <td>331.722</td>\n",
       "      <td>462.199</td>\n",
       "      <td>1955.5</td>\n",
       "      <td>29.540</td>\n",
       "      <td>139.6</td>\n",
       "      <td>3.50</td>\n",
       "      <td>5.2</td>\n",
       "      <td>180.007</td>\n",
       "      <td>2.31</td>\n",
       "      <td>1.19</td>\n",
       "    </tr>\n",
       "    <tr>\n",
       "      <th>...</th>\n",
       "      <td>...</td>\n",
       "      <td>...</td>\n",
       "      <td>...</td>\n",
       "      <td>...</td>\n",
       "      <td>...</td>\n",
       "      <td>...</td>\n",
       "      <td>...</td>\n",
       "      <td>...</td>\n",
       "      <td>...</td>\n",
       "      <td>...</td>\n",
       "      <td>...</td>\n",
       "      <td>...</td>\n",
       "      <td>...</td>\n",
       "      <td>...</td>\n",
       "    </tr>\n",
       "    <tr>\n",
       "      <th>2008Q3</th>\n",
       "      <td>2008</td>\n",
       "      <td>3</td>\n",
       "      <td>13324.600</td>\n",
       "      <td>9267.7</td>\n",
       "      <td>1990.693</td>\n",
       "      <td>991.551</td>\n",
       "      <td>9838.3</td>\n",
       "      <td>216.889</td>\n",
       "      <td>1474.7</td>\n",
       "      <td>1.17</td>\n",
       "      <td>6.0</td>\n",
       "      <td>305.270</td>\n",
       "      <td>-3.16</td>\n",
       "      <td>4.33</td>\n",
       "    </tr>\n",
       "    <tr>\n",
       "      <th>2008Q4</th>\n",
       "      <td>2008</td>\n",
       "      <td>4</td>\n",
       "      <td>13141.920</td>\n",
       "      <td>9195.3</td>\n",
       "      <td>1857.661</td>\n",
       "      <td>1007.273</td>\n",
       "      <td>9920.4</td>\n",
       "      <td>212.174</td>\n",
       "      <td>1576.5</td>\n",
       "      <td>0.12</td>\n",
       "      <td>6.9</td>\n",
       "      <td>305.952</td>\n",
       "      <td>-8.79</td>\n",
       "      <td>8.91</td>\n",
       "    </tr>\n",
       "    <tr>\n",
       "      <th>2009Q1</th>\n",
       "      <td>2009</td>\n",
       "      <td>1</td>\n",
       "      <td>12925.410</td>\n",
       "      <td>9209.2</td>\n",
       "      <td>1558.494</td>\n",
       "      <td>996.287</td>\n",
       "      <td>9926.4</td>\n",
       "      <td>212.671</td>\n",
       "      <td>1592.8</td>\n",
       "      <td>0.22</td>\n",
       "      <td>8.1</td>\n",
       "      <td>306.547</td>\n",
       "      <td>0.94</td>\n",
       "      <td>-0.71</td>\n",
       "    </tr>\n",
       "    <tr>\n",
       "      <th>2009Q2</th>\n",
       "      <td>2009</td>\n",
       "      <td>2</td>\n",
       "      <td>12901.504</td>\n",
       "      <td>9189.0</td>\n",
       "      <td>1456.678</td>\n",
       "      <td>1023.528</td>\n",
       "      <td>10077.5</td>\n",
       "      <td>214.469</td>\n",
       "      <td>1653.6</td>\n",
       "      <td>0.18</td>\n",
       "      <td>9.2</td>\n",
       "      <td>307.226</td>\n",
       "      <td>3.37</td>\n",
       "      <td>-3.19</td>\n",
       "    </tr>\n",
       "    <tr>\n",
       "      <th>2009Q3</th>\n",
       "      <td>2009</td>\n",
       "      <td>3</td>\n",
       "      <td>12990.341</td>\n",
       "      <td>9256.0</td>\n",
       "      <td>1486.398</td>\n",
       "      <td>1044.088</td>\n",
       "      <td>10040.6</td>\n",
       "      <td>216.385</td>\n",
       "      <td>1673.9</td>\n",
       "      <td>0.12</td>\n",
       "      <td>9.6</td>\n",
       "      <td>308.013</td>\n",
       "      <td>3.56</td>\n",
       "      <td>-3.44</td>\n",
       "    </tr>\n",
       "  </tbody>\n",
       "</table>\n",
       "<p>203 rows × 14 columns</p>\n",
       "</div>"
      ],
      "text/plain": [
       "        year  quarter    realgdp  realcons   realinv  realgovt  realdpi  \\\n",
       "1959Q1  1959        1   2710.349    1707.4   286.898   470.045   1886.9   \n",
       "1959Q2  1959        2   2778.801    1733.7   310.859   481.301   1919.7   \n",
       "1959Q3  1959        3   2775.488    1751.8   289.226   491.260   1916.4   \n",
       "1959Q4  1959        4   2785.204    1753.7   299.356   484.052   1931.3   \n",
       "1960Q1  1960        1   2847.699    1770.5   331.722   462.199   1955.5   \n",
       "...      ...      ...        ...       ...       ...       ...      ...   \n",
       "2008Q3  2008        3  13324.600    9267.7  1990.693   991.551   9838.3   \n",
       "2008Q4  2008        4  13141.920    9195.3  1857.661  1007.273   9920.4   \n",
       "2009Q1  2009        1  12925.410    9209.2  1558.494   996.287   9926.4   \n",
       "2009Q2  2009        2  12901.504    9189.0  1456.678  1023.528  10077.5   \n",
       "2009Q3  2009        3  12990.341    9256.0  1486.398  1044.088  10040.6   \n",
       "\n",
       "            cpi      m1  tbilrate  unemp      pop  infl  realint  \n",
       "1959Q1   28.980   139.7      2.82    5.8  177.146  0.00     0.00  \n",
       "1959Q2   29.150   141.7      3.08    5.1  177.830  2.34     0.74  \n",
       "1959Q3   29.350   140.5      3.82    5.3  178.657  2.74     1.09  \n",
       "1959Q4   29.370   140.0      4.33    5.6  179.386  0.27     4.06  \n",
       "1960Q1   29.540   139.6      3.50    5.2  180.007  2.31     1.19  \n",
       "...         ...     ...       ...    ...      ...   ...      ...  \n",
       "2008Q3  216.889  1474.7      1.17    6.0  305.270 -3.16     4.33  \n",
       "2008Q4  212.174  1576.5      0.12    6.9  305.952 -8.79     8.91  \n",
       "2009Q1  212.671  1592.8      0.22    8.1  306.547  0.94    -0.71  \n",
       "2009Q2  214.469  1653.6      0.18    9.2  307.226  3.37    -3.19  \n",
       "2009Q3  216.385  1673.9      0.12    9.6  308.013  3.56    -3.44  \n",
       "\n",
       "[203 rows x 14 columns]"
      ]
     },
     "execution_count": 155,
     "metadata": {},
     "output_type": "execute_result"
    }
   ],
   "source": [
    "macro.index = index\n",
    "macro"
   ]
  },
  {
   "cell_type": "markdown",
   "id": "37feabe5",
   "metadata": {},
   "source": [
    "## 11.6 Resampling and Frequency Conversion"
   ]
  },
  {
   "cell_type": "code",
   "execution_count": 162,
   "id": "e38be6f4",
   "metadata": {},
   "outputs": [
    {
     "name": "stdout",
     "output_type": "stream",
     "text": [
      "1992-01-05   -0.302886\n",
      "1992-01-12    0.338548\n",
      "1992-01-19    0.631736\n",
      "1992-01-26    0.446857\n",
      "1992-02-02    0.356728\n",
      "1992-02-09    0.015742\n",
      "1992-02-16   -0.164320\n",
      "1992-02-23   -0.064207\n",
      "1992-03-01   -0.215839\n",
      "1992-03-08   -0.058955\n",
      "1992-03-15    0.117641\n",
      "1992-03-22   -0.492122\n",
      "1992-03-29   -0.274081\n",
      "1992-04-05   -0.701719\n",
      "1992-04-12   -0.065658\n",
      "Freq: W-SUN, dtype: float64\n"
     ]
    }
   ],
   "source": [
    "# Converting a time series of one frequency to another, similar to groupby\n",
    "ts = pd.Series(np.random.randn(100), index=pd.date_range(\"1992-01-01\",\n",
    "                                                        periods=100,\n",
    "                                                        freq='D'))\n",
    "print(ts.resample('W').mean())\n"
   ]
  },
  {
   "cell_type": "code",
   "execution_count": 168,
   "id": "55246ad6",
   "metadata": {},
   "outputs": [
    {
     "data": {
      "text/html": [
       "<div>\n",
       "<style scoped>\n",
       "    .dataframe tbody tr th:only-of-type {\n",
       "        vertical-align: middle;\n",
       "    }\n",
       "\n",
       "    .dataframe tbody tr th {\n",
       "        vertical-align: top;\n",
       "    }\n",
       "\n",
       "    .dataframe thead th {\n",
       "        text-align: right;\n",
       "    }\n",
       "</style>\n",
       "<table border=\"1\" class=\"dataframe\">\n",
       "  <thead>\n",
       "    <tr style=\"text-align: right;\">\n",
       "      <th></th>\n",
       "      <th>open</th>\n",
       "      <th>high</th>\n",
       "      <th>low</th>\n",
       "      <th>close</th>\n",
       "    </tr>\n",
       "  </thead>\n",
       "  <tbody>\n",
       "    <tr>\n",
       "      <th>2022-12-07 12:15:00</th>\n",
       "      <td>-0.476994</td>\n",
       "      <td>-0.476994</td>\n",
       "      <td>-0.476994</td>\n",
       "      <td>-0.476994</td>\n",
       "    </tr>\n",
       "    <tr>\n",
       "      <th>2022-12-07 12:20:00</th>\n",
       "      <td>-1.413479</td>\n",
       "      <td>-0.122372</td>\n",
       "      <td>-1.413479</td>\n",
       "      <td>-1.147927</td>\n",
       "    </tr>\n",
       "    <tr>\n",
       "      <th>2022-12-07 12:25:00</th>\n",
       "      <td>-0.712655</td>\n",
       "      <td>0.422865</td>\n",
       "      <td>-1.750800</td>\n",
       "      <td>0.422865</td>\n",
       "    </tr>\n",
       "    <tr>\n",
       "      <th>2022-12-07 12:30:00</th>\n",
       "      <td>0.050801</td>\n",
       "      <td>0.050801</td>\n",
       "      <td>0.050801</td>\n",
       "      <td>0.050801</td>\n",
       "    </tr>\n",
       "  </tbody>\n",
       "</table>\n",
       "</div>"
      ],
      "text/plain": [
       "                         open      high       low     close\n",
       "2022-12-07 12:15:00 -0.476994 -0.476994 -0.476994 -0.476994\n",
       "2022-12-07 12:20:00 -1.413479 -0.122372 -1.413479 -1.147927\n",
       "2022-12-07 12:25:00 -0.712655  0.422865 -1.750800  0.422865\n",
       "2022-12-07 12:30:00  0.050801  0.050801  0.050801  0.050801"
      ]
     },
     "execution_count": 168,
     "metadata": {},
     "output_type": "execute_result"
    }
   ],
   "source": [
    "# left v right\n",
    "ts2 = pd.Series(np.random.randn(12),\n",
    "               index=pd.date_range(datetime.now(),\n",
    "                                   periods=12,\n",
    "                                   freq='min'\n",
    "                                  )\n",
    "               )\n",
    "ts2.resample('5min',\n",
    "             closed='left', # lower bound inclusive\n",
    "             label='right').mean() # upper bound as label\n",
    "# .ohlc computer values for first, last, max, min\n",
    "ts2.resample('5min').ohlc()"
   ]
  },
  {
   "cell_type": "markdown",
   "id": "29787bf1",
   "metadata": {},
   "source": [
    "## 11.7 Moving Window Functions"
   ]
  },
  {
   "cell_type": "code",
   "execution_count": 180,
   "id": "23d9e7be",
   "metadata": {},
   "outputs": [
    {
     "data": {
      "text/html": [
       "<div>\n",
       "<style scoped>\n",
       "    .dataframe tbody tr th:only-of-type {\n",
       "        vertical-align: middle;\n",
       "    }\n",
       "\n",
       "    .dataframe tbody tr th {\n",
       "        vertical-align: top;\n",
       "    }\n",
       "\n",
       "    .dataframe thead th {\n",
       "        text-align: right;\n",
       "    }\n",
       "</style>\n",
       "<table border=\"1\" class=\"dataframe\">\n",
       "  <thead>\n",
       "    <tr style=\"text-align: right;\">\n",
       "      <th></th>\n",
       "      <th>AAPL</th>\n",
       "      <th>MSFT</th>\n",
       "      <th>XOM</th>\n",
       "      <th>SPX</th>\n",
       "    </tr>\n",
       "  </thead>\n",
       "  <tbody>\n",
       "    <tr>\n",
       "      <th>2003-01-02</th>\n",
       "      <td>7.40</td>\n",
       "      <td>21.11</td>\n",
       "      <td>29.22</td>\n",
       "      <td>909.03</td>\n",
       "    </tr>\n",
       "    <tr>\n",
       "      <th>2003-01-03</th>\n",
       "      <td>7.45</td>\n",
       "      <td>21.14</td>\n",
       "      <td>29.24</td>\n",
       "      <td>908.59</td>\n",
       "    </tr>\n",
       "    <tr>\n",
       "      <th>2003-01-06</th>\n",
       "      <td>7.45</td>\n",
       "      <td>21.52</td>\n",
       "      <td>29.96</td>\n",
       "      <td>929.01</td>\n",
       "    </tr>\n",
       "    <tr>\n",
       "      <th>2003-01-07</th>\n",
       "      <td>7.43</td>\n",
       "      <td>21.93</td>\n",
       "      <td>28.95</td>\n",
       "      <td>922.93</td>\n",
       "    </tr>\n",
       "    <tr>\n",
       "      <th>2003-01-08</th>\n",
       "      <td>7.28</td>\n",
       "      <td>21.31</td>\n",
       "      <td>28.83</td>\n",
       "      <td>909.93</td>\n",
       "    </tr>\n",
       "    <tr>\n",
       "      <th>...</th>\n",
       "      <td>...</td>\n",
       "      <td>...</td>\n",
       "      <td>...</td>\n",
       "      <td>...</td>\n",
       "    </tr>\n",
       "    <tr>\n",
       "      <th>2011-10-10</th>\n",
       "      <td>388.81</td>\n",
       "      <td>26.94</td>\n",
       "      <td>76.28</td>\n",
       "      <td>1194.89</td>\n",
       "    </tr>\n",
       "    <tr>\n",
       "      <th>2011-10-11</th>\n",
       "      <td>400.29</td>\n",
       "      <td>27.00</td>\n",
       "      <td>76.27</td>\n",
       "      <td>1195.54</td>\n",
       "    </tr>\n",
       "    <tr>\n",
       "      <th>2011-10-12</th>\n",
       "      <td>402.19</td>\n",
       "      <td>26.96</td>\n",
       "      <td>77.16</td>\n",
       "      <td>1207.25</td>\n",
       "    </tr>\n",
       "    <tr>\n",
       "      <th>2011-10-13</th>\n",
       "      <td>408.43</td>\n",
       "      <td>27.18</td>\n",
       "      <td>76.37</td>\n",
       "      <td>1203.66</td>\n",
       "    </tr>\n",
       "    <tr>\n",
       "      <th>2011-10-14</th>\n",
       "      <td>422.00</td>\n",
       "      <td>27.27</td>\n",
       "      <td>78.11</td>\n",
       "      <td>1224.58</td>\n",
       "    </tr>\n",
       "  </tbody>\n",
       "</table>\n",
       "<p>2214 rows × 4 columns</p>\n",
       "</div>"
      ],
      "text/plain": [
       "              AAPL   MSFT    XOM      SPX\n",
       "2003-01-02    7.40  21.11  29.22   909.03\n",
       "2003-01-03    7.45  21.14  29.24   908.59\n",
       "2003-01-06    7.45  21.52  29.96   929.01\n",
       "2003-01-07    7.43  21.93  28.95   922.93\n",
       "2003-01-08    7.28  21.31  28.83   909.93\n",
       "...            ...    ...    ...      ...\n",
       "2011-10-10  388.81  26.94  76.28  1194.89\n",
       "2011-10-11  400.29  27.00  76.27  1195.54\n",
       "2011-10-12  402.19  26.96  77.16  1207.25\n",
       "2011-10-13  408.43  27.18  76.37  1203.66\n",
       "2011-10-14  422.00  27.27  78.11  1224.58\n",
       "\n",
       "[2214 rows x 4 columns]"
      ]
     },
     "execution_count": 180,
     "metadata": {},
     "output_type": "execute_result"
    }
   ],
   "source": [
    "storks = pd.read_html('https://github.com/wesm/pydata-book/blob/3rd-edition/examples/stock_px.csv',\n",
    "                     index_col=1,\n",
    "                     parse_dates=True,\n",
    "                     )[0].dropna(axis=1)\n",
    "storks"
   ]
  },
  {
   "cell_type": "code",
   "execution_count": 187,
   "id": "f7cc3495",
   "metadata": {},
   "outputs": [
    {
     "data": {
      "text/plain": [
       "<AxesSubplot: >"
      ]
     },
     "execution_count": 187,
     "metadata": {},
     "output_type": "execute_result"
    },
    {
     "data": {
      "image/png": "[encoded data removed]",
      "text/plain": [
       "<Figure size 640x480 with 1 Axes>"
      ]
     },
     "metadata": {},
     "output_type": "display_data"
    },
    {
     "data": {
      "image/png": "[encoded data removed]",
      "text/plain": [
       "<Figure size 640x480 with 1 Axes>"
      ]
     },
     "metadata": {},
     "output_type": "display_data"
    }
   ],
   "source": [
    "# Smooth with rolling\n",
    "storks.iloc[:,:3].plot()\n",
    "storks.iloc[:,:3].rolling(250).mean().plot()"
   ]
  },
  {
   "cell_type": "code",
   "execution_count": 199,
   "id": "e4b211bd",
   "metadata": {},
   "outputs": [
    {
     "data": {
      "text/plain": [
       "<AxesSubplot: >"
      ]
     },
     "execution_count": 199,
     "metadata": {},
     "output_type": "execute_result"
    },
    {
     "data": {
      "image/png": "[encoded data removed]",
      "text/plain": [
       "<Figure size 640x480 with 1 Axes>"
      ]
     },
     "metadata": {},
     "output_type": "display_data"
    }
   ],
   "source": [
    "storks.AAPL.plot()\n",
    "storks.AAPL.rolling(250).mean().plot() # Note the missing at the beginning"
   ]
  },
  {
   "cell_type": "code",
   "execution_count": 200,
   "id": "e6bd2498",
   "metadata": {},
   "outputs": [
    {
     "data": {
      "text/plain": [
       "2003-01-02      7.400000\n",
       "2003-01-03      7.425000\n",
       "2003-01-06      7.433333\n",
       "2003-01-07      7.432500\n",
       "2003-01-08      7.402000\n",
       "                 ...    \n",
       "2011-10-10    389.351429\n",
       "2011-10-11    388.505000\n",
       "2011-10-12    388.531429\n",
       "2011-10-13    388.826429\n",
       "2011-10-14    391.038000\n",
       "Name: AAPL, Length: 2214, dtype: float64"
      ]
     },
     "execution_count": 200,
     "metadata": {},
     "output_type": "execute_result"
    }
   ],
   "source": [
    "# Rolling can also take sting time designations for unevenly spaced data\n",
    "storks.AAPL.rolling('20D').mean() # 20D for twenty days"
   ]
  },
  {
   "cell_type": "code",
   "execution_count": 202,
   "id": "2c120fcf",
   "metadata": {},
   "outputs": [],
   "source": [
    "# Correlations\n",
    "spx_rets = storks.SPX.pct_change()\n",
    "all_rets = storks.iloc[:,:3].pct_change()"
   ]
  },
  {
   "cell_type": "code",
   "execution_count": 211,
   "id": "6cadc50f",
   "metadata": {},
   "outputs": [
    {
     "data": {
      "text/plain": [
       "<AxesSubplot: >"
      ]
     },
     "execution_count": 211,
     "metadata": {},
     "output_type": "execute_result"
    },
    {
     "data": {
      "image/png": "[encoded data removed]",
      "text/plain": [
       "<Figure size 640x480 with 1 Axes>"
      ]
     },
     "metadata": {},
     "output_type": "display_data"
    }
   ],
   "source": [
    "all_rets.rolling(250).corr(spx_rets).plot()"
   ]
  },
  {
   "cell_type": "code",
   "execution_count": null,
   "id": "08146cad",
   "metadata": {},
   "outputs": [],
   "source": []
  },
  {
   "cell_type": "code",
   "execution_count": null,
   "id": "daf58da6",
   "metadata": {},
   "outputs": [],
   "source": []
  }
 ],
 "metadata": {
  "kernelspec": {
   "display_name": "Python 3 (ipykernel)",
   "language": "python",
   "name": "python3"
  },
  "language_info": {
   "codemirror_mode": {
    "name": "ipython",
    "version": 3
   },
   "file_extension": ".py",
   "mimetype": "text/x-python",
   "name": "python",
   "nbconvert_exporter": "python",
   "pygments_lexer": "ipython3",
   "version": "3.10.8"
  }
 },
 "nbformat": 4,
 "nbformat_minor": 5
}
